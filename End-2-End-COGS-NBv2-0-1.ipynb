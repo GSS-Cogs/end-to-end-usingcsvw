{
 "cells": [
  {
   "cell_type": "markdown",
   "metadata": {},
   "source": [
    "## Notebook Intention:\n",
    "*This basic Jupyter Notebook is intended to demonstrate the end-to-end process using a number of defined steps.\n",
    "These steps do not need to be coupled within a single Notebook.*\n",
    "### Section: Define and Load into Memory Notebook Python Libraries / Components:"
   ]
  },
  {
   "cell_type": "code",
   "execution_count": 377,
   "metadata": {},
   "outputs": [
    {
     "name": "stdout",
     "output_type": "stream",
     "text": [
      "Collecting package metadata (current_repodata.json): done\n",
      "Solving environment: done\n",
      "\n",
      "# All requested packages already installed.\n",
      "\n",
      "\n",
      "Note: you may need to restart the kernel to use updated packages.\n"
     ]
    }
   ],
   "source": [
    "conda install -c conda-forge cchardet"
   ]
  },
  {
   "cell_type": "code",
   "execution_count": 519,
   "metadata": {},
   "outputs": [
    {
     "name": "stdout",
     "output_type": "stream",
     "text": [
      "Requirement already satisfied: gssutils in /anaconda3/lib/python3.7/site-packages (0.5.12)\n",
      "Requirement already satisfied: pyexcel-xls in /anaconda3/lib/python3.7/site-packages (from gssutils) (0.5.8)\n",
      "Requirement already satisfied: python-dateutil in /anaconda3/lib/python3.7/site-packages (from gssutils) (2.6.1)\n",
      "Requirement already satisfied: pandas in /anaconda3/lib/python3.7/site-packages (from gssutils) (0.24.2)\n",
      "Requirement already satisfied: rdflib in /anaconda3/lib/python3.7/site-packages (from gssutils) (4.2.2)\n",
      "Requirement already satisfied: ipython in /anaconda3/lib/python3.7/site-packages (from gssutils) (7.6.1)\n",
      "Requirement already satisfied: wheel in /anaconda3/lib/python3.7/site-packages (from gssutils) (0.33.4)\n",
      "Requirement already satisfied: argparse in /anaconda3/lib/python3.7/site-packages (from gssutils) (1.4.0)\n",
      "Requirement already satisfied: html2text in /anaconda3/lib/python3.7/site-packages (from gssutils) (2019.8.11)\n",
      "Requirement already satisfied: pyexcel-ods3 in /anaconda3/lib/python3.7/site-packages (from gssutils) (0.5.3)\n",
      "Requirement already satisfied: messytables in /anaconda3/lib/python3.7/site-packages (from gssutils) (0.15.1)\n",
      "Requirement already satisfied: unidecode in /anaconda3/lib/python3.7/site-packages (from gssutils) (1.1.1)\n",
      "Requirement already satisfied: databaker in /anaconda3/lib/python3.7/site-packages (from gssutils) (2.0.0)\n",
      "Requirement already satisfied: lockfile in /anaconda3/lib/python3.7/site-packages (from gssutils) (0.12.2)\n",
      "Requirement already satisfied: rdflib-jsonld in /anaconda3/lib/python3.7/site-packages (from gssutils) (0.4.0)\n",
      "Requirement already satisfied: CacheControl in /anaconda3/lib/python3.7/site-packages (from gssutils) (0.12.5)\n",
      "Requirement already satisfied: requests in /anaconda3/lib/python3.7/site-packages (from gssutils) (2.18.4)\n",
      "Requirement already satisfied: pyexcel in /anaconda3/lib/python3.7/site-packages (from gssutils) (0.5.15)\n",
      "Requirement already satisfied: pyexcel-io in /anaconda3/lib/python3.7/site-packages (from gssutils) (0.5.20)\n",
      "Requirement already satisfied: lxml in /anaconda3/lib/python3.7/site-packages (from gssutils) (4.3.4)\n",
      "Requirement already satisfied: xypath==1.1.1 in /anaconda3/lib/python3.7/site-packages (from gssutils) (1.1.1)\n",
      "Requirement already satisfied: xlrd in /anaconda3/lib/python3.7/site-packages (from pyexcel-xls->gssutils) (1.2.0)\n",
      "Requirement already satisfied: xlwt in /anaconda3/lib/python3.7/site-packages (from pyexcel-xls->gssutils) (1.3.0)\n",
      "Requirement already satisfied: six>=1.5 in /anaconda3/lib/python3.7/site-packages (from python-dateutil->gssutils) (1.12.0)\n",
      "Requirement already satisfied: pytz>=2011k in /anaconda3/lib/python3.7/site-packages (from pandas->gssutils) (2019.1)\n",
      "Requirement already satisfied: numpy>=1.12.0 in /anaconda3/lib/python3.7/site-packages (from pandas->gssutils) (1.16.4)\n",
      "Requirement already satisfied: pyparsing in /anaconda3/lib/python3.7/site-packages (from rdflib->gssutils) (2.4.0)\n",
      "Requirement already satisfied: isodate in /anaconda3/lib/python3.7/site-packages (from rdflib->gssutils) (0.6.0)\n",
      "Requirement already satisfied: pexpect; sys_platform != \"win32\" in /anaconda3/lib/python3.7/site-packages (from ipython->gssutils) (4.7.0)\n",
      "Requirement already satisfied: setuptools>=18.5 in /anaconda3/lib/python3.7/site-packages (from ipython->gssutils) (41.0.1)\n",
      "Requirement already satisfied: backcall in /anaconda3/lib/python3.7/site-packages (from ipython->gssutils) (0.1.0)\n",
      "Requirement already satisfied: appnope; sys_platform == \"darwin\" in /anaconda3/lib/python3.7/site-packages (from ipython->gssutils) (0.1.0)\n",
      "Requirement already satisfied: prompt-toolkit<2.1.0,>=2.0.0 in /anaconda3/lib/python3.7/site-packages (from ipython->gssutils) (2.0.9)\n",
      "Requirement already satisfied: decorator in /anaconda3/lib/python3.7/site-packages (from ipython->gssutils) (4.4.0)\n",
      "Requirement already satisfied: pygments in /anaconda3/lib/python3.7/site-packages (from ipython->gssutils) (2.4.2)\n",
      "Requirement already satisfied: jedi>=0.10 in /anaconda3/lib/python3.7/site-packages (from ipython->gssutils) (0.13.3)\n",
      "Requirement already satisfied: traitlets>=4.2 in /anaconda3/lib/python3.7/site-packages (from ipython->gssutils) (4.3.2)\n",
      "Requirement already satisfied: pickleshare in /anaconda3/lib/python3.7/site-packages (from ipython->gssutils) (0.7.5)\n",
      "Requirement already satisfied: pyexcel-ezodf>=0.3.3 in /anaconda3/lib/python3.7/site-packages (from pyexcel-ods3->gssutils) (0.3.4)\n",
      "Requirement already satisfied: html5lib in /anaconda3/lib/python3.7/site-packages (from messytables->gssutils) (1.0.1)\n",
      "Requirement already satisfied: json-table-schema<=0.2.1,>=0.2 in /anaconda3/lib/python3.7/site-packages (from messytables->gssutils) (0.2.1)\n",
      "Requirement already satisfied: python-magic>=0.4.12 in /anaconda3/lib/python3.7/site-packages (from messytables->gssutils) (0.4.15)\n",
      "Requirement already satisfied: chardet>=2.3.0 in /anaconda3/lib/python3.7/site-packages (from messytables->gssutils) (3.0.4)\n",
      "Requirement already satisfied: pyhamcrest in /anaconda3/lib/python3.7/site-packages (from databaker->gssutils) (1.9.0)\n",
      "Requirement already satisfied: docopt in /anaconda3/lib/python3.7/site-packages (from databaker->gssutils) (0.6.2)\n",
      "Requirement already satisfied: xlutils in /anaconda3/lib/python3.7/site-packages (from databaker->gssutils) (2.0.0)\n",
      "Requirement already satisfied: msgpack in /anaconda3/lib/python3.7/site-packages (from CacheControl->gssutils) (0.6.1)\n",
      "Requirement already satisfied: urllib3<1.23,>=1.21.1 in /anaconda3/lib/python3.7/site-packages (from requests->gssutils) (1.22)\n",
      "Requirement already satisfied: idna<2.7,>=2.5 in /anaconda3/lib/python3.7/site-packages (from requests->gssutils) (2.6)\n",
      "Requirement already satisfied: certifi>=2017.4.17 in /anaconda3/lib/python3.7/site-packages (from requests->gssutils) (2019.11.28)\n",
      "Requirement already satisfied: texttable>=0.8.2 in /anaconda3/lib/python3.7/site-packages (from pyexcel->gssutils) (1.6.2)\n",
      "Requirement already satisfied: lml>=0.0.4 in /anaconda3/lib/python3.7/site-packages (from pyexcel->gssutils) (0.0.9)\n",
      "Requirement already satisfied: ptyprocess>=0.5 in /anaconda3/lib/python3.7/site-packages (from pexpect; sys_platform != \"win32\"->ipython->gssutils) (0.6.0)\n",
      "Requirement already satisfied: wcwidth in /anaconda3/lib/python3.7/site-packages (from prompt-toolkit<2.1.0,>=2.0.0->ipython->gssutils) (0.1.7)\n",
      "Requirement already satisfied: parso>=0.3.0 in /anaconda3/lib/python3.7/site-packages (from jedi>=0.10->ipython->gssutils) (0.5.0)\n",
      "Requirement already satisfied: ipython-genutils in /anaconda3/lib/python3.7/site-packages (from traitlets>=4.2->ipython->gssutils) (0.2.0)\n",
      "Requirement already satisfied: webencodings in /anaconda3/lib/python3.7/site-packages (from html5lib->messytables->gssutils) (0.5.1)\n",
      "Requirement already satisfied: csvwlib in /anaconda3/lib/python3.7/site-packages (0.2.3)\n",
      "Requirement already satisfied: python-dateutil==2.6.1 in /anaconda3/lib/python3.7/site-packages (from csvwlib) (2.6.1)\n",
      "Requirement already satisfied: rdflib-jsonld==0.4.0 in /anaconda3/lib/python3.7/site-packages (from csvwlib) (0.4.0)\n",
      "Requirement already satisfied: language-tags==0.4.3 in /anaconda3/lib/python3.7/site-packages (from csvwlib) (0.4.3)\n",
      "Requirement already satisfied: requests==2.18.4 in /anaconda3/lib/python3.7/site-packages (from csvwlib) (2.18.4)\n",
      "Requirement already satisfied: rdflib==4.2.2 in /anaconda3/lib/python3.7/site-packages (from csvwlib) (4.2.2)\n",
      "Requirement already satisfied: uritemplate==3.0.0 in /anaconda3/lib/python3.7/site-packages (from csvwlib) (3.0.0)\n",
      "Requirement already satisfied: six>=1.5 in /anaconda3/lib/python3.7/site-packages (from python-dateutil==2.6.1->csvwlib) (1.12.0)\n",
      "Requirement already satisfied: idna<2.7,>=2.5 in /anaconda3/lib/python3.7/site-packages (from requests==2.18.4->csvwlib) (2.6)\n",
      "Requirement already satisfied: urllib3<1.23,>=1.21.1 in /anaconda3/lib/python3.7/site-packages (from requests==2.18.4->csvwlib) (1.22)\n",
      "Requirement already satisfied: certifi>=2017.4.17 in /anaconda3/lib/python3.7/site-packages (from requests==2.18.4->csvwlib) (2019.11.28)\n",
      "Requirement already satisfied: chardet<3.1.0,>=3.0.2 in /anaconda3/lib/python3.7/site-packages (from requests==2.18.4->csvwlib) (3.0.4)\n",
      "Requirement already satisfied: pyparsing in /anaconda3/lib/python3.7/site-packages (from rdflib==4.2.2->csvwlib) (2.4.0)\n"
     ]
    },
    {
     "name": "stdout",
     "output_type": "stream",
     "text": [
      "Requirement already satisfied: isodate in /anaconda3/lib/python3.7/site-packages (from rdflib==4.2.2->csvwlib) (0.6.0)\n",
      "Requirement already satisfied: slug in /anaconda3/lib/python3.7/site-packages (2.0)\n",
      "Requirement already satisfied: goodtables in /anaconda3/lib/python3.7/site-packages (2.4.0)\n",
      "Requirement already satisfied: tabulator>=1.29 in /anaconda3/lib/python3.7/site-packages (from goodtables) (1.29.0)\n",
      "Requirement already satisfied: click>=6.6 in /anaconda3/lib/python3.7/site-packages (from goodtables) (7.0)\n",
      "Requirement already satisfied: datapackage>=1.10 in /anaconda3/lib/python3.7/site-packages (from goodtables) (1.10.0)\n",
      "Requirement already satisfied: tableschema>=1.10 in /anaconda3/lib/python3.7/site-packages (from goodtables) (1.10.0)\n",
      "Requirement already satisfied: click-default-group in /anaconda3/lib/python3.7/site-packages (from goodtables) (1.2.2)\n",
      "Requirement already satisfied: simpleeval>=0.9 in /anaconda3/lib/python3.7/site-packages (from goodtables) (0.9.8)\n",
      "Requirement already satisfied: requests>=2.10 in /anaconda3/lib/python3.7/site-packages (from goodtables) (2.18.4)\n",
      "Requirement already satisfied: six>=1.9 in /anaconda3/lib/python3.7/site-packages (from goodtables) (1.12.0)\n",
      "Requirement already satisfied: statistics>=1.0 in /anaconda3/lib/python3.7/site-packages (from goodtables) (1.0.3.5)\n",
      "Requirement already satisfied: unicodecsv>=0.14 in /anaconda3/lib/python3.7/site-packages (from tabulator>=1.29->goodtables) (0.14.1)\n",
      "Requirement already satisfied: boto3>=1.9 in /anaconda3/lib/python3.7/site-packages (from tabulator>=1.29->goodtables) (1.10.14)\n",
      "Requirement already satisfied: sqlalchemy>=0.9.6 in /anaconda3/lib/python3.7/site-packages (from tabulator>=1.29->goodtables) (1.3.5)\n",
      "Requirement already satisfied: xlrd>=1.0 in /anaconda3/lib/python3.7/site-packages (from tabulator>=1.29->goodtables) (1.2.0)\n",
      "Requirement already satisfied: jsonlines>=1.1 in /anaconda3/lib/python3.7/site-packages (from tabulator>=1.29->goodtables) (1.2.0)\n",
      "Requirement already satisfied: cchardet>=1.0 in /anaconda3/lib/python3.7/site-packages (from tabulator>=1.29->goodtables) (2.1.4)\n",
      "Requirement already satisfied: openpyxl>=2.6 in /anaconda3/lib/python3.7/site-packages (from tabulator>=1.29->goodtables) (2.6.2)\n",
      "Requirement already satisfied: ijson>=2.5 in /anaconda3/lib/python3.7/site-packages (from tabulator>=1.29->goodtables) (2.5.1)\n",
      "Requirement already satisfied: linear-tsv>=1.0 in /anaconda3/lib/python3.7/site-packages (from tabulator>=1.29->goodtables) (1.1.0)\n",
      "Requirement already satisfied: jsonschema>=2.5 in /anaconda3/lib/python3.7/site-packages (from datapackage>=1.10->goodtables) (3.0.1)\n",
      "Requirement already satisfied: jsonpointer>=1.10 in /anaconda3/lib/python3.7/site-packages (from datapackage>=1.10->goodtables) (2.0)\n",
      "Requirement already satisfied: python-dateutil>=2.4 in /anaconda3/lib/python3.7/site-packages (from tableschema>=1.10->goodtables) (2.6.1)\n",
      "Requirement already satisfied: rfc3986>=1.1.0 in /anaconda3/lib/python3.7/site-packages (from tableschema>=1.10->goodtables) (1.3.2)\n",
      "Requirement already satisfied: isodate>=0.5.4 in /anaconda3/lib/python3.7/site-packages (from tableschema>=1.10->goodtables) (0.6.0)\n",
      "Requirement already satisfied: urllib3<1.23,>=1.21.1 in /anaconda3/lib/python3.7/site-packages (from requests>=2.10->goodtables) (1.22)\n",
      "Requirement already satisfied: chardet<3.1.0,>=3.0.2 in /anaconda3/lib/python3.7/site-packages (from requests>=2.10->goodtables) (3.0.4)\n",
      "Requirement already satisfied: idna<2.7,>=2.5 in /anaconda3/lib/python3.7/site-packages (from requests>=2.10->goodtables) (2.6)\n",
      "Requirement already satisfied: certifi>=2017.4.17 in /anaconda3/lib/python3.7/site-packages (from requests>=2.10->goodtables) (2019.11.28)\n",
      "Requirement already satisfied: docutils>=0.3 in /anaconda3/lib/python3.7/site-packages (from statistics>=1.0->goodtables) (0.14)\n",
      "Requirement already satisfied: jmespath<1.0.0,>=0.7.1 in /anaconda3/lib/python3.7/site-packages (from boto3>=1.9->tabulator>=1.29->goodtables) (0.9.4)\n",
      "Requirement already satisfied: botocore<1.14.0,>=1.13.14 in /anaconda3/lib/python3.7/site-packages (from boto3>=1.9->tabulator>=1.29->goodtables) (1.13.14)\n",
      "Requirement already satisfied: s3transfer<0.3.0,>=0.2.0 in /anaconda3/lib/python3.7/site-packages (from boto3>=1.9->tabulator>=1.29->goodtables) (0.2.1)\n",
      "Requirement already satisfied: et-xmlfile in /anaconda3/lib/python3.7/site-packages (from openpyxl>=2.6->tabulator>=1.29->goodtables) (1.0.1)\n",
      "Requirement already satisfied: jdcal in /anaconda3/lib/python3.7/site-packages (from openpyxl>=2.6->tabulator>=1.29->goodtables) (1.4.1)\n",
      "Requirement already satisfied: attrs>=17.4.0 in /anaconda3/lib/python3.7/site-packages (from jsonschema>=2.5->datapackage>=1.10->goodtables) (19.1.0)\n",
      "Requirement already satisfied: pyrsistent>=0.14.0 in /anaconda3/lib/python3.7/site-packages (from jsonschema>=2.5->datapackage>=1.10->goodtables) (0.14.11)\n",
      "Requirement already satisfied: setuptools in /anaconda3/lib/python3.7/site-packages (from jsonschema>=2.5->datapackage>=1.10->goodtables) (41.0.1)\n"
     ]
    }
   ],
   "source": [
    "!pip install gssutils\n",
    "!pip install csvwlib\n",
    "!pip install slug\n",
    "!pip install goodtables\n",
    "\n",
    "from gssutils import *\n",
    "from csvwlib import CSVWConverter\n",
    "import slug\n",
    "\n",
    "from goodtables import validate\n",
    "from goodtables import Inspector\n",
    "inspector = Inspector()\n",
    "from pprint import pprint\n",
    "\n",
    "import numpy as np\n",
    "\n",
    "import json\n",
    "\n",
    "from IPython.display import Markdown, display\n"
   ]
  },
  {
   "cell_type": "markdown",
   "metadata": {},
   "source": [
    "### Section: Define Notebook Functions:"
   ]
  },
  {
   "cell_type": "code",
   "execution_count": 7,
   "metadata": {},
   "outputs": [],
   "source": [
    "# Function for markdown Notebook outputs:\n",
    "def printmd(string, colour=None):\n",
    "    colourstr = \"<span style='color:{}'>{}</span>\".format(colour, string)\n",
    "    display(Markdown(colourstr))"
   ]
  },
  {
   "cell_type": "code",
   "execution_count": 8,
   "metadata": {},
   "outputs": [
    {
     "data": {
      "text/markdown": [
       "<span style='color:Grey'>***Execution Environment: ZMQInteractiveShell; setting boo_pythonNB_environment to: True.***</span>"
      ],
      "text/plain": [
       "<IPython.core.display.Markdown object>"
      ]
     },
     "metadata": {},
     "output_type": "display_data"
    }
   ],
   "source": [
    "# Function that determines Python Execution Environment:\n",
    "if get_ipython().__class__.__name__ == 'ZMQInteractiveShell':\n",
    "    boo_pythonNB_environment = True\n",
    "else:\n",
    "    boo_pythonNB_environment = False\n",
    "\n",
    "printmd('***Execution Environment: ' + get_ipython().__class__.__name__ + '; setting boo_pythonNB_environment to: ' \\\n",
    "      + str(boo_pythonNB_environment) + '.***', colour='Grey')"
   ]
  },
  {
   "cell_type": "code",
   "execution_count": 590,
   "metadata": {},
   "outputs": [],
   "source": [
    "# Join our Slugized transformed data with our REF data - using DataFrames only - no CSV functionality:\n",
    "def align_REFdata_with_Transform(input_df, source_ref_columns_df, source_ref_components_df):\n",
    "    \n",
    "    REFdata_intermediate = pd.merge(input_df, source_ref_columns_df, left_on='REFColumnsCSV Link', right_on='title', how='inner')\n",
    "    REFdata_linked_successful = pd.merge(REFdata_intermediate, source_ref_components_df, left_on='title', right_on='Label', how='left')\n",
    "    \n",
    "    REFdata_linked_UNsuccessful = pd.merge(input_df, source_ref_columns_df, left_on='REFColumnsCSV Link', right_on='title', how='outer', indicator=True).query('_merge==\"left_only\"')    \n",
    "\n",
    "    return REFdata_linked_successful, REFdata_linked_UNsuccessful\n"
   ]
  },
  {
   "cell_type": "markdown",
   "metadata": {},
   "source": [
    "### Stage 1: Harvesting Human Readable Data Sources:\n",
    "* *Using GSS_Utils we can web scrape data sources such as .XLSX spreadsheets.*\n",
    "* *The Scraper component of GSS-Utils can print out all the identified distributions of data.*"
   ]
  },
  {
   "cell_type": "code",
   "execution_count": 10,
   "metadata": {},
   "outputs": [
    {
     "data": {
      "text/markdown": [
       "## Health state life expectancy, all ages, UK\n",
       "\n",
       "Pivot tables for health state life expectancy by sex and area type, divided by three-year intervals starting from 2009 to 2011.\n",
       "\n",
       "### Description\n",
       "\n",
       "Pivot tables for health state life expectancy by sex and area type, divided by two-year intervals starting from 2009 to 2011.\n",
       "\n",
       "### Distributions\n",
       "\n",
       "1. Health state life expectancy, all ages, UK ([MS Excel Spreadsheet](https://www.ons.gov.uk/file?uri=/peoplepopulationandcommunity/healthandsocialcare/healthandlifeexpectancies/datasets/healthstatelifeexpectancyallagesuk/current/heestimates.xlsx)) - 2016-11-29\n",
       "1. Health state life expectancy, all ages, UK ([application/zip](https://www.ons.gov.uk/file?uri=/peoplepopulationandcommunity/healthandsocialcare/healthandlifeexpectancies/datasets/healthstatelifeexpectancyallagesuk/current/previous/v1/healthexpectanciespivottables.zip)) - 2016-11-29\n",
       "1. Health state life expectancy, all ages, UK ([application/zip](https://www.ons.gov.uk/file?uri=/peoplepopulationandcommunity/healthandsocialcare/healthandlifeexpectancies/datasets/healthstatelifeexpectancyallagesuk/current/previous/v2/healthexpectanciespivottablesversion2.zip)) - 2016-11-29\n",
       "1. Health state life expectancy, all ages, UK ([MS Excel Spreadsheet](https://www.ons.gov.uk/file?uri=/peoplepopulationandcommunity/healthandsocialcare/healthandlifeexpectancies/datasets/healthstatelifeexpectancyallagesuk/current/previous/v3/refpivottablesfinal.xlsx)) - 2016-11-29\n",
       "1. Health state life expectancy, all ages, UK ([MS Excel Spreadsheet](https://www.ons.gov.uk/file?uri=/peoplepopulationandcommunity/healthandsocialcare/healthandlifeexpectancies/datasets/healthstatelifeexpectancyallagesuk/current/previous/v4/hslepivotab1.xlsx)) - 2016-11-29\n"
      ],
      "text/plain": [
       "<gssutils.scrape.Scraper at 0x116dcd160>"
      ]
     },
     "metadata": {},
     "output_type": "display_data"
    }
   ],
   "source": [
    "scraper = Scraper('https://www.ons.gov.uk/peoplepopulationandcommunity/healthandsocialcare/' \\\n",
    "                  'healthandlifeexpectancies/datasets/healthstatelifeexpectancyallagesuk')\n",
    "display(scraper)"
   ]
  },
  {
   "cell_type": "markdown",
   "metadata": {},
   "source": [
    "### Stage 2: Identifying the Distribution to Extract and Process:\n",
    "*We're selecting the first distribution for processing...*\n",
    "* *Note that our component scrapes associated meta data.*"
   ]
  },
  {
   "cell_type": "code",
   "execution_count": 11,
   "metadata": {},
   "outputs": [
    {
     "data": {
      "text/html": [
       "<h3>Distribution</h3>\n",
       "<dl><dt>dct:title</dt><dd>&quot;Health state life expectancy, all ages, UK&quot;@en</dd>\n",
       "<dt>dct:description</dt><dd>&quot;Pivot tables for health state life expectancy by sex and area type, divided by two-year intervals starting from 2009 to 2011.&quot;@en</dd>\n",
       "<dt>dct:issued</dt><dd>&quot;2016-11-29&quot;^^&lt;http://www.w3.org/2001/XMLSchema#date&gt;</dd>\n",
       "<dt>dcat:downloadURL</dt><dd><a href=https://www.ons.gov.uk/file?uri=/peoplepopulationandcommunity/healthandsocialcare/healthandlifeexpectancies/datasets/healthstatelifeexpectancyallagesuk/current/heestimates.xlsx>&lt;https://www.ons.gov.uk/file?uri=/peoplepopulationandcommunity/healthandsocialcare/healthandlifeexpectancies/datasets/healthstatelifeexpectancyallagesuk/current/heestimates.xlsx&gt;</a></dd>\n",
       "<dt>dcat:mediaType</dt><dd>&quot;application/vnd.ms-excel&quot;</dd>\n",
       "</dl>"
      ],
      "text/plain": [
       "<gssutils.metadata.Distribution at 0x117639cf8>"
      ]
     },
     "metadata": {},
     "output_type": "display_data"
    }
   ],
   "source": [
    "tabs = scraper.distributions[0].as_databaker()\n",
    "distribution = scraper.distributions[0]\n",
    "display(distribution)"
   ]
  },
  {
   "cell_type": "markdown",
   "metadata": {},
   "source": [
    "### Stage 3: Data Wrangling:\n",
    "**For the purposes of this Notebook we're only going to process two tabs of the spreadsheet.**\n",
    "\n",
    "*Note: Where multiple tabs and multiple outputs are required and generated additional file / code management may*\n",
    "*be necessary.*\n",
    "\n",
    "**Transforms (tidy data outputs) are stored in a collection of Pandas DataFrames.**\n",
    "\n",
    "**Validations by user and through tools are expected and conducted in the cells that succeed the wrangling code-cells.**"
   ]
  },
  {
   "cell_type": "code",
   "execution_count": 320,
   "metadata": {},
   "outputs": [
    {
     "data": {
      "text/markdown": [
       "<span style='color:None'>**Processing tabs that start with: H.**</span>"
      ],
      "text/plain": [
       "<IPython.core.display.Markdown object>"
      ]
     },
     "metadata": {},
     "output_type": "display_data"
    },
    {
     "name": "stderr",
     "output_type": "stream",
     "text": [
      "//anaconda3/lib/python3.7/site-packages/ipykernel_launcher.py:27: SettingWithCopyWarning: \n",
      "A value is trying to be set on a copy of a slice from a DataFrame\n",
      "\n",
      "See the caveats in the documentation: http://pandas.pydata.org/pandas-docs/stable/indexing.html#indexing-view-versus-copy\n",
      "//anaconda3/lib/python3.7/site-packages/ipykernel_launcher.py:28: SettingWithCopyWarning: \n",
      "A value is trying to be set on a copy of a slice from a DataFrame\n",
      "\n",
      "See the caveats in the documentation: http://pandas.pydata.org/pandas-docs/stable/indexing.html#indexing-view-versus-copy\n"
     ]
    },
    {
     "data": {
      "text/markdown": [
       "<span style='color:Green'>[1] Processed: HE - Country level estimates.</span>"
      ],
      "text/plain": [
       "<IPython.core.display.Markdown object>"
      ]
     },
     "metadata": {},
     "output_type": "display_data"
    },
    {
     "data": {
      "text/markdown": [
       "<span style='color:Green'>[2] Processed: HE - Region level estimates.</span>"
      ],
      "text/plain": [
       "<IPython.core.display.Markdown object>"
      ]
     },
     "metadata": {},
     "output_type": "display_data"
    },
    {
     "data": {
      "text/markdown": [
       "<span style='color:Red'>[3] Ignoring: HE - MC,CA,WHB estimates.</span>"
      ],
      "text/plain": [
       "<IPython.core.display.Markdown object>"
      ]
     },
     "metadata": {},
     "output_type": "display_data"
    },
    {
     "data": {
      "text/markdown": [
       "<span style='color:Red'>[4] Ignoring: HE - Local area estimates.</span>"
      ],
      "text/plain": [
       "<IPython.core.display.Markdown object>"
      ]
     },
     "metadata": {},
     "output_type": "display_data"
    }
   ],
   "source": [
    "str_tabsheetsinfocus = 'H'\n",
    "if boo_pythonNB_environment == True:\n",
    "    printmd(\"**Processing tabs that start with: \" + str_tabsheetsinfocus + \".**\")\n",
    "    \n",
    "i = 0 # Loop Variable.\n",
    "ii = 0 # Loop Variable.\n",
    "dataframe_collection = {} # Collection of Pandas DataFrames.\n",
    "\n",
    "\n",
    "for tab in tabs:\n",
    "    if tabs[i].name.startswith(str_tabsheetsinfocus):\n",
    "        \n",
    "        \n",
    "        if tabs[i].name == 'HE - Country level estimates':\n",
    "            ii = 1\n",
    "            try:\n",
    "                pd_tab = distribution.as_pandas(sheet_name = tabs[i].name) #, skiprows=1, header=None)\n",
    "                pd_df_dimensions = pd_tab.iloc[:, :7] # This split is lost in our transformation - but it helped here.\n",
    "                pd_df_observations = pd_tab.iloc[:, 7:14] # See above.\n",
    "                pd_df_original = pd.concat([pd_df_dimensions, pd_df_observations], axis=1, sort=False)\n",
    "                pd_df_transformed = pd_df_original.dropna(how='all')\n",
    "                pd_df_transformed = pd_df_transformed.drop(columns=['Country', 'sex1', 'ageband'])\n",
    "                pd_df_transformed['Period'] = pd_df_transformed['Period']\\\n",
    "                    .map(lambda x: f'gregorian-interval/{str(x)[:4]}-03-31T00:00:00/P3Y')\n",
    "                pd_df_transformed.loc[pd_df_transformed['Sex'] == 'Males', 'Sex'] = 'M'\n",
    "                pd_df_transformed.loc[pd_df_transformed['Sex'] == 'Females', 'Sex'] = 'F'\n",
    "                pd_df_transformed['age group'][pd_df_transformed['age group'] == '<1'] = 'lessthan1'\n",
    "                pd_df_transformed['age group'][pd_df_transformed['age group'] == '90+'] = '90plus'\n",
    "                pd_df_transformed_le =\\\n",
    "                    pd_df_transformed[['Period', 'Code', 'Sex', 'age group', 'Life Expectancy (LE)_',\\\n",
    "                                       'LE Lower CI_', 'LE Upper CI_',\\\n",
    "                                       #'Proportion of Life Spent in \"Good\" Health (%)_']].copy()\n",
    "                                      ]].copy()\n",
    "                pd_df_transformed_hle =\\\n",
    "                    pd_df_transformed[['Period', 'Code', 'Sex', 'age group', 'Healthy Life Expectancy (HLE) _',\\\n",
    "                                       'HLE Lower CI_', 'HLE Upper CI_',\\\n",
    "                                       #'Proportion of Life Spent in \"Good\" Health (%)_']].copy()\n",
    "                                       ]].copy()\n",
    "                pd_df_transformed_le['TransformationType'] = 'LE'\n",
    "                pd_df_transformed_hle['TransformationType'] = 'HLE'\n",
    "                dataframe_collection[tabs[i].name + '_LE'] = pd_df_transformed_le\n",
    "                dataframe_collection[tabs[i].name + '_HLE'] = pd_df_transformed_hle\n",
    "                printmd('[' + str(i) + '] Processed: ' + tabs[i].name + '.', colour='Green')\n",
    "            except ERR_HECountryLevelEstimates:\n",
    "                print('Error within ' + str(pd_df_name.append(tabs[i].name)) + ' process to extract to Pandas DF.')\n",
    "            \n",
    "            \n",
    "        if tabs[i].name == 'HE - Region level estimates':\n",
    "            ii = 1\n",
    "            try:\n",
    "                pd_tab = distribution.as_pandas(sheet_name = tabs[i].name)\n",
    "                pd_df_dimensions = pd_tab.iloc[:, :8]\n",
    "                pd_df_observations = pd_tab.iloc[:, 8:14]\n",
    "                pd_df_original = pd.concat([pd_df_dimensions, pd_df_observations], axis=1, sort=False)\n",
    "                pd_df_original.columns = pd_df_original.iloc[0]\n",
    "                pd_df_original = pd_df_original[1:]\n",
    "                pd_df_transformed = pd_df_original.dropna(how='all')\n",
    "                pd_df_transformed = pd_df_transformed.drop(columns=['Area_name', 'sex1', 'ageband'])\n",
    "                pd_df_transformed['Period'] = pd_df_transformed['Period']\\\n",
    "                    .map(lambda x: f'gregorian-interval/{str(x)[:4]}-03-31T00:00:00/P3Y')\n",
    "                pd_df_transformed.loc[pd_df_transformed['Sex'] == 'Males', 'Sex'] = 'M'\n",
    "                pd_df_transformed.loc[pd_df_transformed['Sex'] == 'Females', 'Sex'] = 'F'\n",
    "                pd_df_transformed['Age group'][pd_df_transformed['Age group'] == '<1'] = 'lessthan1'\n",
    "                pd_df_transformed['Age group'][pd_df_transformed['Age group'] == '90+'] = '90plus'\n",
    "                pd_df_transformed_le =\\\n",
    "                    pd_df_transformed[['Period', 'Code', 'Sex', 'Age group', 'Life Expectancy (LE)_',\\\n",
    "                                       'LE Lower CI_', 'LE Upper CI_',\\\n",
    "                                       #'Proportion of Life Spent in \"Good\" Health (%)_']].copy()\n",
    "                                       ]].copy()\n",
    "                pd_df_transformed_hle =\\\n",
    "                    pd_df_transformed[['Period', 'Code', 'Sex', 'Age group', 'Healthy Life Expectancy (HLE) _',\\\n",
    "                                       'HLE Lower CI_', 'HLE Upper CI_',\\\n",
    "                                       #'Proportion of Life Spent in \"Good\" Health (%)_']].copy()\n",
    "                                        ]].copy()\n",
    "                pd_df_transformed_le['TransformationType'] = 'LE'\n",
    "                pd_df_transformed_hle['TransformationType'] = 'HLE'\n",
    "                dataframe_collection[tabs[i].name + '_LE'] = pd_df_transformed_le\n",
    "                dataframe_collection[tabs[i].name + '_HLE'] = pd_df_transformed_hle\n",
    "                printmd('[' + str(i) + '] Processed: ' + tabs[i].name + '.', colour='Green')\n",
    "            except ERR_HERegionLevelEstimates:\n",
    "                print('Error within ' + str(pd_df_name.append(tabs[i].name)) + ' process to extract to Pandas DF.')            \n",
    "    \n",
    "        if ii == 0:\n",
    "                printmd('[' + str(i) + '] Ignoring: ' + tabs[i].name + '.', colour='Red')\n",
    "        \n",
    "    i += 1\n",
    "    ii = 0 # Code should be amended to utilise loop break outs...\n"
   ]
  },
  {
   "cell_type": "markdown",
   "metadata": {},
   "source": [
    "**Checking the result of our data extraction and wrangling of the two data tabs:**\n",
    "\n",
    "*Note: This is for human visualisation - not for specific testing (or as part of a testing framework).*\n",
    "\n",
    "If the transformations appear correct we can proceed, otherwise we need to re-factor the data wrangling stage."
   ]
  },
  {
   "cell_type": "code",
   "execution_count": 380,
   "metadata": {},
   "outputs": [
    {
     "data": {
      "text/markdown": [
       "<span style='color:Grey'>\n",
       "====================================================================================================</span>"
      ],
      "text/plain": [
       "<IPython.core.display.Markdown object>"
      ]
     },
     "metadata": {},
     "output_type": "display_data"
    },
    {
     "data": {
      "text/markdown": [
       "<span style='color:Blue'>**HE - Country level estimates_LE** *: First five records displayed of* 1600 records.</span>"
      ],
      "text/plain": [
       "<IPython.core.display.Markdown object>"
      ]
     },
     "metadata": {},
     "output_type": "display_data"
    },
    {
     "data": {
      "text/markdown": [
       "<span style='color:Grey'>====================================================================================================</span>"
      ],
      "text/plain": [
       "<IPython.core.display.Markdown object>"
      ]
     },
     "metadata": {},
     "output_type": "display_data"
    },
    {
     "data": {
      "text/html": [
       "<div>\n",
       "<style scoped>\n",
       "    .dataframe tbody tr th:only-of-type {\n",
       "        vertical-align: middle;\n",
       "    }\n",
       "\n",
       "    .dataframe tbody tr th {\n",
       "        vertical-align: top;\n",
       "    }\n",
       "\n",
       "    .dataframe thead th {\n",
       "        text-align: right;\n",
       "    }\n",
       "</style>\n",
       "<table border=\"1\" class=\"dataframe\">\n",
       "  <thead>\n",
       "    <tr style=\"text-align: right;\">\n",
       "      <th></th>\n",
       "      <th>Period</th>\n",
       "      <th>Code</th>\n",
       "      <th>Sex</th>\n",
       "      <th>age group</th>\n",
       "      <th>Life Expectancy (LE)_</th>\n",
       "      <th>LE Lower CI_</th>\n",
       "      <th>LE Upper CI_</th>\n",
       "      <th>TransformationType</th>\n",
       "    </tr>\n",
       "  </thead>\n",
       "  <tbody>\n",
       "    <tr>\n",
       "      <th>0</th>\n",
       "      <td>gregorian-interval/2009-03-31T00:00:00/P3Y</td>\n",
       "      <td>E92000001</td>\n",
       "      <td>M</td>\n",
       "      <td>lessthan1</td>\n",
       "      <td>78.78073</td>\n",
       "      <td>78.75026</td>\n",
       "      <td>78.81120</td>\n",
       "      <td>LE</td>\n",
       "    </tr>\n",
       "    <tr>\n",
       "      <th>1</th>\n",
       "      <td>gregorian-interval/2009-03-31T00:00:00/P3Y</td>\n",
       "      <td>E92000001</td>\n",
       "      <td>M</td>\n",
       "      <td>01-04</td>\n",
       "      <td>78.17075</td>\n",
       "      <td>78.14207</td>\n",
       "      <td>78.19942</td>\n",
       "      <td>LE</td>\n",
       "    </tr>\n",
       "    <tr>\n",
       "      <th>2</th>\n",
       "      <td>gregorian-interval/2009-03-31T00:00:00/P3Y</td>\n",
       "      <td>E92000001</td>\n",
       "      <td>M</td>\n",
       "      <td>05-09</td>\n",
       "      <td>74.22782</td>\n",
       "      <td>74.19942</td>\n",
       "      <td>74.25623</td>\n",
       "      <td>LE</td>\n",
       "    </tr>\n",
       "    <tr>\n",
       "      <th>3</th>\n",
       "      <td>gregorian-interval/2009-03-31T00:00:00/P3Y</td>\n",
       "      <td>E92000001</td>\n",
       "      <td>M</td>\n",
       "      <td>10-14</td>\n",
       "      <td>69.26178</td>\n",
       "      <td>69.23354</td>\n",
       "      <td>69.29002</td>\n",
       "      <td>LE</td>\n",
       "    </tr>\n",
       "    <tr>\n",
       "      <th>4</th>\n",
       "      <td>gregorian-interval/2009-03-31T00:00:00/P3Y</td>\n",
       "      <td>E92000001</td>\n",
       "      <td>M</td>\n",
       "      <td>15-19</td>\n",
       "      <td>64.29632</td>\n",
       "      <td>64.26823</td>\n",
       "      <td>64.32440</td>\n",
       "      <td>LE</td>\n",
       "    </tr>\n",
       "  </tbody>\n",
       "</table>\n",
       "</div>"
      ],
      "text/plain": [
       "                                       Period       Code Sex  age group  \\\n",
       "0  gregorian-interval/2009-03-31T00:00:00/P3Y  E92000001   M  lessthan1   \n",
       "1  gregorian-interval/2009-03-31T00:00:00/P3Y  E92000001   M      01-04   \n",
       "2  gregorian-interval/2009-03-31T00:00:00/P3Y  E92000001   M      05-09   \n",
       "3  gregorian-interval/2009-03-31T00:00:00/P3Y  E92000001   M      10-14   \n",
       "4  gregorian-interval/2009-03-31T00:00:00/P3Y  E92000001   M      15-19   \n",
       "\n",
       "   Life Expectancy (LE)_  LE Lower CI_  LE Upper CI_ TransformationType  \n",
       "0               78.78073      78.75026      78.81120                 LE  \n",
       "1               78.17075      78.14207      78.19942                 LE  \n",
       "2               74.22782      74.19942      74.25623                 LE  \n",
       "3               69.26178      69.23354      69.29002                 LE  \n",
       "4               64.29632      64.26823      64.32440                 LE  "
      ]
     },
     "metadata": {},
     "output_type": "display_data"
    },
    {
     "data": {
      "text/markdown": [
       "<span style='color:Grey'>\n",
       "====================================================================================================</span>"
      ],
      "text/plain": [
       "<IPython.core.display.Markdown object>"
      ]
     },
     "metadata": {},
     "output_type": "display_data"
    },
    {
     "data": {
      "text/markdown": [
       "<span style='color:Blue'>**HE - Country level estimates_HLE** *: First five records displayed of* 1600 records.</span>"
      ],
      "text/plain": [
       "<IPython.core.display.Markdown object>"
      ]
     },
     "metadata": {},
     "output_type": "display_data"
    },
    {
     "data": {
      "text/markdown": [
       "<span style='color:Grey'>====================================================================================================</span>"
      ],
      "text/plain": [
       "<IPython.core.display.Markdown object>"
      ]
     },
     "metadata": {},
     "output_type": "display_data"
    },
    {
     "data": {
      "text/html": [
       "<div>\n",
       "<style scoped>\n",
       "    .dataframe tbody tr th:only-of-type {\n",
       "        vertical-align: middle;\n",
       "    }\n",
       "\n",
       "    .dataframe tbody tr th {\n",
       "        vertical-align: top;\n",
       "    }\n",
       "\n",
       "    .dataframe thead th {\n",
       "        text-align: right;\n",
       "    }\n",
       "</style>\n",
       "<table border=\"1\" class=\"dataframe\">\n",
       "  <thead>\n",
       "    <tr style=\"text-align: right;\">\n",
       "      <th></th>\n",
       "      <th>Period</th>\n",
       "      <th>Code</th>\n",
       "      <th>Sex</th>\n",
       "      <th>age group</th>\n",
       "      <th>Healthy Life Expectancy (HLE) _</th>\n",
       "      <th>HLE Lower CI_</th>\n",
       "      <th>HLE Upper CI_</th>\n",
       "      <th>TransformationType</th>\n",
       "    </tr>\n",
       "  </thead>\n",
       "  <tbody>\n",
       "    <tr>\n",
       "      <th>0</th>\n",
       "      <td>gregorian-interval/2009-03-31T00:00:00/P3Y</td>\n",
       "      <td>E92000001</td>\n",
       "      <td>M</td>\n",
       "      <td>lessthan1</td>\n",
       "      <td>63.02647</td>\n",
       "      <td>62.87787</td>\n",
       "      <td>63.17508</td>\n",
       "      <td>HLE</td>\n",
       "    </tr>\n",
       "    <tr>\n",
       "      <th>1</th>\n",
       "      <td>gregorian-interval/2009-03-31T00:00:00/P3Y</td>\n",
       "      <td>E92000001</td>\n",
       "      <td>M</td>\n",
       "      <td>01-04</td>\n",
       "      <td>62.37935</td>\n",
       "      <td>62.23008</td>\n",
       "      <td>62.52862</td>\n",
       "      <td>HLE</td>\n",
       "    </tr>\n",
       "    <tr>\n",
       "      <th>2</th>\n",
       "      <td>gregorian-interval/2009-03-31T00:00:00/P3Y</td>\n",
       "      <td>E92000001</td>\n",
       "      <td>M</td>\n",
       "      <td>05-09</td>\n",
       "      <td>58.59795</td>\n",
       "      <td>58.44976</td>\n",
       "      <td>58.74614</td>\n",
       "      <td>HLE</td>\n",
       "    </tr>\n",
       "    <tr>\n",
       "      <th>3</th>\n",
       "      <td>gregorian-interval/2009-03-31T00:00:00/P3Y</td>\n",
       "      <td>E92000001</td>\n",
       "      <td>M</td>\n",
       "      <td>10-14</td>\n",
       "      <td>53.86217</td>\n",
       "      <td>53.71597</td>\n",
       "      <td>54.00838</td>\n",
       "      <td>HLE</td>\n",
       "    </tr>\n",
       "    <tr>\n",
       "      <th>4</th>\n",
       "      <td>gregorian-interval/2009-03-31T00:00:00/P3Y</td>\n",
       "      <td>E92000001</td>\n",
       "      <td>M</td>\n",
       "      <td>15-19</td>\n",
       "      <td>49.15668</td>\n",
       "      <td>49.01273</td>\n",
       "      <td>49.30062</td>\n",
       "      <td>HLE</td>\n",
       "    </tr>\n",
       "  </tbody>\n",
       "</table>\n",
       "</div>"
      ],
      "text/plain": [
       "                                       Period       Code Sex  age group  \\\n",
       "0  gregorian-interval/2009-03-31T00:00:00/P3Y  E92000001   M  lessthan1   \n",
       "1  gregorian-interval/2009-03-31T00:00:00/P3Y  E92000001   M      01-04   \n",
       "2  gregorian-interval/2009-03-31T00:00:00/P3Y  E92000001   M      05-09   \n",
       "3  gregorian-interval/2009-03-31T00:00:00/P3Y  E92000001   M      10-14   \n",
       "4  gregorian-interval/2009-03-31T00:00:00/P3Y  E92000001   M      15-19   \n",
       "\n",
       "   Healthy Life Expectancy (HLE) _  HLE Lower CI_  HLE Upper CI_  \\\n",
       "0                         63.02647       62.87787       63.17508   \n",
       "1                         62.37935       62.23008       62.52862   \n",
       "2                         58.59795       58.44976       58.74614   \n",
       "3                         53.86217       53.71597       54.00838   \n",
       "4                         49.15668       49.01273       49.30062   \n",
       "\n",
       "  TransformationType  \n",
       "0                HLE  \n",
       "1                HLE  \n",
       "2                HLE  \n",
       "3                HLE  \n",
       "4                HLE  "
      ]
     },
     "metadata": {},
     "output_type": "display_data"
    },
    {
     "data": {
      "text/markdown": [
       "<span style='color:Grey'>\n",
       "====================================================================================================</span>"
      ],
      "text/plain": [
       "<IPython.core.display.Markdown object>"
      ]
     },
     "metadata": {},
     "output_type": "display_data"
    },
    {
     "data": {
      "text/markdown": [
       "<span style='color:Blue'>**HE - Region level estimates_LE** *: First five records displayed of* 2880 records.</span>"
      ],
      "text/plain": [
       "<IPython.core.display.Markdown object>"
      ]
     },
     "metadata": {},
     "output_type": "display_data"
    },
    {
     "data": {
      "text/markdown": [
       "<span style='color:Grey'>====================================================================================================</span>"
      ],
      "text/plain": [
       "<IPython.core.display.Markdown object>"
      ]
     },
     "metadata": {},
     "output_type": "display_data"
    },
    {
     "data": {
      "text/html": [
       "<div>\n",
       "<style scoped>\n",
       "    .dataframe tbody tr th:only-of-type {\n",
       "        vertical-align: middle;\n",
       "    }\n",
       "\n",
       "    .dataframe tbody tr th {\n",
       "        vertical-align: top;\n",
       "    }\n",
       "\n",
       "    .dataframe thead th {\n",
       "        text-align: right;\n",
       "    }\n",
       "</style>\n",
       "<table border=\"1\" class=\"dataframe\">\n",
       "  <thead>\n",
       "    <tr style=\"text-align: right;\">\n",
       "      <th></th>\n",
       "      <th>Period</th>\n",
       "      <th>Code</th>\n",
       "      <th>Sex</th>\n",
       "      <th>Age group</th>\n",
       "      <th>Life Expectancy (LE)_</th>\n",
       "      <th>LE Lower CI_</th>\n",
       "      <th>LE Upper CI_</th>\n",
       "      <th>TransformationType</th>\n",
       "    </tr>\n",
       "  </thead>\n",
       "  <tbody>\n",
       "    <tr>\n",
       "      <th>1</th>\n",
       "      <td>gregorian-interval/2009-03-31T00:00:00/P3Y</td>\n",
       "      <td>E12000001</td>\n",
       "      <td>M</td>\n",
       "      <td>lessthan1</td>\n",
       "      <td>77.4021</td>\n",
       "      <td>77.2661</td>\n",
       "      <td>77.5382</td>\n",
       "      <td>LE</td>\n",
       "    </tr>\n",
       "    <tr>\n",
       "      <th>2</th>\n",
       "      <td>gregorian-interval/2009-03-31T00:00:00/P3Y</td>\n",
       "      <td>E12000001</td>\n",
       "      <td>M</td>\n",
       "      <td>01-04</td>\n",
       "      <td>76.7237</td>\n",
       "      <td>76.5949</td>\n",
       "      <td>76.8526</td>\n",
       "      <td>LE</td>\n",
       "    </tr>\n",
       "    <tr>\n",
       "      <th>3</th>\n",
       "      <td>gregorian-interval/2009-03-31T00:00:00/P3Y</td>\n",
       "      <td>E12000001</td>\n",
       "      <td>M</td>\n",
       "      <td>05-09</td>\n",
       "      <td>72.7749</td>\n",
       "      <td>72.6472</td>\n",
       "      <td>72.9026</td>\n",
       "      <td>LE</td>\n",
       "    </tr>\n",
       "    <tr>\n",
       "      <th>4</th>\n",
       "      <td>gregorian-interval/2009-03-31T00:00:00/P3Y</td>\n",
       "      <td>E12000001</td>\n",
       "      <td>M</td>\n",
       "      <td>10-14</td>\n",
       "      <td>67.7985</td>\n",
       "      <td>67.6714</td>\n",
       "      <td>67.9256</td>\n",
       "      <td>LE</td>\n",
       "    </tr>\n",
       "    <tr>\n",
       "      <th>5</th>\n",
       "      <td>gregorian-interval/2009-03-31T00:00:00/P3Y</td>\n",
       "      <td>E12000001</td>\n",
       "      <td>M</td>\n",
       "      <td>15-19</td>\n",
       "      <td>62.8475</td>\n",
       "      <td>62.7214</td>\n",
       "      <td>62.9737</td>\n",
       "      <td>LE</td>\n",
       "    </tr>\n",
       "  </tbody>\n",
       "</table>\n",
       "</div>"
      ],
      "text/plain": [
       "0                                      Period       Code Sex  Age group  \\\n",
       "1  gregorian-interval/2009-03-31T00:00:00/P3Y  E12000001   M  lessthan1   \n",
       "2  gregorian-interval/2009-03-31T00:00:00/P3Y  E12000001   M      01-04   \n",
       "3  gregorian-interval/2009-03-31T00:00:00/P3Y  E12000001   M      05-09   \n",
       "4  gregorian-interval/2009-03-31T00:00:00/P3Y  E12000001   M      10-14   \n",
       "5  gregorian-interval/2009-03-31T00:00:00/P3Y  E12000001   M      15-19   \n",
       "\n",
       "0 Life Expectancy (LE)_ LE Lower CI_ LE Upper CI_ TransformationType  \n",
       "1               77.4021      77.2661      77.5382                 LE  \n",
       "2               76.7237      76.5949      76.8526                 LE  \n",
       "3               72.7749      72.6472      72.9026                 LE  \n",
       "4               67.7985      67.6714      67.9256                 LE  \n",
       "5               62.8475      62.7214      62.9737                 LE  "
      ]
     },
     "metadata": {},
     "output_type": "display_data"
    },
    {
     "data": {
      "text/markdown": [
       "<span style='color:Grey'>\n",
       "====================================================================================================</span>"
      ],
      "text/plain": [
       "<IPython.core.display.Markdown object>"
      ]
     },
     "metadata": {},
     "output_type": "display_data"
    },
    {
     "data": {
      "text/markdown": [
       "<span style='color:Blue'>**HE - Region level estimates_HLE** *: First five records displayed of* 2880 records.</span>"
      ],
      "text/plain": [
       "<IPython.core.display.Markdown object>"
      ]
     },
     "metadata": {},
     "output_type": "display_data"
    },
    {
     "data": {
      "text/markdown": [
       "<span style='color:Grey'>====================================================================================================</span>"
      ],
      "text/plain": [
       "<IPython.core.display.Markdown object>"
      ]
     },
     "metadata": {},
     "output_type": "display_data"
    },
    {
     "data": {
      "text/html": [
       "<div>\n",
       "<style scoped>\n",
       "    .dataframe tbody tr th:only-of-type {\n",
       "        vertical-align: middle;\n",
       "    }\n",
       "\n",
       "    .dataframe tbody tr th {\n",
       "        vertical-align: top;\n",
       "    }\n",
       "\n",
       "    .dataframe thead th {\n",
       "        text-align: right;\n",
       "    }\n",
       "</style>\n",
       "<table border=\"1\" class=\"dataframe\">\n",
       "  <thead>\n",
       "    <tr style=\"text-align: right;\">\n",
       "      <th></th>\n",
       "      <th>Period</th>\n",
       "      <th>Code</th>\n",
       "      <th>Sex</th>\n",
       "      <th>Age group</th>\n",
       "      <th>Healthy Life Expectancy (HLE) _</th>\n",
       "      <th>HLE Lower CI_</th>\n",
       "      <th>HLE Upper CI_</th>\n",
       "      <th>TransformationType</th>\n",
       "    </tr>\n",
       "  </thead>\n",
       "  <tbody>\n",
       "    <tr>\n",
       "      <th>1</th>\n",
       "      <td>gregorian-interval/2009-03-31T00:00:00/P3Y</td>\n",
       "      <td>E12000001</td>\n",
       "      <td>M</td>\n",
       "      <td>lessthan1</td>\n",
       "      <td>59.7111</td>\n",
       "      <td>59.1905</td>\n",
       "      <td>60.2318</td>\n",
       "      <td>HLE</td>\n",
       "    </tr>\n",
       "    <tr>\n",
       "      <th>2</th>\n",
       "      <td>gregorian-interval/2009-03-31T00:00:00/P3Y</td>\n",
       "      <td>E12000001</td>\n",
       "      <td>M</td>\n",
       "      <td>01-04</td>\n",
       "      <td>58.9645</td>\n",
       "      <td>58.4417</td>\n",
       "      <td>59.4873</td>\n",
       "      <td>HLE</td>\n",
       "    </tr>\n",
       "    <tr>\n",
       "      <th>3</th>\n",
       "      <td>gregorian-interval/2009-03-31T00:00:00/P3Y</td>\n",
       "      <td>E12000001</td>\n",
       "      <td>M</td>\n",
       "      <td>05-09</td>\n",
       "      <td>55.0573</td>\n",
       "      <td>54.5354</td>\n",
       "      <td>55.5793</td>\n",
       "      <td>HLE</td>\n",
       "    </tr>\n",
       "    <tr>\n",
       "      <th>4</th>\n",
       "      <td>gregorian-interval/2009-03-31T00:00:00/P3Y</td>\n",
       "      <td>E12000001</td>\n",
       "      <td>M</td>\n",
       "      <td>10-14</td>\n",
       "      <td>50.2258</td>\n",
       "      <td>49.7077</td>\n",
       "      <td>50.7439</td>\n",
       "      <td>HLE</td>\n",
       "    </tr>\n",
       "    <tr>\n",
       "      <th>5</th>\n",
       "      <td>gregorian-interval/2009-03-31T00:00:00/P3Y</td>\n",
       "      <td>E12000001</td>\n",
       "      <td>M</td>\n",
       "      <td>15-19</td>\n",
       "      <td>45.5027</td>\n",
       "      <td>44.9906</td>\n",
       "      <td>46.0148</td>\n",
       "      <td>HLE</td>\n",
       "    </tr>\n",
       "  </tbody>\n",
       "</table>\n",
       "</div>"
      ],
      "text/plain": [
       "0                                      Period       Code Sex  Age group  \\\n",
       "1  gregorian-interval/2009-03-31T00:00:00/P3Y  E12000001   M  lessthan1   \n",
       "2  gregorian-interval/2009-03-31T00:00:00/P3Y  E12000001   M      01-04   \n",
       "3  gregorian-interval/2009-03-31T00:00:00/P3Y  E12000001   M      05-09   \n",
       "4  gregorian-interval/2009-03-31T00:00:00/P3Y  E12000001   M      10-14   \n",
       "5  gregorian-interval/2009-03-31T00:00:00/P3Y  E12000001   M      15-19   \n",
       "\n",
       "0 Healthy Life Expectancy (HLE) _ HLE Lower CI_ HLE Upper CI_  \\\n",
       "1                         59.7111       59.1905       60.2318   \n",
       "2                         58.9645       58.4417       59.4873   \n",
       "3                         55.0573       54.5354       55.5793   \n",
       "4                         50.2258       49.7077       50.7439   \n",
       "5                         45.5027       44.9906       46.0148   \n",
       "\n",
       "0 TransformationType  \n",
       "1                HLE  \n",
       "2                HLE  \n",
       "3                HLE  \n",
       "4                HLE  \n",
       "5                HLE  "
      ]
     },
     "metadata": {},
     "output_type": "display_data"
    }
   ],
   "source": [
    "# Display:\n",
    "for key in dataframe_collection.keys():\n",
    "    printmd(\"\\n\" + \"=\"*100, colour='Grey')\n",
    "    printmd('**' + key + '**' + ' *: First five records displayed of*' + ' ' + str(dataframe_collection[key].shape[0]) + ' records.', colour='Blue')\n",
    "    printmd(\"=\"*100, colour='Grey')\n",
    "    #print(dataframe_collection[key]) #Print like this for Logs...  \n",
    "    display(dataframe_collection[key].head(5))\n",
    "    "
   ]
  },
  {
   "cell_type": "markdown",
   "metadata": {},
   "source": [
    "### Checking Validity of Transforms in CSV (in-memory) Format:"
   ]
  },
  {
   "cell_type": "code",
   "execution_count": 414,
   "metadata": {},
   "outputs": [
    {
     "data": {
      "text/markdown": [
       "<span style='color:Grey'>\n",
       "====================================================================================================</span>"
      ],
      "text/plain": [
       "<IPython.core.display.Markdown object>"
      ]
     },
     "metadata": {},
     "output_type": "display_data"
    },
    {
     "data": {
      "text/markdown": [
       "<span style='color:Purple'>***CSV extract for: he-country-level-estimates_le.csv has been examined. Validation of the file is:*** True.</span>"
      ],
      "text/plain": [
       "<IPython.core.display.Markdown object>"
      ]
     },
     "metadata": {},
     "output_type": "display_data"
    },
    {
     "data": {
      "text/markdown": [
       "<span style='color:Grey'>====================================================================================================</span>"
      ],
      "text/plain": [
       "<IPython.core.display.Markdown object>"
      ]
     },
     "metadata": {},
     "output_type": "display_data"
    },
    {
     "data": {
      "text/markdown": [
       "<span style='color:Grey'>\n",
       "====================================================================================================</span>"
      ],
      "text/plain": [
       "<IPython.core.display.Markdown object>"
      ]
     },
     "metadata": {},
     "output_type": "display_data"
    },
    {
     "data": {
      "text/markdown": [
       "<span style='color:Purple'>***CSV extract for: he-country-level-estimates_hle.csv has been examined. Validation of the file is:*** True.</span>"
      ],
      "text/plain": [
       "<IPython.core.display.Markdown object>"
      ]
     },
     "metadata": {},
     "output_type": "display_data"
    },
    {
     "data": {
      "text/markdown": [
       "<span style='color:Grey'>====================================================================================================</span>"
      ],
      "text/plain": [
       "<IPython.core.display.Markdown object>"
      ]
     },
     "metadata": {},
     "output_type": "display_data"
    },
    {
     "data": {
      "text/markdown": [
       "<span style='color:Grey'>\n",
       "====================================================================================================</span>"
      ],
      "text/plain": [
       "<IPython.core.display.Markdown object>"
      ]
     },
     "metadata": {},
     "output_type": "display_data"
    },
    {
     "data": {
      "text/markdown": [
       "<span style='color:Purple'>***CSV extract for: he-region-level-estimates_le.csv has been examined. Validation of the file is:*** True.</span>"
      ],
      "text/plain": [
       "<IPython.core.display.Markdown object>"
      ]
     },
     "metadata": {},
     "output_type": "display_data"
    },
    {
     "data": {
      "text/markdown": [
       "<span style='color:Grey'>====================================================================================================</span>"
      ],
      "text/plain": [
       "<IPython.core.display.Markdown object>"
      ]
     },
     "metadata": {},
     "output_type": "display_data"
    },
    {
     "data": {
      "text/markdown": [
       "<span style='color:Grey'>\n",
       "====================================================================================================</span>"
      ],
      "text/plain": [
       "<IPython.core.display.Markdown object>"
      ]
     },
     "metadata": {},
     "output_type": "display_data"
    },
    {
     "data": {
      "text/markdown": [
       "<span style='color:Purple'>***CSV extract for: he-region-level-estimates_hle.csv has been examined. Validation of the file is:*** True.</span>"
      ],
      "text/plain": [
       "<IPython.core.display.Markdown object>"
      ]
     },
     "metadata": {},
     "output_type": "display_data"
    },
    {
     "data": {
      "text/markdown": [
       "<span style='color:Grey'>====================================================================================================</span>"
      ],
      "text/plain": [
       "<IPython.core.display.Markdown object>"
      ]
     },
     "metadata": {},
     "output_type": "display_data"
    }
   ],
   "source": [
    "# Good Tables CSV validity tests:\n",
    "for key in dataframe_collection.keys():\n",
    "    csv_path_file = str(slug.slug(key)) + '.csv'\n",
    "    dataframe_collection[key].to_csv(csv_path_file, index = None, header=True)\n",
    "    report = validate(csv_path_file)\n",
    "    printmd(\"\\n\" + \"=\"*100, colour='Grey')\n",
    "    printmd('***CSV extract for: ' + csv_path_file + ' has been examined. Validation of the file is:***' + ' ' + str(report['valid']) + '.', colour='Purple')\n",
    "    printmd(\"=\"*100, colour='Grey')\n",
    "    if report['valid'] == False:\n",
    "        closer_file_inspection = inspector.inspect(csv_path_file)\n",
    "        pprint(closer_file_inspection)\n"
   ]
  },
  {
   "cell_type": "markdown",
   "metadata": {},
   "source": [
    "### Stage 4: Isolated Notebook Tests until a Framework is Developed and Deployed:\n",
    "**Checking the result of our data extraction and wrangling of data sources / tabs:**\n",
    "\n",
    "* Note: A testing framework and strategy is required.\n",
    "* Note: Tests can be programatically implemented using code / functions OR as implemented here via hardcoded values.\n",
    "    * *Remember: that if testing values are hardcoded they will only apply to a specific data source; for example record counts may change between revisions of the same data source etc.*\n",
    "\n",
    "\n",
    "* *A testing strategy is yet to be defined for our COGS development teams. Currently, checks that mirror those below are a good starting point; these include counts and sum'ing to ensure no data is lost during the transform process and random data entry point checks to ensure the data wrangling steps have not skewed the data schema / structure.*\n",
    "    * *A testing framework should be implemented where tests are executed periodically to identify when new source data is available or has been revised - a test suite for a RAP (Reproducible Analytical Pipeline) can highlight failures and a requirment for a code-refactor.*\n",
    "    * ***FOR INFORMATION! BE ADVISED - Intentionally one test here fails for demonstration purposes.***\n",
    "    "
   ]
  },
  {
   "cell_type": "code",
   "execution_count": 515,
   "metadata": {},
   "outputs": [
    {
     "data": {
      "text/markdown": [
       "<span style='color:Green'>Test ID: [1] Successful.</span>"
      ],
      "text/plain": [
       "<IPython.core.display.Markdown object>"
      ]
     },
     "metadata": {},
     "output_type": "display_data"
    },
    {
     "data": {
      "text/markdown": [
       "<span style='color:Green'>Test ID: [2] Successful.</span>"
      ],
      "text/plain": [
       "<IPython.core.display.Markdown object>"
      ]
     },
     "metadata": {},
     "output_type": "display_data"
    },
    {
     "data": {
      "text/markdown": [
       "<span style='color:Green'>Test ID: [3] Successful.</span>"
      ],
      "text/plain": [
       "<IPython.core.display.Markdown object>"
      ]
     },
     "metadata": {},
     "output_type": "display_data"
    },
    {
     "data": {
      "text/markdown": [
       "<span style='color:Green'>Test ID: [4] Successful.</span>"
      ],
      "text/plain": [
       "<IPython.core.display.Markdown object>"
      ]
     },
     "metadata": {},
     "output_type": "display_data"
    },
    {
     "data": {
      "text/markdown": [
       "<span style='color:Green'>Test ID: [5] Successful.</span>"
      ],
      "text/plain": [
       "<IPython.core.display.Markdown object>"
      ]
     },
     "metadata": {},
     "output_type": "display_data"
    },
    {
     "data": {
      "text/markdown": [
       "<span style='color:Red'>Test ID: [6] Failed.</span>"
      ],
      "text/plain": [
       "<IPython.core.display.Markdown object>"
      ]
     },
     "metadata": {},
     "output_type": "display_data"
    },
    {
     "data": {
      "text/markdown": [
       "<span style='color:Green'>Test ID: [7] Successful.</span>"
      ],
      "text/plain": [
       "<IPython.core.display.Markdown object>"
      ]
     },
     "metadata": {},
     "output_type": "display_data"
    },
    {
     "data": {
      "text/markdown": [
       "<span style='color:Magenta'>**Test Rating: 85.71% Successful.**</span>"
      ],
      "text/plain": [
       "<IPython.core.display.Markdown object>"
      ]
     },
     "metadata": {},
     "output_type": "display_data"
    }
   ],
   "source": [
    "# Hard-coded tests:\n",
    "test_count_int = 0\n",
    "test_count_successful = 0\n",
    "\n",
    "if boo_pythonNB_environment == True:\n",
    "    # Only output to Notebook as per other code-cells.\n",
    "    # Remember tests only relevant to specific data sources!\n",
    "    # You could use Python assert for all tests in a testing framework wrapper - lots of options available to us.\n",
    "    \n",
    "    test_count_int += 1 # Increment Test Counter...\n",
    "    if dataframe_collection['HE - Country level estimates_HLE'].shape[0] == 1600:\n",
    "        printmd('Test ID: [' + str(test_count_int) + '] Successful.', colour='Green')\n",
    "        test_count_successful += 1 # Increment Successful Test Counter...\n",
    "    else:\n",
    "        printmd('Test ID: [' + str(test_count_int) + '] Failed.', colour='Red')\n",
    "\n",
    "    test_count_int += 1 # Increment Test Counter...\n",
    "    my_testdata = (dataframe_collection['HE - Country level estimates_HLE'].loc[(dataframe_collection['HE - Country level estimates_HLE']['Period'] == 'gregorian-interval/2009-03-31T00:00:00/P3Y') &\n",
    "                     (dataframe_collection['HE - Country level estimates_HLE']['Code'] == 'E92000001') &\n",
    "                     (dataframe_collection['HE - Country level estimates_HLE']['age group'] == 'lessthan1') &\n",
    "                     (dataframe_collection['HE - Country level estimates_HLE']['Sex'] == 'M')]\n",
    "                     )\n",
    "    my_expecteddata = pd.DataFrame({\n",
    "                    'Period': ['gregorian-interval/2009-03-31T00:00:00/P3Y'],\n",
    "                    'Code': ['E92000001'],\n",
    "                    'Sex': ['M'],\n",
    "                    'age group': ['lessthan1'],\n",
    "                    'Healthy Life Expectancy (HLE) _': [63.02647],\n",
    "                    'HLE Lower CI_': [62.87787],\n",
    "                    'HLE Upper CI_': [63.17508],\n",
    "                    #'Proportion of Life Spent in \"Good\" Health (%)_': [80.0024],\n",
    "                    'TransformationType': ['HLE']\n",
    "                    })\n",
    "    if my_testdata.equals(my_expecteddata):\n",
    "        printmd('Test ID: [' + str(test_count_int) + '] Successful.', colour='Green')\n",
    "        test_count_successful += 1 # Increment Successful Test Counter...\n",
    "    else:\n",
    "        printmd('Test ID: [' + str(test_count_int) + '] Failed.', colour='Red')\n",
    "\n",
    "    test_count_int += 1 # Increment Test Counter...\n",
    "    my_testdata = (dataframe_collection['HE - Country level estimates_HLE'].loc[(dataframe_collection['HE - Country level estimates_HLE']['Period'] == 'gregorian-interval/2016-03-31T00:00:00/P3Y') &\n",
    "                     (dataframe_collection['HE - Country level estimates_HLE']['Code'] == 'W92000004') &\n",
    "                     (dataframe_collection['HE - Country level estimates_HLE']['Sex'] == 'F') &\n",
    "                     (dataframe_collection['HE - Country level estimates_HLE']['age group'] == '05-09')]\n",
    "                    ) \n",
    "    my_testdata.index = np.arange(1,len(my_testdata)+1) # To avoid index comparison errors.\n",
    "    my_expecteddata = pd.DataFrame({\n",
    "                    'Period': ['gregorian-interval/2016-03-31T00:00:00/P3Y'],\n",
    "                    'Code': ['W92000004'],\n",
    "                    'Sex': ['F'],\n",
    "                    'age group': ['05-09'],\n",
    "                    'Healthy Life Expectancy (HLE) _': [57.56803],\n",
    "                    'HLE Lower CI_': [57.10483],\n",
    "                    'HLE Upper CI_': [58.03124],\n",
    "                    #'Proportion of Life Spent in \"Good\" Health (%)_': [74.21282],\n",
    "                    'TransformationType': ['HLE']\n",
    "                    })\n",
    "    my_expecteddata.index = np.arange(1,len(my_expecteddata)+1) # To avoid index comparison errors.\n",
    "    if my_testdata.equals(my_expecteddata):\n",
    "        printmd('Test ID: [' + str(test_count_int) + '] Successful.', colour='Green')\n",
    "        test_count_successful += 1 # Increment Successful Test Counter...\n",
    "    else:\n",
    "        printmd('Test ID: [' + str(test_count_int) + '] Failed.', colour='Red')\n",
    "        \n",
    "    test_count_int += 1 # Increment Test Counter...\n",
    "    if dataframe_collection['HE - Country level estimates_LE']['Life Expectancy (LE)_'].sum() == 65114.214550000004:\n",
    "        printmd('Test ID: [' + str(test_count_int) + '] Successful.', colour='Green')\n",
    "        test_count_successful += 1 # Increment Successful Test Counter...\n",
    "    else:\n",
    "        printmd('Test ID: [' + str(test_count_int) + '] Failed.', colour='Red')        \n",
    "        \n",
    "    test_count_int += 1 # Increment Test Counter...\n",
    "    if dataframe_collection['HE - Region level estimates_HLE'].shape[0] == 2880:\n",
    "        printmd('Test ID: [' + str(test_count_int) + '] Successful.', colour='Green')\n",
    "        test_count_successful += 1 # Increment Successful Test Counter...\n",
    "    else:\n",
    "        printmd('Test ID: [' + str(test_count_int) + '] Failed.', colour='Red')\n",
    "\n",
    "    test_count_int += 1 # Increment Test Counter...\n",
    "    if 1 == 2: # Intentional FAILED test for demo purposes...\n",
    "        printmd('Test ID: [' + str(test_count_int) + '] Successful.', colour='Green')\n",
    "        test_count_successful += 1 # Increment Successful Test Counter...\n",
    "    else:\n",
    "        printmd('Test ID: [' + str(test_count_int) + '] Failed.', colour='Red')        \n",
    "\n",
    "        \n",
    "    test_count_int += 1 # Increment Test Counter...\n",
    "    if dataframe_collection['HE - Region level estimates_LE']['Life Expectancy (LE)_'].sum() == 118840.88113000023:\n",
    "        printmd('Test ID: [' + str(test_count_int) + '] Successful.', colour='Green')\n",
    "        test_count_successful += 1 # Increment Successful Test Counter...\n",
    "    else:\n",
    "        printmd('Test ID: [' + str(test_count_int) + '] Failed.', colour='Red')\n",
    "                      \n",
    "printmd('**Test Rating: ' + str(round(test_count_successful/test_count_int*100,2)) + '% Successful.**', colour='Magenta')"
   ]
  },
  {
   "cell_type": "markdown",
   "metadata": {},
   "source": [
    "In the event that tests are failing - it may be wise to terminate the testing framework / testing component / Notebook or communicate the results and messages to downstream processes etc. However for our purposes of this particular Notebook we will just continue.\n",
    "\n",
    "*Having trouble using Python 'assert' or Panda's Dataframe equality checks? A lot of the time, it's the schema that doesn't 'match' even though the data entries appear to be the same.*\n",
    "\n",
    "***Try the following code-snippet to investigate schemas:***\n"
   ]
  },
  {
   "cell_type": "code",
   "execution_count": 323,
   "metadata": {},
   "outputs": [
    {
     "name": "stdout",
     "output_type": "stream",
     "text": [
      "<class 'pandas.core.frame.DataFrame'>\n",
      "Int64Index: 1 entries, 1 to 1\n",
      "Data columns (total 8 columns):\n",
      "Period                             1 non-null object\n",
      "Code                               1 non-null object\n",
      "Sex                                1 non-null object\n",
      "age group                          1 non-null object\n",
      "Healthy Life Expectancy (HLE) _    1 non-null float64\n",
      "HLE Lower CI_                      1 non-null float64\n",
      "HLE Upper CI_                      1 non-null float64\n",
      "TransformationType                 1 non-null object\n",
      "dtypes: float64(3), object(5)\n",
      "memory usage: 72.0+ bytes\n"
     ]
    }
   ],
   "source": [
    "my_expecteddata.info(verbose=True)"
   ]
  },
  {
   "cell_type": "markdown",
   "metadata": {},
   "source": [
    "***With our older / existing process flow we would transfer the wrangled data outputs to a .csv file, but for our purposes we'll leave the data in memory.***\n",
    "\n",
    "### Stage 5: Creating or Mapping Reference Data and Data Markers:\n",
    "\n",
    "**To create an RDF output we need the data (.csv) and associated meta data (.json). Here we focus on the meta data.**\n",
    "* *We must isolate the dimensions (keys) from the observations (values).*\n",
    "    * Generate the components from the transforms (i.e. from the tidy data outputs)...\n",
    "    * Strip out data elements - remove all dimensions to leave only the observations...\n",
    "        * *...thus providing us with our codelist(s) keys.*\n",
    "        * ***Note:***\n",
    "        *This must be done manually!*\n",
    "        "
   ]
  },
  {
   "cell_type": "code",
   "execution_count": 324,
   "metadata": {},
   "outputs": [
    {
     "data": {
      "text/markdown": [
       "<span style='color:Green'>**Extracted columns from dataset HE - Country level estimates_LE:**</span>"
      ],
      "text/plain": [
       "<IPython.core.display.Markdown object>"
      ]
     },
     "metadata": {},
     "output_type": "display_data"
    },
    {
     "data": {
      "text/markdown": [
       "<span style='color:Grey'>['Period', 'Code', 'Sex', 'age group', 'Life Expectancy (LE)_', 'LE Lower CI_', 'LE Upper CI_', 'TransformationType']</span>"
      ],
      "text/plain": [
       "<IPython.core.display.Markdown object>"
      ]
     },
     "metadata": {},
     "output_type": "display_data"
    },
    {
     "data": {
      "text/markdown": [
       "<span style='color:Green'>**Extracted columns from dataset HE - Country level estimates_HLE:**</span>"
      ],
      "text/plain": [
       "<IPython.core.display.Markdown object>"
      ]
     },
     "metadata": {},
     "output_type": "display_data"
    },
    {
     "data": {
      "text/markdown": [
       "<span style='color:Grey'>['Period', 'Code', 'Sex', 'age group', 'Healthy Life Expectancy (HLE) _', 'HLE Lower CI_', 'HLE Upper CI_', 'TransformationType']</span>"
      ],
      "text/plain": [
       "<IPython.core.display.Markdown object>"
      ]
     },
     "metadata": {},
     "output_type": "display_data"
    },
    {
     "data": {
      "text/markdown": [
       "<span style='color:Green'>**Extracted columns from dataset HE - Region level estimates_LE:**</span>"
      ],
      "text/plain": [
       "<IPython.core.display.Markdown object>"
      ]
     },
     "metadata": {},
     "output_type": "display_data"
    },
    {
     "data": {
      "text/markdown": [
       "<span style='color:Grey'>['Period', 'Code', 'Sex', 'Age group', 'Life Expectancy (LE)_', 'LE Lower CI_', 'LE Upper CI_', 'TransformationType']</span>"
      ],
      "text/plain": [
       "<IPython.core.display.Markdown object>"
      ]
     },
     "metadata": {},
     "output_type": "display_data"
    },
    {
     "data": {
      "text/markdown": [
       "<span style='color:Green'>**Extracted columns from dataset HE - Region level estimates_HLE:**</span>"
      ],
      "text/plain": [
       "<IPython.core.display.Markdown object>"
      ]
     },
     "metadata": {},
     "output_type": "display_data"
    },
    {
     "data": {
      "text/markdown": [
       "<span style='color:Grey'>['Period', 'Code', 'Sex', 'Age group', 'Healthy Life Expectancy (HLE) _', 'HLE Lower CI_', 'HLE Upper CI_', 'TransformationType']</span>"
      ],
      "text/plain": [
       "<IPython.core.display.Markdown object>"
      ]
     },
     "metadata": {},
     "output_type": "display_data"
    },
    {
     "data": {
      "text/markdown": [
       "<span style='color:Grey'>\n",
       "====================================================================================================</span>"
      ],
      "text/plain": [
       "<IPython.core.display.Markdown object>"
      ]
     },
     "metadata": {},
     "output_type": "display_data"
    },
    {
     "data": {
      "text/markdown": [
       "<span style='color:Blue'>Initial Component DataFrame for: HE - Country level estimates_LE.</span>"
      ],
      "text/plain": [
       "<IPython.core.display.Markdown object>"
      ]
     },
     "metadata": {},
     "output_type": "display_data"
    },
    {
     "data": {
      "text/markdown": [
       "<span style='color:Grey'>====================================================================================================</span>"
      ],
      "text/plain": [
       "<IPython.core.display.Markdown object>"
      ]
     },
     "metadata": {},
     "output_type": "display_data"
    },
    {
     "data": {
      "text/html": [
       "<div>\n",
       "<style scoped>\n",
       "    .dataframe tbody tr th:only-of-type {\n",
       "        vertical-align: middle;\n",
       "    }\n",
       "\n",
       "    .dataframe tbody tr th {\n",
       "        vertical-align: top;\n",
       "    }\n",
       "\n",
       "    .dataframe thead th {\n",
       "        text-align: right;\n",
       "    }\n",
       "</style>\n",
       "<table border=\"1\" class=\"dataframe\">\n",
       "  <thead>\n",
       "    <tr style=\"text-align: right;\">\n",
       "      <th></th>\n",
       "      <th>HE - Country level estimates_LE</th>\n",
       "      <th>Entry Type</th>\n",
       "    </tr>\n",
       "  </thead>\n",
       "  <tbody>\n",
       "    <tr>\n",
       "      <th>0</th>\n",
       "      <td>Period</td>\n",
       "      <td>Dimension</td>\n",
       "    </tr>\n",
       "    <tr>\n",
       "      <th>1</th>\n",
       "      <td>Code</td>\n",
       "      <td>Dimension</td>\n",
       "    </tr>\n",
       "    <tr>\n",
       "      <th>2</th>\n",
       "      <td>Sex</td>\n",
       "      <td>Dimension</td>\n",
       "    </tr>\n",
       "    <tr>\n",
       "      <th>3</th>\n",
       "      <td>age group</td>\n",
       "      <td>Dimension</td>\n",
       "    </tr>\n",
       "    <tr>\n",
       "      <th>4</th>\n",
       "      <td>Life Expectancy (LE)_</td>\n",
       "      <td>Dimension</td>\n",
       "    </tr>\n",
       "    <tr>\n",
       "      <th>5</th>\n",
       "      <td>LE Lower CI_</td>\n",
       "      <td>Dimension</td>\n",
       "    </tr>\n",
       "    <tr>\n",
       "      <th>6</th>\n",
       "      <td>LE Upper CI_</td>\n",
       "      <td>Dimension</td>\n",
       "    </tr>\n",
       "    <tr>\n",
       "      <th>7</th>\n",
       "      <td>TransformationType</td>\n",
       "      <td>Dimension</td>\n",
       "    </tr>\n",
       "  </tbody>\n",
       "</table>\n",
       "</div>"
      ],
      "text/plain": [
       "  HE - Country level estimates_LE Entry Type\n",
       "0                          Period  Dimension\n",
       "1                            Code  Dimension\n",
       "2                             Sex  Dimension\n",
       "3                       age group  Dimension\n",
       "4           Life Expectancy (LE)_  Dimension\n",
       "5                    LE Lower CI_  Dimension\n",
       "6                    LE Upper CI_  Dimension\n",
       "7              TransformationType  Dimension"
      ]
     },
     "metadata": {},
     "output_type": "display_data"
    },
    {
     "data": {
      "text/markdown": [
       "<span style='color:Grey'>\n",
       "====================================================================================================</span>"
      ],
      "text/plain": [
       "<IPython.core.display.Markdown object>"
      ]
     },
     "metadata": {},
     "output_type": "display_data"
    },
    {
     "data": {
      "text/markdown": [
       "<span style='color:Blue'>Initial Component DataFrame for: HE - Country level estimates_HLE.</span>"
      ],
      "text/plain": [
       "<IPython.core.display.Markdown object>"
      ]
     },
     "metadata": {},
     "output_type": "display_data"
    },
    {
     "data": {
      "text/markdown": [
       "<span style='color:Grey'>====================================================================================================</span>"
      ],
      "text/plain": [
       "<IPython.core.display.Markdown object>"
      ]
     },
     "metadata": {},
     "output_type": "display_data"
    },
    {
     "data": {
      "text/html": [
       "<div>\n",
       "<style scoped>\n",
       "    .dataframe tbody tr th:only-of-type {\n",
       "        vertical-align: middle;\n",
       "    }\n",
       "\n",
       "    .dataframe tbody tr th {\n",
       "        vertical-align: top;\n",
       "    }\n",
       "\n",
       "    .dataframe thead th {\n",
       "        text-align: right;\n",
       "    }\n",
       "</style>\n",
       "<table border=\"1\" class=\"dataframe\">\n",
       "  <thead>\n",
       "    <tr style=\"text-align: right;\">\n",
       "      <th></th>\n",
       "      <th>HE - Country level estimates_HLE</th>\n",
       "      <th>Entry Type</th>\n",
       "    </tr>\n",
       "  </thead>\n",
       "  <tbody>\n",
       "    <tr>\n",
       "      <th>0</th>\n",
       "      <td>Period</td>\n",
       "      <td>Dimension</td>\n",
       "    </tr>\n",
       "    <tr>\n",
       "      <th>1</th>\n",
       "      <td>Code</td>\n",
       "      <td>Dimension</td>\n",
       "    </tr>\n",
       "    <tr>\n",
       "      <th>2</th>\n",
       "      <td>Sex</td>\n",
       "      <td>Dimension</td>\n",
       "    </tr>\n",
       "    <tr>\n",
       "      <th>3</th>\n",
       "      <td>age group</td>\n",
       "      <td>Dimension</td>\n",
       "    </tr>\n",
       "    <tr>\n",
       "      <th>4</th>\n",
       "      <td>Healthy Life Expectancy (HLE) _</td>\n",
       "      <td>Dimension</td>\n",
       "    </tr>\n",
       "    <tr>\n",
       "      <th>5</th>\n",
       "      <td>HLE Lower CI_</td>\n",
       "      <td>Dimension</td>\n",
       "    </tr>\n",
       "    <tr>\n",
       "      <th>6</th>\n",
       "      <td>HLE Upper CI_</td>\n",
       "      <td>Dimension</td>\n",
       "    </tr>\n",
       "    <tr>\n",
       "      <th>7</th>\n",
       "      <td>TransformationType</td>\n",
       "      <td>Dimension</td>\n",
       "    </tr>\n",
       "  </tbody>\n",
       "</table>\n",
       "</div>"
      ],
      "text/plain": [
       "  HE - Country level estimates_HLE Entry Type\n",
       "0                           Period  Dimension\n",
       "1                             Code  Dimension\n",
       "2                              Sex  Dimension\n",
       "3                        age group  Dimension\n",
       "4  Healthy Life Expectancy (HLE) _  Dimension\n",
       "5                    HLE Lower CI_  Dimension\n",
       "6                    HLE Upper CI_  Dimension\n",
       "7               TransformationType  Dimension"
      ]
     },
     "metadata": {},
     "output_type": "display_data"
    },
    {
     "data": {
      "text/markdown": [
       "<span style='color:Grey'>\n",
       "====================================================================================================</span>"
      ],
      "text/plain": [
       "<IPython.core.display.Markdown object>"
      ]
     },
     "metadata": {},
     "output_type": "display_data"
    },
    {
     "data": {
      "text/markdown": [
       "<span style='color:Blue'>Initial Component DataFrame for: HE - Region level estimates_LE.</span>"
      ],
      "text/plain": [
       "<IPython.core.display.Markdown object>"
      ]
     },
     "metadata": {},
     "output_type": "display_data"
    },
    {
     "data": {
      "text/markdown": [
       "<span style='color:Grey'>====================================================================================================</span>"
      ],
      "text/plain": [
       "<IPython.core.display.Markdown object>"
      ]
     },
     "metadata": {},
     "output_type": "display_data"
    },
    {
     "data": {
      "text/html": [
       "<div>\n",
       "<style scoped>\n",
       "    .dataframe tbody tr th:only-of-type {\n",
       "        vertical-align: middle;\n",
       "    }\n",
       "\n",
       "    .dataframe tbody tr th {\n",
       "        vertical-align: top;\n",
       "    }\n",
       "\n",
       "    .dataframe thead th {\n",
       "        text-align: right;\n",
       "    }\n",
       "</style>\n",
       "<table border=\"1\" class=\"dataframe\">\n",
       "  <thead>\n",
       "    <tr style=\"text-align: right;\">\n",
       "      <th></th>\n",
       "      <th>HE - Region level estimates_LE</th>\n",
       "      <th>Entry Type</th>\n",
       "    </tr>\n",
       "  </thead>\n",
       "  <tbody>\n",
       "    <tr>\n",
       "      <th>0</th>\n",
       "      <td>Period</td>\n",
       "      <td>Dimension</td>\n",
       "    </tr>\n",
       "    <tr>\n",
       "      <th>1</th>\n",
       "      <td>Code</td>\n",
       "      <td>Dimension</td>\n",
       "    </tr>\n",
       "    <tr>\n",
       "      <th>2</th>\n",
       "      <td>Sex</td>\n",
       "      <td>Dimension</td>\n",
       "    </tr>\n",
       "    <tr>\n",
       "      <th>3</th>\n",
       "      <td>Age group</td>\n",
       "      <td>Dimension</td>\n",
       "    </tr>\n",
       "    <tr>\n",
       "      <th>4</th>\n",
       "      <td>Life Expectancy (LE)_</td>\n",
       "      <td>Dimension</td>\n",
       "    </tr>\n",
       "    <tr>\n",
       "      <th>5</th>\n",
       "      <td>LE Lower CI_</td>\n",
       "      <td>Dimension</td>\n",
       "    </tr>\n",
       "    <tr>\n",
       "      <th>6</th>\n",
       "      <td>LE Upper CI_</td>\n",
       "      <td>Dimension</td>\n",
       "    </tr>\n",
       "    <tr>\n",
       "      <th>7</th>\n",
       "      <td>TransformationType</td>\n",
       "      <td>Dimension</td>\n",
       "    </tr>\n",
       "  </tbody>\n",
       "</table>\n",
       "</div>"
      ],
      "text/plain": [
       "  HE - Region level estimates_LE Entry Type\n",
       "0                         Period  Dimension\n",
       "1                           Code  Dimension\n",
       "2                            Sex  Dimension\n",
       "3                      Age group  Dimension\n",
       "4          Life Expectancy (LE)_  Dimension\n",
       "5                   LE Lower CI_  Dimension\n",
       "6                   LE Upper CI_  Dimension\n",
       "7             TransformationType  Dimension"
      ]
     },
     "metadata": {},
     "output_type": "display_data"
    },
    {
     "data": {
      "text/markdown": [
       "<span style='color:Grey'>\n",
       "====================================================================================================</span>"
      ],
      "text/plain": [
       "<IPython.core.display.Markdown object>"
      ]
     },
     "metadata": {},
     "output_type": "display_data"
    },
    {
     "data": {
      "text/markdown": [
       "<span style='color:Blue'>Initial Component DataFrame for: HE - Region level estimates_HLE.</span>"
      ],
      "text/plain": [
       "<IPython.core.display.Markdown object>"
      ]
     },
     "metadata": {},
     "output_type": "display_data"
    },
    {
     "data": {
      "text/markdown": [
       "<span style='color:Grey'>====================================================================================================</span>"
      ],
      "text/plain": [
       "<IPython.core.display.Markdown object>"
      ]
     },
     "metadata": {},
     "output_type": "display_data"
    },
    {
     "data": {
      "text/html": [
       "<div>\n",
       "<style scoped>\n",
       "    .dataframe tbody tr th:only-of-type {\n",
       "        vertical-align: middle;\n",
       "    }\n",
       "\n",
       "    .dataframe tbody tr th {\n",
       "        vertical-align: top;\n",
       "    }\n",
       "\n",
       "    .dataframe thead th {\n",
       "        text-align: right;\n",
       "    }\n",
       "</style>\n",
       "<table border=\"1\" class=\"dataframe\">\n",
       "  <thead>\n",
       "    <tr style=\"text-align: right;\">\n",
       "      <th></th>\n",
       "      <th>HE - Region level estimates_HLE</th>\n",
       "      <th>Entry Type</th>\n",
       "    </tr>\n",
       "  </thead>\n",
       "  <tbody>\n",
       "    <tr>\n",
       "      <th>0</th>\n",
       "      <td>Period</td>\n",
       "      <td>Dimension</td>\n",
       "    </tr>\n",
       "    <tr>\n",
       "      <th>1</th>\n",
       "      <td>Code</td>\n",
       "      <td>Dimension</td>\n",
       "    </tr>\n",
       "    <tr>\n",
       "      <th>2</th>\n",
       "      <td>Sex</td>\n",
       "      <td>Dimension</td>\n",
       "    </tr>\n",
       "    <tr>\n",
       "      <th>3</th>\n",
       "      <td>Age group</td>\n",
       "      <td>Dimension</td>\n",
       "    </tr>\n",
       "    <tr>\n",
       "      <th>4</th>\n",
       "      <td>Healthy Life Expectancy (HLE) _</td>\n",
       "      <td>Dimension</td>\n",
       "    </tr>\n",
       "    <tr>\n",
       "      <th>5</th>\n",
       "      <td>HLE Lower CI_</td>\n",
       "      <td>Dimension</td>\n",
       "    </tr>\n",
       "    <tr>\n",
       "      <th>6</th>\n",
       "      <td>HLE Upper CI_</td>\n",
       "      <td>Dimension</td>\n",
       "    </tr>\n",
       "    <tr>\n",
       "      <th>7</th>\n",
       "      <td>TransformationType</td>\n",
       "      <td>Dimension</td>\n",
       "    </tr>\n",
       "  </tbody>\n",
       "</table>\n",
       "</div>"
      ],
      "text/plain": [
       "   HE - Region level estimates_HLE Entry Type\n",
       "0                           Period  Dimension\n",
       "1                             Code  Dimension\n",
       "2                              Sex  Dimension\n",
       "3                        Age group  Dimension\n",
       "4  Healthy Life Expectancy (HLE) _  Dimension\n",
       "5                    HLE Lower CI_  Dimension\n",
       "6                    HLE Upper CI_  Dimension\n",
       "7               TransformationType  Dimension"
      ]
     },
     "metadata": {},
     "output_type": "display_data"
    }
   ],
   "source": [
    "codelist_cols = []\n",
    "dataframe_elements_collection = {}\n",
    "\n",
    "# Obtain all data elements (columns) from data outputs (tidy data):\n",
    "i = 0\n",
    "if boo_pythonNB_environment == True:\n",
    "    for key in dataframe_collection.keys():\n",
    "        codelist_cols.append((list(dataframe_collection[key].columns)))\n",
    "        printmd('**Extracted columns from dataset ' + key + \":**\", colour='Green')\n",
    "        printmd(codelist_cols[i], colour='Grey')  \n",
    "        i += 1\n",
    "    \n",
    "# Generate a collection of dataframes - default all entries to dimensions for time being intentionally...\n",
    "i = 0\n",
    "for key in dataframe_collection.keys():\n",
    "    for x in range(len(codelist_cols[i])):\n",
    "        df_components = pd.DataFrame(codelist_cols[i],columns=[key])\n",
    "    df_components['Entry Type']='Dimension'\n",
    "    dataframe_elements_collection[key] = df_components\n",
    "    i += 1\n",
    "\n",
    "# Display:\n",
    "i = 0\n",
    "for key in dataframe_elements_collection.keys():\n",
    "    printmd(\"\\n\" + \"=\"*100, colour='Grey')\n",
    "    printmd('Initial Component DataFrame for: ' + key + '.', colour='Blue')\n",
    "    printmd(\"=\"*100, colour='Grey')\n",
    "    #print(dataframe_elements_collection[key]) #Print like this for Logs...  \n",
    "    display(dataframe_elements_collection[key])\n",
    "    i += 1"
   ]
  },
  {
   "cell_type": "markdown",
   "metadata": {},
   "source": [
    "***Define the observations in the data item catalogues:***"
   ]
  },
  {
   "cell_type": "code",
   "execution_count": 326,
   "metadata": {},
   "outputs": [
    {
     "data": {
      "text/markdown": [
       "<span style='color:Grey'>\n",
       "===================================================================================================================</span>"
      ],
      "text/plain": [
       "<IPython.core.display.Markdown object>"
      ]
     },
     "metadata": {},
     "output_type": "display_data"
    },
    {
     "data": {
      "text/markdown": [
       "<span style='color:Red'>**WARNING!:** Please be AWARE that you should not proceed until the data items are correctly assigned as being either a Dimension or an Observation.</span>"
      ],
      "text/plain": [
       "<IPython.core.display.Markdown object>"
      ]
     },
     "metadata": {},
     "output_type": "display_data"
    },
    {
     "data": {
      "text/markdown": [
       "<span style='color:Red'>*If the results below show errors please fix by re-factoring your code and re-run.*</span>"
      ],
      "text/plain": [
       "<IPython.core.display.Markdown object>"
      ]
     },
     "metadata": {},
     "output_type": "display_data"
    },
    {
     "data": {
      "text/markdown": [
       "<span style='color:Grey'>\n",
       "===================================================================================================================</span>"
      ],
      "text/plain": [
       "<IPython.core.display.Markdown object>"
      ]
     },
     "metadata": {},
     "output_type": "display_data"
    },
    {
     "data": {
      "text/markdown": [
       "<span style='color:Grey'>\n",
       "====================================================================================================</span>"
      ],
      "text/plain": [
       "<IPython.core.display.Markdown object>"
      ]
     },
     "metadata": {},
     "output_type": "display_data"
    },
    {
     "data": {
      "text/markdown": [
       "<span style='color:Blue'>Revised Component DataFrame for: HE - Country level estimates_LE.</span>"
      ],
      "text/plain": [
       "<IPython.core.display.Markdown object>"
      ]
     },
     "metadata": {},
     "output_type": "display_data"
    },
    {
     "data": {
      "text/markdown": [
       "<span style='color:Grey'>====================================================================================================</span>"
      ],
      "text/plain": [
       "<IPython.core.display.Markdown object>"
      ]
     },
     "metadata": {},
     "output_type": "display_data"
    },
    {
     "data": {
      "text/html": [
       "<div>\n",
       "<style scoped>\n",
       "    .dataframe tbody tr th:only-of-type {\n",
       "        vertical-align: middle;\n",
       "    }\n",
       "\n",
       "    .dataframe tbody tr th {\n",
       "        vertical-align: top;\n",
       "    }\n",
       "\n",
       "    .dataframe thead th {\n",
       "        text-align: right;\n",
       "    }\n",
       "</style>\n",
       "<table border=\"1\" class=\"dataframe\">\n",
       "  <thead>\n",
       "    <tr style=\"text-align: right;\">\n",
       "      <th></th>\n",
       "      <th>HE - Country level estimates_LE</th>\n",
       "      <th>Entry Type</th>\n",
       "    </tr>\n",
       "  </thead>\n",
       "  <tbody>\n",
       "    <tr>\n",
       "      <th>0</th>\n",
       "      <td>Period</td>\n",
       "      <td>Dimension</td>\n",
       "    </tr>\n",
       "    <tr>\n",
       "      <th>1</th>\n",
       "      <td>Code</td>\n",
       "      <td>Dimension</td>\n",
       "    </tr>\n",
       "    <tr>\n",
       "      <th>2</th>\n",
       "      <td>Sex</td>\n",
       "      <td>Dimension</td>\n",
       "    </tr>\n",
       "    <tr>\n",
       "      <th>3</th>\n",
       "      <td>age group</td>\n",
       "      <td>Dimension</td>\n",
       "    </tr>\n",
       "    <tr>\n",
       "      <th>4</th>\n",
       "      <td>Life Expectancy (LE)_</td>\n",
       "      <td>Measure</td>\n",
       "    </tr>\n",
       "    <tr>\n",
       "      <th>5</th>\n",
       "      <td>LE Lower CI_</td>\n",
       "      <td>Observation</td>\n",
       "    </tr>\n",
       "    <tr>\n",
       "      <th>6</th>\n",
       "      <td>LE Upper CI_</td>\n",
       "      <td>Observation</td>\n",
       "    </tr>\n",
       "    <tr>\n",
       "      <th>7</th>\n",
       "      <td>TransformationType</td>\n",
       "      <td>Dimension</td>\n",
       "    </tr>\n",
       "  </tbody>\n",
       "</table>\n",
       "</div>"
      ],
      "text/plain": [
       "  HE - Country level estimates_LE   Entry Type\n",
       "0                          Period    Dimension\n",
       "1                            Code    Dimension\n",
       "2                             Sex    Dimension\n",
       "3                       age group    Dimension\n",
       "4           Life Expectancy (LE)_      Measure\n",
       "5                    LE Lower CI_  Observation\n",
       "6                    LE Upper CI_  Observation\n",
       "7              TransformationType    Dimension"
      ]
     },
     "metadata": {},
     "output_type": "display_data"
    },
    {
     "data": {
      "text/markdown": [
       "<span style='color:Grey'>\n",
       "====================================================================================================</span>"
      ],
      "text/plain": [
       "<IPython.core.display.Markdown object>"
      ]
     },
     "metadata": {},
     "output_type": "display_data"
    },
    {
     "data": {
      "text/markdown": [
       "<span style='color:Blue'>Revised Component DataFrame for: HE - Country level estimates_HLE.</span>"
      ],
      "text/plain": [
       "<IPython.core.display.Markdown object>"
      ]
     },
     "metadata": {},
     "output_type": "display_data"
    },
    {
     "data": {
      "text/markdown": [
       "<span style='color:Grey'>====================================================================================================</span>"
      ],
      "text/plain": [
       "<IPython.core.display.Markdown object>"
      ]
     },
     "metadata": {},
     "output_type": "display_data"
    },
    {
     "data": {
      "text/html": [
       "<div>\n",
       "<style scoped>\n",
       "    .dataframe tbody tr th:only-of-type {\n",
       "        vertical-align: middle;\n",
       "    }\n",
       "\n",
       "    .dataframe tbody tr th {\n",
       "        vertical-align: top;\n",
       "    }\n",
       "\n",
       "    .dataframe thead th {\n",
       "        text-align: right;\n",
       "    }\n",
       "</style>\n",
       "<table border=\"1\" class=\"dataframe\">\n",
       "  <thead>\n",
       "    <tr style=\"text-align: right;\">\n",
       "      <th></th>\n",
       "      <th>HE - Country level estimates_HLE</th>\n",
       "      <th>Entry Type</th>\n",
       "    </tr>\n",
       "  </thead>\n",
       "  <tbody>\n",
       "    <tr>\n",
       "      <th>0</th>\n",
       "      <td>Period</td>\n",
       "      <td>Dimension</td>\n",
       "    </tr>\n",
       "    <tr>\n",
       "      <th>1</th>\n",
       "      <td>Code</td>\n",
       "      <td>Dimension</td>\n",
       "    </tr>\n",
       "    <tr>\n",
       "      <th>2</th>\n",
       "      <td>Sex</td>\n",
       "      <td>Dimension</td>\n",
       "    </tr>\n",
       "    <tr>\n",
       "      <th>3</th>\n",
       "      <td>age group</td>\n",
       "      <td>Dimension</td>\n",
       "    </tr>\n",
       "    <tr>\n",
       "      <th>4</th>\n",
       "      <td>Healthy Life Expectancy (HLE) _</td>\n",
       "      <td>Measure</td>\n",
       "    </tr>\n",
       "    <tr>\n",
       "      <th>5</th>\n",
       "      <td>HLE Lower CI_</td>\n",
       "      <td>Observation</td>\n",
       "    </tr>\n",
       "    <tr>\n",
       "      <th>6</th>\n",
       "      <td>HLE Upper CI_</td>\n",
       "      <td>Observation</td>\n",
       "    </tr>\n",
       "    <tr>\n",
       "      <th>7</th>\n",
       "      <td>TransformationType</td>\n",
       "      <td>Dimension</td>\n",
       "    </tr>\n",
       "  </tbody>\n",
       "</table>\n",
       "</div>"
      ],
      "text/plain": [
       "  HE - Country level estimates_HLE   Entry Type\n",
       "0                           Period    Dimension\n",
       "1                             Code    Dimension\n",
       "2                              Sex    Dimension\n",
       "3                        age group    Dimension\n",
       "4  Healthy Life Expectancy (HLE) _      Measure\n",
       "5                    HLE Lower CI_  Observation\n",
       "6                    HLE Upper CI_  Observation\n",
       "7               TransformationType    Dimension"
      ]
     },
     "metadata": {},
     "output_type": "display_data"
    },
    {
     "data": {
      "text/markdown": [
       "<span style='color:Grey'>\n",
       "====================================================================================================</span>"
      ],
      "text/plain": [
       "<IPython.core.display.Markdown object>"
      ]
     },
     "metadata": {},
     "output_type": "display_data"
    },
    {
     "data": {
      "text/markdown": [
       "<span style='color:Blue'>Revised Component DataFrame for: HE - Region level estimates_LE.</span>"
      ],
      "text/plain": [
       "<IPython.core.display.Markdown object>"
      ]
     },
     "metadata": {},
     "output_type": "display_data"
    },
    {
     "data": {
      "text/markdown": [
       "<span style='color:Grey'>====================================================================================================</span>"
      ],
      "text/plain": [
       "<IPython.core.display.Markdown object>"
      ]
     },
     "metadata": {},
     "output_type": "display_data"
    },
    {
     "data": {
      "text/html": [
       "<div>\n",
       "<style scoped>\n",
       "    .dataframe tbody tr th:only-of-type {\n",
       "        vertical-align: middle;\n",
       "    }\n",
       "\n",
       "    .dataframe tbody tr th {\n",
       "        vertical-align: top;\n",
       "    }\n",
       "\n",
       "    .dataframe thead th {\n",
       "        text-align: right;\n",
       "    }\n",
       "</style>\n",
       "<table border=\"1\" class=\"dataframe\">\n",
       "  <thead>\n",
       "    <tr style=\"text-align: right;\">\n",
       "      <th></th>\n",
       "      <th>HE - Region level estimates_LE</th>\n",
       "      <th>Entry Type</th>\n",
       "    </tr>\n",
       "  </thead>\n",
       "  <tbody>\n",
       "    <tr>\n",
       "      <th>0</th>\n",
       "      <td>Period</td>\n",
       "      <td>Dimension</td>\n",
       "    </tr>\n",
       "    <tr>\n",
       "      <th>1</th>\n",
       "      <td>Code</td>\n",
       "      <td>Dimension</td>\n",
       "    </tr>\n",
       "    <tr>\n",
       "      <th>2</th>\n",
       "      <td>Sex</td>\n",
       "      <td>Dimension</td>\n",
       "    </tr>\n",
       "    <tr>\n",
       "      <th>3</th>\n",
       "      <td>Age group</td>\n",
       "      <td>Dimension</td>\n",
       "    </tr>\n",
       "    <tr>\n",
       "      <th>4</th>\n",
       "      <td>Life Expectancy (LE)_</td>\n",
       "      <td>Measure</td>\n",
       "    </tr>\n",
       "    <tr>\n",
       "      <th>5</th>\n",
       "      <td>LE Lower CI_</td>\n",
       "      <td>Observation</td>\n",
       "    </tr>\n",
       "    <tr>\n",
       "      <th>6</th>\n",
       "      <td>LE Upper CI_</td>\n",
       "      <td>Observation</td>\n",
       "    </tr>\n",
       "    <tr>\n",
       "      <th>7</th>\n",
       "      <td>TransformationType</td>\n",
       "      <td>Dimension</td>\n",
       "    </tr>\n",
       "  </tbody>\n",
       "</table>\n",
       "</div>"
      ],
      "text/plain": [
       "  HE - Region level estimates_LE   Entry Type\n",
       "0                         Period    Dimension\n",
       "1                           Code    Dimension\n",
       "2                            Sex    Dimension\n",
       "3                      Age group    Dimension\n",
       "4          Life Expectancy (LE)_      Measure\n",
       "5                   LE Lower CI_  Observation\n",
       "6                   LE Upper CI_  Observation\n",
       "7             TransformationType    Dimension"
      ]
     },
     "metadata": {},
     "output_type": "display_data"
    },
    {
     "data": {
      "text/markdown": [
       "<span style='color:Grey'>\n",
       "====================================================================================================</span>"
      ],
      "text/plain": [
       "<IPython.core.display.Markdown object>"
      ]
     },
     "metadata": {},
     "output_type": "display_data"
    },
    {
     "data": {
      "text/markdown": [
       "<span style='color:Blue'>Revised Component DataFrame for: HE - Region level estimates_HLE.</span>"
      ],
      "text/plain": [
       "<IPython.core.display.Markdown object>"
      ]
     },
     "metadata": {},
     "output_type": "display_data"
    },
    {
     "data": {
      "text/markdown": [
       "<span style='color:Grey'>====================================================================================================</span>"
      ],
      "text/plain": [
       "<IPython.core.display.Markdown object>"
      ]
     },
     "metadata": {},
     "output_type": "display_data"
    },
    {
     "data": {
      "text/html": [
       "<div>\n",
       "<style scoped>\n",
       "    .dataframe tbody tr th:only-of-type {\n",
       "        vertical-align: middle;\n",
       "    }\n",
       "\n",
       "    .dataframe tbody tr th {\n",
       "        vertical-align: top;\n",
       "    }\n",
       "\n",
       "    .dataframe thead th {\n",
       "        text-align: right;\n",
       "    }\n",
       "</style>\n",
       "<table border=\"1\" class=\"dataframe\">\n",
       "  <thead>\n",
       "    <tr style=\"text-align: right;\">\n",
       "      <th></th>\n",
       "      <th>HE - Region level estimates_HLE</th>\n",
       "      <th>Entry Type</th>\n",
       "    </tr>\n",
       "  </thead>\n",
       "  <tbody>\n",
       "    <tr>\n",
       "      <th>0</th>\n",
       "      <td>Period</td>\n",
       "      <td>Dimension</td>\n",
       "    </tr>\n",
       "    <tr>\n",
       "      <th>1</th>\n",
       "      <td>Code</td>\n",
       "      <td>Dimension</td>\n",
       "    </tr>\n",
       "    <tr>\n",
       "      <th>2</th>\n",
       "      <td>Sex</td>\n",
       "      <td>Dimension</td>\n",
       "    </tr>\n",
       "    <tr>\n",
       "      <th>3</th>\n",
       "      <td>Age group</td>\n",
       "      <td>Dimension</td>\n",
       "    </tr>\n",
       "    <tr>\n",
       "      <th>4</th>\n",
       "      <td>Healthy Life Expectancy (HLE) _</td>\n",
       "      <td>Measure</td>\n",
       "    </tr>\n",
       "    <tr>\n",
       "      <th>5</th>\n",
       "      <td>HLE Lower CI_</td>\n",
       "      <td>Observation</td>\n",
       "    </tr>\n",
       "    <tr>\n",
       "      <th>6</th>\n",
       "      <td>HLE Upper CI_</td>\n",
       "      <td>Observation</td>\n",
       "    </tr>\n",
       "    <tr>\n",
       "      <th>7</th>\n",
       "      <td>TransformationType</td>\n",
       "      <td>Dimension</td>\n",
       "    </tr>\n",
       "  </tbody>\n",
       "</table>\n",
       "</div>"
      ],
      "text/plain": [
       "   HE - Region level estimates_HLE   Entry Type\n",
       "0                           Period    Dimension\n",
       "1                             Code    Dimension\n",
       "2                              Sex    Dimension\n",
       "3                        Age group    Dimension\n",
       "4  Healthy Life Expectancy (HLE) _      Measure\n",
       "5                    HLE Lower CI_  Observation\n",
       "6                    HLE Upper CI_  Observation\n",
       "7               TransformationType    Dimension"
      ]
     },
     "metadata": {},
     "output_type": "display_data"
    }
   ],
   "source": [
    "# Manual, non-automatable step:\n",
    "\n",
    "# This could / shuld be wrapped in a function / component wrapper etc...\n",
    "# Using loop as all transforms in this example use same data elements (columns):\n",
    "for key in dataframe_elements_collection.keys():\n",
    "    dataframe_elements_collection[key].loc[dataframe_elements_collection[key][key] == 'Life Expectancy (LE)_', ['Entry Type']] = 'Measure'\n",
    "    dataframe_elements_collection[key].loc[dataframe_elements_collection[key][key] == 'LE Lower CI_', ['Entry Type']] = 'Observation'\n",
    "    dataframe_elements_collection[key].loc[dataframe_elements_collection[key][key] == 'LE Upper CI_', ['Entry Type']] = 'Observation'\n",
    "    dataframe_elements_collection[key].loc[dataframe_elements_collection[key][key] == 'Healthy Life Expectancy (HLE) _', ['Entry Type']] = 'Measure'\n",
    "    dataframe_elements_collection[key].loc[dataframe_elements_collection[key][key] == 'HLE Lower CI_', ['Entry Type']] = 'Observation'\n",
    "    dataframe_elements_collection[key].loc[dataframe_elements_collection[key][key] == 'HLE Upper CI_', ['Entry Type']] = 'Observation'\n",
    "    #dataframe_elements_collection[key].loc[dataframe_elements_collection[key][key] == 'Proportion of Life Spent in \"Good\" Health (%)_', ['Entry Type']] = 'Observation'\n",
    "\n",
    "\n",
    "# Render the Results:\n",
    "i = 0\n",
    "printmd(\"\\n\" + \"=\"*115, colour='Grey')\n",
    "printmd('**WARNING!:**' + ' Please be AWARE that you should not proceed until the data items are correctly assigned as being either a Dimension or an Observation.', colour='Red')\n",
    "printmd('*If the results below show errors please fix by re-factoring your code and re-run.*', colour='Red')\n",
    "printmd(\"\\n\" + \"=\"*115, colour='Grey')\n",
    "for key in dataframe_elements_collection.keys():\n",
    "    printmd(\"\\n\" + \"=\"*100, colour='Grey')\n",
    "    printmd('Revised Component DataFrame for: ' + key + '.', colour='Blue')\n",
    "    printmd(\"=\"*100, colour='Grey')\n",
    "    #print(dataframe_elements_collection[key]) #Print like this for Logs...  \n",
    "    display(dataframe_elements_collection[key])\n",
    "    i += 1\n"
   ]
  },
  {
   "cell_type": "markdown",
   "metadata": {},
   "source": [
    "***Once the Entry Types of Dimension / Observation have been correctly assigned we can proceed...***\n",
    "\n",
    "**Creating the Codelists:**"
   ]
  },
  {
   "cell_type": "code",
   "execution_count": 327,
   "metadata": {},
   "outputs": [
    {
     "data": {
      "text/markdown": [
       "<span style='color:Grey'>\n",
       "====================================================================================================</span>"
      ],
      "text/plain": [
       "<IPython.core.display.Markdown object>"
      ]
     },
     "metadata": {},
     "output_type": "display_data"
    },
    {
     "data": {
      "text/markdown": [
       "<span style='color:Blue'>Identified Dimension Entries:</span>"
      ],
      "text/plain": [
       "<IPython.core.display.Markdown object>"
      ]
     },
     "metadata": {},
     "output_type": "display_data"
    },
    {
     "data": {
      "text/markdown": [
       "<span style='color:Grey'>====================================================================================================</span>"
      ],
      "text/plain": [
       "<IPython.core.display.Markdown object>"
      ]
     },
     "metadata": {},
     "output_type": "display_data"
    },
    {
     "data": {
      "text/html": [
       "<div>\n",
       "<style scoped>\n",
       "    .dataframe tbody tr th:only-of-type {\n",
       "        vertical-align: middle;\n",
       "    }\n",
       "\n",
       "    .dataframe tbody tr th {\n",
       "        vertical-align: top;\n",
       "    }\n",
       "\n",
       "    .dataframe thead th {\n",
       "        text-align: right;\n",
       "    }\n",
       "</style>\n",
       "<table border=\"1\" class=\"dataframe\">\n",
       "  <thead>\n",
       "    <tr style=\"text-align: right;\">\n",
       "      <th></th>\n",
       "      <th>HE - Country level estimates_LE</th>\n",
       "      <th>Entry Type</th>\n",
       "    </tr>\n",
       "  </thead>\n",
       "  <tbody>\n",
       "    <tr>\n",
       "      <th>0</th>\n",
       "      <td>Period</td>\n",
       "      <td>Dimension</td>\n",
       "    </tr>\n",
       "    <tr>\n",
       "      <th>1</th>\n",
       "      <td>Code</td>\n",
       "      <td>Dimension</td>\n",
       "    </tr>\n",
       "    <tr>\n",
       "      <th>2</th>\n",
       "      <td>Sex</td>\n",
       "      <td>Dimension</td>\n",
       "    </tr>\n",
       "    <tr>\n",
       "      <th>3</th>\n",
       "      <td>age group</td>\n",
       "      <td>Dimension</td>\n",
       "    </tr>\n",
       "    <tr>\n",
       "      <th>7</th>\n",
       "      <td>TransformationType</td>\n",
       "      <td>Dimension</td>\n",
       "    </tr>\n",
       "  </tbody>\n",
       "</table>\n",
       "</div>"
      ],
      "text/plain": [
       "  HE - Country level estimates_LE Entry Type\n",
       "0                          Period  Dimension\n",
       "1                            Code  Dimension\n",
       "2                             Sex  Dimension\n",
       "3                       age group  Dimension\n",
       "7              TransformationType  Dimension"
      ]
     },
     "metadata": {},
     "output_type": "display_data"
    },
    {
     "data": {
      "text/html": [
       "<div>\n",
       "<style scoped>\n",
       "    .dataframe tbody tr th:only-of-type {\n",
       "        vertical-align: middle;\n",
       "    }\n",
       "\n",
       "    .dataframe tbody tr th {\n",
       "        vertical-align: top;\n",
       "    }\n",
       "\n",
       "    .dataframe thead th {\n",
       "        text-align: right;\n",
       "    }\n",
       "</style>\n",
       "<table border=\"1\" class=\"dataframe\">\n",
       "  <thead>\n",
       "    <tr style=\"text-align: right;\">\n",
       "      <th></th>\n",
       "      <th>HE - Country level estimates_HLE</th>\n",
       "      <th>Entry Type</th>\n",
       "    </tr>\n",
       "  </thead>\n",
       "  <tbody>\n",
       "    <tr>\n",
       "      <th>0</th>\n",
       "      <td>Period</td>\n",
       "      <td>Dimension</td>\n",
       "    </tr>\n",
       "    <tr>\n",
       "      <th>1</th>\n",
       "      <td>Code</td>\n",
       "      <td>Dimension</td>\n",
       "    </tr>\n",
       "    <tr>\n",
       "      <th>2</th>\n",
       "      <td>Sex</td>\n",
       "      <td>Dimension</td>\n",
       "    </tr>\n",
       "    <tr>\n",
       "      <th>3</th>\n",
       "      <td>age group</td>\n",
       "      <td>Dimension</td>\n",
       "    </tr>\n",
       "    <tr>\n",
       "      <th>7</th>\n",
       "      <td>TransformationType</td>\n",
       "      <td>Dimension</td>\n",
       "    </tr>\n",
       "  </tbody>\n",
       "</table>\n",
       "</div>"
      ],
      "text/plain": [
       "  HE - Country level estimates_HLE Entry Type\n",
       "0                           Period  Dimension\n",
       "1                             Code  Dimension\n",
       "2                              Sex  Dimension\n",
       "3                        age group  Dimension\n",
       "7               TransformationType  Dimension"
      ]
     },
     "metadata": {},
     "output_type": "display_data"
    },
    {
     "data": {
      "text/html": [
       "<div>\n",
       "<style scoped>\n",
       "    .dataframe tbody tr th:only-of-type {\n",
       "        vertical-align: middle;\n",
       "    }\n",
       "\n",
       "    .dataframe tbody tr th {\n",
       "        vertical-align: top;\n",
       "    }\n",
       "\n",
       "    .dataframe thead th {\n",
       "        text-align: right;\n",
       "    }\n",
       "</style>\n",
       "<table border=\"1\" class=\"dataframe\">\n",
       "  <thead>\n",
       "    <tr style=\"text-align: right;\">\n",
       "      <th></th>\n",
       "      <th>HE - Region level estimates_LE</th>\n",
       "      <th>Entry Type</th>\n",
       "    </tr>\n",
       "  </thead>\n",
       "  <tbody>\n",
       "    <tr>\n",
       "      <th>0</th>\n",
       "      <td>Period</td>\n",
       "      <td>Dimension</td>\n",
       "    </tr>\n",
       "    <tr>\n",
       "      <th>1</th>\n",
       "      <td>Code</td>\n",
       "      <td>Dimension</td>\n",
       "    </tr>\n",
       "    <tr>\n",
       "      <th>2</th>\n",
       "      <td>Sex</td>\n",
       "      <td>Dimension</td>\n",
       "    </tr>\n",
       "    <tr>\n",
       "      <th>3</th>\n",
       "      <td>Age group</td>\n",
       "      <td>Dimension</td>\n",
       "    </tr>\n",
       "    <tr>\n",
       "      <th>7</th>\n",
       "      <td>TransformationType</td>\n",
       "      <td>Dimension</td>\n",
       "    </tr>\n",
       "  </tbody>\n",
       "</table>\n",
       "</div>"
      ],
      "text/plain": [
       "  HE - Region level estimates_LE Entry Type\n",
       "0                         Period  Dimension\n",
       "1                           Code  Dimension\n",
       "2                            Sex  Dimension\n",
       "3                      Age group  Dimension\n",
       "7             TransformationType  Dimension"
      ]
     },
     "metadata": {},
     "output_type": "display_data"
    },
    {
     "data": {
      "text/html": [
       "<div>\n",
       "<style scoped>\n",
       "    .dataframe tbody tr th:only-of-type {\n",
       "        vertical-align: middle;\n",
       "    }\n",
       "\n",
       "    .dataframe tbody tr th {\n",
       "        vertical-align: top;\n",
       "    }\n",
       "\n",
       "    .dataframe thead th {\n",
       "        text-align: right;\n",
       "    }\n",
       "</style>\n",
       "<table border=\"1\" class=\"dataframe\">\n",
       "  <thead>\n",
       "    <tr style=\"text-align: right;\">\n",
       "      <th></th>\n",
       "      <th>HE - Region level estimates_HLE</th>\n",
       "      <th>Entry Type</th>\n",
       "    </tr>\n",
       "  </thead>\n",
       "  <tbody>\n",
       "    <tr>\n",
       "      <th>0</th>\n",
       "      <td>Period</td>\n",
       "      <td>Dimension</td>\n",
       "    </tr>\n",
       "    <tr>\n",
       "      <th>1</th>\n",
       "      <td>Code</td>\n",
       "      <td>Dimension</td>\n",
       "    </tr>\n",
       "    <tr>\n",
       "      <th>2</th>\n",
       "      <td>Sex</td>\n",
       "      <td>Dimension</td>\n",
       "    </tr>\n",
       "    <tr>\n",
       "      <th>3</th>\n",
       "      <td>Age group</td>\n",
       "      <td>Dimension</td>\n",
       "    </tr>\n",
       "    <tr>\n",
       "      <th>7</th>\n",
       "      <td>TransformationType</td>\n",
       "      <td>Dimension</td>\n",
       "    </tr>\n",
       "  </tbody>\n",
       "</table>\n",
       "</div>"
      ],
      "text/plain": [
       "  HE - Region level estimates_HLE Entry Type\n",
       "0                          Period  Dimension\n",
       "1                            Code  Dimension\n",
       "2                             Sex  Dimension\n",
       "3                       Age group  Dimension\n",
       "7              TransformationType  Dimension"
      ]
     },
     "metadata": {},
     "output_type": "display_data"
    },
    {
     "data": {
      "text/markdown": [
       "<span style='color:Grey'>\n",
       "====================================================================================================</span>"
      ],
      "text/plain": [
       "<IPython.core.display.Markdown object>"
      ]
     },
     "metadata": {},
     "output_type": "display_data"
    },
    {
     "data": {
      "text/markdown": [
       "<span style='color:Blue'>Codelists DataFrame for: HE - Country level estimates_LE.</span>"
      ],
      "text/plain": [
       "<IPython.core.display.Markdown object>"
      ]
     },
     "metadata": {},
     "output_type": "display_data"
    },
    {
     "data": {
      "text/markdown": [
       "<span style='color:Grey'>====================================================================================================</span>"
      ],
      "text/plain": [
       "<IPython.core.display.Markdown object>"
      ]
     },
     "metadata": {},
     "output_type": "display_data"
    },
    {
     "data": {
      "text/html": [
       "<div>\n",
       "<style scoped>\n",
       "    .dataframe tbody tr th:only-of-type {\n",
       "        vertical-align: middle;\n",
       "    }\n",
       "\n",
       "    .dataframe tbody tr th {\n",
       "        vertical-align: top;\n",
       "    }\n",
       "\n",
       "    .dataframe thead th {\n",
       "        text-align: right;\n",
       "    }\n",
       "</style>\n",
       "<table border=\"1\" class=\"dataframe\">\n",
       "  <thead>\n",
       "    <tr style=\"text-align: right;\">\n",
       "      <th></th>\n",
       "      <th>Period</th>\n",
       "      <th>Code</th>\n",
       "      <th>Sex</th>\n",
       "      <th>age group</th>\n",
       "      <th>TransformationType</th>\n",
       "    </tr>\n",
       "  </thead>\n",
       "  <tbody>\n",
       "    <tr>\n",
       "      <th>0</th>\n",
       "      <td>gregorian-interval/2009-03-31T00:00:00/P3Y</td>\n",
       "      <td>E92000001</td>\n",
       "      <td>M</td>\n",
       "      <td>lessthan1</td>\n",
       "      <td>LE</td>\n",
       "    </tr>\n",
       "    <tr>\n",
       "      <th>1</th>\n",
       "      <td>gregorian-interval/2010-03-31T00:00:00/P3Y</td>\n",
       "      <td>K02000001</td>\n",
       "      <td>F</td>\n",
       "      <td>01-04</td>\n",
       "      <td>NaN</td>\n",
       "    </tr>\n",
       "    <tr>\n",
       "      <th>2</th>\n",
       "      <td>gregorian-interval/2011-03-31T00:00:00/P3Y</td>\n",
       "      <td>N92000002</td>\n",
       "      <td>NaN</td>\n",
       "      <td>05-09</td>\n",
       "      <td>NaN</td>\n",
       "    </tr>\n",
       "    <tr>\n",
       "      <th>3</th>\n",
       "      <td>gregorian-interval/2012-03-31T00:00:00/P3Y</td>\n",
       "      <td>S92000003</td>\n",
       "      <td>NaN</td>\n",
       "      <td>10-14</td>\n",
       "      <td>NaN</td>\n",
       "    </tr>\n",
       "    <tr>\n",
       "      <th>4</th>\n",
       "      <td>gregorian-interval/2013-03-31T00:00:00/P3Y</td>\n",
       "      <td>W92000004</td>\n",
       "      <td>NaN</td>\n",
       "      <td>15-19</td>\n",
       "      <td>NaN</td>\n",
       "    </tr>\n",
       "    <tr>\n",
       "      <th>5</th>\n",
       "      <td>gregorian-interval/2014-03-31T00:00:00/P3Y</td>\n",
       "      <td>NaN</td>\n",
       "      <td>NaN</td>\n",
       "      <td>20-24</td>\n",
       "      <td>NaN</td>\n",
       "    </tr>\n",
       "    <tr>\n",
       "      <th>6</th>\n",
       "      <td>gregorian-interval/2015-03-31T00:00:00/P3Y</td>\n",
       "      <td>NaN</td>\n",
       "      <td>NaN</td>\n",
       "      <td>25-29</td>\n",
       "      <td>NaN</td>\n",
       "    </tr>\n",
       "    <tr>\n",
       "      <th>7</th>\n",
       "      <td>gregorian-interval/2016-03-31T00:00:00/P3Y</td>\n",
       "      <td>NaN</td>\n",
       "      <td>NaN</td>\n",
       "      <td>30-34</td>\n",
       "      <td>NaN</td>\n",
       "    </tr>\n",
       "    <tr>\n",
       "      <th>8</th>\n",
       "      <td>NaN</td>\n",
       "      <td>NaN</td>\n",
       "      <td>NaN</td>\n",
       "      <td>35-39</td>\n",
       "      <td>NaN</td>\n",
       "    </tr>\n",
       "    <tr>\n",
       "      <th>9</th>\n",
       "      <td>NaN</td>\n",
       "      <td>NaN</td>\n",
       "      <td>NaN</td>\n",
       "      <td>40-44</td>\n",
       "      <td>NaN</td>\n",
       "    </tr>\n",
       "    <tr>\n",
       "      <th>10</th>\n",
       "      <td>NaN</td>\n",
       "      <td>NaN</td>\n",
       "      <td>NaN</td>\n",
       "      <td>45-49</td>\n",
       "      <td>NaN</td>\n",
       "    </tr>\n",
       "    <tr>\n",
       "      <th>11</th>\n",
       "      <td>NaN</td>\n",
       "      <td>NaN</td>\n",
       "      <td>NaN</td>\n",
       "      <td>50-54</td>\n",
       "      <td>NaN</td>\n",
       "    </tr>\n",
       "    <tr>\n",
       "      <th>12</th>\n",
       "      <td>NaN</td>\n",
       "      <td>NaN</td>\n",
       "      <td>NaN</td>\n",
       "      <td>55-59</td>\n",
       "      <td>NaN</td>\n",
       "    </tr>\n",
       "    <tr>\n",
       "      <th>13</th>\n",
       "      <td>NaN</td>\n",
       "      <td>NaN</td>\n",
       "      <td>NaN</td>\n",
       "      <td>60-64</td>\n",
       "      <td>NaN</td>\n",
       "    </tr>\n",
       "    <tr>\n",
       "      <th>14</th>\n",
       "      <td>NaN</td>\n",
       "      <td>NaN</td>\n",
       "      <td>NaN</td>\n",
       "      <td>65-69</td>\n",
       "      <td>NaN</td>\n",
       "    </tr>\n",
       "    <tr>\n",
       "      <th>15</th>\n",
       "      <td>NaN</td>\n",
       "      <td>NaN</td>\n",
       "      <td>NaN</td>\n",
       "      <td>70-74</td>\n",
       "      <td>NaN</td>\n",
       "    </tr>\n",
       "    <tr>\n",
       "      <th>16</th>\n",
       "      <td>NaN</td>\n",
       "      <td>NaN</td>\n",
       "      <td>NaN</td>\n",
       "      <td>75-79</td>\n",
       "      <td>NaN</td>\n",
       "    </tr>\n",
       "    <tr>\n",
       "      <th>17</th>\n",
       "      <td>NaN</td>\n",
       "      <td>NaN</td>\n",
       "      <td>NaN</td>\n",
       "      <td>80-84</td>\n",
       "      <td>NaN</td>\n",
       "    </tr>\n",
       "    <tr>\n",
       "      <th>18</th>\n",
       "      <td>NaN</td>\n",
       "      <td>NaN</td>\n",
       "      <td>NaN</td>\n",
       "      <td>85-89</td>\n",
       "      <td>NaN</td>\n",
       "    </tr>\n",
       "    <tr>\n",
       "      <th>19</th>\n",
       "      <td>NaN</td>\n",
       "      <td>NaN</td>\n",
       "      <td>NaN</td>\n",
       "      <td>90plus</td>\n",
       "      <td>NaN</td>\n",
       "    </tr>\n",
       "  </tbody>\n",
       "</table>\n",
       "</div>"
      ],
      "text/plain": [
       "                                        Period       Code  Sex  age group  \\\n",
       "0   gregorian-interval/2009-03-31T00:00:00/P3Y  E92000001    M  lessthan1   \n",
       "1   gregorian-interval/2010-03-31T00:00:00/P3Y  K02000001    F      01-04   \n",
       "2   gregorian-interval/2011-03-31T00:00:00/P3Y  N92000002  NaN      05-09   \n",
       "3   gregorian-interval/2012-03-31T00:00:00/P3Y  S92000003  NaN      10-14   \n",
       "4   gregorian-interval/2013-03-31T00:00:00/P3Y  W92000004  NaN      15-19   \n",
       "5   gregorian-interval/2014-03-31T00:00:00/P3Y        NaN  NaN      20-24   \n",
       "6   gregorian-interval/2015-03-31T00:00:00/P3Y        NaN  NaN      25-29   \n",
       "7   gregorian-interval/2016-03-31T00:00:00/P3Y        NaN  NaN      30-34   \n",
       "8                                          NaN        NaN  NaN      35-39   \n",
       "9                                          NaN        NaN  NaN      40-44   \n",
       "10                                         NaN        NaN  NaN      45-49   \n",
       "11                                         NaN        NaN  NaN      50-54   \n",
       "12                                         NaN        NaN  NaN      55-59   \n",
       "13                                         NaN        NaN  NaN      60-64   \n",
       "14                                         NaN        NaN  NaN      65-69   \n",
       "15                                         NaN        NaN  NaN      70-74   \n",
       "16                                         NaN        NaN  NaN      75-79   \n",
       "17                                         NaN        NaN  NaN      80-84   \n",
       "18                                         NaN        NaN  NaN      85-89   \n",
       "19                                         NaN        NaN  NaN     90plus   \n",
       "\n",
       "   TransformationType  \n",
       "0                  LE  \n",
       "1                 NaN  \n",
       "2                 NaN  \n",
       "3                 NaN  \n",
       "4                 NaN  \n",
       "5                 NaN  \n",
       "6                 NaN  \n",
       "7                 NaN  \n",
       "8                 NaN  \n",
       "9                 NaN  \n",
       "10                NaN  \n",
       "11                NaN  \n",
       "12                NaN  \n",
       "13                NaN  \n",
       "14                NaN  \n",
       "15                NaN  \n",
       "16                NaN  \n",
       "17                NaN  \n",
       "18                NaN  \n",
       "19                NaN  "
      ]
     },
     "metadata": {},
     "output_type": "display_data"
    },
    {
     "data": {
      "text/markdown": [
       "<span style='color:Grey'>\n",
       "====================================================================================================</span>"
      ],
      "text/plain": [
       "<IPython.core.display.Markdown object>"
      ]
     },
     "metadata": {},
     "output_type": "display_data"
    },
    {
     "data": {
      "text/markdown": [
       "<span style='color:Blue'>Codelists DataFrame for: HE - Country level estimates_HLE.</span>"
      ],
      "text/plain": [
       "<IPython.core.display.Markdown object>"
      ]
     },
     "metadata": {},
     "output_type": "display_data"
    },
    {
     "data": {
      "text/markdown": [
       "<span style='color:Grey'>====================================================================================================</span>"
      ],
      "text/plain": [
       "<IPython.core.display.Markdown object>"
      ]
     },
     "metadata": {},
     "output_type": "display_data"
    },
    {
     "data": {
      "text/html": [
       "<div>\n",
       "<style scoped>\n",
       "    .dataframe tbody tr th:only-of-type {\n",
       "        vertical-align: middle;\n",
       "    }\n",
       "\n",
       "    .dataframe tbody tr th {\n",
       "        vertical-align: top;\n",
       "    }\n",
       "\n",
       "    .dataframe thead th {\n",
       "        text-align: right;\n",
       "    }\n",
       "</style>\n",
       "<table border=\"1\" class=\"dataframe\">\n",
       "  <thead>\n",
       "    <tr style=\"text-align: right;\">\n",
       "      <th></th>\n",
       "      <th>Period</th>\n",
       "      <th>Code</th>\n",
       "      <th>Sex</th>\n",
       "      <th>age group</th>\n",
       "      <th>TransformationType</th>\n",
       "    </tr>\n",
       "  </thead>\n",
       "  <tbody>\n",
       "    <tr>\n",
       "      <th>0</th>\n",
       "      <td>gregorian-interval/2009-03-31T00:00:00/P3Y</td>\n",
       "      <td>E92000001</td>\n",
       "      <td>M</td>\n",
       "      <td>lessthan1</td>\n",
       "      <td>HLE</td>\n",
       "    </tr>\n",
       "    <tr>\n",
       "      <th>1</th>\n",
       "      <td>gregorian-interval/2010-03-31T00:00:00/P3Y</td>\n",
       "      <td>K02000001</td>\n",
       "      <td>F</td>\n",
       "      <td>01-04</td>\n",
       "      <td>NaN</td>\n",
       "    </tr>\n",
       "    <tr>\n",
       "      <th>2</th>\n",
       "      <td>gregorian-interval/2011-03-31T00:00:00/P3Y</td>\n",
       "      <td>N92000002</td>\n",
       "      <td>NaN</td>\n",
       "      <td>05-09</td>\n",
       "      <td>NaN</td>\n",
       "    </tr>\n",
       "    <tr>\n",
       "      <th>3</th>\n",
       "      <td>gregorian-interval/2012-03-31T00:00:00/P3Y</td>\n",
       "      <td>S92000003</td>\n",
       "      <td>NaN</td>\n",
       "      <td>10-14</td>\n",
       "      <td>NaN</td>\n",
       "    </tr>\n",
       "    <tr>\n",
       "      <th>4</th>\n",
       "      <td>gregorian-interval/2013-03-31T00:00:00/P3Y</td>\n",
       "      <td>W92000004</td>\n",
       "      <td>NaN</td>\n",
       "      <td>15-19</td>\n",
       "      <td>NaN</td>\n",
       "    </tr>\n",
       "    <tr>\n",
       "      <th>5</th>\n",
       "      <td>gregorian-interval/2014-03-31T00:00:00/P3Y</td>\n",
       "      <td>NaN</td>\n",
       "      <td>NaN</td>\n",
       "      <td>20-24</td>\n",
       "      <td>NaN</td>\n",
       "    </tr>\n",
       "    <tr>\n",
       "      <th>6</th>\n",
       "      <td>gregorian-interval/2015-03-31T00:00:00/P3Y</td>\n",
       "      <td>NaN</td>\n",
       "      <td>NaN</td>\n",
       "      <td>25-29</td>\n",
       "      <td>NaN</td>\n",
       "    </tr>\n",
       "    <tr>\n",
       "      <th>7</th>\n",
       "      <td>gregorian-interval/2016-03-31T00:00:00/P3Y</td>\n",
       "      <td>NaN</td>\n",
       "      <td>NaN</td>\n",
       "      <td>30-34</td>\n",
       "      <td>NaN</td>\n",
       "    </tr>\n",
       "    <tr>\n",
       "      <th>8</th>\n",
       "      <td>NaN</td>\n",
       "      <td>NaN</td>\n",
       "      <td>NaN</td>\n",
       "      <td>35-39</td>\n",
       "      <td>NaN</td>\n",
       "    </tr>\n",
       "    <tr>\n",
       "      <th>9</th>\n",
       "      <td>NaN</td>\n",
       "      <td>NaN</td>\n",
       "      <td>NaN</td>\n",
       "      <td>40-44</td>\n",
       "      <td>NaN</td>\n",
       "    </tr>\n",
       "    <tr>\n",
       "      <th>10</th>\n",
       "      <td>NaN</td>\n",
       "      <td>NaN</td>\n",
       "      <td>NaN</td>\n",
       "      <td>45-49</td>\n",
       "      <td>NaN</td>\n",
       "    </tr>\n",
       "    <tr>\n",
       "      <th>11</th>\n",
       "      <td>NaN</td>\n",
       "      <td>NaN</td>\n",
       "      <td>NaN</td>\n",
       "      <td>50-54</td>\n",
       "      <td>NaN</td>\n",
       "    </tr>\n",
       "    <tr>\n",
       "      <th>12</th>\n",
       "      <td>NaN</td>\n",
       "      <td>NaN</td>\n",
       "      <td>NaN</td>\n",
       "      <td>55-59</td>\n",
       "      <td>NaN</td>\n",
       "    </tr>\n",
       "    <tr>\n",
       "      <th>13</th>\n",
       "      <td>NaN</td>\n",
       "      <td>NaN</td>\n",
       "      <td>NaN</td>\n",
       "      <td>60-64</td>\n",
       "      <td>NaN</td>\n",
       "    </tr>\n",
       "    <tr>\n",
       "      <th>14</th>\n",
       "      <td>NaN</td>\n",
       "      <td>NaN</td>\n",
       "      <td>NaN</td>\n",
       "      <td>65-69</td>\n",
       "      <td>NaN</td>\n",
       "    </tr>\n",
       "    <tr>\n",
       "      <th>15</th>\n",
       "      <td>NaN</td>\n",
       "      <td>NaN</td>\n",
       "      <td>NaN</td>\n",
       "      <td>70-74</td>\n",
       "      <td>NaN</td>\n",
       "    </tr>\n",
       "    <tr>\n",
       "      <th>16</th>\n",
       "      <td>NaN</td>\n",
       "      <td>NaN</td>\n",
       "      <td>NaN</td>\n",
       "      <td>75-79</td>\n",
       "      <td>NaN</td>\n",
       "    </tr>\n",
       "    <tr>\n",
       "      <th>17</th>\n",
       "      <td>NaN</td>\n",
       "      <td>NaN</td>\n",
       "      <td>NaN</td>\n",
       "      <td>80-84</td>\n",
       "      <td>NaN</td>\n",
       "    </tr>\n",
       "    <tr>\n",
       "      <th>18</th>\n",
       "      <td>NaN</td>\n",
       "      <td>NaN</td>\n",
       "      <td>NaN</td>\n",
       "      <td>85-89</td>\n",
       "      <td>NaN</td>\n",
       "    </tr>\n",
       "    <tr>\n",
       "      <th>19</th>\n",
       "      <td>NaN</td>\n",
       "      <td>NaN</td>\n",
       "      <td>NaN</td>\n",
       "      <td>90plus</td>\n",
       "      <td>NaN</td>\n",
       "    </tr>\n",
       "  </tbody>\n",
       "</table>\n",
       "</div>"
      ],
      "text/plain": [
       "                                        Period       Code  Sex  age group  \\\n",
       "0   gregorian-interval/2009-03-31T00:00:00/P3Y  E92000001    M  lessthan1   \n",
       "1   gregorian-interval/2010-03-31T00:00:00/P3Y  K02000001    F      01-04   \n",
       "2   gregorian-interval/2011-03-31T00:00:00/P3Y  N92000002  NaN      05-09   \n",
       "3   gregorian-interval/2012-03-31T00:00:00/P3Y  S92000003  NaN      10-14   \n",
       "4   gregorian-interval/2013-03-31T00:00:00/P3Y  W92000004  NaN      15-19   \n",
       "5   gregorian-interval/2014-03-31T00:00:00/P3Y        NaN  NaN      20-24   \n",
       "6   gregorian-interval/2015-03-31T00:00:00/P3Y        NaN  NaN      25-29   \n",
       "7   gregorian-interval/2016-03-31T00:00:00/P3Y        NaN  NaN      30-34   \n",
       "8                                          NaN        NaN  NaN      35-39   \n",
       "9                                          NaN        NaN  NaN      40-44   \n",
       "10                                         NaN        NaN  NaN      45-49   \n",
       "11                                         NaN        NaN  NaN      50-54   \n",
       "12                                         NaN        NaN  NaN      55-59   \n",
       "13                                         NaN        NaN  NaN      60-64   \n",
       "14                                         NaN        NaN  NaN      65-69   \n",
       "15                                         NaN        NaN  NaN      70-74   \n",
       "16                                         NaN        NaN  NaN      75-79   \n",
       "17                                         NaN        NaN  NaN      80-84   \n",
       "18                                         NaN        NaN  NaN      85-89   \n",
       "19                                         NaN        NaN  NaN     90plus   \n",
       "\n",
       "   TransformationType  \n",
       "0                 HLE  \n",
       "1                 NaN  \n",
       "2                 NaN  \n",
       "3                 NaN  \n",
       "4                 NaN  \n",
       "5                 NaN  \n",
       "6                 NaN  \n",
       "7                 NaN  \n",
       "8                 NaN  \n",
       "9                 NaN  \n",
       "10                NaN  \n",
       "11                NaN  \n",
       "12                NaN  \n",
       "13                NaN  \n",
       "14                NaN  \n",
       "15                NaN  \n",
       "16                NaN  \n",
       "17                NaN  \n",
       "18                NaN  \n",
       "19                NaN  "
      ]
     },
     "metadata": {},
     "output_type": "display_data"
    },
    {
     "data": {
      "text/markdown": [
       "<span style='color:Grey'>\n",
       "====================================================================================================</span>"
      ],
      "text/plain": [
       "<IPython.core.display.Markdown object>"
      ]
     },
     "metadata": {},
     "output_type": "display_data"
    },
    {
     "data": {
      "text/markdown": [
       "<span style='color:Blue'>Codelists DataFrame for: HE - Region level estimates_LE.</span>"
      ],
      "text/plain": [
       "<IPython.core.display.Markdown object>"
      ]
     },
     "metadata": {},
     "output_type": "display_data"
    },
    {
     "data": {
      "text/markdown": [
       "<span style='color:Grey'>====================================================================================================</span>"
      ],
      "text/plain": [
       "<IPython.core.display.Markdown object>"
      ]
     },
     "metadata": {},
     "output_type": "display_data"
    },
    {
     "data": {
      "text/html": [
       "<div>\n",
       "<style scoped>\n",
       "    .dataframe tbody tr th:only-of-type {\n",
       "        vertical-align: middle;\n",
       "    }\n",
       "\n",
       "    .dataframe tbody tr th {\n",
       "        vertical-align: top;\n",
       "    }\n",
       "\n",
       "    .dataframe thead th {\n",
       "        text-align: right;\n",
       "    }\n",
       "</style>\n",
       "<table border=\"1\" class=\"dataframe\">\n",
       "  <thead>\n",
       "    <tr style=\"text-align: right;\">\n",
       "      <th></th>\n",
       "      <th>Period</th>\n",
       "      <th>Code</th>\n",
       "      <th>Sex</th>\n",
       "      <th>Age group</th>\n",
       "      <th>TransformationType</th>\n",
       "    </tr>\n",
       "  </thead>\n",
       "  <tbody>\n",
       "    <tr>\n",
       "      <th>0</th>\n",
       "      <td>gregorian-interval/2009-03-31T00:00:00/P3Y</td>\n",
       "      <td>E12000001</td>\n",
       "      <td>M</td>\n",
       "      <td>lessthan1</td>\n",
       "      <td>LE</td>\n",
       "    </tr>\n",
       "    <tr>\n",
       "      <th>1</th>\n",
       "      <td>gregorian-interval/2010-03-31T00:00:00/P3Y</td>\n",
       "      <td>E12000002</td>\n",
       "      <td>F</td>\n",
       "      <td>01-04</td>\n",
       "      <td>NaN</td>\n",
       "    </tr>\n",
       "    <tr>\n",
       "      <th>2</th>\n",
       "      <td>gregorian-interval/2011-03-31T00:00:00/P3Y</td>\n",
       "      <td>E12000003</td>\n",
       "      <td>NaN</td>\n",
       "      <td>05-09</td>\n",
       "      <td>NaN</td>\n",
       "    </tr>\n",
       "    <tr>\n",
       "      <th>3</th>\n",
       "      <td>gregorian-interval/2012-03-31T00:00:00/P3Y</td>\n",
       "      <td>E12000004</td>\n",
       "      <td>NaN</td>\n",
       "      <td>10-14</td>\n",
       "      <td>NaN</td>\n",
       "    </tr>\n",
       "    <tr>\n",
       "      <th>4</th>\n",
       "      <td>gregorian-interval/2013-03-31T00:00:00/P3Y</td>\n",
       "      <td>E12000005</td>\n",
       "      <td>NaN</td>\n",
       "      <td>15-19</td>\n",
       "      <td>NaN</td>\n",
       "    </tr>\n",
       "    <tr>\n",
       "      <th>5</th>\n",
       "      <td>gregorian-interval/2014-03-31T00:00:00/P3Y</td>\n",
       "      <td>E12000006</td>\n",
       "      <td>NaN</td>\n",
       "      <td>20-24</td>\n",
       "      <td>NaN</td>\n",
       "    </tr>\n",
       "    <tr>\n",
       "      <th>6</th>\n",
       "      <td>gregorian-interval/2015-03-31T00:00:00/P3Y</td>\n",
       "      <td>E12000007</td>\n",
       "      <td>NaN</td>\n",
       "      <td>25-29</td>\n",
       "      <td>NaN</td>\n",
       "    </tr>\n",
       "    <tr>\n",
       "      <th>7</th>\n",
       "      <td>gregorian-interval/2016-03-31T00:00:00/P3Y</td>\n",
       "      <td>E12000008</td>\n",
       "      <td>NaN</td>\n",
       "      <td>30-34</td>\n",
       "      <td>NaN</td>\n",
       "    </tr>\n",
       "    <tr>\n",
       "      <th>8</th>\n",
       "      <td>NaN</td>\n",
       "      <td>E12000009</td>\n",
       "      <td>NaN</td>\n",
       "      <td>35-39</td>\n",
       "      <td>NaN</td>\n",
       "    </tr>\n",
       "    <tr>\n",
       "      <th>9</th>\n",
       "      <td>NaN</td>\n",
       "      <td>NaN</td>\n",
       "      <td>NaN</td>\n",
       "      <td>40-44</td>\n",
       "      <td>NaN</td>\n",
       "    </tr>\n",
       "    <tr>\n",
       "      <th>10</th>\n",
       "      <td>NaN</td>\n",
       "      <td>NaN</td>\n",
       "      <td>NaN</td>\n",
       "      <td>45-49</td>\n",
       "      <td>NaN</td>\n",
       "    </tr>\n",
       "    <tr>\n",
       "      <th>11</th>\n",
       "      <td>NaN</td>\n",
       "      <td>NaN</td>\n",
       "      <td>NaN</td>\n",
       "      <td>50-54</td>\n",
       "      <td>NaN</td>\n",
       "    </tr>\n",
       "    <tr>\n",
       "      <th>12</th>\n",
       "      <td>NaN</td>\n",
       "      <td>NaN</td>\n",
       "      <td>NaN</td>\n",
       "      <td>55-59</td>\n",
       "      <td>NaN</td>\n",
       "    </tr>\n",
       "    <tr>\n",
       "      <th>13</th>\n",
       "      <td>NaN</td>\n",
       "      <td>NaN</td>\n",
       "      <td>NaN</td>\n",
       "      <td>60-64</td>\n",
       "      <td>NaN</td>\n",
       "    </tr>\n",
       "    <tr>\n",
       "      <th>14</th>\n",
       "      <td>NaN</td>\n",
       "      <td>NaN</td>\n",
       "      <td>NaN</td>\n",
       "      <td>65-69</td>\n",
       "      <td>NaN</td>\n",
       "    </tr>\n",
       "    <tr>\n",
       "      <th>15</th>\n",
       "      <td>NaN</td>\n",
       "      <td>NaN</td>\n",
       "      <td>NaN</td>\n",
       "      <td>70-74</td>\n",
       "      <td>NaN</td>\n",
       "    </tr>\n",
       "    <tr>\n",
       "      <th>16</th>\n",
       "      <td>NaN</td>\n",
       "      <td>NaN</td>\n",
       "      <td>NaN</td>\n",
       "      <td>75-79</td>\n",
       "      <td>NaN</td>\n",
       "    </tr>\n",
       "    <tr>\n",
       "      <th>17</th>\n",
       "      <td>NaN</td>\n",
       "      <td>NaN</td>\n",
       "      <td>NaN</td>\n",
       "      <td>80-84</td>\n",
       "      <td>NaN</td>\n",
       "    </tr>\n",
       "    <tr>\n",
       "      <th>18</th>\n",
       "      <td>NaN</td>\n",
       "      <td>NaN</td>\n",
       "      <td>NaN</td>\n",
       "      <td>85-89</td>\n",
       "      <td>NaN</td>\n",
       "    </tr>\n",
       "    <tr>\n",
       "      <th>19</th>\n",
       "      <td>NaN</td>\n",
       "      <td>NaN</td>\n",
       "      <td>NaN</td>\n",
       "      <td>90plus</td>\n",
       "      <td>NaN</td>\n",
       "    </tr>\n",
       "  </tbody>\n",
       "</table>\n",
       "</div>"
      ],
      "text/plain": [
       "                                        Period       Code  Sex  Age group  \\\n",
       "0   gregorian-interval/2009-03-31T00:00:00/P3Y  E12000001    M  lessthan1   \n",
       "1   gregorian-interval/2010-03-31T00:00:00/P3Y  E12000002    F      01-04   \n",
       "2   gregorian-interval/2011-03-31T00:00:00/P3Y  E12000003  NaN      05-09   \n",
       "3   gregorian-interval/2012-03-31T00:00:00/P3Y  E12000004  NaN      10-14   \n",
       "4   gregorian-interval/2013-03-31T00:00:00/P3Y  E12000005  NaN      15-19   \n",
       "5   gregorian-interval/2014-03-31T00:00:00/P3Y  E12000006  NaN      20-24   \n",
       "6   gregorian-interval/2015-03-31T00:00:00/P3Y  E12000007  NaN      25-29   \n",
       "7   gregorian-interval/2016-03-31T00:00:00/P3Y  E12000008  NaN      30-34   \n",
       "8                                          NaN  E12000009  NaN      35-39   \n",
       "9                                          NaN        NaN  NaN      40-44   \n",
       "10                                         NaN        NaN  NaN      45-49   \n",
       "11                                         NaN        NaN  NaN      50-54   \n",
       "12                                         NaN        NaN  NaN      55-59   \n",
       "13                                         NaN        NaN  NaN      60-64   \n",
       "14                                         NaN        NaN  NaN      65-69   \n",
       "15                                         NaN        NaN  NaN      70-74   \n",
       "16                                         NaN        NaN  NaN      75-79   \n",
       "17                                         NaN        NaN  NaN      80-84   \n",
       "18                                         NaN        NaN  NaN      85-89   \n",
       "19                                         NaN        NaN  NaN     90plus   \n",
       "\n",
       "   TransformationType  \n",
       "0                  LE  \n",
       "1                 NaN  \n",
       "2                 NaN  \n",
       "3                 NaN  \n",
       "4                 NaN  \n",
       "5                 NaN  \n",
       "6                 NaN  \n",
       "7                 NaN  \n",
       "8                 NaN  \n",
       "9                 NaN  \n",
       "10                NaN  \n",
       "11                NaN  \n",
       "12                NaN  \n",
       "13                NaN  \n",
       "14                NaN  \n",
       "15                NaN  \n",
       "16                NaN  \n",
       "17                NaN  \n",
       "18                NaN  \n",
       "19                NaN  "
      ]
     },
     "metadata": {},
     "output_type": "display_data"
    },
    {
     "data": {
      "text/markdown": [
       "<span style='color:Grey'>\n",
       "====================================================================================================</span>"
      ],
      "text/plain": [
       "<IPython.core.display.Markdown object>"
      ]
     },
     "metadata": {},
     "output_type": "display_data"
    },
    {
     "data": {
      "text/markdown": [
       "<span style='color:Blue'>Codelists DataFrame for: HE - Region level estimates_HLE.</span>"
      ],
      "text/plain": [
       "<IPython.core.display.Markdown object>"
      ]
     },
     "metadata": {},
     "output_type": "display_data"
    },
    {
     "data": {
      "text/markdown": [
       "<span style='color:Grey'>====================================================================================================</span>"
      ],
      "text/plain": [
       "<IPython.core.display.Markdown object>"
      ]
     },
     "metadata": {},
     "output_type": "display_data"
    },
    {
     "data": {
      "text/html": [
       "<div>\n",
       "<style scoped>\n",
       "    .dataframe tbody tr th:only-of-type {\n",
       "        vertical-align: middle;\n",
       "    }\n",
       "\n",
       "    .dataframe tbody tr th {\n",
       "        vertical-align: top;\n",
       "    }\n",
       "\n",
       "    .dataframe thead th {\n",
       "        text-align: right;\n",
       "    }\n",
       "</style>\n",
       "<table border=\"1\" class=\"dataframe\">\n",
       "  <thead>\n",
       "    <tr style=\"text-align: right;\">\n",
       "      <th></th>\n",
       "      <th>Period</th>\n",
       "      <th>Code</th>\n",
       "      <th>Sex</th>\n",
       "      <th>Age group</th>\n",
       "      <th>TransformationType</th>\n",
       "    </tr>\n",
       "  </thead>\n",
       "  <tbody>\n",
       "    <tr>\n",
       "      <th>0</th>\n",
       "      <td>gregorian-interval/2009-03-31T00:00:00/P3Y</td>\n",
       "      <td>E12000001</td>\n",
       "      <td>M</td>\n",
       "      <td>lessthan1</td>\n",
       "      <td>HLE</td>\n",
       "    </tr>\n",
       "    <tr>\n",
       "      <th>1</th>\n",
       "      <td>gregorian-interval/2010-03-31T00:00:00/P3Y</td>\n",
       "      <td>E12000002</td>\n",
       "      <td>F</td>\n",
       "      <td>01-04</td>\n",
       "      <td>NaN</td>\n",
       "    </tr>\n",
       "    <tr>\n",
       "      <th>2</th>\n",
       "      <td>gregorian-interval/2011-03-31T00:00:00/P3Y</td>\n",
       "      <td>E12000003</td>\n",
       "      <td>NaN</td>\n",
       "      <td>05-09</td>\n",
       "      <td>NaN</td>\n",
       "    </tr>\n",
       "    <tr>\n",
       "      <th>3</th>\n",
       "      <td>gregorian-interval/2012-03-31T00:00:00/P3Y</td>\n",
       "      <td>E12000004</td>\n",
       "      <td>NaN</td>\n",
       "      <td>10-14</td>\n",
       "      <td>NaN</td>\n",
       "    </tr>\n",
       "    <tr>\n",
       "      <th>4</th>\n",
       "      <td>gregorian-interval/2013-03-31T00:00:00/P3Y</td>\n",
       "      <td>E12000005</td>\n",
       "      <td>NaN</td>\n",
       "      <td>15-19</td>\n",
       "      <td>NaN</td>\n",
       "    </tr>\n",
       "    <tr>\n",
       "      <th>5</th>\n",
       "      <td>gregorian-interval/2014-03-31T00:00:00/P3Y</td>\n",
       "      <td>E12000006</td>\n",
       "      <td>NaN</td>\n",
       "      <td>20-24</td>\n",
       "      <td>NaN</td>\n",
       "    </tr>\n",
       "    <tr>\n",
       "      <th>6</th>\n",
       "      <td>gregorian-interval/2015-03-31T00:00:00/P3Y</td>\n",
       "      <td>E12000007</td>\n",
       "      <td>NaN</td>\n",
       "      <td>25-29</td>\n",
       "      <td>NaN</td>\n",
       "    </tr>\n",
       "    <tr>\n",
       "      <th>7</th>\n",
       "      <td>gregorian-interval/2016-03-31T00:00:00/P3Y</td>\n",
       "      <td>E12000008</td>\n",
       "      <td>NaN</td>\n",
       "      <td>30-34</td>\n",
       "      <td>NaN</td>\n",
       "    </tr>\n",
       "    <tr>\n",
       "      <th>8</th>\n",
       "      <td>NaN</td>\n",
       "      <td>E12000009</td>\n",
       "      <td>NaN</td>\n",
       "      <td>35-39</td>\n",
       "      <td>NaN</td>\n",
       "    </tr>\n",
       "    <tr>\n",
       "      <th>9</th>\n",
       "      <td>NaN</td>\n",
       "      <td>NaN</td>\n",
       "      <td>NaN</td>\n",
       "      <td>40-44</td>\n",
       "      <td>NaN</td>\n",
       "    </tr>\n",
       "    <tr>\n",
       "      <th>10</th>\n",
       "      <td>NaN</td>\n",
       "      <td>NaN</td>\n",
       "      <td>NaN</td>\n",
       "      <td>45-49</td>\n",
       "      <td>NaN</td>\n",
       "    </tr>\n",
       "    <tr>\n",
       "      <th>11</th>\n",
       "      <td>NaN</td>\n",
       "      <td>NaN</td>\n",
       "      <td>NaN</td>\n",
       "      <td>50-54</td>\n",
       "      <td>NaN</td>\n",
       "    </tr>\n",
       "    <tr>\n",
       "      <th>12</th>\n",
       "      <td>NaN</td>\n",
       "      <td>NaN</td>\n",
       "      <td>NaN</td>\n",
       "      <td>55-59</td>\n",
       "      <td>NaN</td>\n",
       "    </tr>\n",
       "    <tr>\n",
       "      <th>13</th>\n",
       "      <td>NaN</td>\n",
       "      <td>NaN</td>\n",
       "      <td>NaN</td>\n",
       "      <td>60-64</td>\n",
       "      <td>NaN</td>\n",
       "    </tr>\n",
       "    <tr>\n",
       "      <th>14</th>\n",
       "      <td>NaN</td>\n",
       "      <td>NaN</td>\n",
       "      <td>NaN</td>\n",
       "      <td>65-69</td>\n",
       "      <td>NaN</td>\n",
       "    </tr>\n",
       "    <tr>\n",
       "      <th>15</th>\n",
       "      <td>NaN</td>\n",
       "      <td>NaN</td>\n",
       "      <td>NaN</td>\n",
       "      <td>70-74</td>\n",
       "      <td>NaN</td>\n",
       "    </tr>\n",
       "    <tr>\n",
       "      <th>16</th>\n",
       "      <td>NaN</td>\n",
       "      <td>NaN</td>\n",
       "      <td>NaN</td>\n",
       "      <td>75-79</td>\n",
       "      <td>NaN</td>\n",
       "    </tr>\n",
       "    <tr>\n",
       "      <th>17</th>\n",
       "      <td>NaN</td>\n",
       "      <td>NaN</td>\n",
       "      <td>NaN</td>\n",
       "      <td>80-84</td>\n",
       "      <td>NaN</td>\n",
       "    </tr>\n",
       "    <tr>\n",
       "      <th>18</th>\n",
       "      <td>NaN</td>\n",
       "      <td>NaN</td>\n",
       "      <td>NaN</td>\n",
       "      <td>85-89</td>\n",
       "      <td>NaN</td>\n",
       "    </tr>\n",
       "    <tr>\n",
       "      <th>19</th>\n",
       "      <td>NaN</td>\n",
       "      <td>NaN</td>\n",
       "      <td>NaN</td>\n",
       "      <td>90plus</td>\n",
       "      <td>NaN</td>\n",
       "    </tr>\n",
       "  </tbody>\n",
       "</table>\n",
       "</div>"
      ],
      "text/plain": [
       "                                        Period       Code  Sex  Age group  \\\n",
       "0   gregorian-interval/2009-03-31T00:00:00/P3Y  E12000001    M  lessthan1   \n",
       "1   gregorian-interval/2010-03-31T00:00:00/P3Y  E12000002    F      01-04   \n",
       "2   gregorian-interval/2011-03-31T00:00:00/P3Y  E12000003  NaN      05-09   \n",
       "3   gregorian-interval/2012-03-31T00:00:00/P3Y  E12000004  NaN      10-14   \n",
       "4   gregorian-interval/2013-03-31T00:00:00/P3Y  E12000005  NaN      15-19   \n",
       "5   gregorian-interval/2014-03-31T00:00:00/P3Y  E12000006  NaN      20-24   \n",
       "6   gregorian-interval/2015-03-31T00:00:00/P3Y  E12000007  NaN      25-29   \n",
       "7   gregorian-interval/2016-03-31T00:00:00/P3Y  E12000008  NaN      30-34   \n",
       "8                                          NaN  E12000009  NaN      35-39   \n",
       "9                                          NaN        NaN  NaN      40-44   \n",
       "10                                         NaN        NaN  NaN      45-49   \n",
       "11                                         NaN        NaN  NaN      50-54   \n",
       "12                                         NaN        NaN  NaN      55-59   \n",
       "13                                         NaN        NaN  NaN      60-64   \n",
       "14                                         NaN        NaN  NaN      65-69   \n",
       "15                                         NaN        NaN  NaN      70-74   \n",
       "16                                         NaN        NaN  NaN      75-79   \n",
       "17                                         NaN        NaN  NaN      80-84   \n",
       "18                                         NaN        NaN  NaN      85-89   \n",
       "19                                         NaN        NaN  NaN     90plus   \n",
       "\n",
       "   TransformationType  \n",
       "0                 HLE  \n",
       "1                 NaN  \n",
       "2                 NaN  \n",
       "3                 NaN  \n",
       "4                 NaN  \n",
       "5                 NaN  \n",
       "6                 NaN  \n",
       "7                 NaN  \n",
       "8                 NaN  \n",
       "9                 NaN  \n",
       "10                NaN  \n",
       "11                NaN  \n",
       "12                NaN  \n",
       "13                NaN  \n",
       "14                NaN  \n",
       "15                NaN  \n",
       "16                NaN  \n",
       "17                NaN  \n",
       "18                NaN  \n",
       "19                NaN  "
      ]
     },
     "metadata": {},
     "output_type": "display_data"
    }
   ],
   "source": [
    "dataframe_codelists_collection = {}\n",
    "\n",
    "printmd(\"\\n\" + \"=\"*100, colour='Grey')\n",
    "printmd('Identified Dimension Entries:', colour='Blue')\n",
    "printmd(\"=\"*100, colour='Grey')\n",
    "\n",
    "\n",
    "for key in dataframe_elements_collection.keys():\n",
    "    df_result = pd.DataFrame(columns = ['DropMe'])\n",
    "\n",
    "    df_temp = dataframe_elements_collection[key].loc[dataframe_elements_collection[key]['Entry Type'] == 'Dimension']\n",
    "    display(df_temp)\n",
    "    codelist_cols = []\n",
    "    for rows in df_temp.itertuples():\n",
    "        codelist_cols_temp = rows[1]\n",
    "        codelist_cols.append(codelist_cols_temp)\n",
    "\n",
    "    \n",
    "    for col in dataframe_collection[key]:\n",
    "        if col in codelist_cols:\n",
    "            my_codelist_lst = dataframe_collection[key][col].unique()\n",
    "            df_codelist = pd.DataFrame(my_codelist_lst, columns = [col])\n",
    "            df_result = pd.concat([df_result, df_codelist], axis = 1, ignore_index=False, sort=False)\n",
    "    df_result = df_result.drop('DropMe', 1)\n",
    "    dataframe_codelists_collection[key] = df_result\n",
    "\n",
    "\n",
    "for key in dataframe_codelists_collection.keys():\n",
    "    printmd(\"\\n\" + \"=\"*100, colour='Grey')\n",
    "    printmd('Codelists DataFrame for: ' + key + '.', colour='Blue')\n",
    "    printmd(\"=\"*100, colour='Grey')\n",
    "    display(dataframe_codelists_collection[key])\n",
    "                      \n"
   ]
  },
  {
   "cell_type": "markdown",
   "metadata": {},
   "source": [
    "### Stage 6: Loading and Matching our Transforms with our Reference Data:\n",
    "\n",
    "**As per Stage 5; to create an RDF output we need the data (.csv) and associated meta data (.json). Here we focus on the meta data.**\n",
    "* *We must associate our transformed data dimensions with our reference data repository / master database.*\n",
    "    * Step (a): Load in reference data.\n",
    "    * Step (b): Map / associate reference data with our transformed data entities / dimensions.\n",
    "        * *Note an automated attempt to map is conducted - but manual intervention is likely.*"
   ]
  },
  {
   "cell_type": "code",
   "execution_count": 328,
   "metadata": {},
   "outputs": [],
   "source": [
    "# Specify the source of the reference data master (currently COGS has a split-by-data-family configuration):\n",
    "url_ref_repo_components = \"https://raw.githubusercontent.com/GSS-Cogs/family-disability/master/reference/components.csv\"\n",
    "url_ref_repo_columns = \"https://raw.githubusercontent.com/GSS-Cogs/family-disability/master/reference/columns.csv\"\n"
   ]
  },
  {
   "cell_type": "code",
   "execution_count": 329,
   "metadata": {},
   "outputs": [
    {
     "data": {
      "text/markdown": [
       "<span style='color:None'>**Displaying: https://raw.githubusercontent.com/GSS-Cogs/family-disability/master/reference/columns.csv:**</span>"
      ],
      "text/plain": [
       "<IPython.core.display.Markdown object>"
      ]
     },
     "metadata": {},
     "output_type": "display_data"
    },
    {
     "data": {
      "text/html": [
       "<div>\n",
       "<style scoped>\n",
       "    .dataframe tbody tr th:only-of-type {\n",
       "        vertical-align: middle;\n",
       "    }\n",
       "\n",
       "    .dataframe tbody tr th {\n",
       "        vertical-align: top;\n",
       "    }\n",
       "\n",
       "    .dataframe thead th {\n",
       "        text-align: right;\n",
       "    }\n",
       "</style>\n",
       "<table border=\"1\" class=\"dataframe\">\n",
       "  <thead>\n",
       "    <tr style=\"text-align: right;\">\n",
       "      <th></th>\n",
       "      <th>title</th>\n",
       "      <th>name</th>\n",
       "      <th>component_attachment</th>\n",
       "      <th>property_template</th>\n",
       "      <th>value_template</th>\n",
       "      <th>datatype</th>\n",
       "      <th>value_transformation</th>\n",
       "      <th>regex</th>\n",
       "      <th>range</th>\n",
       "    </tr>\n",
       "  </thead>\n",
       "  <tbody>\n",
       "    <tr>\n",
       "      <th>0</th>\n",
       "      <td>Measure Type</td>\n",
       "      <td>measure_type</td>\n",
       "      <td>qb:dimension</td>\n",
       "      <td>http://purl.org/linked-data/cube#measureType</td>\n",
       "      <td>http://gss-data.org.uk/def/measure/{measure_type}</td>\n",
       "      <td>string</td>\n",
       "      <td>slugize</td>\n",
       "      <td>NaN</td>\n",
       "      <td>qb:MeasureProperty</td>\n",
       "    </tr>\n",
       "    <tr>\n",
       "      <th>1</th>\n",
       "      <td>Area</td>\n",
       "      <td>area</td>\n",
       "      <td>qb:dimension</td>\n",
       "      <td>http://purl.org/linked-data/sdmx/2009/dimensio...</td>\n",
       "      <td>http://statistics.data.gov.uk/id/statistical-g...</td>\n",
       "      <td>string</td>\n",
       "      <td>NaN</td>\n",
       "      <td>NaN</td>\n",
       "      <td>NaN</td>\n",
       "    </tr>\n",
       "    <tr>\n",
       "      <th>2</th>\n",
       "      <td>Sex</td>\n",
       "      <td>sex</td>\n",
       "      <td>qb:dimension</td>\n",
       "      <td>http://purl.org/linked-data/sdmx/2009/dimensio...</td>\n",
       "      <td>http://purl.org/linked-data/sdmx/2009/code#sex...</td>\n",
       "      <td>string</td>\n",
       "      <td>NaN</td>\n",
       "      <td>^(M|F|T|U|N)$</td>\n",
       "      <td>http://purl.org/linked-data/sdmx/2009/code#Sex</td>\n",
       "    </tr>\n",
       "    <tr>\n",
       "      <th>3</th>\n",
       "      <td>Age</td>\n",
       "      <td>age</td>\n",
       "      <td>qb:dimension</td>\n",
       "      <td>http://purl.org/linked-data/sdmx/2009/dimensio...</td>\n",
       "      <td>http://gss-data.org.uk/def/concept/ages/{age}</td>\n",
       "      <td>string</td>\n",
       "      <td>slugize</td>\n",
       "      <td>NaN</td>\n",
       "      <td>NaN</td>\n",
       "    </tr>\n",
       "    <tr>\n",
       "      <th>4</th>\n",
       "      <td>Household Disability Status</td>\n",
       "      <td>household_disability_status</td>\n",
       "      <td>qb:dimension</td>\n",
       "      <td>http://gss-data.org.uk/def/dimension/household...</td>\n",
       "      <td>http://gss-data.org.uk/def/concept/household-d...</td>\n",
       "      <td>string</td>\n",
       "      <td>slugize</td>\n",
       "      <td>NaN</td>\n",
       "      <td>http://gss-data.org.uk/def/classes/household-d...</td>\n",
       "    </tr>\n",
       "    <tr>\n",
       "      <th>5</th>\n",
       "      <td>Workless Household Type</td>\n",
       "      <td>workless_household_type</td>\n",
       "      <td>qb:dimension</td>\n",
       "      <td>http://gss-data.org.uk/def/dimension/workless-...</td>\n",
       "      <td>http://gss-data.org.uk/def/concept/workless-ho...</td>\n",
       "      <td>string</td>\n",
       "      <td>slugize</td>\n",
       "      <td>NaN</td>\n",
       "      <td>http://gss-data.org.uk/def/classes/workless-ho...</td>\n",
       "    </tr>\n",
       "    <tr>\n",
       "      <th>6</th>\n",
       "      <td>Unit</td>\n",
       "      <td>unit</td>\n",
       "      <td>qb:attribute</td>\n",
       "      <td>http://purl.org/linked-data/sdmx/2009/attribut...</td>\n",
       "      <td>http://gss-data.org.uk/def/concept/measurement...</td>\n",
       "      <td>string</td>\n",
       "      <td>unitize</td>\n",
       "      <td>NaN</td>\n",
       "      <td>NaN</td>\n",
       "    </tr>\n",
       "    <tr>\n",
       "      <th>7</th>\n",
       "      <td>Sample Size</td>\n",
       "      <td>sample_size</td>\n",
       "      <td>qb:attribute</td>\n",
       "      <td>http://gss-data.org.uk/def/attribute/sample-size</td>\n",
       "      <td>NaN</td>\n",
       "      <td>number</td>\n",
       "      <td>NaN</td>\n",
       "      <td>NaN</td>\n",
       "      <td>NaN</td>\n",
       "    </tr>\n",
       "    <tr>\n",
       "      <th>8</th>\n",
       "      <td>Lower CI</td>\n",
       "      <td>lower_ci</td>\n",
       "      <td>qb:attribute</td>\n",
       "      <td>http://gss-data.org.uk/def/attribute/lower-ci</td>\n",
       "      <td>NaN</td>\n",
       "      <td>number</td>\n",
       "      <td>NaN</td>\n",
       "      <td>NaN</td>\n",
       "      <td>NaN</td>\n",
       "    </tr>\n",
       "    <tr>\n",
       "      <th>9</th>\n",
       "      <td>Upper CI</td>\n",
       "      <td>upper_ci</td>\n",
       "      <td>qb:attribute</td>\n",
       "      <td>http://gss-data.org.uk/def/attribute/upper-ci</td>\n",
       "      <td>NaN</td>\n",
       "      <td>number</td>\n",
       "      <td>NaN</td>\n",
       "      <td>NaN</td>\n",
       "      <td>NaN</td>\n",
       "    </tr>\n",
       "    <tr>\n",
       "      <th>10</th>\n",
       "      <td>Value</td>\n",
       "      <td>value</td>\n",
       "      <td>NaN</td>\n",
       "      <td>http://gss-data.org.uk/def/measure/{measure_type}</td>\n",
       "      <td>NaN</td>\n",
       "      <td>number</td>\n",
       "      <td>NaN</td>\n",
       "      <td>NaN</td>\n",
       "      <td>NaN</td>\n",
       "    </tr>\n",
       "    <tr>\n",
       "      <th>11</th>\n",
       "      <td>Severity</td>\n",
       "      <td>severity</td>\n",
       "      <td>qb:dimension</td>\n",
       "      <td>http://gss-data.org.uk/def/dimension/severity</td>\n",
       "      <td>http://gss-data.org.uk/def/concept/severity/{s...</td>\n",
       "      <td>string</td>\n",
       "      <td>slugize</td>\n",
       "      <td>NaN</td>\n",
       "      <td>NaN</td>\n",
       "    </tr>\n",
       "    <tr>\n",
       "      <th>12</th>\n",
       "      <td>Hours per Week</td>\n",
       "      <td>hours_per_week</td>\n",
       "      <td>qb:dimension</td>\n",
       "      <td>http://gss-data.org.uk/def/dimension/hours-per...</td>\n",
       "      <td>http://gss-data.org.uk/def/concept/hours-per-w...</td>\n",
       "      <td>string</td>\n",
       "      <td>slugize</td>\n",
       "      <td>NaN</td>\n",
       "      <td>http://gss-data.org.uk/def/classes/gp-practice...</td>\n",
       "    </tr>\n",
       "    <tr>\n",
       "      <th>13</th>\n",
       "      <td>FRS Units</td>\n",
       "      <td>frs_units</td>\n",
       "      <td>qb:dimension</td>\n",
       "      <td>http://gss-data.org.uk/def/dimension/frs-units</td>\n",
       "      <td>http://gss-data.org.uk/def/concept/frs-units/{...</td>\n",
       "      <td>string</td>\n",
       "      <td>slugize</td>\n",
       "      <td>NaN</td>\n",
       "      <td>http://gss-data.org.uk/def/classes/gp-practice...</td>\n",
       "    </tr>\n",
       "    <tr>\n",
       "      <th>14</th>\n",
       "      <td>Employment Status</td>\n",
       "      <td>employment_status</td>\n",
       "      <td>qb:dimension</td>\n",
       "      <td>http://gss-data.org.uk/def/dimension/employmen...</td>\n",
       "      <td>http://gss-data.org.uk/def/concept/employment-...</td>\n",
       "      <td>string</td>\n",
       "      <td>slugize</td>\n",
       "      <td>NaN</td>\n",
       "      <td>http://gss-data.org.uk/def/classes/gp-practice...</td>\n",
       "    </tr>\n",
       "    <tr>\n",
       "      <th>15</th>\n",
       "      <td>Employment Type</td>\n",
       "      <td>employment_type</td>\n",
       "      <td>qb:dimension</td>\n",
       "      <td>http://gss-data.org.uk/def/dimension/employmen...</td>\n",
       "      <td>http://gss-data.org.uk/def/concept/employment-...</td>\n",
       "      <td>string</td>\n",
       "      <td>slugize</td>\n",
       "      <td>NaN</td>\n",
       "      <td>http://gss-data.org.uk/def/classes/gp-practice...</td>\n",
       "    </tr>\n",
       "    <tr>\n",
       "      <th>16</th>\n",
       "      <td>Adult Carer</td>\n",
       "      <td>adult_carer</td>\n",
       "      <td>qb:dimension</td>\n",
       "      <td>http://gss-data.org.uk/def/dimension/adult-carer</td>\n",
       "      <td>http://gss-data.org.uk/def/concept/adult-carer...</td>\n",
       "      <td>string</td>\n",
       "      <td>slugize</td>\n",
       "      <td>NaN</td>\n",
       "      <td>http://gss-data.org.uk/def/classes/gp-practice...</td>\n",
       "    </tr>\n",
       "    <tr>\n",
       "      <th>17</th>\n",
       "      <td>Source of Income</td>\n",
       "      <td>source_of_income</td>\n",
       "      <td>qb:dimension</td>\n",
       "      <td>http://gss-data.org.uk/def/dimension/source-of...</td>\n",
       "      <td>http://gss-data.org.uk/def/concept/source-of-i...</td>\n",
       "      <td>string</td>\n",
       "      <td>slugize</td>\n",
       "      <td>NaN</td>\n",
       "      <td>http://gss-data.org.uk/def/classes/gp-practice...</td>\n",
       "    </tr>\n",
       "    <tr>\n",
       "      <th>18</th>\n",
       "      <td>Net Weekly Income</td>\n",
       "      <td>net_weekly_income</td>\n",
       "      <td>qb:dimension</td>\n",
       "      <td>http://gss-data.org.uk/def/dimension/net-weekl...</td>\n",
       "      <td>http://gss-data.org.uk/def/concept/net-weekly-...</td>\n",
       "      <td>string</td>\n",
       "      <td>slugize</td>\n",
       "      <td>NaN</td>\n",
       "      <td>http://gss-data.org.uk/def/classes/gp-practice...</td>\n",
       "    </tr>\n",
       "    <tr>\n",
       "      <th>19</th>\n",
       "      <td>Person cared for Type</td>\n",
       "      <td>person_cared_for_type</td>\n",
       "      <td>qb:dimension</td>\n",
       "      <td>http://gss-data.org.uk/def/dimension/person-ca...</td>\n",
       "      <td>http://gss-data.org.uk/def/concept/person-care...</td>\n",
       "      <td>string</td>\n",
       "      <td>slugize</td>\n",
       "      <td>NaN</td>\n",
       "      <td>http://gss-data.org.uk/def/classes/gp-practice...</td>\n",
       "    </tr>\n",
       "    <tr>\n",
       "      <th>20</th>\n",
       "      <td>Person cared for</td>\n",
       "      <td>person_cared_for</td>\n",
       "      <td>qb:dimension</td>\n",
       "      <td>http://gss-data.org.uk/def/dimension/person-ca...</td>\n",
       "      <td>http://gss-data.org.uk/def/concept/person-care...</td>\n",
       "      <td>string</td>\n",
       "      <td>slugize</td>\n",
       "      <td>NaN</td>\n",
       "      <td>http://gss-data.org.uk/def/classes/gp-practice...</td>\n",
       "    </tr>\n",
       "    <tr>\n",
       "      <th>21</th>\n",
       "      <td>Frequency of care</td>\n",
       "      <td>frequency_of_care</td>\n",
       "      <td>qb:dimension</td>\n",
       "      <td>http://gss-data.org.uk/def/dimension/frequency...</td>\n",
       "      <td>http://gss-data.org.uk/def/concept/frequency-o...</td>\n",
       "      <td>string</td>\n",
       "      <td>slugize</td>\n",
       "      <td>NaN</td>\n",
       "      <td>http://gss-data.org.uk/def/classes/gp-practice...</td>\n",
       "    </tr>\n",
       "    <tr>\n",
       "      <th>22</th>\n",
       "      <td>NHS Geography</td>\n",
       "      <td>nhs_geography</td>\n",
       "      <td>qb:dimension</td>\n",
       "      <td>http://gss-data.org.uk/def/dimension/nhs-geogr...</td>\n",
       "      <td>http://gss-data.org.uk/def/concept/nhs-geograp...</td>\n",
       "      <td>string</td>\n",
       "      <td>NaN</td>\n",
       "      <td>NaN</td>\n",
       "      <td>http://gss-data.org.uk/def/classes/gp-practice...</td>\n",
       "    </tr>\n",
       "    <tr>\n",
       "      <th>23</th>\n",
       "      <td>ONS Geography</td>\n",
       "      <td>ons_geography</td>\n",
       "      <td>qb:dimension</td>\n",
       "      <td>http://purl.org/linked-data/sdmx/2009/dimensio...</td>\n",
       "      <td>http://statistics.data.gov.uk/id/statistical-g...</td>\n",
       "      <td>string</td>\n",
       "      <td>NaN</td>\n",
       "      <td>[A-Z][0-9]{8}</td>\n",
       "      <td>NaN</td>\n",
       "    </tr>\n",
       "    <tr>\n",
       "      <th>24</th>\n",
       "      <td>Disability</td>\n",
       "      <td>disability</td>\n",
       "      <td>qb:dimension</td>\n",
       "      <td>http://gss-data.org.uk/def/dimension/disability</td>\n",
       "      <td>http://gss-data.org.uk/def/concept/disability/...</td>\n",
       "      <td>string</td>\n",
       "      <td>NaN</td>\n",
       "      <td>NaN</td>\n",
       "      <td>http://gss-data.org.uk/def/classes/disability/...</td>\n",
       "    </tr>\n",
       "    <tr>\n",
       "      <th>25</th>\n",
       "      <td>Period</td>\n",
       "      <td>period</td>\n",
       "      <td>qb:dimension</td>\n",
       "      <td>http://purl.org/linked-data/sdmx/2009/dimensio...</td>\n",
       "      <td>http://reference.data.gov.uk/id/{+period}</td>\n",
       "      <td>string</td>\n",
       "      <td>NaN</td>\n",
       "      <td>^(year/[0-9]{4}|gregorian-interval/.*|month/[0...</td>\n",
       "      <td>http://reference.data.gov.uk/def/intervals/Int...</td>\n",
       "    </tr>\n",
       "    <tr>\n",
       "      <th>26</th>\n",
       "      <td>FRS Age Group</td>\n",
       "      <td>frs_age_group</td>\n",
       "      <td>qb:dimension</td>\n",
       "      <td>http://purl.org/linked-data/sdmx/2009/dimensio...</td>\n",
       "      <td>http://gss-data.org.uk/def/concept/dwp-frs-age...</td>\n",
       "      <td>string</td>\n",
       "      <td>NaN</td>\n",
       "      <td>NaN</td>\n",
       "      <td>http://gss-data.org.uk/def/classes/dwp-frs-age...</td>\n",
       "    </tr>\n",
       "    <tr>\n",
       "      <th>27</th>\n",
       "      <td>Marker</td>\n",
       "      <td>marker</td>\n",
       "      <td>qb:attribute</td>\n",
       "      <td>http://purl.org/linked-data/sdmx/2009/attribut...</td>\n",
       "      <td>http://gss-data.org.uk/def/concept/marker/{mar...</td>\n",
       "      <td>string</td>\n",
       "      <td>NaN</td>\n",
       "      <td>NaN</td>\n",
       "      <td>NaN</td>\n",
       "    </tr>\n",
       "    <tr>\n",
       "      <th>28</th>\n",
       "      <td>Reasons for failing to maintain accommodation</td>\n",
       "      <td>reasons_for_failing_to_maintain_accommodation</td>\n",
       "      <td>qb:dimension</td>\n",
       "      <td>http://gss-data.org.uk/def/dimension/reasons-f...</td>\n",
       "      <td>http://gss-data.org.uk/def/concept/reasons-for...</td>\n",
       "      <td>string</td>\n",
       "      <td>NaN</td>\n",
       "      <td>NaN</td>\n",
       "      <td>http://gss-data.org.uk/def/classes/homelessnes...</td>\n",
       "    </tr>\n",
       "    <tr>\n",
       "      <th>29</th>\n",
       "      <td>Identified support needs of homeless households</td>\n",
       "      <td>identified_support_needs_of_homeless_households</td>\n",
       "      <td>qb:dimension</td>\n",
       "      <td>http://gss-data.org.uk/def/dimension/identifie...</td>\n",
       "      <td>http://gss-data.org.uk/def/concept/identified-...</td>\n",
       "      <td>string</td>\n",
       "      <td>NaN</td>\n",
       "      <td>NaN</td>\n",
       "      <td>http://gss-data.org.uk/def/classes/homelessnes...</td>\n",
       "    </tr>\n",
       "    <tr>\n",
       "      <th>...</th>\n",
       "      <td>...</td>\n",
       "      <td>...</td>\n",
       "      <td>...</td>\n",
       "      <td>...</td>\n",
       "      <td>...</td>\n",
       "      <td>...</td>\n",
       "      <td>...</td>\n",
       "      <td>...</td>\n",
       "      <td>...</td>\n",
       "    </tr>\n",
       "    <tr>\n",
       "      <th>103</th>\n",
       "      <td>Reporting Period</td>\n",
       "      <td>period</td>\n",
       "      <td>qb:dimension</td>\n",
       "      <td>http://purl.org/linked-data/sdmx/2009/dimensio...</td>\n",
       "      <td>http://reference.data.gov.uk/id/{+period}</td>\n",
       "      <td>string</td>\n",
       "      <td>NaN</td>\n",
       "      <td>^(year/[0-9]{4}|gregorian-interval/.*|month/[0...</td>\n",
       "      <td>http://reference.data.gov.uk/def/intervals/Int...</td>\n",
       "    </tr>\n",
       "    <tr>\n",
       "      <th>104</th>\n",
       "      <td>Breakdown</td>\n",
       "      <td>breakdown</td>\n",
       "      <td>qb:dimension</td>\n",
       "      <td>http://gss-data.org.uk/def/dimension/breakdown</td>\n",
       "      <td>http://gss-data.org.uk/def/concept/breakdown/{...</td>\n",
       "      <td>string</td>\n",
       "      <td>slugize</td>\n",
       "      <td>NaN</td>\n",
       "      <td>http://gss-data.org.uk/def/classes/breakdown/b...</td>\n",
       "    </tr>\n",
       "    <tr>\n",
       "      <th>105</th>\n",
       "      <td>CCG Indicator</td>\n",
       "      <td>ccg_indicator</td>\n",
       "      <td>qb:dimension</td>\n",
       "      <td>http://gss-data.org.uk/def/dimension/ccg-indic...</td>\n",
       "      <td>http://gss-data.org.uk/def/concept/ccg-indicat...</td>\n",
       "      <td>string</td>\n",
       "      <td>slugize</td>\n",
       "      <td>NaN</td>\n",
       "      <td>http://gss-data.org.uk/def/classes/ccg-indicat...</td>\n",
       "    </tr>\n",
       "    <tr>\n",
       "      <th>106</th>\n",
       "      <td>NHS Level</td>\n",
       "      <td>nhs_level</td>\n",
       "      <td>qb:dimension</td>\n",
       "      <td>http://gss-data.org.uk/def/dimension/nhs-level</td>\n",
       "      <td>http://gss-data.org.uk/def/concept/nhs-level/{...</td>\n",
       "      <td>string</td>\n",
       "      <td>slugize</td>\n",
       "      <td>NaN</td>\n",
       "      <td>http://gss-data.org.uk/def/classes/nhs-level/n...</td>\n",
       "    </tr>\n",
       "    <tr>\n",
       "      <th>107</th>\n",
       "      <td>Markers</td>\n",
       "      <td>markers</td>\n",
       "      <td>qb:attribute</td>\n",
       "      <td>http://purl.org/linked-data/sdmx/2009/attribut...</td>\n",
       "      <td>http://gss-data.org.uk/def/concept/markers/{ma...</td>\n",
       "      <td>string</td>\n",
       "      <td>slugize</td>\n",
       "      <td>NaN</td>\n",
       "      <td>NaN</td>\n",
       "    </tr>\n",
       "    <tr>\n",
       "      <th>108</th>\n",
       "      <td>Disability Status</td>\n",
       "      <td>disability_status</td>\n",
       "      <td>qb:dimension</td>\n",
       "      <td>http://gss-data.org.uk/def/dimension/disabilit...</td>\n",
       "      <td>http://gss-data.org.uk/def/concept/disability-...</td>\n",
       "      <td>string</td>\n",
       "      <td>slugize</td>\n",
       "      <td>NaN</td>\n",
       "      <td>http://gss-data.org.uk/def/classes/disability-...</td>\n",
       "    </tr>\n",
       "    <tr>\n",
       "      <th>109</th>\n",
       "      <td>Responsibility Level</td>\n",
       "      <td>responsibility_level</td>\n",
       "      <td>qb:dimension</td>\n",
       "      <td>http://gss-data.org.uk/def/dimension/responsib...</td>\n",
       "      <td>http://gss-data.org.uk/def/concept/responsibil...</td>\n",
       "      <td>string</td>\n",
       "      <td>slugize</td>\n",
       "      <td>NaN</td>\n",
       "      <td>http://gss-data.org.uk/def/classes/responsibil...</td>\n",
       "    </tr>\n",
       "    <tr>\n",
       "      <th>110</th>\n",
       "      <td>Department</td>\n",
       "      <td>department</td>\n",
       "      <td>qb:dimension</td>\n",
       "      <td>http://gss-data.org.uk/def/dimension/department</td>\n",
       "      <td>http://gss-data.org.uk/def/concept/department/...</td>\n",
       "      <td>string</td>\n",
       "      <td>slugize</td>\n",
       "      <td>NaN</td>\n",
       "      <td>http://gss-data.org.uk/def/classes/department/...</td>\n",
       "    </tr>\n",
       "    <tr>\n",
       "      <th>111</th>\n",
       "      <td>Salary Band</td>\n",
       "      <td>salary_band</td>\n",
       "      <td>qb:dimension</td>\n",
       "      <td>http://gss-data.org.uk/def/dimension/salary-band</td>\n",
       "      <td>http://gss-data.org.uk/def/concept/salary-band...</td>\n",
       "      <td>string</td>\n",
       "      <td>slugize</td>\n",
       "      <td>NaN</td>\n",
       "      <td>http://gss-data.org.uk/def/classes/salary-band...</td>\n",
       "    </tr>\n",
       "    <tr>\n",
       "      <th>112</th>\n",
       "      <td>Profession of Post</td>\n",
       "      <td>profession_of_post</td>\n",
       "      <td>qb:dimension</td>\n",
       "      <td>http://gss-data.org.uk/def/dimension/professio...</td>\n",
       "      <td>http://gss-data.org.uk/def/concept/profession-...</td>\n",
       "      <td>string</td>\n",
       "      <td>slugize</td>\n",
       "      <td>NaN</td>\n",
       "      <td>http://gss-data.org.uk/def/classes/profession-...</td>\n",
       "    </tr>\n",
       "    <tr>\n",
       "      <th>113</th>\n",
       "      <td>Nationality</td>\n",
       "      <td>nationality</td>\n",
       "      <td>qb:dimension</td>\n",
       "      <td>http://gss-data.org.uk/def/dimension/nationality</td>\n",
       "      <td>http://gss-data.org.uk/def/concept/nationality...</td>\n",
       "      <td>string</td>\n",
       "      <td>slugize</td>\n",
       "      <td>NaN</td>\n",
       "      <td>http://gss-data.org.uk/def/classes/nationality...</td>\n",
       "    </tr>\n",
       "    <tr>\n",
       "      <th>114</th>\n",
       "      <td>Ethnicity</td>\n",
       "      <td>ethnicity</td>\n",
       "      <td>qb:dimension</td>\n",
       "      <td>http://gss-data.org.uk/def/dimension/ethnicity</td>\n",
       "      <td>http://gss-data.org.uk/def/concept/ethnicity/{...</td>\n",
       "      <td>string</td>\n",
       "      <td>slugize</td>\n",
       "      <td>NaN</td>\n",
       "      <td>http://gss-data.org.uk/def/classes/ethnicity/e...</td>\n",
       "    </tr>\n",
       "    <tr>\n",
       "      <th>115</th>\n",
       "      <td>Entrants or Leavers</td>\n",
       "      <td>entrants_or_leavers</td>\n",
       "      <td>qb:dimension</td>\n",
       "      <td>http://gss-data.org.uk/def/dimension/entrants-...</td>\n",
       "      <td>http://gss-data.org.uk/def/concept/entrants-or...</td>\n",
       "      <td>string</td>\n",
       "      <td>slugize</td>\n",
       "      <td>NaN</td>\n",
       "      <td>http://gss-data.org.uk/def/classes/entrants-or...</td>\n",
       "    </tr>\n",
       "    <tr>\n",
       "      <th>116</th>\n",
       "      <td>Type of Employment</td>\n",
       "      <td>type_of_employment</td>\n",
       "      <td>qb:dimension</td>\n",
       "      <td>http://gss-data.org.uk/def/dimension/type-of-e...</td>\n",
       "      <td>http://gss-data.org.uk/def/concept/type-of-emp...</td>\n",
       "      <td>string</td>\n",
       "      <td>slugize</td>\n",
       "      <td>NaN</td>\n",
       "      <td>http://gss-data.org.uk/def/classes/type-of-emp...</td>\n",
       "    </tr>\n",
       "    <tr>\n",
       "      <th>117</th>\n",
       "      <td>Status of Employment</td>\n",
       "      <td>status_of_employment</td>\n",
       "      <td>qb:dimension</td>\n",
       "      <td>http://gss-data.org.uk/def/dimension/status-of...</td>\n",
       "      <td>http://gss-data.org.uk/def/concept/status-of-e...</td>\n",
       "      <td>string</td>\n",
       "      <td>slugize</td>\n",
       "      <td>NaN</td>\n",
       "      <td>http://gss-data.org.uk/def/classes/status-of-e...</td>\n",
       "    </tr>\n",
       "    <tr>\n",
       "      <th>118</th>\n",
       "      <td>NUTS Region name</td>\n",
       "      <td>nuts_region_name</td>\n",
       "      <td>qb:dimension</td>\n",
       "      <td>http://gss-data.org.uk/def/dimension/nuts-regi...</td>\n",
       "      <td>http://gss-data.org.uk/def/concept/nuts-region...</td>\n",
       "      <td>string</td>\n",
       "      <td>slugize</td>\n",
       "      <td>NaN</td>\n",
       "      <td>http://gss-data.org.uk/def/classes/nuts-region...</td>\n",
       "    </tr>\n",
       "    <tr>\n",
       "      <th>119</th>\n",
       "      <td>NUTS Area Code</td>\n",
       "      <td>nuts_area_code</td>\n",
       "      <td>qb:dimension</td>\n",
       "      <td>http://gss-data.org.uk/def/dimension/nuts-area...</td>\n",
       "      <td>http://gss-data.org.uk/def/concept/nuts-area-c...</td>\n",
       "      <td>string</td>\n",
       "      <td>slugize</td>\n",
       "      <td>NaN</td>\n",
       "      <td>http://gss-data.org.uk/def/classes/nuts-area-c...</td>\n",
       "    </tr>\n",
       "    <tr>\n",
       "      <th>120</th>\n",
       "      <td>Life Expectancy Estimate Type</td>\n",
       "      <td>life_expectancy_estimate_type</td>\n",
       "      <td>qb:dimension</td>\n",
       "      <td>http://gss-data.org.uk/def/dimension/life-expe...</td>\n",
       "      <td>http://gss-data.org.uk/def/concept/life-expect...</td>\n",
       "      <td>string</td>\n",
       "      <td>slugize</td>\n",
       "      <td>NaN</td>\n",
       "      <td>http://gss-data.org.uk/def/classes/life-expect...</td>\n",
       "    </tr>\n",
       "    <tr>\n",
       "      <th>121</th>\n",
       "      <td>Headcount</td>\n",
       "      <td>headcount</td>\n",
       "      <td>qb:measure</td>\n",
       "      <td>http://gss-data.org.uk/def/measure/headcount</td>\n",
       "      <td>NaN</td>\n",
       "      <td>number</td>\n",
       "      <td>NaN</td>\n",
       "      <td>NaN</td>\n",
       "      <td>NaN</td>\n",
       "    </tr>\n",
       "    <tr>\n",
       "      <th>122</th>\n",
       "      <td>All Employees</td>\n",
       "      <td>all_employees</td>\n",
       "      <td>qb:measure</td>\n",
       "      <td>http://gss-data.org.uk/def/measure/all-employees</td>\n",
       "      <td>NaN</td>\n",
       "      <td>number</td>\n",
       "      <td>NaN</td>\n",
       "      <td>NaN</td>\n",
       "      <td>NaN</td>\n",
       "    </tr>\n",
       "    <tr>\n",
       "      <th>123</th>\n",
       "      <td>Median gender pay gap in percent</td>\n",
       "      <td>median_gender_pay_gap_in_percent</td>\n",
       "      <td>qb:measure</td>\n",
       "      <td>http://gss-data.org.uk/def/measure/median-gend...</td>\n",
       "      <td>NaN</td>\n",
       "      <td>number</td>\n",
       "      <td>NaN</td>\n",
       "      <td>NaN</td>\n",
       "      <td>NaN</td>\n",
       "    </tr>\n",
       "    <tr>\n",
       "      <th>124</th>\n",
       "      <td>Mean Earnings</td>\n",
       "      <td>mean_earnings</td>\n",
       "      <td>qb:measure</td>\n",
       "      <td>http://gss-data.org.uk/def/measure/mean-earnings</td>\n",
       "      <td>NaN</td>\n",
       "      <td>number</td>\n",
       "      <td>NaN</td>\n",
       "      <td>NaN</td>\n",
       "      <td>NaN</td>\n",
       "    </tr>\n",
       "    <tr>\n",
       "      <th>125</th>\n",
       "      <td>Median Earnings</td>\n",
       "      <td>median_earnings</td>\n",
       "      <td>qb:measure</td>\n",
       "      <td>http://gss-data.org.uk/def/measure/median-earn...</td>\n",
       "      <td>NaN</td>\n",
       "      <td>number</td>\n",
       "      <td>NaN</td>\n",
       "      <td>NaN</td>\n",
       "      <td>NaN</td>\n",
       "    </tr>\n",
       "    <tr>\n",
       "      <th>126</th>\n",
       "      <td>Percentage of each Gender by department</td>\n",
       "      <td>percentage_of_each_gender_by_department</td>\n",
       "      <td>qb:measure</td>\n",
       "      <td>http://gss-data.org.uk/def/measure/percentage-...</td>\n",
       "      <td>NaN</td>\n",
       "      <td>number</td>\n",
       "      <td>NaN</td>\n",
       "      <td>NaN</td>\n",
       "      <td>NaN</td>\n",
       "    </tr>\n",
       "    <tr>\n",
       "      <th>127</th>\n",
       "      <td>DfE Geography</td>\n",
       "      <td>dfe_geography</td>\n",
       "      <td>qb:dimension</td>\n",
       "      <td>http://gss-data.org.uk/def/dimension/dfe-geogr...</td>\n",
       "      <td>http://gss-data.org.uk/def/concept/dfe-age-gro...</td>\n",
       "      <td>string</td>\n",
       "      <td>NaN</td>\n",
       "      <td>NaN</td>\n",
       "      <td>http://gss-data.org.uk/def/classes/dfe_geograp...</td>\n",
       "    </tr>\n",
       "    <tr>\n",
       "      <th>128</th>\n",
       "      <td>DfE Statements of SEN or EHC Plan Description</td>\n",
       "      <td>dfe_statements_of_sen_or_ehc_plan_description</td>\n",
       "      <td>qb:dimension</td>\n",
       "      <td>http://gss-data.org.uk/def/dimension/dfe_state...</td>\n",
       "      <td>http://gss-data.org.uk/def/concept/dfe-age-gro...</td>\n",
       "      <td>string</td>\n",
       "      <td>NaN</td>\n",
       "      <td>NaN</td>\n",
       "      <td>http://gss-data.org.uk/def/classes/dfe_stateme...</td>\n",
       "    </tr>\n",
       "    <tr>\n",
       "      <th>129</th>\n",
       "      <td>DfE Statements or EHC Plan Type</td>\n",
       "      <td>dfe_statements_or_ehc_plan_type</td>\n",
       "      <td>qb:dimension</td>\n",
       "      <td>http://gss-data.org.uk/def/dimension/dfe_state...</td>\n",
       "      <td>http://gss-data.org.uk/def/concept/dfe-age-gro...</td>\n",
       "      <td>string</td>\n",
       "      <td>NaN</td>\n",
       "      <td>NaN</td>\n",
       "      <td>http://gss-data.org.uk/def/classes/dfe_stateme...</td>\n",
       "    </tr>\n",
       "    <tr>\n",
       "      <th>130</th>\n",
       "      <td>DfE Statements of SEN or EHC Plan Provider</td>\n",
       "      <td>dfe_statements_of_sen_or_ehc_plan_provider</td>\n",
       "      <td>qb:dimension</td>\n",
       "      <td>http://gss-data.org.uk/def/dimension/dfe_state...</td>\n",
       "      <td>http://gss-data.org.uk/def/concept/dfe-age-gro...</td>\n",
       "      <td>string</td>\n",
       "      <td>NaN</td>\n",
       "      <td>NaN</td>\n",
       "      <td>http://gss-data.org.uk/def/classes/dfe_stateme...</td>\n",
       "    </tr>\n",
       "    <tr>\n",
       "      <th>131</th>\n",
       "      <td>DfE Marker</td>\n",
       "      <td>dfe_marker</td>\n",
       "      <td>qb:dimension</td>\n",
       "      <td>http://gss-data.org.uk/def/dimension/dfe_marker</td>\n",
       "      <td>http://gss-data.org.uk/def/concept/dfe-age-gro...</td>\n",
       "      <td>string</td>\n",
       "      <td>NaN</td>\n",
       "      <td>NaN</td>\n",
       "      <td>http://gss-data.org.uk/def/classes/dfe_marker/...</td>\n",
       "    </tr>\n",
       "    <tr>\n",
       "      <th>132</th>\n",
       "      <td>ONS Marker</td>\n",
       "      <td>ons_marker</td>\n",
       "      <td>qb:attribute</td>\n",
       "      <td>http://purl.org/linked-data/sdmx/2009/attribut...</td>\n",
       "      <td>http://gss-data.org.uk/def/concept/ons-marker/...</td>\n",
       "      <td>string</td>\n",
       "      <td>NaN</td>\n",
       "      <td>NaN</td>\n",
       "      <td>NaN</td>\n",
       "    </tr>\n",
       "  </tbody>\n",
       "</table>\n",
       "<p>133 rows × 9 columns</p>\n",
       "</div>"
      ],
      "text/plain": [
       "                                               title  \\\n",
       "0                                       Measure Type   \n",
       "1                                               Area   \n",
       "2                                                Sex   \n",
       "3                                                Age   \n",
       "4                        Household Disability Status   \n",
       "5                            Workless Household Type   \n",
       "6                                               Unit   \n",
       "7                                        Sample Size   \n",
       "8                                           Lower CI   \n",
       "9                                           Upper CI   \n",
       "10                                             Value   \n",
       "11                                          Severity   \n",
       "12                                    Hours per Week   \n",
       "13                                         FRS Units   \n",
       "14                                 Employment Status   \n",
       "15                                   Employment Type   \n",
       "16                                       Adult Carer   \n",
       "17                                  Source of Income   \n",
       "18                                 Net Weekly Income   \n",
       "19                             Person cared for Type   \n",
       "20                                  Person cared for   \n",
       "21                                 Frequency of care   \n",
       "22                                     NHS Geography   \n",
       "23                                     ONS Geography   \n",
       "24                                        Disability   \n",
       "25                                            Period   \n",
       "26                                     FRS Age Group   \n",
       "27                                            Marker   \n",
       "28     Reasons for failing to maintain accommodation   \n",
       "29   Identified support needs of homeless households   \n",
       "..                                               ...   \n",
       "103                                 Reporting Period   \n",
       "104                                        Breakdown   \n",
       "105                                    CCG Indicator   \n",
       "106                                        NHS Level   \n",
       "107                                          Markers   \n",
       "108                                Disability Status   \n",
       "109                             Responsibility Level   \n",
       "110                                       Department   \n",
       "111                                      Salary Band   \n",
       "112                               Profession of Post   \n",
       "113                                      Nationality   \n",
       "114                                        Ethnicity   \n",
       "115                              Entrants or Leavers   \n",
       "116                               Type of Employment   \n",
       "117                             Status of Employment   \n",
       "118                                 NUTS Region name   \n",
       "119                                   NUTS Area Code   \n",
       "120                    Life Expectancy Estimate Type   \n",
       "121                                        Headcount   \n",
       "122                                    All Employees   \n",
       "123                 Median gender pay gap in percent   \n",
       "124                                    Mean Earnings   \n",
       "125                                  Median Earnings   \n",
       "126          Percentage of each Gender by department   \n",
       "127                                    DfE Geography   \n",
       "128    DfE Statements of SEN or EHC Plan Description   \n",
       "129                  DfE Statements or EHC Plan Type   \n",
       "130       DfE Statements of SEN or EHC Plan Provider   \n",
       "131                                       DfE Marker   \n",
       "132                                       ONS Marker   \n",
       "\n",
       "                                                name component_attachment  \\\n",
       "0                                       measure_type         qb:dimension   \n",
       "1                                               area         qb:dimension   \n",
       "2                                                sex         qb:dimension   \n",
       "3                                                age         qb:dimension   \n",
       "4                        household_disability_status         qb:dimension   \n",
       "5                            workless_household_type         qb:dimension   \n",
       "6                                               unit         qb:attribute   \n",
       "7                                        sample_size         qb:attribute   \n",
       "8                                           lower_ci         qb:attribute   \n",
       "9                                           upper_ci         qb:attribute   \n",
       "10                                             value                  NaN   \n",
       "11                                          severity         qb:dimension   \n",
       "12                                    hours_per_week         qb:dimension   \n",
       "13                                         frs_units         qb:dimension   \n",
       "14                                 employment_status         qb:dimension   \n",
       "15                                   employment_type         qb:dimension   \n",
       "16                                       adult_carer         qb:dimension   \n",
       "17                                  source_of_income         qb:dimension   \n",
       "18                                 net_weekly_income         qb:dimension   \n",
       "19                             person_cared_for_type         qb:dimension   \n",
       "20                                  person_cared_for         qb:dimension   \n",
       "21                                 frequency_of_care         qb:dimension   \n",
       "22                                     nhs_geography         qb:dimension   \n",
       "23                                     ons_geography         qb:dimension   \n",
       "24                                        disability         qb:dimension   \n",
       "25                                            period         qb:dimension   \n",
       "26                                     frs_age_group         qb:dimension   \n",
       "27                                            marker         qb:attribute   \n",
       "28     reasons_for_failing_to_maintain_accommodation         qb:dimension   \n",
       "29   identified_support_needs_of_homeless_households         qb:dimension   \n",
       "..                                               ...                  ...   \n",
       "103                                           period         qb:dimension   \n",
       "104                                        breakdown         qb:dimension   \n",
       "105                                    ccg_indicator         qb:dimension   \n",
       "106                                        nhs_level         qb:dimension   \n",
       "107                                          markers         qb:attribute   \n",
       "108                                disability_status         qb:dimension   \n",
       "109                             responsibility_level         qb:dimension   \n",
       "110                                       department         qb:dimension   \n",
       "111                                      salary_band         qb:dimension   \n",
       "112                               profession_of_post         qb:dimension   \n",
       "113                                      nationality         qb:dimension   \n",
       "114                                        ethnicity         qb:dimension   \n",
       "115                              entrants_or_leavers         qb:dimension   \n",
       "116                               type_of_employment         qb:dimension   \n",
       "117                             status_of_employment         qb:dimension   \n",
       "118                                 nuts_region_name         qb:dimension   \n",
       "119                                   nuts_area_code         qb:dimension   \n",
       "120                    life_expectancy_estimate_type         qb:dimension   \n",
       "121                                        headcount           qb:measure   \n",
       "122                                    all_employees           qb:measure   \n",
       "123                 median_gender_pay_gap_in_percent           qb:measure   \n",
       "124                                    mean_earnings           qb:measure   \n",
       "125                                  median_earnings           qb:measure   \n",
       "126          percentage_of_each_gender_by_department           qb:measure   \n",
       "127                                    dfe_geography         qb:dimension   \n",
       "128    dfe_statements_of_sen_or_ehc_plan_description         qb:dimension   \n",
       "129                  dfe_statements_or_ehc_plan_type         qb:dimension   \n",
       "130       dfe_statements_of_sen_or_ehc_plan_provider         qb:dimension   \n",
       "131                                       dfe_marker         qb:dimension   \n",
       "132                                       ons_marker         qb:attribute   \n",
       "\n",
       "                                     property_template  \\\n",
       "0         http://purl.org/linked-data/cube#measureType   \n",
       "1    http://purl.org/linked-data/sdmx/2009/dimensio...   \n",
       "2    http://purl.org/linked-data/sdmx/2009/dimensio...   \n",
       "3    http://purl.org/linked-data/sdmx/2009/dimensio...   \n",
       "4    http://gss-data.org.uk/def/dimension/household...   \n",
       "5    http://gss-data.org.uk/def/dimension/workless-...   \n",
       "6    http://purl.org/linked-data/sdmx/2009/attribut...   \n",
       "7     http://gss-data.org.uk/def/attribute/sample-size   \n",
       "8        http://gss-data.org.uk/def/attribute/lower-ci   \n",
       "9        http://gss-data.org.uk/def/attribute/upper-ci   \n",
       "10   http://gss-data.org.uk/def/measure/{measure_type}   \n",
       "11       http://gss-data.org.uk/def/dimension/severity   \n",
       "12   http://gss-data.org.uk/def/dimension/hours-per...   \n",
       "13      http://gss-data.org.uk/def/dimension/frs-units   \n",
       "14   http://gss-data.org.uk/def/dimension/employmen...   \n",
       "15   http://gss-data.org.uk/def/dimension/employmen...   \n",
       "16    http://gss-data.org.uk/def/dimension/adult-carer   \n",
       "17   http://gss-data.org.uk/def/dimension/source-of...   \n",
       "18   http://gss-data.org.uk/def/dimension/net-weekl...   \n",
       "19   http://gss-data.org.uk/def/dimension/person-ca...   \n",
       "20   http://gss-data.org.uk/def/dimension/person-ca...   \n",
       "21   http://gss-data.org.uk/def/dimension/frequency...   \n",
       "22   http://gss-data.org.uk/def/dimension/nhs-geogr...   \n",
       "23   http://purl.org/linked-data/sdmx/2009/dimensio...   \n",
       "24     http://gss-data.org.uk/def/dimension/disability   \n",
       "25   http://purl.org/linked-data/sdmx/2009/dimensio...   \n",
       "26   http://purl.org/linked-data/sdmx/2009/dimensio...   \n",
       "27   http://purl.org/linked-data/sdmx/2009/attribut...   \n",
       "28   http://gss-data.org.uk/def/dimension/reasons-f...   \n",
       "29   http://gss-data.org.uk/def/dimension/identifie...   \n",
       "..                                                 ...   \n",
       "103  http://purl.org/linked-data/sdmx/2009/dimensio...   \n",
       "104     http://gss-data.org.uk/def/dimension/breakdown   \n",
       "105  http://gss-data.org.uk/def/dimension/ccg-indic...   \n",
       "106     http://gss-data.org.uk/def/dimension/nhs-level   \n",
       "107  http://purl.org/linked-data/sdmx/2009/attribut...   \n",
       "108  http://gss-data.org.uk/def/dimension/disabilit...   \n",
       "109  http://gss-data.org.uk/def/dimension/responsib...   \n",
       "110    http://gss-data.org.uk/def/dimension/department   \n",
       "111   http://gss-data.org.uk/def/dimension/salary-band   \n",
       "112  http://gss-data.org.uk/def/dimension/professio...   \n",
       "113   http://gss-data.org.uk/def/dimension/nationality   \n",
       "114     http://gss-data.org.uk/def/dimension/ethnicity   \n",
       "115  http://gss-data.org.uk/def/dimension/entrants-...   \n",
       "116  http://gss-data.org.uk/def/dimension/type-of-e...   \n",
       "117  http://gss-data.org.uk/def/dimension/status-of...   \n",
       "118  http://gss-data.org.uk/def/dimension/nuts-regi...   \n",
       "119  http://gss-data.org.uk/def/dimension/nuts-area...   \n",
       "120  http://gss-data.org.uk/def/dimension/life-expe...   \n",
       "121       http://gss-data.org.uk/def/measure/headcount   \n",
       "122   http://gss-data.org.uk/def/measure/all-employees   \n",
       "123  http://gss-data.org.uk/def/measure/median-gend...   \n",
       "124   http://gss-data.org.uk/def/measure/mean-earnings   \n",
       "125  http://gss-data.org.uk/def/measure/median-earn...   \n",
       "126  http://gss-data.org.uk/def/measure/percentage-...   \n",
       "127  http://gss-data.org.uk/def/dimension/dfe-geogr...   \n",
       "128  http://gss-data.org.uk/def/dimension/dfe_state...   \n",
       "129  http://gss-data.org.uk/def/dimension/dfe_state...   \n",
       "130  http://gss-data.org.uk/def/dimension/dfe_state...   \n",
       "131    http://gss-data.org.uk/def/dimension/dfe_marker   \n",
       "132  http://purl.org/linked-data/sdmx/2009/attribut...   \n",
       "\n",
       "                                        value_template datatype  \\\n",
       "0    http://gss-data.org.uk/def/measure/{measure_type}   string   \n",
       "1    http://statistics.data.gov.uk/id/statistical-g...   string   \n",
       "2    http://purl.org/linked-data/sdmx/2009/code#sex...   string   \n",
       "3        http://gss-data.org.uk/def/concept/ages/{age}   string   \n",
       "4    http://gss-data.org.uk/def/concept/household-d...   string   \n",
       "5    http://gss-data.org.uk/def/concept/workless-ho...   string   \n",
       "6    http://gss-data.org.uk/def/concept/measurement...   string   \n",
       "7                                                  NaN   number   \n",
       "8                                                  NaN   number   \n",
       "9                                                  NaN   number   \n",
       "10                                                 NaN   number   \n",
       "11   http://gss-data.org.uk/def/concept/severity/{s...   string   \n",
       "12   http://gss-data.org.uk/def/concept/hours-per-w...   string   \n",
       "13   http://gss-data.org.uk/def/concept/frs-units/{...   string   \n",
       "14   http://gss-data.org.uk/def/concept/employment-...   string   \n",
       "15   http://gss-data.org.uk/def/concept/employment-...   string   \n",
       "16   http://gss-data.org.uk/def/concept/adult-carer...   string   \n",
       "17   http://gss-data.org.uk/def/concept/source-of-i...   string   \n",
       "18   http://gss-data.org.uk/def/concept/net-weekly-...   string   \n",
       "19   http://gss-data.org.uk/def/concept/person-care...   string   \n",
       "20   http://gss-data.org.uk/def/concept/person-care...   string   \n",
       "21   http://gss-data.org.uk/def/concept/frequency-o...   string   \n",
       "22   http://gss-data.org.uk/def/concept/nhs-geograp...   string   \n",
       "23   http://statistics.data.gov.uk/id/statistical-g...   string   \n",
       "24   http://gss-data.org.uk/def/concept/disability/...   string   \n",
       "25           http://reference.data.gov.uk/id/{+period}   string   \n",
       "26   http://gss-data.org.uk/def/concept/dwp-frs-age...   string   \n",
       "27   http://gss-data.org.uk/def/concept/marker/{mar...   string   \n",
       "28   http://gss-data.org.uk/def/concept/reasons-for...   string   \n",
       "29   http://gss-data.org.uk/def/concept/identified-...   string   \n",
       "..                                                 ...      ...   \n",
       "103          http://reference.data.gov.uk/id/{+period}   string   \n",
       "104  http://gss-data.org.uk/def/concept/breakdown/{...   string   \n",
       "105  http://gss-data.org.uk/def/concept/ccg-indicat...   string   \n",
       "106  http://gss-data.org.uk/def/concept/nhs-level/{...   string   \n",
       "107  http://gss-data.org.uk/def/concept/markers/{ma...   string   \n",
       "108  http://gss-data.org.uk/def/concept/disability-...   string   \n",
       "109  http://gss-data.org.uk/def/concept/responsibil...   string   \n",
       "110  http://gss-data.org.uk/def/concept/department/...   string   \n",
       "111  http://gss-data.org.uk/def/concept/salary-band...   string   \n",
       "112  http://gss-data.org.uk/def/concept/profession-...   string   \n",
       "113  http://gss-data.org.uk/def/concept/nationality...   string   \n",
       "114  http://gss-data.org.uk/def/concept/ethnicity/{...   string   \n",
       "115  http://gss-data.org.uk/def/concept/entrants-or...   string   \n",
       "116  http://gss-data.org.uk/def/concept/type-of-emp...   string   \n",
       "117  http://gss-data.org.uk/def/concept/status-of-e...   string   \n",
       "118  http://gss-data.org.uk/def/concept/nuts-region...   string   \n",
       "119  http://gss-data.org.uk/def/concept/nuts-area-c...   string   \n",
       "120  http://gss-data.org.uk/def/concept/life-expect...   string   \n",
       "121                                                NaN   number   \n",
       "122                                                NaN   number   \n",
       "123                                                NaN   number   \n",
       "124                                                NaN   number   \n",
       "125                                                NaN   number   \n",
       "126                                                NaN   number   \n",
       "127  http://gss-data.org.uk/def/concept/dfe-age-gro...   string   \n",
       "128  http://gss-data.org.uk/def/concept/dfe-age-gro...   string   \n",
       "129  http://gss-data.org.uk/def/concept/dfe-age-gro...   string   \n",
       "130  http://gss-data.org.uk/def/concept/dfe-age-gro...   string   \n",
       "131  http://gss-data.org.uk/def/concept/dfe-age-gro...   string   \n",
       "132  http://gss-data.org.uk/def/concept/ons-marker/...   string   \n",
       "\n",
       "    value_transformation                                              regex  \\\n",
       "0                slugize                                                NaN   \n",
       "1                    NaN                                                NaN   \n",
       "2                    NaN                                      ^(M|F|T|U|N)$   \n",
       "3                slugize                                                NaN   \n",
       "4                slugize                                                NaN   \n",
       "5                slugize                                                NaN   \n",
       "6                unitize                                                NaN   \n",
       "7                    NaN                                                NaN   \n",
       "8                    NaN                                                NaN   \n",
       "9                    NaN                                                NaN   \n",
       "10                   NaN                                                NaN   \n",
       "11               slugize                                                NaN   \n",
       "12               slugize                                                NaN   \n",
       "13               slugize                                                NaN   \n",
       "14               slugize                                                NaN   \n",
       "15               slugize                                                NaN   \n",
       "16               slugize                                                NaN   \n",
       "17               slugize                                                NaN   \n",
       "18               slugize                                                NaN   \n",
       "19               slugize                                                NaN   \n",
       "20               slugize                                                NaN   \n",
       "21               slugize                                                NaN   \n",
       "22                   NaN                                                NaN   \n",
       "23                   NaN                                      [A-Z][0-9]{8}   \n",
       "24                   NaN                                                NaN   \n",
       "25                   NaN  ^(year/[0-9]{4}|gregorian-interval/.*|month/[0...   \n",
       "26                   NaN                                                NaN   \n",
       "27                   NaN                                                NaN   \n",
       "28                   NaN                                                NaN   \n",
       "29                   NaN                                                NaN   \n",
       "..                   ...                                                ...   \n",
       "103                  NaN  ^(year/[0-9]{4}|gregorian-interval/.*|month/[0...   \n",
       "104              slugize                                                NaN   \n",
       "105              slugize                                                NaN   \n",
       "106              slugize                                                NaN   \n",
       "107              slugize                                                NaN   \n",
       "108              slugize                                                NaN   \n",
       "109              slugize                                                NaN   \n",
       "110              slugize                                                NaN   \n",
       "111              slugize                                                NaN   \n",
       "112              slugize                                                NaN   \n",
       "113              slugize                                                NaN   \n",
       "114              slugize                                                NaN   \n",
       "115              slugize                                                NaN   \n",
       "116              slugize                                                NaN   \n",
       "117              slugize                                                NaN   \n",
       "118              slugize                                                NaN   \n",
       "119              slugize                                                NaN   \n",
       "120              slugize                                                NaN   \n",
       "121                  NaN                                                NaN   \n",
       "122                  NaN                                                NaN   \n",
       "123                  NaN                                                NaN   \n",
       "124                  NaN                                                NaN   \n",
       "125                  NaN                                                NaN   \n",
       "126                  NaN                                                NaN   \n",
       "127                  NaN                                                NaN   \n",
       "128                  NaN                                                NaN   \n",
       "129                  NaN                                                NaN   \n",
       "130                  NaN                                                NaN   \n",
       "131                  NaN                                                NaN   \n",
       "132                  NaN                                                NaN   \n",
       "\n",
       "                                                 range  \n",
       "0                                   qb:MeasureProperty  \n",
       "1                                                  NaN  \n",
       "2       http://purl.org/linked-data/sdmx/2009/code#Sex  \n",
       "3                                                  NaN  \n",
       "4    http://gss-data.org.uk/def/classes/household-d...  \n",
       "5    http://gss-data.org.uk/def/classes/workless-ho...  \n",
       "6                                                  NaN  \n",
       "7                                                  NaN  \n",
       "8                                                  NaN  \n",
       "9                                                  NaN  \n",
       "10                                                 NaN  \n",
       "11                                                 NaN  \n",
       "12   http://gss-data.org.uk/def/classes/gp-practice...  \n",
       "13   http://gss-data.org.uk/def/classes/gp-practice...  \n",
       "14   http://gss-data.org.uk/def/classes/gp-practice...  \n",
       "15   http://gss-data.org.uk/def/classes/gp-practice...  \n",
       "16   http://gss-data.org.uk/def/classes/gp-practice...  \n",
       "17   http://gss-data.org.uk/def/classes/gp-practice...  \n",
       "18   http://gss-data.org.uk/def/classes/gp-practice...  \n",
       "19   http://gss-data.org.uk/def/classes/gp-practice...  \n",
       "20   http://gss-data.org.uk/def/classes/gp-practice...  \n",
       "21   http://gss-data.org.uk/def/classes/gp-practice...  \n",
       "22   http://gss-data.org.uk/def/classes/gp-practice...  \n",
       "23                                                 NaN  \n",
       "24   http://gss-data.org.uk/def/classes/disability/...  \n",
       "25   http://reference.data.gov.uk/def/intervals/Int...  \n",
       "26   http://gss-data.org.uk/def/classes/dwp-frs-age...  \n",
       "27                                                 NaN  \n",
       "28   http://gss-data.org.uk/def/classes/homelessnes...  \n",
       "29   http://gss-data.org.uk/def/classes/homelessnes...  \n",
       "..                                                 ...  \n",
       "103  http://reference.data.gov.uk/def/intervals/Int...  \n",
       "104  http://gss-data.org.uk/def/classes/breakdown/b...  \n",
       "105  http://gss-data.org.uk/def/classes/ccg-indicat...  \n",
       "106  http://gss-data.org.uk/def/classes/nhs-level/n...  \n",
       "107                                                NaN  \n",
       "108  http://gss-data.org.uk/def/classes/disability-...  \n",
       "109  http://gss-data.org.uk/def/classes/responsibil...  \n",
       "110  http://gss-data.org.uk/def/classes/department/...  \n",
       "111  http://gss-data.org.uk/def/classes/salary-band...  \n",
       "112  http://gss-data.org.uk/def/classes/profession-...  \n",
       "113  http://gss-data.org.uk/def/classes/nationality...  \n",
       "114  http://gss-data.org.uk/def/classes/ethnicity/e...  \n",
       "115  http://gss-data.org.uk/def/classes/entrants-or...  \n",
       "116  http://gss-data.org.uk/def/classes/type-of-emp...  \n",
       "117  http://gss-data.org.uk/def/classes/status-of-e...  \n",
       "118  http://gss-data.org.uk/def/classes/nuts-region...  \n",
       "119  http://gss-data.org.uk/def/classes/nuts-area-c...  \n",
       "120  http://gss-data.org.uk/def/classes/life-expect...  \n",
       "121                                                NaN  \n",
       "122                                                NaN  \n",
       "123                                                NaN  \n",
       "124                                                NaN  \n",
       "125                                                NaN  \n",
       "126                                                NaN  \n",
       "127  http://gss-data.org.uk/def/classes/dfe_geograp...  \n",
       "128  http://gss-data.org.uk/def/classes/dfe_stateme...  \n",
       "129  http://gss-data.org.uk/def/classes/dfe_stateme...  \n",
       "130  http://gss-data.org.uk/def/classes/dfe_stateme...  \n",
       "131  http://gss-data.org.uk/def/classes/dfe_marker/...  \n",
       "132                                                NaN  \n",
       "\n",
       "[133 rows x 9 columns]"
      ]
     },
     "metadata": {},
     "output_type": "display_data"
    },
    {
     "data": {
      "text/markdown": [
       "<span style='color:None'>**Displaying: https://raw.githubusercontent.com/GSS-Cogs/family-disability/master/reference/components.csv:**</span>"
      ],
      "text/plain": [
       "<IPython.core.display.Markdown object>"
      ]
     },
     "metadata": {},
     "output_type": "display_data"
    },
    {
     "data": {
      "text/html": [
       "<div>\n",
       "<style scoped>\n",
       "    .dataframe tbody tr th:only-of-type {\n",
       "        vertical-align: middle;\n",
       "    }\n",
       "\n",
       "    .dataframe tbody tr th {\n",
       "        vertical-align: top;\n",
       "    }\n",
       "\n",
       "    .dataframe thead th {\n",
       "        text-align: right;\n",
       "    }\n",
       "</style>\n",
       "<table border=\"1\" class=\"dataframe\">\n",
       "  <thead>\n",
       "    <tr style=\"text-align: right;\">\n",
       "      <th></th>\n",
       "      <th>Label</th>\n",
       "      <th>Description</th>\n",
       "      <th>Component Type</th>\n",
       "      <th>Codelist</th>\n",
       "    </tr>\n",
       "  </thead>\n",
       "  <tbody>\n",
       "    <tr>\n",
       "      <th>0</th>\n",
       "      <td>Household Disability Status</td>\n",
       "      <td>NaN</td>\n",
       "      <td>Dimension</td>\n",
       "      <td>http://gss-data.org.uk/def/concept-scheme/hous...</td>\n",
       "    </tr>\n",
       "    <tr>\n",
       "      <th>1</th>\n",
       "      <td>Workless Household Type</td>\n",
       "      <td>NaN</td>\n",
       "      <td>Dimension</td>\n",
       "      <td>http://gss-data.org.uk/def/concept-scheme/work...</td>\n",
       "    </tr>\n",
       "    <tr>\n",
       "      <th>2</th>\n",
       "      <td>Percentage of People</td>\n",
       "      <td>The percentage of all people measured who meet...</td>\n",
       "      <td>Measure</td>\n",
       "      <td>NaN</td>\n",
       "    </tr>\n",
       "    <tr>\n",
       "      <th>3</th>\n",
       "      <td>Identified support needs of homeless households</td>\n",
       "      <td>NaN</td>\n",
       "      <td>Dimension</td>\n",
       "      <td>http://gss-data.org.uk/def/concept-scheme/iden...</td>\n",
       "    </tr>\n",
       "    <tr>\n",
       "      <th>4</th>\n",
       "      <td>Reasons for failing to maintain accommodation</td>\n",
       "      <td>NaN</td>\n",
       "      <td>Dimension</td>\n",
       "      <td>http://gss-data.org.uk/def/concept-scheme/reas...</td>\n",
       "    </tr>\n",
       "    <tr>\n",
       "      <th>5</th>\n",
       "      <td>Reasons for homelessness application</td>\n",
       "      <td>NaN</td>\n",
       "      <td>Dimension</td>\n",
       "      <td>http://gss-data.org.uk/def/concept-scheme/reas...</td>\n",
       "    </tr>\n",
       "    <tr>\n",
       "      <th>6</th>\n",
       "      <td>Indicator</td>\n",
       "      <td>NaN</td>\n",
       "      <td>Dimension</td>\n",
       "      <td>http://gss-data.org.uk/def/concept-scheme/indi...</td>\n",
       "    </tr>\n",
       "    <tr>\n",
       "      <th>7</th>\n",
       "      <td>Trend</td>\n",
       "      <td>NaN</td>\n",
       "      <td>Dimension</td>\n",
       "      <td>http://gss-data.org.uk/def/concept-scheme/trend</td>\n",
       "    </tr>\n",
       "    <tr>\n",
       "      <th>8</th>\n",
       "      <td>Standard Population</td>\n",
       "      <td>NaN</td>\n",
       "      <td>Dimension</td>\n",
       "      <td>http://gss-data.org.uk/def/concept-scheme/phe-...</td>\n",
       "    </tr>\n",
       "    <tr>\n",
       "      <th>9</th>\n",
       "      <td>County &amp; UA (pre Apr2019) deprivation deciles ...</td>\n",
       "      <td>NaN</td>\n",
       "      <td>Dimension</td>\n",
       "      <td>http://gss-data.org.uk/def/concept-scheme/coun...</td>\n",
       "    </tr>\n",
       "    <tr>\n",
       "      <th>10</th>\n",
       "      <td>District &amp; UA (pre Apr2019)  deprivation decil...</td>\n",
       "      <td>NaN</td>\n",
       "      <td>Dimension</td>\n",
       "      <td>http://gss-data.org.uk/def/concept-scheme/dist...</td>\n",
       "    </tr>\n",
       "    <tr>\n",
       "      <th>11</th>\n",
       "      <td>County &amp; UA deprivation deciles in England (IM...</td>\n",
       "      <td>NaN</td>\n",
       "      <td>Dimension</td>\n",
       "      <td>http://gss-data.org.uk/def/concept-scheme/coun...</td>\n",
       "    </tr>\n",
       "    <tr>\n",
       "      <th>12</th>\n",
       "      <td>District &amp; UA deprivation deciles in England (...</td>\n",
       "      <td>NaN</td>\n",
       "      <td>Dimension</td>\n",
       "      <td>http://gss-data.org.uk/def/concept-scheme/dist...</td>\n",
       "    </tr>\n",
       "    <tr>\n",
       "      <th>13</th>\n",
       "      <td>County &amp; UA deprivation deciles in England (IM...</td>\n",
       "      <td>NaN</td>\n",
       "      <td>Dimension</td>\n",
       "      <td>http://gss-data.org.uk/def/concept-scheme/coun...</td>\n",
       "    </tr>\n",
       "    <tr>\n",
       "      <th>14</th>\n",
       "      <td>District &amp; UA deprivation deciles in England (...</td>\n",
       "      <td>NaN</td>\n",
       "      <td>Dimension</td>\n",
       "      <td>http://gss-data.org.uk/def/concept-scheme/dist...</td>\n",
       "    </tr>\n",
       "    <tr>\n",
       "      <th>15</th>\n",
       "      <td>County &amp; UA deprivation deciles in England (IM...</td>\n",
       "      <td>NaN</td>\n",
       "      <td>Dimension</td>\n",
       "      <td>http://gss-data.org.uk/def/concept-scheme/coun...</td>\n",
       "    </tr>\n",
       "    <tr>\n",
       "      <th>16</th>\n",
       "      <td>District &amp; UA deprivation deciles in England (...</td>\n",
       "      <td>NaN</td>\n",
       "      <td>Dimension</td>\n",
       "      <td>http://gss-data.org.uk/def/concept-scheme/dist...</td>\n",
       "    </tr>\n",
       "    <tr>\n",
       "      <th>17</th>\n",
       "      <td>Ethnic groups</td>\n",
       "      <td>NaN</td>\n",
       "      <td>Dimension</td>\n",
       "      <td>http://gss-data.org.uk/def/concept-scheme/ethn...</td>\n",
       "    </tr>\n",
       "    <tr>\n",
       "      <th>18</th>\n",
       "      <td>LSOA11 deprivation deciles in England (IMD2015)</td>\n",
       "      <td>NaN</td>\n",
       "      <td>Dimension</td>\n",
       "      <td>http://gss-data.org.uk/def/concept-scheme/lsoa...</td>\n",
       "    </tr>\n",
       "    <tr>\n",
       "      <th>19</th>\n",
       "      <td>Socioeconomic group (18-64 yrs)</td>\n",
       "      <td>NaN</td>\n",
       "      <td>Dimension</td>\n",
       "      <td>http://gss-data.org.uk/def/concept-scheme/soci...</td>\n",
       "    </tr>\n",
       "    <tr>\n",
       "      <th>20</th>\n",
       "      <td>Religion - 8 categories</td>\n",
       "      <td>NaN</td>\n",
       "      <td>Dimension</td>\n",
       "      <td>http://gss-data.org.uk/def/concept-scheme/reli...</td>\n",
       "    </tr>\n",
       "    <tr>\n",
       "      <th>21</th>\n",
       "      <td>Country of birth</td>\n",
       "      <td>NaN</td>\n",
       "      <td>Dimension</td>\n",
       "      <td>http://gss-data.org.uk/def/concept-scheme/coun...</td>\n",
       "    </tr>\n",
       "    <tr>\n",
       "      <th>22</th>\n",
       "      <td>Health status</td>\n",
       "      <td>NaN</td>\n",
       "      <td>Dimension</td>\n",
       "      <td>http://gss-data.org.uk/def/concept-scheme/heal...</td>\n",
       "    </tr>\n",
       "    <tr>\n",
       "      <th>23</th>\n",
       "      <td>Sexuality - 5 categories</td>\n",
       "      <td>NaN</td>\n",
       "      <td>Dimension</td>\n",
       "      <td>http://gss-data.org.uk/def/concept-scheme/sexu...</td>\n",
       "    </tr>\n",
       "    <tr>\n",
       "      <th>24</th>\n",
       "      <td>Percentage</td>\n",
       "      <td>Percentage</td>\n",
       "      <td>Measure</td>\n",
       "      <td>NaN</td>\n",
       "    </tr>\n",
       "    <tr>\n",
       "      <th>25</th>\n",
       "      <td>FRS Units</td>\n",
       "      <td>NaN</td>\n",
       "      <td>Dimension</td>\n",
       "      <td>http://gss-data.org.uk/def/concept-scheme/frs-...</td>\n",
       "    </tr>\n",
       "    <tr>\n",
       "      <th>26</th>\n",
       "      <td>Crude rate</td>\n",
       "      <td>NaN</td>\n",
       "      <td>Measure</td>\n",
       "      <td>NaN</td>\n",
       "    </tr>\n",
       "    <tr>\n",
       "      <th>27</th>\n",
       "      <td>Score</td>\n",
       "      <td>NaN</td>\n",
       "      <td>Measure</td>\n",
       "      <td>NaN</td>\n",
       "    </tr>\n",
       "    <tr>\n",
       "      <th>28</th>\n",
       "      <td>Directly standardised rate</td>\n",
       "      <td>NaN</td>\n",
       "      <td>Measure</td>\n",
       "      <td>NaN</td>\n",
       "    </tr>\n",
       "    <tr>\n",
       "      <th>29</th>\n",
       "      <td>Indirectly standardised rate</td>\n",
       "      <td>NaN</td>\n",
       "      <td>Measure</td>\n",
       "      <td>NaN</td>\n",
       "    </tr>\n",
       "    <tr>\n",
       "      <th>...</th>\n",
       "      <td>...</td>\n",
       "      <td>...</td>\n",
       "      <td>...</td>\n",
       "      <td>...</td>\n",
       "    </tr>\n",
       "    <tr>\n",
       "      <th>68</th>\n",
       "      <td>CCG Indicator</td>\n",
       "      <td>NaN</td>\n",
       "      <td>Dimension</td>\n",
       "      <td>http://gss-data.org.uk/def/concept-scheme/ccg-...</td>\n",
       "    </tr>\n",
       "    <tr>\n",
       "      <th>69</th>\n",
       "      <td>NHS Level</td>\n",
       "      <td>NaN</td>\n",
       "      <td>Dimension</td>\n",
       "      <td>http://gss-data.org.uk/def/concept-scheme/nhs-...</td>\n",
       "    </tr>\n",
       "    <tr>\n",
       "      <th>70</th>\n",
       "      <td>Markers</td>\n",
       "      <td>NaN</td>\n",
       "      <td>Attribute</td>\n",
       "      <td>http://gss-data.org.uk/def/concept-scheme/markers</td>\n",
       "    </tr>\n",
       "    <tr>\n",
       "      <th>71</th>\n",
       "      <td>Standardised admission rate</td>\n",
       "      <td>NaN</td>\n",
       "      <td>Measure</td>\n",
       "      <td>NaN</td>\n",
       "    </tr>\n",
       "    <tr>\n",
       "      <th>72</th>\n",
       "      <td>Standardised ratio</td>\n",
       "      <td>NaN</td>\n",
       "      <td>Measure</td>\n",
       "      <td>NaN</td>\n",
       "    </tr>\n",
       "    <tr>\n",
       "      <th>73</th>\n",
       "      <td>Standardised emergency admission rate</td>\n",
       "      <td>NaN</td>\n",
       "      <td>Measure</td>\n",
       "      <td>NaN</td>\n",
       "    </tr>\n",
       "    <tr>\n",
       "      <th>74</th>\n",
       "      <td>Ethnicity</td>\n",
       "      <td>NaN</td>\n",
       "      <td>Dimension</td>\n",
       "      <td>http://gss-data.org.uk/def/concept-scheme/ethn...</td>\n",
       "    </tr>\n",
       "    <tr>\n",
       "      <th>75</th>\n",
       "      <td>Disability Status</td>\n",
       "      <td>NaN</td>\n",
       "      <td>Dimension</td>\n",
       "      <td>http://gss-data.org.uk/def/concept-scheme/disa...</td>\n",
       "    </tr>\n",
       "    <tr>\n",
       "      <th>76</th>\n",
       "      <td>Nationality</td>\n",
       "      <td>NaN</td>\n",
       "      <td>Dimension</td>\n",
       "      <td>http://gss-data.org.uk/def/concept-scheme/nati...</td>\n",
       "    </tr>\n",
       "    <tr>\n",
       "      <th>77</th>\n",
       "      <td>Salary Band</td>\n",
       "      <td>NaN</td>\n",
       "      <td>Dimension</td>\n",
       "      <td>http://gss-data.org.uk/def/concept-scheme/sala...</td>\n",
       "    </tr>\n",
       "    <tr>\n",
       "      <th>78</th>\n",
       "      <td>Department</td>\n",
       "      <td>NaN</td>\n",
       "      <td>Dimension</td>\n",
       "      <td>http://gss-data.org.uk/def/concept-scheme/Depa...</td>\n",
       "    </tr>\n",
       "    <tr>\n",
       "      <th>79</th>\n",
       "      <td>Profession of Post</td>\n",
       "      <td>NaN</td>\n",
       "      <td>Dimension</td>\n",
       "      <td>http://gss-data.org.uk/def/concept-scheme/prof...</td>\n",
       "    </tr>\n",
       "    <tr>\n",
       "      <th>80</th>\n",
       "      <td>Type of Employment</td>\n",
       "      <td>NaN</td>\n",
       "      <td>Dimension</td>\n",
       "      <td>http://gss-data.org.uk/def/concept-scheme/type...</td>\n",
       "    </tr>\n",
       "    <tr>\n",
       "      <th>81</th>\n",
       "      <td>Status of Employment</td>\n",
       "      <td>NaN</td>\n",
       "      <td>Dimension</td>\n",
       "      <td>http://gss-data.org.uk/def/concept-scheme/stat...</td>\n",
       "    </tr>\n",
       "    <tr>\n",
       "      <th>82</th>\n",
       "      <td>Entrants or Leavers</td>\n",
       "      <td>NaN</td>\n",
       "      <td>Dimension</td>\n",
       "      <td>http://gss-data.org.uk/def/concept-scheme/entr...</td>\n",
       "    </tr>\n",
       "    <tr>\n",
       "      <th>83</th>\n",
       "      <td>Responsibility Level</td>\n",
       "      <td>NaN</td>\n",
       "      <td>Dimension</td>\n",
       "      <td>http://gss-data.org.uk/def/concept-scheme/resp...</td>\n",
       "    </tr>\n",
       "    <tr>\n",
       "      <th>84</th>\n",
       "      <td>NUTS Region name</td>\n",
       "      <td>NaN</td>\n",
       "      <td>Dimension</td>\n",
       "      <td>http://gss-data.org.uk/def/concept-scheme/nuts...</td>\n",
       "    </tr>\n",
       "    <tr>\n",
       "      <th>85</th>\n",
       "      <td>NUTS Area Code</td>\n",
       "      <td>NaN</td>\n",
       "      <td>Dimension</td>\n",
       "      <td>http://gss-data.org.uk/def/concept-scheme/nuts...</td>\n",
       "    </tr>\n",
       "    <tr>\n",
       "      <th>86</th>\n",
       "      <td>Life Expectancy Estimate Type</td>\n",
       "      <td>NaN</td>\n",
       "      <td>Dimension</td>\n",
       "      <td>http://gss-data.org.uk/def/concept-scheme/life...</td>\n",
       "    </tr>\n",
       "    <tr>\n",
       "      <th>87</th>\n",
       "      <td>Headcount</td>\n",
       "      <td>NaN</td>\n",
       "      <td>Measure</td>\n",
       "      <td>NaN</td>\n",
       "    </tr>\n",
       "    <tr>\n",
       "      <th>88</th>\n",
       "      <td>Median gender pay gap in percent</td>\n",
       "      <td>NaN</td>\n",
       "      <td>Measure</td>\n",
       "      <td>NaN</td>\n",
       "    </tr>\n",
       "    <tr>\n",
       "      <th>89</th>\n",
       "      <td>Mean Earnings</td>\n",
       "      <td>NaN</td>\n",
       "      <td>Measure</td>\n",
       "      <td>NaN</td>\n",
       "    </tr>\n",
       "    <tr>\n",
       "      <th>90</th>\n",
       "      <td>Median Earnings</td>\n",
       "      <td>NaN</td>\n",
       "      <td>Measure</td>\n",
       "      <td>NaN</td>\n",
       "    </tr>\n",
       "    <tr>\n",
       "      <th>91</th>\n",
       "      <td>Percentage of each Gender by department</td>\n",
       "      <td>NaN</td>\n",
       "      <td>Measure</td>\n",
       "      <td>NaN</td>\n",
       "    </tr>\n",
       "    <tr>\n",
       "      <th>92</th>\n",
       "      <td>All Employees</td>\n",
       "      <td>NaN</td>\n",
       "      <td>Measure</td>\n",
       "      <td>NaN</td>\n",
       "    </tr>\n",
       "    <tr>\n",
       "      <th>93</th>\n",
       "      <td>DfE Geography</td>\n",
       "      <td>NaN</td>\n",
       "      <td>Dimension</td>\n",
       "      <td>http://gss-data.org.uk/def/concept-scheme/dfe-...</td>\n",
       "    </tr>\n",
       "    <tr>\n",
       "      <th>94</th>\n",
       "      <td>DfE Statements of SEN or EHC Plan Description</td>\n",
       "      <td>NaN</td>\n",
       "      <td>Dimension</td>\n",
       "      <td>http://gss-data.org.uk/def/concept-scheme/dfe-...</td>\n",
       "    </tr>\n",
       "    <tr>\n",
       "      <th>95</th>\n",
       "      <td>DfE Statements or EHC Plan Type</td>\n",
       "      <td>NaN</td>\n",
       "      <td>Dimension</td>\n",
       "      <td>http://gss-data.org.uk/def/concept-scheme/dfe-...</td>\n",
       "    </tr>\n",
       "    <tr>\n",
       "      <th>96</th>\n",
       "      <td>DfE Statements of SEN or EHC Plan Provider</td>\n",
       "      <td>NaN</td>\n",
       "      <td>Dimension</td>\n",
       "      <td>http://gss-data.org.uk/def/concept-scheme/dfe-...</td>\n",
       "    </tr>\n",
       "    <tr>\n",
       "      <th>97</th>\n",
       "      <td>DfE Marker</td>\n",
       "      <td>NaN</td>\n",
       "      <td>Dimension</td>\n",
       "      <td>http://gss-data.org.uk/def/concept-scheme/dfe-...</td>\n",
       "    </tr>\n",
       "  </tbody>\n",
       "</table>\n",
       "<p>98 rows × 4 columns</p>\n",
       "</div>"
      ],
      "text/plain": [
       "                                                Label  \\\n",
       "0                         Household Disability Status   \n",
       "1                             Workless Household Type   \n",
       "2                                Percentage of People   \n",
       "3     Identified support needs of homeless households   \n",
       "4       Reasons for failing to maintain accommodation   \n",
       "5                Reasons for homelessness application   \n",
       "6                                           Indicator   \n",
       "7                                               Trend   \n",
       "8                                 Standard Population   \n",
       "9   County & UA (pre Apr2019) deprivation deciles ...   \n",
       "10  District & UA (pre Apr2019)  deprivation decil...   \n",
       "11  County & UA deprivation deciles in England (IM...   \n",
       "12  District & UA deprivation deciles in England (...   \n",
       "13  County & UA deprivation deciles in England (IM...   \n",
       "14  District & UA deprivation deciles in England (...   \n",
       "15  County & UA deprivation deciles in England (IM...   \n",
       "16  District & UA deprivation deciles in England (...   \n",
       "17                                      Ethnic groups   \n",
       "18    LSOA11 deprivation deciles in England (IMD2015)   \n",
       "19                    Socioeconomic group (18-64 yrs)   \n",
       "20                            Religion - 8 categories   \n",
       "21                                   Country of birth   \n",
       "22                                      Health status   \n",
       "23                           Sexuality - 5 categories   \n",
       "24                                         Percentage   \n",
       "25                                          FRS Units   \n",
       "26                                         Crude rate   \n",
       "27                                              Score   \n",
       "28                         Directly standardised rate   \n",
       "29                       Indirectly standardised rate   \n",
       "..                                                ...   \n",
       "68                                      CCG Indicator   \n",
       "69                                          NHS Level   \n",
       "70                                            Markers   \n",
       "71                        Standardised admission rate   \n",
       "72                                 Standardised ratio   \n",
       "73              Standardised emergency admission rate   \n",
       "74                                          Ethnicity   \n",
       "75                                  Disability Status   \n",
       "76                                        Nationality   \n",
       "77                                        Salary Band   \n",
       "78                                         Department   \n",
       "79                                 Profession of Post   \n",
       "80                                 Type of Employment   \n",
       "81                               Status of Employment   \n",
       "82                                Entrants or Leavers   \n",
       "83                               Responsibility Level   \n",
       "84                                   NUTS Region name   \n",
       "85                                     NUTS Area Code   \n",
       "86                      Life Expectancy Estimate Type   \n",
       "87                                          Headcount   \n",
       "88                   Median gender pay gap in percent   \n",
       "89                                      Mean Earnings   \n",
       "90                                    Median Earnings   \n",
       "91            Percentage of each Gender by department   \n",
       "92                                      All Employees   \n",
       "93                                      DfE Geography   \n",
       "94      DfE Statements of SEN or EHC Plan Description   \n",
       "95                    DfE Statements or EHC Plan Type   \n",
       "96         DfE Statements of SEN or EHC Plan Provider   \n",
       "97                                         DfE Marker   \n",
       "\n",
       "                                          Description Component Type  \\\n",
       "0                                                 NaN      Dimension   \n",
       "1                                                 NaN      Dimension   \n",
       "2   The percentage of all people measured who meet...        Measure   \n",
       "3                                                 NaN      Dimension   \n",
       "4                                                 NaN      Dimension   \n",
       "5                                                 NaN      Dimension   \n",
       "6                                                 NaN      Dimension   \n",
       "7                                                 NaN      Dimension   \n",
       "8                                                 NaN      Dimension   \n",
       "9                                                 NaN      Dimension   \n",
       "10                                                NaN      Dimension   \n",
       "11                                                NaN      Dimension   \n",
       "12                                                NaN      Dimension   \n",
       "13                                                NaN      Dimension   \n",
       "14                                                NaN      Dimension   \n",
       "15                                                NaN      Dimension   \n",
       "16                                                NaN      Dimension   \n",
       "17                                                NaN      Dimension   \n",
       "18                                                NaN      Dimension   \n",
       "19                                                NaN      Dimension   \n",
       "20                                                NaN      Dimension   \n",
       "21                                                NaN      Dimension   \n",
       "22                                                NaN      Dimension   \n",
       "23                                                NaN      Dimension   \n",
       "24                                         Percentage        Measure   \n",
       "25                                                NaN      Dimension   \n",
       "26                                                NaN        Measure   \n",
       "27                                                NaN        Measure   \n",
       "28                                                NaN        Measure   \n",
       "29                                                NaN        Measure   \n",
       "..                                                ...            ...   \n",
       "68                                                NaN      Dimension   \n",
       "69                                                NaN      Dimension   \n",
       "70                                                NaN      Attribute   \n",
       "71                                                NaN        Measure   \n",
       "72                                                NaN        Measure   \n",
       "73                                                NaN        Measure   \n",
       "74                                                NaN      Dimension   \n",
       "75                                                NaN      Dimension   \n",
       "76                                                NaN      Dimension   \n",
       "77                                                NaN      Dimension   \n",
       "78                                                NaN      Dimension   \n",
       "79                                                NaN      Dimension   \n",
       "80                                                NaN      Dimension   \n",
       "81                                                NaN      Dimension   \n",
       "82                                                NaN      Dimension   \n",
       "83                                                NaN      Dimension   \n",
       "84                                                NaN      Dimension   \n",
       "85                                                NaN      Dimension   \n",
       "86                                                NaN      Dimension   \n",
       "87                                                NaN        Measure   \n",
       "88                                                NaN        Measure   \n",
       "89                                                NaN        Measure   \n",
       "90                                                NaN        Measure   \n",
       "91                                                NaN        Measure   \n",
       "92                                                NaN        Measure   \n",
       "93                                                NaN      Dimension   \n",
       "94                                                NaN      Dimension   \n",
       "95                                                NaN      Dimension   \n",
       "96                                                NaN      Dimension   \n",
       "97                                                NaN      Dimension   \n",
       "\n",
       "                                             Codelist  \n",
       "0   http://gss-data.org.uk/def/concept-scheme/hous...  \n",
       "1   http://gss-data.org.uk/def/concept-scheme/work...  \n",
       "2                                                 NaN  \n",
       "3   http://gss-data.org.uk/def/concept-scheme/iden...  \n",
       "4   http://gss-data.org.uk/def/concept-scheme/reas...  \n",
       "5   http://gss-data.org.uk/def/concept-scheme/reas...  \n",
       "6   http://gss-data.org.uk/def/concept-scheme/indi...  \n",
       "7     http://gss-data.org.uk/def/concept-scheme/trend  \n",
       "8   http://gss-data.org.uk/def/concept-scheme/phe-...  \n",
       "9   http://gss-data.org.uk/def/concept-scheme/coun...  \n",
       "10  http://gss-data.org.uk/def/concept-scheme/dist...  \n",
       "11  http://gss-data.org.uk/def/concept-scheme/coun...  \n",
       "12  http://gss-data.org.uk/def/concept-scheme/dist...  \n",
       "13  http://gss-data.org.uk/def/concept-scheme/coun...  \n",
       "14  http://gss-data.org.uk/def/concept-scheme/dist...  \n",
       "15  http://gss-data.org.uk/def/concept-scheme/coun...  \n",
       "16  http://gss-data.org.uk/def/concept-scheme/dist...  \n",
       "17  http://gss-data.org.uk/def/concept-scheme/ethn...  \n",
       "18  http://gss-data.org.uk/def/concept-scheme/lsoa...  \n",
       "19  http://gss-data.org.uk/def/concept-scheme/soci...  \n",
       "20  http://gss-data.org.uk/def/concept-scheme/reli...  \n",
       "21  http://gss-data.org.uk/def/concept-scheme/coun...  \n",
       "22  http://gss-data.org.uk/def/concept-scheme/heal...  \n",
       "23  http://gss-data.org.uk/def/concept-scheme/sexu...  \n",
       "24                                                NaN  \n",
       "25  http://gss-data.org.uk/def/concept-scheme/frs-...  \n",
       "26                                                NaN  \n",
       "27                                                NaN  \n",
       "28                                                NaN  \n",
       "29                                                NaN  \n",
       "..                                                ...  \n",
       "68  http://gss-data.org.uk/def/concept-scheme/ccg-...  \n",
       "69  http://gss-data.org.uk/def/concept-scheme/nhs-...  \n",
       "70  http://gss-data.org.uk/def/concept-scheme/markers  \n",
       "71                                                NaN  \n",
       "72                                                NaN  \n",
       "73                                                NaN  \n",
       "74  http://gss-data.org.uk/def/concept-scheme/ethn...  \n",
       "75  http://gss-data.org.uk/def/concept-scheme/disa...  \n",
       "76  http://gss-data.org.uk/def/concept-scheme/nati...  \n",
       "77  http://gss-data.org.uk/def/concept-scheme/sala...  \n",
       "78  http://gss-data.org.uk/def/concept-scheme/Depa...  \n",
       "79  http://gss-data.org.uk/def/concept-scheme/prof...  \n",
       "80  http://gss-data.org.uk/def/concept-scheme/type...  \n",
       "81  http://gss-data.org.uk/def/concept-scheme/stat...  \n",
       "82  http://gss-data.org.uk/def/concept-scheme/entr...  \n",
       "83  http://gss-data.org.uk/def/concept-scheme/resp...  \n",
       "84  http://gss-data.org.uk/def/concept-scheme/nuts...  \n",
       "85  http://gss-data.org.uk/def/concept-scheme/nuts...  \n",
       "86  http://gss-data.org.uk/def/concept-scheme/life...  \n",
       "87                                                NaN  \n",
       "88                                                NaN  \n",
       "89                                                NaN  \n",
       "90                                                NaN  \n",
       "91                                                NaN  \n",
       "92                                                NaN  \n",
       "93  http://gss-data.org.uk/def/concept-scheme/dfe-...  \n",
       "94  http://gss-data.org.uk/def/concept-scheme/dfe-...  \n",
       "95  http://gss-data.org.uk/def/concept-scheme/dfe-...  \n",
       "96  http://gss-data.org.uk/def/concept-scheme/dfe-...  \n",
       "97  http://gss-data.org.uk/def/concept-scheme/dfe-...  \n",
       "\n",
       "[98 rows x 4 columns]"
      ]
     },
     "metadata": {},
     "output_type": "display_data"
    }
   ],
   "source": [
    "df_ref_repo_columns = pd.read_csv(url_ref_repo_columns)\n",
    "printmd('**Displaying: ' + url_ref_repo_columns + ':**')\n",
    "display(df_ref_repo_columns)\n",
    "\n",
    "df_ref_repo_components = pd.read_csv(url_ref_repo_components)\n",
    "printmd('**Displaying: ' + url_ref_repo_components + ':**')\n",
    "display(df_ref_repo_components)\n"
   ]
  },
  {
   "cell_type": "markdown",
   "metadata": {},
   "source": [
    "**Mapping between the transformed dimensions (components) and the master reference data is completed manually.**\n"
   ]
  },
  {
   "cell_type": "code",
   "execution_count": 330,
   "metadata": {},
   "outputs": [
    {
     "data": {
      "text/markdown": [
       "<span style='color:Grey'>\n",
       "===================================================================================================================</span>"
      ],
      "text/plain": [
       "<IPython.core.display.Markdown object>"
      ]
     },
     "metadata": {},
     "output_type": "display_data"
    },
    {
     "data": {
      "text/markdown": [
       "<span style='color:Red'>**Please use Caution!:** Displayed below are the current components as defined by automation and manual [Entry Type] assignment.</span>"
      ],
      "text/plain": [
       "<IPython.core.display.Markdown object>"
      ]
     },
     "metadata": {},
     "output_type": "display_data"
    },
    {
     "data": {
      "text/markdown": [
       "<span style='color:Red'>*Through code you may need to map these components with those in the master reference data repository (currently .csv files). See later code sections.*</span>"
      ],
      "text/plain": [
       "<IPython.core.display.Markdown object>"
      ]
     },
     "metadata": {},
     "output_type": "display_data"
    },
    {
     "data": {
      "text/markdown": [
       "<span style='color:Grey'>\n",
       "===================================================================================================================</span>"
      ],
      "text/plain": [
       "<IPython.core.display.Markdown object>"
      ]
     },
     "metadata": {},
     "output_type": "display_data"
    },
    {
     "data": {
      "text/markdown": [
       "<span style='color:Grey'>\n",
       "====================================================================================================</span>"
      ],
      "text/plain": [
       "<IPython.core.display.Markdown object>"
      ]
     },
     "metadata": {},
     "output_type": "display_data"
    },
    {
     "data": {
      "text/markdown": [
       "<span style='color:Blue'>Revised Component DataFrame for: HE - Country level estimates_LE.</span>"
      ],
      "text/plain": [
       "<IPython.core.display.Markdown object>"
      ]
     },
     "metadata": {},
     "output_type": "display_data"
    },
    {
     "data": {
      "text/markdown": [
       "<span style='color:Grey'>====================================================================================================</span>"
      ],
      "text/plain": [
       "<IPython.core.display.Markdown object>"
      ]
     },
     "metadata": {},
     "output_type": "display_data"
    },
    {
     "data": {
      "text/html": [
       "<div>\n",
       "<style scoped>\n",
       "    .dataframe tbody tr th:only-of-type {\n",
       "        vertical-align: middle;\n",
       "    }\n",
       "\n",
       "    .dataframe tbody tr th {\n",
       "        vertical-align: top;\n",
       "    }\n",
       "\n",
       "    .dataframe thead th {\n",
       "        text-align: right;\n",
       "    }\n",
       "</style>\n",
       "<table border=\"1\" class=\"dataframe\">\n",
       "  <thead>\n",
       "    <tr style=\"text-align: right;\">\n",
       "      <th></th>\n",
       "      <th>HE - Country level estimates_LE</th>\n",
       "      <th>Entry Type</th>\n",
       "    </tr>\n",
       "  </thead>\n",
       "  <tbody>\n",
       "    <tr>\n",
       "      <th>0</th>\n",
       "      <td>Period</td>\n",
       "      <td>Dimension</td>\n",
       "    </tr>\n",
       "    <tr>\n",
       "      <th>1</th>\n",
       "      <td>Code</td>\n",
       "      <td>Dimension</td>\n",
       "    </tr>\n",
       "    <tr>\n",
       "      <th>2</th>\n",
       "      <td>Sex</td>\n",
       "      <td>Dimension</td>\n",
       "    </tr>\n",
       "    <tr>\n",
       "      <th>3</th>\n",
       "      <td>age group</td>\n",
       "      <td>Dimension</td>\n",
       "    </tr>\n",
       "    <tr>\n",
       "      <th>4</th>\n",
       "      <td>Life Expectancy (LE)_</td>\n",
       "      <td>Measure</td>\n",
       "    </tr>\n",
       "    <tr>\n",
       "      <th>5</th>\n",
       "      <td>LE Lower CI_</td>\n",
       "      <td>Observation</td>\n",
       "    </tr>\n",
       "    <tr>\n",
       "      <th>6</th>\n",
       "      <td>LE Upper CI_</td>\n",
       "      <td>Observation</td>\n",
       "    </tr>\n",
       "    <tr>\n",
       "      <th>7</th>\n",
       "      <td>TransformationType</td>\n",
       "      <td>Dimension</td>\n",
       "    </tr>\n",
       "  </tbody>\n",
       "</table>\n",
       "</div>"
      ],
      "text/plain": [
       "  HE - Country level estimates_LE   Entry Type\n",
       "0                          Period    Dimension\n",
       "1                            Code    Dimension\n",
       "2                             Sex    Dimension\n",
       "3                       age group    Dimension\n",
       "4           Life Expectancy (LE)_      Measure\n",
       "5                    LE Lower CI_  Observation\n",
       "6                    LE Upper CI_  Observation\n",
       "7              TransformationType    Dimension"
      ]
     },
     "metadata": {},
     "output_type": "display_data"
    },
    {
     "data": {
      "text/markdown": [
       "<span style='color:Grey'>\n",
       "====================================================================================================</span>"
      ],
      "text/plain": [
       "<IPython.core.display.Markdown object>"
      ]
     },
     "metadata": {},
     "output_type": "display_data"
    },
    {
     "data": {
      "text/markdown": [
       "<span style='color:Blue'>Revised Component DataFrame for: HE - Country level estimates_HLE.</span>"
      ],
      "text/plain": [
       "<IPython.core.display.Markdown object>"
      ]
     },
     "metadata": {},
     "output_type": "display_data"
    },
    {
     "data": {
      "text/markdown": [
       "<span style='color:Grey'>====================================================================================================</span>"
      ],
      "text/plain": [
       "<IPython.core.display.Markdown object>"
      ]
     },
     "metadata": {},
     "output_type": "display_data"
    },
    {
     "data": {
      "text/html": [
       "<div>\n",
       "<style scoped>\n",
       "    .dataframe tbody tr th:only-of-type {\n",
       "        vertical-align: middle;\n",
       "    }\n",
       "\n",
       "    .dataframe tbody tr th {\n",
       "        vertical-align: top;\n",
       "    }\n",
       "\n",
       "    .dataframe thead th {\n",
       "        text-align: right;\n",
       "    }\n",
       "</style>\n",
       "<table border=\"1\" class=\"dataframe\">\n",
       "  <thead>\n",
       "    <tr style=\"text-align: right;\">\n",
       "      <th></th>\n",
       "      <th>HE - Country level estimates_HLE</th>\n",
       "      <th>Entry Type</th>\n",
       "    </tr>\n",
       "  </thead>\n",
       "  <tbody>\n",
       "    <tr>\n",
       "      <th>0</th>\n",
       "      <td>Period</td>\n",
       "      <td>Dimension</td>\n",
       "    </tr>\n",
       "    <tr>\n",
       "      <th>1</th>\n",
       "      <td>Code</td>\n",
       "      <td>Dimension</td>\n",
       "    </tr>\n",
       "    <tr>\n",
       "      <th>2</th>\n",
       "      <td>Sex</td>\n",
       "      <td>Dimension</td>\n",
       "    </tr>\n",
       "    <tr>\n",
       "      <th>3</th>\n",
       "      <td>age group</td>\n",
       "      <td>Dimension</td>\n",
       "    </tr>\n",
       "    <tr>\n",
       "      <th>4</th>\n",
       "      <td>Healthy Life Expectancy (HLE) _</td>\n",
       "      <td>Measure</td>\n",
       "    </tr>\n",
       "    <tr>\n",
       "      <th>5</th>\n",
       "      <td>HLE Lower CI_</td>\n",
       "      <td>Observation</td>\n",
       "    </tr>\n",
       "    <tr>\n",
       "      <th>6</th>\n",
       "      <td>HLE Upper CI_</td>\n",
       "      <td>Observation</td>\n",
       "    </tr>\n",
       "    <tr>\n",
       "      <th>7</th>\n",
       "      <td>TransformationType</td>\n",
       "      <td>Dimension</td>\n",
       "    </tr>\n",
       "  </tbody>\n",
       "</table>\n",
       "</div>"
      ],
      "text/plain": [
       "  HE - Country level estimates_HLE   Entry Type\n",
       "0                           Period    Dimension\n",
       "1                             Code    Dimension\n",
       "2                              Sex    Dimension\n",
       "3                        age group    Dimension\n",
       "4  Healthy Life Expectancy (HLE) _      Measure\n",
       "5                    HLE Lower CI_  Observation\n",
       "6                    HLE Upper CI_  Observation\n",
       "7               TransformationType    Dimension"
      ]
     },
     "metadata": {},
     "output_type": "display_data"
    },
    {
     "data": {
      "text/markdown": [
       "<span style='color:Grey'>\n",
       "====================================================================================================</span>"
      ],
      "text/plain": [
       "<IPython.core.display.Markdown object>"
      ]
     },
     "metadata": {},
     "output_type": "display_data"
    },
    {
     "data": {
      "text/markdown": [
       "<span style='color:Blue'>Revised Component DataFrame for: HE - Region level estimates_LE.</span>"
      ],
      "text/plain": [
       "<IPython.core.display.Markdown object>"
      ]
     },
     "metadata": {},
     "output_type": "display_data"
    },
    {
     "data": {
      "text/markdown": [
       "<span style='color:Grey'>====================================================================================================</span>"
      ],
      "text/plain": [
       "<IPython.core.display.Markdown object>"
      ]
     },
     "metadata": {},
     "output_type": "display_data"
    },
    {
     "data": {
      "text/html": [
       "<div>\n",
       "<style scoped>\n",
       "    .dataframe tbody tr th:only-of-type {\n",
       "        vertical-align: middle;\n",
       "    }\n",
       "\n",
       "    .dataframe tbody tr th {\n",
       "        vertical-align: top;\n",
       "    }\n",
       "\n",
       "    .dataframe thead th {\n",
       "        text-align: right;\n",
       "    }\n",
       "</style>\n",
       "<table border=\"1\" class=\"dataframe\">\n",
       "  <thead>\n",
       "    <tr style=\"text-align: right;\">\n",
       "      <th></th>\n",
       "      <th>HE - Region level estimates_LE</th>\n",
       "      <th>Entry Type</th>\n",
       "    </tr>\n",
       "  </thead>\n",
       "  <tbody>\n",
       "    <tr>\n",
       "      <th>0</th>\n",
       "      <td>Period</td>\n",
       "      <td>Dimension</td>\n",
       "    </tr>\n",
       "    <tr>\n",
       "      <th>1</th>\n",
       "      <td>Code</td>\n",
       "      <td>Dimension</td>\n",
       "    </tr>\n",
       "    <tr>\n",
       "      <th>2</th>\n",
       "      <td>Sex</td>\n",
       "      <td>Dimension</td>\n",
       "    </tr>\n",
       "    <tr>\n",
       "      <th>3</th>\n",
       "      <td>Age group</td>\n",
       "      <td>Dimension</td>\n",
       "    </tr>\n",
       "    <tr>\n",
       "      <th>4</th>\n",
       "      <td>Life Expectancy (LE)_</td>\n",
       "      <td>Measure</td>\n",
       "    </tr>\n",
       "    <tr>\n",
       "      <th>5</th>\n",
       "      <td>LE Lower CI_</td>\n",
       "      <td>Observation</td>\n",
       "    </tr>\n",
       "    <tr>\n",
       "      <th>6</th>\n",
       "      <td>LE Upper CI_</td>\n",
       "      <td>Observation</td>\n",
       "    </tr>\n",
       "    <tr>\n",
       "      <th>7</th>\n",
       "      <td>TransformationType</td>\n",
       "      <td>Dimension</td>\n",
       "    </tr>\n",
       "  </tbody>\n",
       "</table>\n",
       "</div>"
      ],
      "text/plain": [
       "  HE - Region level estimates_LE   Entry Type\n",
       "0                         Period    Dimension\n",
       "1                           Code    Dimension\n",
       "2                            Sex    Dimension\n",
       "3                      Age group    Dimension\n",
       "4          Life Expectancy (LE)_      Measure\n",
       "5                   LE Lower CI_  Observation\n",
       "6                   LE Upper CI_  Observation\n",
       "7             TransformationType    Dimension"
      ]
     },
     "metadata": {},
     "output_type": "display_data"
    },
    {
     "data": {
      "text/markdown": [
       "<span style='color:Grey'>\n",
       "====================================================================================================</span>"
      ],
      "text/plain": [
       "<IPython.core.display.Markdown object>"
      ]
     },
     "metadata": {},
     "output_type": "display_data"
    },
    {
     "data": {
      "text/markdown": [
       "<span style='color:Blue'>Revised Component DataFrame for: HE - Region level estimates_HLE.</span>"
      ],
      "text/plain": [
       "<IPython.core.display.Markdown object>"
      ]
     },
     "metadata": {},
     "output_type": "display_data"
    },
    {
     "data": {
      "text/markdown": [
       "<span style='color:Grey'>====================================================================================================</span>"
      ],
      "text/plain": [
       "<IPython.core.display.Markdown object>"
      ]
     },
     "metadata": {},
     "output_type": "display_data"
    },
    {
     "data": {
      "text/html": [
       "<div>\n",
       "<style scoped>\n",
       "    .dataframe tbody tr th:only-of-type {\n",
       "        vertical-align: middle;\n",
       "    }\n",
       "\n",
       "    .dataframe tbody tr th {\n",
       "        vertical-align: top;\n",
       "    }\n",
       "\n",
       "    .dataframe thead th {\n",
       "        text-align: right;\n",
       "    }\n",
       "</style>\n",
       "<table border=\"1\" class=\"dataframe\">\n",
       "  <thead>\n",
       "    <tr style=\"text-align: right;\">\n",
       "      <th></th>\n",
       "      <th>HE - Region level estimates_HLE</th>\n",
       "      <th>Entry Type</th>\n",
       "    </tr>\n",
       "  </thead>\n",
       "  <tbody>\n",
       "    <tr>\n",
       "      <th>0</th>\n",
       "      <td>Period</td>\n",
       "      <td>Dimension</td>\n",
       "    </tr>\n",
       "    <tr>\n",
       "      <th>1</th>\n",
       "      <td>Code</td>\n",
       "      <td>Dimension</td>\n",
       "    </tr>\n",
       "    <tr>\n",
       "      <th>2</th>\n",
       "      <td>Sex</td>\n",
       "      <td>Dimension</td>\n",
       "    </tr>\n",
       "    <tr>\n",
       "      <th>3</th>\n",
       "      <td>Age group</td>\n",
       "      <td>Dimension</td>\n",
       "    </tr>\n",
       "    <tr>\n",
       "      <th>4</th>\n",
       "      <td>Healthy Life Expectancy (HLE) _</td>\n",
       "      <td>Measure</td>\n",
       "    </tr>\n",
       "    <tr>\n",
       "      <th>5</th>\n",
       "      <td>HLE Lower CI_</td>\n",
       "      <td>Observation</td>\n",
       "    </tr>\n",
       "    <tr>\n",
       "      <th>6</th>\n",
       "      <td>HLE Upper CI_</td>\n",
       "      <td>Observation</td>\n",
       "    </tr>\n",
       "    <tr>\n",
       "      <th>7</th>\n",
       "      <td>TransformationType</td>\n",
       "      <td>Dimension</td>\n",
       "    </tr>\n",
       "  </tbody>\n",
       "</table>\n",
       "</div>"
      ],
      "text/plain": [
       "   HE - Region level estimates_HLE   Entry Type\n",
       "0                           Period    Dimension\n",
       "1                             Code    Dimension\n",
       "2                              Sex    Dimension\n",
       "3                        Age group    Dimension\n",
       "4  Healthy Life Expectancy (HLE) _      Measure\n",
       "5                    HLE Lower CI_  Observation\n",
       "6                    HLE Upper CI_  Observation\n",
       "7               TransformationType    Dimension"
      ]
     },
     "metadata": {},
     "output_type": "display_data"
    }
   ],
   "source": [
    "printmd(\"\\n\" + \"=\"*115, colour='Grey')\n",
    "printmd('**Please use Caution!:**' + ' Displayed below are the current components as defined by automation and manual [Entry Type] assignment.', colour='Red')\n",
    "printmd('*Through code you may need to map these components with those in the master reference data repository (currently .csv files). See later code sections.*', colour='Red')\n",
    "printmd(\"\\n\" + \"=\"*115, colour='Grey')\n",
    "for key in dataframe_elements_collection.keys():\n",
    "    printmd(\"\\n\" + \"=\"*100, colour='Grey')\n",
    "    printmd('Revised Component DataFrame for: ' + key + '.', colour='Blue')\n",
    "    printmd(\"=\"*100, colour='Grey')\n",
    "    #print(dataframe_elements_collection[key]) #Print like this for Logs...  \n",
    "    display(dataframe_elements_collection[key])\n",
    "    i += 1\n",
    "    "
   ]
  },
  {
   "cell_type": "code",
   "execution_count": 591,
   "metadata": {
    "scrolled": false
   },
   "outputs": [
    {
     "data": {
      "text/markdown": [
       "<span style='color:Red'>\n",
       "===================================================================================================================</span>"
      ],
      "text/plain": [
       "<IPython.core.display.Markdown object>"
      ]
     },
     "metadata": {},
     "output_type": "display_data"
    },
    {
     "data": {
      "text/markdown": [
       "<span style='color:Red'>**WARNING - PLEASE ADDRESS NON-MATCHING REFERENCES!**</span>"
      ],
      "text/plain": [
       "<IPython.core.display.Markdown object>"
      ]
     },
     "metadata": {},
     "output_type": "display_data"
    },
    {
     "data": {
      "text/markdown": [
       "<span style='color:Red'>===================================================================================================================</span>"
      ],
      "text/plain": [
       "<IPython.core.display.Markdown object>"
      ]
     },
     "metadata": {},
     "output_type": "display_data"
    },
    {
     "data": {
      "text/markdown": [
       "<span style='color:Grey'>\n",
       "====================================================================================================</span>"
      ],
      "text/plain": [
       "<IPython.core.display.Markdown object>"
      ]
     },
     "metadata": {},
     "output_type": "display_data"
    },
    {
     "data": {
      "text/markdown": [
       "<span style='color:Red'>UN-Mapped Component DataFrame for: HE - Country level estimates_LE.</span>"
      ],
      "text/plain": [
       "<IPython.core.display.Markdown object>"
      ]
     },
     "metadata": {},
     "output_type": "display_data"
    },
    {
     "data": {
      "text/markdown": [
       "<span style='color:Grey'>====================================================================================================</span>"
      ],
      "text/plain": [
       "<IPython.core.display.Markdown object>"
      ]
     },
     "metadata": {},
     "output_type": "display_data"
    },
    {
     "data": {
      "text/html": [
       "<div>\n",
       "<style scoped>\n",
       "    .dataframe tbody tr th:only-of-type {\n",
       "        vertical-align: middle;\n",
       "    }\n",
       "\n",
       "    .dataframe tbody tr th {\n",
       "        vertical-align: top;\n",
       "    }\n",
       "\n",
       "    .dataframe thead th {\n",
       "        text-align: right;\n",
       "    }\n",
       "</style>\n",
       "<table border=\"1\" class=\"dataframe\">\n",
       "  <thead>\n",
       "    <tr style=\"text-align: right;\">\n",
       "      <th></th>\n",
       "      <th>HE - Country level estimates_LE</th>\n",
       "      <th>Entry Type</th>\n",
       "      <th>REFColumnsCSV Link</th>\n",
       "      <th>title</th>\n",
       "      <th>name</th>\n",
       "      <th>component_attachment</th>\n",
       "      <th>property_template</th>\n",
       "      <th>value_template</th>\n",
       "      <th>datatype</th>\n",
       "      <th>value_transformation</th>\n",
       "      <th>regex</th>\n",
       "      <th>range</th>\n",
       "      <th>_merge</th>\n",
       "    </tr>\n",
       "  </thead>\n",
       "  <tbody>\n",
       "    <tr>\n",
       "      <th>1</th>\n",
       "      <td>Code</td>\n",
       "      <td>Dimension</td>\n",
       "      <td>Code</td>\n",
       "      <td>NaN</td>\n",
       "      <td>NaN</td>\n",
       "      <td>NaN</td>\n",
       "      <td>NaN</td>\n",
       "      <td>NaN</td>\n",
       "      <td>NaN</td>\n",
       "      <td>NaN</td>\n",
       "      <td>NaN</td>\n",
       "      <td>NaN</td>\n",
       "      <td>left_only</td>\n",
       "    </tr>\n",
       "    <tr>\n",
       "      <th>3</th>\n",
       "      <td>age group</td>\n",
       "      <td>Dimension</td>\n",
       "      <td>age group</td>\n",
       "      <td>NaN</td>\n",
       "      <td>NaN</td>\n",
       "      <td>NaN</td>\n",
       "      <td>NaN</td>\n",
       "      <td>NaN</td>\n",
       "      <td>NaN</td>\n",
       "      <td>NaN</td>\n",
       "      <td>NaN</td>\n",
       "      <td>NaN</td>\n",
       "      <td>left_only</td>\n",
       "    </tr>\n",
       "    <tr>\n",
       "      <th>4</th>\n",
       "      <td>Life Expectancy (LE)_</td>\n",
       "      <td>Measure</td>\n",
       "      <td>Life Expectancy (LE)_</td>\n",
       "      <td>NaN</td>\n",
       "      <td>NaN</td>\n",
       "      <td>NaN</td>\n",
       "      <td>NaN</td>\n",
       "      <td>NaN</td>\n",
       "      <td>NaN</td>\n",
       "      <td>NaN</td>\n",
       "      <td>NaN</td>\n",
       "      <td>NaN</td>\n",
       "      <td>left_only</td>\n",
       "    </tr>\n",
       "    <tr>\n",
       "      <th>5</th>\n",
       "      <td>LE Lower CI_</td>\n",
       "      <td>Observation</td>\n",
       "      <td>LE Lower CI_</td>\n",
       "      <td>NaN</td>\n",
       "      <td>NaN</td>\n",
       "      <td>NaN</td>\n",
       "      <td>NaN</td>\n",
       "      <td>NaN</td>\n",
       "      <td>NaN</td>\n",
       "      <td>NaN</td>\n",
       "      <td>NaN</td>\n",
       "      <td>NaN</td>\n",
       "      <td>left_only</td>\n",
       "    </tr>\n",
       "    <tr>\n",
       "      <th>6</th>\n",
       "      <td>LE Upper CI_</td>\n",
       "      <td>Observation</td>\n",
       "      <td>LE Upper CI_</td>\n",
       "      <td>NaN</td>\n",
       "      <td>NaN</td>\n",
       "      <td>NaN</td>\n",
       "      <td>NaN</td>\n",
       "      <td>NaN</td>\n",
       "      <td>NaN</td>\n",
       "      <td>NaN</td>\n",
       "      <td>NaN</td>\n",
       "      <td>NaN</td>\n",
       "      <td>left_only</td>\n",
       "    </tr>\n",
       "    <tr>\n",
       "      <th>7</th>\n",
       "      <td>TransformationType</td>\n",
       "      <td>Dimension</td>\n",
       "      <td>TransformationType</td>\n",
       "      <td>NaN</td>\n",
       "      <td>NaN</td>\n",
       "      <td>NaN</td>\n",
       "      <td>NaN</td>\n",
       "      <td>NaN</td>\n",
       "      <td>NaN</td>\n",
       "      <td>NaN</td>\n",
       "      <td>NaN</td>\n",
       "      <td>NaN</td>\n",
       "      <td>left_only</td>\n",
       "    </tr>\n",
       "  </tbody>\n",
       "</table>\n",
       "</div>"
      ],
      "text/plain": [
       "  HE - Country level estimates_LE   Entry Type     REFColumnsCSV Link title  \\\n",
       "1                            Code    Dimension                   Code   NaN   \n",
       "3                       age group    Dimension              age group   NaN   \n",
       "4           Life Expectancy (LE)_      Measure  Life Expectancy (LE)_   NaN   \n",
       "5                    LE Lower CI_  Observation           LE Lower CI_   NaN   \n",
       "6                    LE Upper CI_  Observation           LE Upper CI_   NaN   \n",
       "7              TransformationType    Dimension     TransformationType   NaN   \n",
       "\n",
       "  name component_attachment property_template value_template datatype  \\\n",
       "1  NaN                  NaN               NaN            NaN      NaN   \n",
       "3  NaN                  NaN               NaN            NaN      NaN   \n",
       "4  NaN                  NaN               NaN            NaN      NaN   \n",
       "5  NaN                  NaN               NaN            NaN      NaN   \n",
       "6  NaN                  NaN               NaN            NaN      NaN   \n",
       "7  NaN                  NaN               NaN            NaN      NaN   \n",
       "\n",
       "  value_transformation regex range     _merge  \n",
       "1                  NaN   NaN   NaN  left_only  \n",
       "3                  NaN   NaN   NaN  left_only  \n",
       "4                  NaN   NaN   NaN  left_only  \n",
       "5                  NaN   NaN   NaN  left_only  \n",
       "6                  NaN   NaN   NaN  left_only  \n",
       "7                  NaN   NaN   NaN  left_only  "
      ]
     },
     "metadata": {},
     "output_type": "display_data"
    },
    {
     "data": {
      "text/markdown": [
       "<span style='color:Grey'>\n",
       "====================================================================================================</span>"
      ],
      "text/plain": [
       "<IPython.core.display.Markdown object>"
      ]
     },
     "metadata": {},
     "output_type": "display_data"
    },
    {
     "data": {
      "text/markdown": [
       "<span style='color:Red'>UN-Mapped Component DataFrame for: HE - Country level estimates_HLE.</span>"
      ],
      "text/plain": [
       "<IPython.core.display.Markdown object>"
      ]
     },
     "metadata": {},
     "output_type": "display_data"
    },
    {
     "data": {
      "text/markdown": [
       "<span style='color:Grey'>====================================================================================================</span>"
      ],
      "text/plain": [
       "<IPython.core.display.Markdown object>"
      ]
     },
     "metadata": {},
     "output_type": "display_data"
    },
    {
     "data": {
      "text/html": [
       "<div>\n",
       "<style scoped>\n",
       "    .dataframe tbody tr th:only-of-type {\n",
       "        vertical-align: middle;\n",
       "    }\n",
       "\n",
       "    .dataframe tbody tr th {\n",
       "        vertical-align: top;\n",
       "    }\n",
       "\n",
       "    .dataframe thead th {\n",
       "        text-align: right;\n",
       "    }\n",
       "</style>\n",
       "<table border=\"1\" class=\"dataframe\">\n",
       "  <thead>\n",
       "    <tr style=\"text-align: right;\">\n",
       "      <th></th>\n",
       "      <th>HE - Country level estimates_HLE</th>\n",
       "      <th>Entry Type</th>\n",
       "      <th>REFColumnsCSV Link</th>\n",
       "      <th>title</th>\n",
       "      <th>name</th>\n",
       "      <th>component_attachment</th>\n",
       "      <th>property_template</th>\n",
       "      <th>value_template</th>\n",
       "      <th>datatype</th>\n",
       "      <th>value_transformation</th>\n",
       "      <th>regex</th>\n",
       "      <th>range</th>\n",
       "      <th>_merge</th>\n",
       "    </tr>\n",
       "  </thead>\n",
       "  <tbody>\n",
       "    <tr>\n",
       "      <th>1</th>\n",
       "      <td>Code</td>\n",
       "      <td>Dimension</td>\n",
       "      <td>Code</td>\n",
       "      <td>NaN</td>\n",
       "      <td>NaN</td>\n",
       "      <td>NaN</td>\n",
       "      <td>NaN</td>\n",
       "      <td>NaN</td>\n",
       "      <td>NaN</td>\n",
       "      <td>NaN</td>\n",
       "      <td>NaN</td>\n",
       "      <td>NaN</td>\n",
       "      <td>left_only</td>\n",
       "    </tr>\n",
       "    <tr>\n",
       "      <th>3</th>\n",
       "      <td>age group</td>\n",
       "      <td>Dimension</td>\n",
       "      <td>age group</td>\n",
       "      <td>NaN</td>\n",
       "      <td>NaN</td>\n",
       "      <td>NaN</td>\n",
       "      <td>NaN</td>\n",
       "      <td>NaN</td>\n",
       "      <td>NaN</td>\n",
       "      <td>NaN</td>\n",
       "      <td>NaN</td>\n",
       "      <td>NaN</td>\n",
       "      <td>left_only</td>\n",
       "    </tr>\n",
       "    <tr>\n",
       "      <th>4</th>\n",
       "      <td>Healthy Life Expectancy (HLE) _</td>\n",
       "      <td>Measure</td>\n",
       "      <td>Healthy Life Expectancy (HLE) _</td>\n",
       "      <td>NaN</td>\n",
       "      <td>NaN</td>\n",
       "      <td>NaN</td>\n",
       "      <td>NaN</td>\n",
       "      <td>NaN</td>\n",
       "      <td>NaN</td>\n",
       "      <td>NaN</td>\n",
       "      <td>NaN</td>\n",
       "      <td>NaN</td>\n",
       "      <td>left_only</td>\n",
       "    </tr>\n",
       "    <tr>\n",
       "      <th>5</th>\n",
       "      <td>HLE Lower CI_</td>\n",
       "      <td>Observation</td>\n",
       "      <td>HLE Lower CI_</td>\n",
       "      <td>NaN</td>\n",
       "      <td>NaN</td>\n",
       "      <td>NaN</td>\n",
       "      <td>NaN</td>\n",
       "      <td>NaN</td>\n",
       "      <td>NaN</td>\n",
       "      <td>NaN</td>\n",
       "      <td>NaN</td>\n",
       "      <td>NaN</td>\n",
       "      <td>left_only</td>\n",
       "    </tr>\n",
       "    <tr>\n",
       "      <th>6</th>\n",
       "      <td>HLE Upper CI_</td>\n",
       "      <td>Observation</td>\n",
       "      <td>HLE Upper CI_</td>\n",
       "      <td>NaN</td>\n",
       "      <td>NaN</td>\n",
       "      <td>NaN</td>\n",
       "      <td>NaN</td>\n",
       "      <td>NaN</td>\n",
       "      <td>NaN</td>\n",
       "      <td>NaN</td>\n",
       "      <td>NaN</td>\n",
       "      <td>NaN</td>\n",
       "      <td>left_only</td>\n",
       "    </tr>\n",
       "    <tr>\n",
       "      <th>7</th>\n",
       "      <td>TransformationType</td>\n",
       "      <td>Dimension</td>\n",
       "      <td>TransformationType</td>\n",
       "      <td>NaN</td>\n",
       "      <td>NaN</td>\n",
       "      <td>NaN</td>\n",
       "      <td>NaN</td>\n",
       "      <td>NaN</td>\n",
       "      <td>NaN</td>\n",
       "      <td>NaN</td>\n",
       "      <td>NaN</td>\n",
       "      <td>NaN</td>\n",
       "      <td>left_only</td>\n",
       "    </tr>\n",
       "  </tbody>\n",
       "</table>\n",
       "</div>"
      ],
      "text/plain": [
       "  HE - Country level estimates_HLE   Entry Type  \\\n",
       "1                             Code    Dimension   \n",
       "3                        age group    Dimension   \n",
       "4  Healthy Life Expectancy (HLE) _      Measure   \n",
       "5                    HLE Lower CI_  Observation   \n",
       "6                    HLE Upper CI_  Observation   \n",
       "7               TransformationType    Dimension   \n",
       "\n",
       "                REFColumnsCSV Link title name component_attachment  \\\n",
       "1                             Code   NaN  NaN                  NaN   \n",
       "3                        age group   NaN  NaN                  NaN   \n",
       "4  Healthy Life Expectancy (HLE) _   NaN  NaN                  NaN   \n",
       "5                    HLE Lower CI_   NaN  NaN                  NaN   \n",
       "6                    HLE Upper CI_   NaN  NaN                  NaN   \n",
       "7               TransformationType   NaN  NaN                  NaN   \n",
       "\n",
       "  property_template value_template datatype value_transformation regex range  \\\n",
       "1               NaN            NaN      NaN                  NaN   NaN   NaN   \n",
       "3               NaN            NaN      NaN                  NaN   NaN   NaN   \n",
       "4               NaN            NaN      NaN                  NaN   NaN   NaN   \n",
       "5               NaN            NaN      NaN                  NaN   NaN   NaN   \n",
       "6               NaN            NaN      NaN                  NaN   NaN   NaN   \n",
       "7               NaN            NaN      NaN                  NaN   NaN   NaN   \n",
       "\n",
       "      _merge  \n",
       "1  left_only  \n",
       "3  left_only  \n",
       "4  left_only  \n",
       "5  left_only  \n",
       "6  left_only  \n",
       "7  left_only  "
      ]
     },
     "metadata": {},
     "output_type": "display_data"
    },
    {
     "data": {
      "text/markdown": [
       "<span style='color:Grey'>\n",
       "====================================================================================================</span>"
      ],
      "text/plain": [
       "<IPython.core.display.Markdown object>"
      ]
     },
     "metadata": {},
     "output_type": "display_data"
    },
    {
     "data": {
      "text/markdown": [
       "<span style='color:Red'>UN-Mapped Component DataFrame for: HE - Region level estimates_LE.</span>"
      ],
      "text/plain": [
       "<IPython.core.display.Markdown object>"
      ]
     },
     "metadata": {},
     "output_type": "display_data"
    },
    {
     "data": {
      "text/markdown": [
       "<span style='color:Grey'>====================================================================================================</span>"
      ],
      "text/plain": [
       "<IPython.core.display.Markdown object>"
      ]
     },
     "metadata": {},
     "output_type": "display_data"
    },
    {
     "data": {
      "text/html": [
       "<div>\n",
       "<style scoped>\n",
       "    .dataframe tbody tr th:only-of-type {\n",
       "        vertical-align: middle;\n",
       "    }\n",
       "\n",
       "    .dataframe tbody tr th {\n",
       "        vertical-align: top;\n",
       "    }\n",
       "\n",
       "    .dataframe thead th {\n",
       "        text-align: right;\n",
       "    }\n",
       "</style>\n",
       "<table border=\"1\" class=\"dataframe\">\n",
       "  <thead>\n",
       "    <tr style=\"text-align: right;\">\n",
       "      <th></th>\n",
       "      <th>HE - Region level estimates_LE</th>\n",
       "      <th>Entry Type</th>\n",
       "      <th>REFColumnsCSV Link</th>\n",
       "      <th>title</th>\n",
       "      <th>name</th>\n",
       "      <th>component_attachment</th>\n",
       "      <th>property_template</th>\n",
       "      <th>value_template</th>\n",
       "      <th>datatype</th>\n",
       "      <th>value_transformation</th>\n",
       "      <th>regex</th>\n",
       "      <th>range</th>\n",
       "      <th>_merge</th>\n",
       "    </tr>\n",
       "  </thead>\n",
       "  <tbody>\n",
       "    <tr>\n",
       "      <th>1</th>\n",
       "      <td>Code</td>\n",
       "      <td>Dimension</td>\n",
       "      <td>Code</td>\n",
       "      <td>NaN</td>\n",
       "      <td>NaN</td>\n",
       "      <td>NaN</td>\n",
       "      <td>NaN</td>\n",
       "      <td>NaN</td>\n",
       "      <td>NaN</td>\n",
       "      <td>NaN</td>\n",
       "      <td>NaN</td>\n",
       "      <td>NaN</td>\n",
       "      <td>left_only</td>\n",
       "    </tr>\n",
       "    <tr>\n",
       "      <th>3</th>\n",
       "      <td>Age group</td>\n",
       "      <td>Dimension</td>\n",
       "      <td>Age group</td>\n",
       "      <td>NaN</td>\n",
       "      <td>NaN</td>\n",
       "      <td>NaN</td>\n",
       "      <td>NaN</td>\n",
       "      <td>NaN</td>\n",
       "      <td>NaN</td>\n",
       "      <td>NaN</td>\n",
       "      <td>NaN</td>\n",
       "      <td>NaN</td>\n",
       "      <td>left_only</td>\n",
       "    </tr>\n",
       "    <tr>\n",
       "      <th>4</th>\n",
       "      <td>Life Expectancy (LE)_</td>\n",
       "      <td>Measure</td>\n",
       "      <td>Life Expectancy (LE)_</td>\n",
       "      <td>NaN</td>\n",
       "      <td>NaN</td>\n",
       "      <td>NaN</td>\n",
       "      <td>NaN</td>\n",
       "      <td>NaN</td>\n",
       "      <td>NaN</td>\n",
       "      <td>NaN</td>\n",
       "      <td>NaN</td>\n",
       "      <td>NaN</td>\n",
       "      <td>left_only</td>\n",
       "    </tr>\n",
       "    <tr>\n",
       "      <th>5</th>\n",
       "      <td>LE Lower CI_</td>\n",
       "      <td>Observation</td>\n",
       "      <td>LE Lower CI_</td>\n",
       "      <td>NaN</td>\n",
       "      <td>NaN</td>\n",
       "      <td>NaN</td>\n",
       "      <td>NaN</td>\n",
       "      <td>NaN</td>\n",
       "      <td>NaN</td>\n",
       "      <td>NaN</td>\n",
       "      <td>NaN</td>\n",
       "      <td>NaN</td>\n",
       "      <td>left_only</td>\n",
       "    </tr>\n",
       "    <tr>\n",
       "      <th>6</th>\n",
       "      <td>LE Upper CI_</td>\n",
       "      <td>Observation</td>\n",
       "      <td>LE Upper CI_</td>\n",
       "      <td>NaN</td>\n",
       "      <td>NaN</td>\n",
       "      <td>NaN</td>\n",
       "      <td>NaN</td>\n",
       "      <td>NaN</td>\n",
       "      <td>NaN</td>\n",
       "      <td>NaN</td>\n",
       "      <td>NaN</td>\n",
       "      <td>NaN</td>\n",
       "      <td>left_only</td>\n",
       "    </tr>\n",
       "    <tr>\n",
       "      <th>7</th>\n",
       "      <td>TransformationType</td>\n",
       "      <td>Dimension</td>\n",
       "      <td>TransformationType</td>\n",
       "      <td>NaN</td>\n",
       "      <td>NaN</td>\n",
       "      <td>NaN</td>\n",
       "      <td>NaN</td>\n",
       "      <td>NaN</td>\n",
       "      <td>NaN</td>\n",
       "      <td>NaN</td>\n",
       "      <td>NaN</td>\n",
       "      <td>NaN</td>\n",
       "      <td>left_only</td>\n",
       "    </tr>\n",
       "  </tbody>\n",
       "</table>\n",
       "</div>"
      ],
      "text/plain": [
       "  HE - Region level estimates_LE   Entry Type     REFColumnsCSV Link title  \\\n",
       "1                           Code    Dimension                   Code   NaN   \n",
       "3                      Age group    Dimension              Age group   NaN   \n",
       "4          Life Expectancy (LE)_      Measure  Life Expectancy (LE)_   NaN   \n",
       "5                   LE Lower CI_  Observation           LE Lower CI_   NaN   \n",
       "6                   LE Upper CI_  Observation           LE Upper CI_   NaN   \n",
       "7             TransformationType    Dimension     TransformationType   NaN   \n",
       "\n",
       "  name component_attachment property_template value_template datatype  \\\n",
       "1  NaN                  NaN               NaN            NaN      NaN   \n",
       "3  NaN                  NaN               NaN            NaN      NaN   \n",
       "4  NaN                  NaN               NaN            NaN      NaN   \n",
       "5  NaN                  NaN               NaN            NaN      NaN   \n",
       "6  NaN                  NaN               NaN            NaN      NaN   \n",
       "7  NaN                  NaN               NaN            NaN      NaN   \n",
       "\n",
       "  value_transformation regex range     _merge  \n",
       "1                  NaN   NaN   NaN  left_only  \n",
       "3                  NaN   NaN   NaN  left_only  \n",
       "4                  NaN   NaN   NaN  left_only  \n",
       "5                  NaN   NaN   NaN  left_only  \n",
       "6                  NaN   NaN   NaN  left_only  \n",
       "7                  NaN   NaN   NaN  left_only  "
      ]
     },
     "metadata": {},
     "output_type": "display_data"
    },
    {
     "data": {
      "text/markdown": [
       "<span style='color:Grey'>\n",
       "====================================================================================================</span>"
      ],
      "text/plain": [
       "<IPython.core.display.Markdown object>"
      ]
     },
     "metadata": {},
     "output_type": "display_data"
    },
    {
     "data": {
      "text/markdown": [
       "<span style='color:Red'>UN-Mapped Component DataFrame for: HE - Region level estimates_HLE.</span>"
      ],
      "text/plain": [
       "<IPython.core.display.Markdown object>"
      ]
     },
     "metadata": {},
     "output_type": "display_data"
    },
    {
     "data": {
      "text/markdown": [
       "<span style='color:Grey'>====================================================================================================</span>"
      ],
      "text/plain": [
       "<IPython.core.display.Markdown object>"
      ]
     },
     "metadata": {},
     "output_type": "display_data"
    },
    {
     "data": {
      "text/html": [
       "<div>\n",
       "<style scoped>\n",
       "    .dataframe tbody tr th:only-of-type {\n",
       "        vertical-align: middle;\n",
       "    }\n",
       "\n",
       "    .dataframe tbody tr th {\n",
       "        vertical-align: top;\n",
       "    }\n",
       "\n",
       "    .dataframe thead th {\n",
       "        text-align: right;\n",
       "    }\n",
       "</style>\n",
       "<table border=\"1\" class=\"dataframe\">\n",
       "  <thead>\n",
       "    <tr style=\"text-align: right;\">\n",
       "      <th></th>\n",
       "      <th>HE - Region level estimates_HLE</th>\n",
       "      <th>Entry Type</th>\n",
       "      <th>REFColumnsCSV Link</th>\n",
       "      <th>title</th>\n",
       "      <th>name</th>\n",
       "      <th>component_attachment</th>\n",
       "      <th>property_template</th>\n",
       "      <th>value_template</th>\n",
       "      <th>datatype</th>\n",
       "      <th>value_transformation</th>\n",
       "      <th>regex</th>\n",
       "      <th>range</th>\n",
       "      <th>_merge</th>\n",
       "    </tr>\n",
       "  </thead>\n",
       "  <tbody>\n",
       "    <tr>\n",
       "      <th>1</th>\n",
       "      <td>Code</td>\n",
       "      <td>Dimension</td>\n",
       "      <td>Code</td>\n",
       "      <td>NaN</td>\n",
       "      <td>NaN</td>\n",
       "      <td>NaN</td>\n",
       "      <td>NaN</td>\n",
       "      <td>NaN</td>\n",
       "      <td>NaN</td>\n",
       "      <td>NaN</td>\n",
       "      <td>NaN</td>\n",
       "      <td>NaN</td>\n",
       "      <td>left_only</td>\n",
       "    </tr>\n",
       "    <tr>\n",
       "      <th>3</th>\n",
       "      <td>Age group</td>\n",
       "      <td>Dimension</td>\n",
       "      <td>Age group</td>\n",
       "      <td>NaN</td>\n",
       "      <td>NaN</td>\n",
       "      <td>NaN</td>\n",
       "      <td>NaN</td>\n",
       "      <td>NaN</td>\n",
       "      <td>NaN</td>\n",
       "      <td>NaN</td>\n",
       "      <td>NaN</td>\n",
       "      <td>NaN</td>\n",
       "      <td>left_only</td>\n",
       "    </tr>\n",
       "    <tr>\n",
       "      <th>4</th>\n",
       "      <td>Healthy Life Expectancy (HLE) _</td>\n",
       "      <td>Measure</td>\n",
       "      <td>Healthy Life Expectancy (HLE) _</td>\n",
       "      <td>NaN</td>\n",
       "      <td>NaN</td>\n",
       "      <td>NaN</td>\n",
       "      <td>NaN</td>\n",
       "      <td>NaN</td>\n",
       "      <td>NaN</td>\n",
       "      <td>NaN</td>\n",
       "      <td>NaN</td>\n",
       "      <td>NaN</td>\n",
       "      <td>left_only</td>\n",
       "    </tr>\n",
       "    <tr>\n",
       "      <th>5</th>\n",
       "      <td>HLE Lower CI_</td>\n",
       "      <td>Observation</td>\n",
       "      <td>HLE Lower CI_</td>\n",
       "      <td>NaN</td>\n",
       "      <td>NaN</td>\n",
       "      <td>NaN</td>\n",
       "      <td>NaN</td>\n",
       "      <td>NaN</td>\n",
       "      <td>NaN</td>\n",
       "      <td>NaN</td>\n",
       "      <td>NaN</td>\n",
       "      <td>NaN</td>\n",
       "      <td>left_only</td>\n",
       "    </tr>\n",
       "    <tr>\n",
       "      <th>6</th>\n",
       "      <td>HLE Upper CI_</td>\n",
       "      <td>Observation</td>\n",
       "      <td>HLE Upper CI_</td>\n",
       "      <td>NaN</td>\n",
       "      <td>NaN</td>\n",
       "      <td>NaN</td>\n",
       "      <td>NaN</td>\n",
       "      <td>NaN</td>\n",
       "      <td>NaN</td>\n",
       "      <td>NaN</td>\n",
       "      <td>NaN</td>\n",
       "      <td>NaN</td>\n",
       "      <td>left_only</td>\n",
       "    </tr>\n",
       "    <tr>\n",
       "      <th>7</th>\n",
       "      <td>TransformationType</td>\n",
       "      <td>Dimension</td>\n",
       "      <td>TransformationType</td>\n",
       "      <td>NaN</td>\n",
       "      <td>NaN</td>\n",
       "      <td>NaN</td>\n",
       "      <td>NaN</td>\n",
       "      <td>NaN</td>\n",
       "      <td>NaN</td>\n",
       "      <td>NaN</td>\n",
       "      <td>NaN</td>\n",
       "      <td>NaN</td>\n",
       "      <td>left_only</td>\n",
       "    </tr>\n",
       "  </tbody>\n",
       "</table>\n",
       "</div>"
      ],
      "text/plain": [
       "   HE - Region level estimates_HLE   Entry Type  \\\n",
       "1                             Code    Dimension   \n",
       "3                        Age group    Dimension   \n",
       "4  Healthy Life Expectancy (HLE) _      Measure   \n",
       "5                    HLE Lower CI_  Observation   \n",
       "6                    HLE Upper CI_  Observation   \n",
       "7               TransformationType    Dimension   \n",
       "\n",
       "                REFColumnsCSV Link title name component_attachment  \\\n",
       "1                             Code   NaN  NaN                  NaN   \n",
       "3                        Age group   NaN  NaN                  NaN   \n",
       "4  Healthy Life Expectancy (HLE) _   NaN  NaN                  NaN   \n",
       "5                    HLE Lower CI_   NaN  NaN                  NaN   \n",
       "6                    HLE Upper CI_   NaN  NaN                  NaN   \n",
       "7               TransformationType   NaN  NaN                  NaN   \n",
       "\n",
       "  property_template value_template datatype value_transformation regex range  \\\n",
       "1               NaN            NaN      NaN                  NaN   NaN   NaN   \n",
       "3               NaN            NaN      NaN                  NaN   NaN   NaN   \n",
       "4               NaN            NaN      NaN                  NaN   NaN   NaN   \n",
       "5               NaN            NaN      NaN                  NaN   NaN   NaN   \n",
       "6               NaN            NaN      NaN                  NaN   NaN   NaN   \n",
       "7               NaN            NaN      NaN                  NaN   NaN   NaN   \n",
       "\n",
       "      _merge  \n",
       "1  left_only  \n",
       "3  left_only  \n",
       "4  left_only  \n",
       "5  left_only  \n",
       "6  left_only  \n",
       "7  left_only  "
      ]
     },
     "metadata": {},
     "output_type": "display_data"
    },
    {
     "data": {
      "text/markdown": [
       "<span style='color:Grey'>\n",
       "===================================================================================================================</span>"
      ],
      "text/plain": [
       "<IPython.core.display.Markdown object>"
      ]
     },
     "metadata": {},
     "output_type": "display_data"
    },
    {
     "data": {
      "text/markdown": [
       "<span style='color:Green'>**Please use Caution!:** Displayed below are the current components as mapped and linked through code.</span>"
      ],
      "text/plain": [
       "<IPython.core.display.Markdown object>"
      ]
     },
     "metadata": {},
     "output_type": "display_data"
    },
    {
     "data": {
      "text/markdown": [
       "<span style='color:Green'>*Check carefully before proceeding.*</span>"
      ],
      "text/plain": [
       "<IPython.core.display.Markdown object>"
      ]
     },
     "metadata": {},
     "output_type": "display_data"
    },
    {
     "data": {
      "text/markdown": [
       "<span style='color:Grey'>\n",
       "===================================================================================================================</span>"
      ],
      "text/plain": [
       "<IPython.core.display.Markdown object>"
      ]
     },
     "metadata": {},
     "output_type": "display_data"
    },
    {
     "data": {
      "text/markdown": [
       "<span style='color:Grey'>\n",
       "====================================================================================================</span>"
      ],
      "text/plain": [
       "<IPython.core.display.Markdown object>"
      ]
     },
     "metadata": {},
     "output_type": "display_data"
    },
    {
     "data": {
      "text/markdown": [
       "<span style='color:Green'>Mapped Component DataFrame for: HE - Country level estimates_LE.</span>"
      ],
      "text/plain": [
       "<IPython.core.display.Markdown object>"
      ]
     },
     "metadata": {},
     "output_type": "display_data"
    },
    {
     "data": {
      "text/markdown": [
       "<span style='color:Grey'>====================================================================================================</span>"
      ],
      "text/plain": [
       "<IPython.core.display.Markdown object>"
      ]
     },
     "metadata": {},
     "output_type": "display_data"
    },
    {
     "data": {
      "text/html": [
       "<div>\n",
       "<style scoped>\n",
       "    .dataframe tbody tr th:only-of-type {\n",
       "        vertical-align: middle;\n",
       "    }\n",
       "\n",
       "    .dataframe tbody tr th {\n",
       "        vertical-align: top;\n",
       "    }\n",
       "\n",
       "    .dataframe thead th {\n",
       "        text-align: right;\n",
       "    }\n",
       "</style>\n",
       "<table border=\"1\" class=\"dataframe\">\n",
       "  <thead>\n",
       "    <tr style=\"text-align: right;\">\n",
       "      <th></th>\n",
       "      <th>HE - Country level estimates_LE</th>\n",
       "      <th>Entry Type</th>\n",
       "      <th>REFColumnsCSV Link</th>\n",
       "      <th>title</th>\n",
       "      <th>name</th>\n",
       "      <th>component_attachment</th>\n",
       "      <th>property_template</th>\n",
       "      <th>value_template</th>\n",
       "      <th>datatype</th>\n",
       "      <th>value_transformation</th>\n",
       "      <th>regex</th>\n",
       "      <th>range</th>\n",
       "      <th>Label</th>\n",
       "      <th>Description</th>\n",
       "      <th>Component Type</th>\n",
       "      <th>Codelist</th>\n",
       "    </tr>\n",
       "  </thead>\n",
       "  <tbody>\n",
       "    <tr>\n",
       "      <th>0</th>\n",
       "      <td>Period</td>\n",
       "      <td>Dimension</td>\n",
       "      <td>Period</td>\n",
       "      <td>Period</td>\n",
       "      <td>period</td>\n",
       "      <td>qb:dimension</td>\n",
       "      <td>http://purl.org/linked-data/sdmx/2009/dimensio...</td>\n",
       "      <td>http://reference.data.gov.uk/id/{+period}</td>\n",
       "      <td>string</td>\n",
       "      <td>NaN</td>\n",
       "      <td>^(year/[0-9]{4}|gregorian-interval/.*|month/[0...</td>\n",
       "      <td>http://reference.data.gov.uk/def/intervals/Int...</td>\n",
       "      <td>NaN</td>\n",
       "      <td>NaN</td>\n",
       "      <td>NaN</td>\n",
       "      <td>NaN</td>\n",
       "    </tr>\n",
       "    <tr>\n",
       "      <th>1</th>\n",
       "      <td>Sex</td>\n",
       "      <td>Dimension</td>\n",
       "      <td>Sex</td>\n",
       "      <td>Sex</td>\n",
       "      <td>sex</td>\n",
       "      <td>qb:dimension</td>\n",
       "      <td>http://purl.org/linked-data/sdmx/2009/dimensio...</td>\n",
       "      <td>http://purl.org/linked-data/sdmx/2009/code#sex...</td>\n",
       "      <td>string</td>\n",
       "      <td>NaN</td>\n",
       "      <td>^(M|F|T|U|N)$</td>\n",
       "      <td>http://purl.org/linked-data/sdmx/2009/code#Sex</td>\n",
       "      <td>Sex</td>\n",
       "      <td>NaN</td>\n",
       "      <td>Dimension</td>\n",
       "      <td>http://gss-data.org.uk/def/concept-scheme/phe-sex</td>\n",
       "    </tr>\n",
       "  </tbody>\n",
       "</table>\n",
       "</div>"
      ],
      "text/plain": [
       "  HE - Country level estimates_LE Entry Type REFColumnsCSV Link   title  \\\n",
       "0                          Period  Dimension             Period  Period   \n",
       "1                             Sex  Dimension                Sex     Sex   \n",
       "\n",
       "     name component_attachment  \\\n",
       "0  period         qb:dimension   \n",
       "1     sex         qb:dimension   \n",
       "\n",
       "                                   property_template  \\\n",
       "0  http://purl.org/linked-data/sdmx/2009/dimensio...   \n",
       "1  http://purl.org/linked-data/sdmx/2009/dimensio...   \n",
       "\n",
       "                                      value_template datatype  \\\n",
       "0          http://reference.data.gov.uk/id/{+period}   string   \n",
       "1  http://purl.org/linked-data/sdmx/2009/code#sex...   string   \n",
       "\n",
       "  value_transformation                                              regex  \\\n",
       "0                  NaN  ^(year/[0-9]{4}|gregorian-interval/.*|month/[0...   \n",
       "1                  NaN                                      ^(M|F|T|U|N)$   \n",
       "\n",
       "                                               range Label Description  \\\n",
       "0  http://reference.data.gov.uk/def/intervals/Int...   NaN         NaN   \n",
       "1     http://purl.org/linked-data/sdmx/2009/code#Sex   Sex         NaN   \n",
       "\n",
       "  Component Type                                           Codelist  \n",
       "0            NaN                                                NaN  \n",
       "1      Dimension  http://gss-data.org.uk/def/concept-scheme/phe-sex  "
      ]
     },
     "metadata": {},
     "output_type": "display_data"
    },
    {
     "data": {
      "text/markdown": [
       "<span style='color:Grey'>\n",
       "====================================================================================================</span>"
      ],
      "text/plain": [
       "<IPython.core.display.Markdown object>"
      ]
     },
     "metadata": {},
     "output_type": "display_data"
    },
    {
     "data": {
      "text/markdown": [
       "<span style='color:Green'>Mapped Component DataFrame for: HE - Country level estimates_HLE.</span>"
      ],
      "text/plain": [
       "<IPython.core.display.Markdown object>"
      ]
     },
     "metadata": {},
     "output_type": "display_data"
    },
    {
     "data": {
      "text/markdown": [
       "<span style='color:Grey'>====================================================================================================</span>"
      ],
      "text/plain": [
       "<IPython.core.display.Markdown object>"
      ]
     },
     "metadata": {},
     "output_type": "display_data"
    },
    {
     "data": {
      "text/html": [
       "<div>\n",
       "<style scoped>\n",
       "    .dataframe tbody tr th:only-of-type {\n",
       "        vertical-align: middle;\n",
       "    }\n",
       "\n",
       "    .dataframe tbody tr th {\n",
       "        vertical-align: top;\n",
       "    }\n",
       "\n",
       "    .dataframe thead th {\n",
       "        text-align: right;\n",
       "    }\n",
       "</style>\n",
       "<table border=\"1\" class=\"dataframe\">\n",
       "  <thead>\n",
       "    <tr style=\"text-align: right;\">\n",
       "      <th></th>\n",
       "      <th>HE - Country level estimates_HLE</th>\n",
       "      <th>Entry Type</th>\n",
       "      <th>REFColumnsCSV Link</th>\n",
       "      <th>title</th>\n",
       "      <th>name</th>\n",
       "      <th>component_attachment</th>\n",
       "      <th>property_template</th>\n",
       "      <th>value_template</th>\n",
       "      <th>datatype</th>\n",
       "      <th>value_transformation</th>\n",
       "      <th>regex</th>\n",
       "      <th>range</th>\n",
       "      <th>Label</th>\n",
       "      <th>Description</th>\n",
       "      <th>Component Type</th>\n",
       "      <th>Codelist</th>\n",
       "    </tr>\n",
       "  </thead>\n",
       "  <tbody>\n",
       "    <tr>\n",
       "      <th>0</th>\n",
       "      <td>Period</td>\n",
       "      <td>Dimension</td>\n",
       "      <td>Period</td>\n",
       "      <td>Period</td>\n",
       "      <td>period</td>\n",
       "      <td>qb:dimension</td>\n",
       "      <td>http://purl.org/linked-data/sdmx/2009/dimensio...</td>\n",
       "      <td>http://reference.data.gov.uk/id/{+period}</td>\n",
       "      <td>string</td>\n",
       "      <td>NaN</td>\n",
       "      <td>^(year/[0-9]{4}|gregorian-interval/.*|month/[0...</td>\n",
       "      <td>http://reference.data.gov.uk/def/intervals/Int...</td>\n",
       "      <td>NaN</td>\n",
       "      <td>NaN</td>\n",
       "      <td>NaN</td>\n",
       "      <td>NaN</td>\n",
       "    </tr>\n",
       "    <tr>\n",
       "      <th>1</th>\n",
       "      <td>Sex</td>\n",
       "      <td>Dimension</td>\n",
       "      <td>Sex</td>\n",
       "      <td>Sex</td>\n",
       "      <td>sex</td>\n",
       "      <td>qb:dimension</td>\n",
       "      <td>http://purl.org/linked-data/sdmx/2009/dimensio...</td>\n",
       "      <td>http://purl.org/linked-data/sdmx/2009/code#sex...</td>\n",
       "      <td>string</td>\n",
       "      <td>NaN</td>\n",
       "      <td>^(M|F|T|U|N)$</td>\n",
       "      <td>http://purl.org/linked-data/sdmx/2009/code#Sex</td>\n",
       "      <td>Sex</td>\n",
       "      <td>NaN</td>\n",
       "      <td>Dimension</td>\n",
       "      <td>http://gss-data.org.uk/def/concept-scheme/phe-sex</td>\n",
       "    </tr>\n",
       "  </tbody>\n",
       "</table>\n",
       "</div>"
      ],
      "text/plain": [
       "  HE - Country level estimates_HLE Entry Type REFColumnsCSV Link   title  \\\n",
       "0                           Period  Dimension             Period  Period   \n",
       "1                              Sex  Dimension                Sex     Sex   \n",
       "\n",
       "     name component_attachment  \\\n",
       "0  period         qb:dimension   \n",
       "1     sex         qb:dimension   \n",
       "\n",
       "                                   property_template  \\\n",
       "0  http://purl.org/linked-data/sdmx/2009/dimensio...   \n",
       "1  http://purl.org/linked-data/sdmx/2009/dimensio...   \n",
       "\n",
       "                                      value_template datatype  \\\n",
       "0          http://reference.data.gov.uk/id/{+period}   string   \n",
       "1  http://purl.org/linked-data/sdmx/2009/code#sex...   string   \n",
       "\n",
       "  value_transformation                                              regex  \\\n",
       "0                  NaN  ^(year/[0-9]{4}|gregorian-interval/.*|month/[0...   \n",
       "1                  NaN                                      ^(M|F|T|U|N)$   \n",
       "\n",
       "                                               range Label Description  \\\n",
       "0  http://reference.data.gov.uk/def/intervals/Int...   NaN         NaN   \n",
       "1     http://purl.org/linked-data/sdmx/2009/code#Sex   Sex         NaN   \n",
       "\n",
       "  Component Type                                           Codelist  \n",
       "0            NaN                                                NaN  \n",
       "1      Dimension  http://gss-data.org.uk/def/concept-scheme/phe-sex  "
      ]
     },
     "metadata": {},
     "output_type": "display_data"
    },
    {
     "data": {
      "text/markdown": [
       "<span style='color:Grey'>\n",
       "====================================================================================================</span>"
      ],
      "text/plain": [
       "<IPython.core.display.Markdown object>"
      ]
     },
     "metadata": {},
     "output_type": "display_data"
    },
    {
     "data": {
      "text/markdown": [
       "<span style='color:Green'>Mapped Component DataFrame for: HE - Region level estimates_LE.</span>"
      ],
      "text/plain": [
       "<IPython.core.display.Markdown object>"
      ]
     },
     "metadata": {},
     "output_type": "display_data"
    },
    {
     "data": {
      "text/markdown": [
       "<span style='color:Grey'>====================================================================================================</span>"
      ],
      "text/plain": [
       "<IPython.core.display.Markdown object>"
      ]
     },
     "metadata": {},
     "output_type": "display_data"
    },
    {
     "data": {
      "text/html": [
       "<div>\n",
       "<style scoped>\n",
       "    .dataframe tbody tr th:only-of-type {\n",
       "        vertical-align: middle;\n",
       "    }\n",
       "\n",
       "    .dataframe tbody tr th {\n",
       "        vertical-align: top;\n",
       "    }\n",
       "\n",
       "    .dataframe thead th {\n",
       "        text-align: right;\n",
       "    }\n",
       "</style>\n",
       "<table border=\"1\" class=\"dataframe\">\n",
       "  <thead>\n",
       "    <tr style=\"text-align: right;\">\n",
       "      <th></th>\n",
       "      <th>HE - Region level estimates_LE</th>\n",
       "      <th>Entry Type</th>\n",
       "      <th>REFColumnsCSV Link</th>\n",
       "      <th>title</th>\n",
       "      <th>name</th>\n",
       "      <th>component_attachment</th>\n",
       "      <th>property_template</th>\n",
       "      <th>value_template</th>\n",
       "      <th>datatype</th>\n",
       "      <th>value_transformation</th>\n",
       "      <th>regex</th>\n",
       "      <th>range</th>\n",
       "      <th>Label</th>\n",
       "      <th>Description</th>\n",
       "      <th>Component Type</th>\n",
       "      <th>Codelist</th>\n",
       "    </tr>\n",
       "  </thead>\n",
       "  <tbody>\n",
       "    <tr>\n",
       "      <th>0</th>\n",
       "      <td>Period</td>\n",
       "      <td>Dimension</td>\n",
       "      <td>Period</td>\n",
       "      <td>Period</td>\n",
       "      <td>period</td>\n",
       "      <td>qb:dimension</td>\n",
       "      <td>http://purl.org/linked-data/sdmx/2009/dimensio...</td>\n",
       "      <td>http://reference.data.gov.uk/id/{+period}</td>\n",
       "      <td>string</td>\n",
       "      <td>NaN</td>\n",
       "      <td>^(year/[0-9]{4}|gregorian-interval/.*|month/[0...</td>\n",
       "      <td>http://reference.data.gov.uk/def/intervals/Int...</td>\n",
       "      <td>NaN</td>\n",
       "      <td>NaN</td>\n",
       "      <td>NaN</td>\n",
       "      <td>NaN</td>\n",
       "    </tr>\n",
       "    <tr>\n",
       "      <th>1</th>\n",
       "      <td>Sex</td>\n",
       "      <td>Dimension</td>\n",
       "      <td>Sex</td>\n",
       "      <td>Sex</td>\n",
       "      <td>sex</td>\n",
       "      <td>qb:dimension</td>\n",
       "      <td>http://purl.org/linked-data/sdmx/2009/dimensio...</td>\n",
       "      <td>http://purl.org/linked-data/sdmx/2009/code#sex...</td>\n",
       "      <td>string</td>\n",
       "      <td>NaN</td>\n",
       "      <td>^(M|F|T|U|N)$</td>\n",
       "      <td>http://purl.org/linked-data/sdmx/2009/code#Sex</td>\n",
       "      <td>Sex</td>\n",
       "      <td>NaN</td>\n",
       "      <td>Dimension</td>\n",
       "      <td>http://gss-data.org.uk/def/concept-scheme/phe-sex</td>\n",
       "    </tr>\n",
       "  </tbody>\n",
       "</table>\n",
       "</div>"
      ],
      "text/plain": [
       "  HE - Region level estimates_LE Entry Type REFColumnsCSV Link   title  \\\n",
       "0                         Period  Dimension             Period  Period   \n",
       "1                            Sex  Dimension                Sex     Sex   \n",
       "\n",
       "     name component_attachment  \\\n",
       "0  period         qb:dimension   \n",
       "1     sex         qb:dimension   \n",
       "\n",
       "                                   property_template  \\\n",
       "0  http://purl.org/linked-data/sdmx/2009/dimensio...   \n",
       "1  http://purl.org/linked-data/sdmx/2009/dimensio...   \n",
       "\n",
       "                                      value_template datatype  \\\n",
       "0          http://reference.data.gov.uk/id/{+period}   string   \n",
       "1  http://purl.org/linked-data/sdmx/2009/code#sex...   string   \n",
       "\n",
       "  value_transformation                                              regex  \\\n",
       "0                  NaN  ^(year/[0-9]{4}|gregorian-interval/.*|month/[0...   \n",
       "1                  NaN                                      ^(M|F|T|U|N)$   \n",
       "\n",
       "                                               range Label Description  \\\n",
       "0  http://reference.data.gov.uk/def/intervals/Int...   NaN         NaN   \n",
       "1     http://purl.org/linked-data/sdmx/2009/code#Sex   Sex         NaN   \n",
       "\n",
       "  Component Type                                           Codelist  \n",
       "0            NaN                                                NaN  \n",
       "1      Dimension  http://gss-data.org.uk/def/concept-scheme/phe-sex  "
      ]
     },
     "metadata": {},
     "output_type": "display_data"
    },
    {
     "data": {
      "text/markdown": [
       "<span style='color:Grey'>\n",
       "====================================================================================================</span>"
      ],
      "text/plain": [
       "<IPython.core.display.Markdown object>"
      ]
     },
     "metadata": {},
     "output_type": "display_data"
    },
    {
     "data": {
      "text/markdown": [
       "<span style='color:Green'>Mapped Component DataFrame for: HE - Region level estimates_HLE.</span>"
      ],
      "text/plain": [
       "<IPython.core.display.Markdown object>"
      ]
     },
     "metadata": {},
     "output_type": "display_data"
    },
    {
     "data": {
      "text/markdown": [
       "<span style='color:Grey'>====================================================================================================</span>"
      ],
      "text/plain": [
       "<IPython.core.display.Markdown object>"
      ]
     },
     "metadata": {},
     "output_type": "display_data"
    },
    {
     "data": {
      "text/html": [
       "<div>\n",
       "<style scoped>\n",
       "    .dataframe tbody tr th:only-of-type {\n",
       "        vertical-align: middle;\n",
       "    }\n",
       "\n",
       "    .dataframe tbody tr th {\n",
       "        vertical-align: top;\n",
       "    }\n",
       "\n",
       "    .dataframe thead th {\n",
       "        text-align: right;\n",
       "    }\n",
       "</style>\n",
       "<table border=\"1\" class=\"dataframe\">\n",
       "  <thead>\n",
       "    <tr style=\"text-align: right;\">\n",
       "      <th></th>\n",
       "      <th>HE - Region level estimates_HLE</th>\n",
       "      <th>Entry Type</th>\n",
       "      <th>REFColumnsCSV Link</th>\n",
       "      <th>title</th>\n",
       "      <th>name</th>\n",
       "      <th>component_attachment</th>\n",
       "      <th>property_template</th>\n",
       "      <th>value_template</th>\n",
       "      <th>datatype</th>\n",
       "      <th>value_transformation</th>\n",
       "      <th>regex</th>\n",
       "      <th>range</th>\n",
       "      <th>Label</th>\n",
       "      <th>Description</th>\n",
       "      <th>Component Type</th>\n",
       "      <th>Codelist</th>\n",
       "    </tr>\n",
       "  </thead>\n",
       "  <tbody>\n",
       "    <tr>\n",
       "      <th>0</th>\n",
       "      <td>Period</td>\n",
       "      <td>Dimension</td>\n",
       "      <td>Period</td>\n",
       "      <td>Period</td>\n",
       "      <td>period</td>\n",
       "      <td>qb:dimension</td>\n",
       "      <td>http://purl.org/linked-data/sdmx/2009/dimensio...</td>\n",
       "      <td>http://reference.data.gov.uk/id/{+period}</td>\n",
       "      <td>string</td>\n",
       "      <td>NaN</td>\n",
       "      <td>^(year/[0-9]{4}|gregorian-interval/.*|month/[0...</td>\n",
       "      <td>http://reference.data.gov.uk/def/intervals/Int...</td>\n",
       "      <td>NaN</td>\n",
       "      <td>NaN</td>\n",
       "      <td>NaN</td>\n",
       "      <td>NaN</td>\n",
       "    </tr>\n",
       "    <tr>\n",
       "      <th>1</th>\n",
       "      <td>Sex</td>\n",
       "      <td>Dimension</td>\n",
       "      <td>Sex</td>\n",
       "      <td>Sex</td>\n",
       "      <td>sex</td>\n",
       "      <td>qb:dimension</td>\n",
       "      <td>http://purl.org/linked-data/sdmx/2009/dimensio...</td>\n",
       "      <td>http://purl.org/linked-data/sdmx/2009/code#sex...</td>\n",
       "      <td>string</td>\n",
       "      <td>NaN</td>\n",
       "      <td>^(M|F|T|U|N)$</td>\n",
       "      <td>http://purl.org/linked-data/sdmx/2009/code#Sex</td>\n",
       "      <td>Sex</td>\n",
       "      <td>NaN</td>\n",
       "      <td>Dimension</td>\n",
       "      <td>http://gss-data.org.uk/def/concept-scheme/phe-sex</td>\n",
       "    </tr>\n",
       "  </tbody>\n",
       "</table>\n",
       "</div>"
      ],
      "text/plain": [
       "  HE - Region level estimates_HLE Entry Type REFColumnsCSV Link   title  \\\n",
       "0                          Period  Dimension             Period  Period   \n",
       "1                             Sex  Dimension                Sex     Sex   \n",
       "\n",
       "     name component_attachment  \\\n",
       "0  period         qb:dimension   \n",
       "1     sex         qb:dimension   \n",
       "\n",
       "                                   property_template  \\\n",
       "0  http://purl.org/linked-data/sdmx/2009/dimensio...   \n",
       "1  http://purl.org/linked-data/sdmx/2009/dimensio...   \n",
       "\n",
       "                                      value_template datatype  \\\n",
       "0          http://reference.data.gov.uk/id/{+period}   string   \n",
       "1  http://purl.org/linked-data/sdmx/2009/code#sex...   string   \n",
       "\n",
       "  value_transformation                                              regex  \\\n",
       "0                  NaN  ^(year/[0-9]{4}|gregorian-interval/.*|month/[0...   \n",
       "1                  NaN                                      ^(M|F|T|U|N)$   \n",
       "\n",
       "                                               range Label Description  \\\n",
       "0  http://reference.data.gov.uk/def/intervals/Int...   NaN         NaN   \n",
       "1     http://purl.org/linked-data/sdmx/2009/code#Sex   Sex         NaN   \n",
       "\n",
       "  Component Type                                           Codelist  \n",
       "0            NaN                                                NaN  \n",
       "1      Dimension  http://gss-data.org.uk/def/concept-scheme/phe-sex  "
      ]
     },
     "metadata": {},
     "output_type": "display_data"
    }
   ],
   "source": [
    "# Automated mapping of transformed components with the master reference data:\n",
    "dataframe_mapped_elements_collection = {}\n",
    "dataframe_mapped_elements_collection_errors = {}\n",
    "\n",
    "# Prepare mapping in memory component:\n",
    "for key in dataframe_elements_collection.keys(): \n",
    "    dataframe_mapped_elements_collection[key] = dataframe_elements_collection[key].copy()\n",
    "    #dataframe_mapped_elements_collection[key]['Linked Component'] = 'default-null'\n",
    "    for cols in dataframe_mapped_elements_collection[key][key]:\n",
    "        idx_temp = dataframe_mapped_elements_collection[key].index[dataframe_mapped_elements_collection[key][key] == cols]\n",
    "        dataframe_mapped_elements_collection[key].loc[idx_temp, 'REFColumnsCSV Link'] = cols #slug.slug(cols) Not matched on Slugilzed as first believed!\n",
    "    \n",
    "# Automated first pass assignment / mapping:\n",
    "for key in dataframe_elements_collection.keys():\n",
    "    df_collection_point, df_collection_point_errors = align_REFdata_with_Transform(dataframe_mapped_elements_collection[key], df_ref_repo_columns, df_ref_repo_components)\n",
    "    dataframe_mapped_elements_collection[key] = df_collection_point\n",
    "    dataframe_mapped_elements_collection_errors[key] = df_collection_point_errors\n",
    "\n",
    "    \n",
    "printmd(\"\\n\" + \"=\"*115, colour='Red')\n",
    "printmd('**WARNING - PLEASE ADDRESS NON-MATCHING REFERENCES!**', colour='Red')\n",
    "printmd(\"=\"*115, colour='Red')\n",
    "for key in dataframe_mapped_elements_collection_errors.keys():\n",
    "    printmd(\"\\n\" + \"=\"*100, colour='Grey')\n",
    "    printmd('UN-Mapped Component DataFrame for: ' + key + '.', colour='Red')\n",
    "    printmd(\"=\"*100, colour='Grey')\n",
    "    #print(dataframe_mapped_elements_collection[key]) #Print like this for Logs...  \n",
    "    display(dataframe_mapped_elements_collection_errors[key])\n",
    "    \n",
    "    \n",
    "printmd(\"\\n\" + \"=\"*115, colour='Grey')\n",
    "printmd('**Please use Caution!:**' + ' Displayed below are the current components as mapped and linked through code.', colour='Green')\n",
    "printmd('*Check carefully before proceeding.*', colour='Green')\n",
    "printmd(\"\\n\" + \"=\"*115, colour='Grey')\n",
    "for key in dataframe_mapped_elements_collection.keys():\n",
    "    printmd(\"\\n\" + \"=\"*100, colour='Grey')\n",
    "    printmd('Mapped Component DataFrame for: ' + key + '.', colour='Green')\n",
    "    printmd(\"=\"*100, colour='Grey')\n",
    "    #print(dataframe_mapped_elements_collection[key]) #Print like this for Logs...  \n",
    "    display(dataframe_mapped_elements_collection[key])\n",
    "    "
   ]
  },
  {
   "cell_type": "markdown",
   "metadata": {},
   "source": [
    "### The next code section will / may require iteration until all elemenets are mapped:"
   ]
  },
  {
   "cell_type": "code",
   "execution_count": 593,
   "metadata": {},
   "outputs": [
    {
     "data": {
      "text/markdown": [
       "<span style='color:Green'>\n",
       "===================================================================================================================</span>"
      ],
      "text/plain": [
       "<IPython.core.display.Markdown object>"
      ]
     },
     "metadata": {},
     "output_type": "display_data"
    },
    {
     "data": {
      "text/markdown": [
       "<span style='color:Green'>**ALL Data Entities Mapped! Safe to Proceed!**</span>"
      ],
      "text/plain": [
       "<IPython.core.display.Markdown object>"
      ]
     },
     "metadata": {},
     "output_type": "display_data"
    },
    {
     "data": {
      "text/markdown": [
       "<span style='color:Green'>===================================================================================================================</span>"
      ],
      "text/plain": [
       "<IPython.core.display.Markdown object>"
      ]
     },
     "metadata": {},
     "output_type": "display_data"
    },
    {
     "data": {
      "text/markdown": [
       "<span style='color:Grey'>\n",
       "===================================================================================================================</span>"
      ],
      "text/plain": [
       "<IPython.core.display.Markdown object>"
      ]
     },
     "metadata": {},
     "output_type": "display_data"
    },
    {
     "data": {
      "text/markdown": [
       "<span style='color:Green'>**Please use Caution!:** Displayed below are the current components as mapped and linked through code.</span>"
      ],
      "text/plain": [
       "<IPython.core.display.Markdown object>"
      ]
     },
     "metadata": {},
     "output_type": "display_data"
    },
    {
     "data": {
      "text/markdown": [
       "<span style='color:Green'>*Check carefully before proceeding.*</span>"
      ],
      "text/plain": [
       "<IPython.core.display.Markdown object>"
      ]
     },
     "metadata": {},
     "output_type": "display_data"
    },
    {
     "data": {
      "text/markdown": [
       "<span style='color:Grey'>\n",
       "===================================================================================================================</span>"
      ],
      "text/plain": [
       "<IPython.core.display.Markdown object>"
      ]
     },
     "metadata": {},
     "output_type": "display_data"
    },
    {
     "data": {
      "text/markdown": [
       "<span style='color:Grey'>\n",
       "====================================================================================================</span>"
      ],
      "text/plain": [
       "<IPython.core.display.Markdown object>"
      ]
     },
     "metadata": {},
     "output_type": "display_data"
    },
    {
     "data": {
      "text/markdown": [
       "<span style='color:Blue'>Mapped Component DataFrame for: HE - Country level estimates_LE.</span>"
      ],
      "text/plain": [
       "<IPython.core.display.Markdown object>"
      ]
     },
     "metadata": {},
     "output_type": "display_data"
    },
    {
     "data": {
      "text/markdown": [
       "<span style='color:Grey'>====================================================================================================</span>"
      ],
      "text/plain": [
       "<IPython.core.display.Markdown object>"
      ]
     },
     "metadata": {},
     "output_type": "display_data"
    },
    {
     "data": {
      "text/html": [
       "<div>\n",
       "<style scoped>\n",
       "    .dataframe tbody tr th:only-of-type {\n",
       "        vertical-align: middle;\n",
       "    }\n",
       "\n",
       "    .dataframe tbody tr th {\n",
       "        vertical-align: top;\n",
       "    }\n",
       "\n",
       "    .dataframe thead th {\n",
       "        text-align: right;\n",
       "    }\n",
       "</style>\n",
       "<table border=\"1\" class=\"dataframe\">\n",
       "  <thead>\n",
       "    <tr style=\"text-align: right;\">\n",
       "      <th></th>\n",
       "      <th>HE - Country level estimates_LE</th>\n",
       "      <th>Entry Type</th>\n",
       "      <th>REFColumnsCSV Link</th>\n",
       "      <th>title</th>\n",
       "      <th>name</th>\n",
       "      <th>component_attachment</th>\n",
       "      <th>property_template</th>\n",
       "      <th>value_template</th>\n",
       "      <th>datatype</th>\n",
       "      <th>value_transformation</th>\n",
       "      <th>regex</th>\n",
       "      <th>range</th>\n",
       "      <th>Label</th>\n",
       "      <th>Description</th>\n",
       "      <th>Component Type</th>\n",
       "      <th>Codelist</th>\n",
       "    </tr>\n",
       "  </thead>\n",
       "  <tbody>\n",
       "    <tr>\n",
       "      <th>0</th>\n",
       "      <td>Period</td>\n",
       "      <td>Dimension</td>\n",
       "      <td>Period</td>\n",
       "      <td>Period</td>\n",
       "      <td>period</td>\n",
       "      <td>qb:dimension</td>\n",
       "      <td>http://purl.org/linked-data/sdmx/2009/dimensio...</td>\n",
       "      <td>http://reference.data.gov.uk/id/{+period}</td>\n",
       "      <td>string</td>\n",
       "      <td>NaN</td>\n",
       "      <td>^(year/[0-9]{4}|gregorian-interval/.*|month/[0...</td>\n",
       "      <td>http://reference.data.gov.uk/def/intervals/Int...</td>\n",
       "      <td>NaN</td>\n",
       "      <td>NaN</td>\n",
       "      <td>NaN</td>\n",
       "      <td>NaN</td>\n",
       "    </tr>\n",
       "    <tr>\n",
       "      <th>1</th>\n",
       "      <td>ONS Geography</td>\n",
       "      <td>Dimension</td>\n",
       "      <td>ONS Geography</td>\n",
       "      <td>ONS Geography</td>\n",
       "      <td>ons_geography</td>\n",
       "      <td>qb:dimension</td>\n",
       "      <td>http://purl.org/linked-data/sdmx/2009/dimensio...</td>\n",
       "      <td>http://statistics.data.gov.uk/id/statistical-g...</td>\n",
       "      <td>string</td>\n",
       "      <td>NaN</td>\n",
       "      <td>[A-Z][0-9]{8}</td>\n",
       "      <td>NaN</td>\n",
       "      <td>NaN</td>\n",
       "      <td>NaN</td>\n",
       "      <td>NaN</td>\n",
       "      <td>NaN</td>\n",
       "    </tr>\n",
       "    <tr>\n",
       "      <th>2</th>\n",
       "      <td>Sex</td>\n",
       "      <td>Dimension</td>\n",
       "      <td>Sex</td>\n",
       "      <td>Sex</td>\n",
       "      <td>sex</td>\n",
       "      <td>qb:dimension</td>\n",
       "      <td>http://purl.org/linked-data/sdmx/2009/dimensio...</td>\n",
       "      <td>http://purl.org/linked-data/sdmx/2009/code#sex...</td>\n",
       "      <td>string</td>\n",
       "      <td>NaN</td>\n",
       "      <td>^(M|F|T|U|N)$</td>\n",
       "      <td>http://purl.org/linked-data/sdmx/2009/code#Sex</td>\n",
       "      <td>Sex</td>\n",
       "      <td>NaN</td>\n",
       "      <td>Dimension</td>\n",
       "      <td>http://gss-data.org.uk/def/concept-scheme/phe-sex</td>\n",
       "    </tr>\n",
       "    <tr>\n",
       "      <th>3</th>\n",
       "      <td>ONS Age Range</td>\n",
       "      <td>Dimension</td>\n",
       "      <td>ONS Age Range</td>\n",
       "      <td>ONS Age Range</td>\n",
       "      <td>ons_age_range</td>\n",
       "      <td>qb:dimension</td>\n",
       "      <td>http://gss-data.org.uk/def/dimension/ons-age-r...</td>\n",
       "      <td>http://gss-data.org.uk/def/concept/ons-age-ran...</td>\n",
       "      <td>string</td>\n",
       "      <td>slugize</td>\n",
       "      <td>NaN</td>\n",
       "      <td>http://gss-data.org.uk/def/classes/ons-age-ran...</td>\n",
       "      <td>ONS Age Range</td>\n",
       "      <td>NaN</td>\n",
       "      <td>Dimension</td>\n",
       "      <td>http://gss-data.org.uk/def/concept-scheme/ons-...</td>\n",
       "    </tr>\n",
       "    <tr>\n",
       "      <th>4</th>\n",
       "      <td>Value</td>\n",
       "      <td>Measure</td>\n",
       "      <td>Value</td>\n",
       "      <td>Value</td>\n",
       "      <td>value</td>\n",
       "      <td>NaN</td>\n",
       "      <td>http://gss-data.org.uk/def/measure/{measure_type}</td>\n",
       "      <td>NaN</td>\n",
       "      <td>number</td>\n",
       "      <td>NaN</td>\n",
       "      <td>NaN</td>\n",
       "      <td>NaN</td>\n",
       "      <td>NaN</td>\n",
       "      <td>NaN</td>\n",
       "      <td>NaN</td>\n",
       "      <td>NaN</td>\n",
       "    </tr>\n",
       "    <tr>\n",
       "      <th>5</th>\n",
       "      <td>Lower CI</td>\n",
       "      <td>Observation</td>\n",
       "      <td>Lower CI</td>\n",
       "      <td>Lower CI</td>\n",
       "      <td>lower_ci</td>\n",
       "      <td>qb:attribute</td>\n",
       "      <td>http://gss-data.org.uk/def/attribute/lower-ci</td>\n",
       "      <td>NaN</td>\n",
       "      <td>number</td>\n",
       "      <td>NaN</td>\n",
       "      <td>NaN</td>\n",
       "      <td>NaN</td>\n",
       "      <td>NaN</td>\n",
       "      <td>NaN</td>\n",
       "      <td>NaN</td>\n",
       "      <td>NaN</td>\n",
       "    </tr>\n",
       "    <tr>\n",
       "      <th>6</th>\n",
       "      <td>Upper CI</td>\n",
       "      <td>Observation</td>\n",
       "      <td>Upper CI</td>\n",
       "      <td>Upper CI</td>\n",
       "      <td>upper_ci</td>\n",
       "      <td>qb:attribute</td>\n",
       "      <td>http://gss-data.org.uk/def/attribute/upper-ci</td>\n",
       "      <td>NaN</td>\n",
       "      <td>number</td>\n",
       "      <td>NaN</td>\n",
       "      <td>NaN</td>\n",
       "      <td>NaN</td>\n",
       "      <td>NaN</td>\n",
       "      <td>NaN</td>\n",
       "      <td>NaN</td>\n",
       "      <td>NaN</td>\n",
       "    </tr>\n",
       "    <tr>\n",
       "      <th>7</th>\n",
       "      <td>Life Expectancy Estimate Type</td>\n",
       "      <td>Dimension</td>\n",
       "      <td>Life Expectancy Estimate Type</td>\n",
       "      <td>Life Expectancy Estimate Type</td>\n",
       "      <td>life_expectancy_estimate_type</td>\n",
       "      <td>qb:dimension</td>\n",
       "      <td>http://gss-data.org.uk/def/dimension/life-expe...</td>\n",
       "      <td>http://gss-data.org.uk/def/concept/life-expect...</td>\n",
       "      <td>string</td>\n",
       "      <td>slugize</td>\n",
       "      <td>NaN</td>\n",
       "      <td>http://gss-data.org.uk/def/classes/life-expect...</td>\n",
       "      <td>Life Expectancy Estimate Type</td>\n",
       "      <td>NaN</td>\n",
       "      <td>Dimension</td>\n",
       "      <td>http://gss-data.org.uk/def/concept-scheme/life...</td>\n",
       "    </tr>\n",
       "  </tbody>\n",
       "</table>\n",
       "</div>"
      ],
      "text/plain": [
       "  HE - Country level estimates_LE   Entry Type             REFColumnsCSV Link  \\\n",
       "0                          Period    Dimension                         Period   \n",
       "1                   ONS Geography    Dimension                  ONS Geography   \n",
       "2                             Sex    Dimension                            Sex   \n",
       "3                   ONS Age Range    Dimension                  ONS Age Range   \n",
       "4                           Value      Measure                          Value   \n",
       "5                        Lower CI  Observation                       Lower CI   \n",
       "6                        Upper CI  Observation                       Upper CI   \n",
       "7   Life Expectancy Estimate Type    Dimension  Life Expectancy Estimate Type   \n",
       "\n",
       "                           title                           name  \\\n",
       "0                         Period                         period   \n",
       "1                  ONS Geography                  ons_geography   \n",
       "2                            Sex                            sex   \n",
       "3                  ONS Age Range                  ons_age_range   \n",
       "4                          Value                          value   \n",
       "5                       Lower CI                       lower_ci   \n",
       "6                       Upper CI                       upper_ci   \n",
       "7  Life Expectancy Estimate Type  life_expectancy_estimate_type   \n",
       "\n",
       "  component_attachment                                  property_template  \\\n",
       "0         qb:dimension  http://purl.org/linked-data/sdmx/2009/dimensio...   \n",
       "1         qb:dimension  http://purl.org/linked-data/sdmx/2009/dimensio...   \n",
       "2         qb:dimension  http://purl.org/linked-data/sdmx/2009/dimensio...   \n",
       "3         qb:dimension  http://gss-data.org.uk/def/dimension/ons-age-r...   \n",
       "4                  NaN  http://gss-data.org.uk/def/measure/{measure_type}   \n",
       "5         qb:attribute      http://gss-data.org.uk/def/attribute/lower-ci   \n",
       "6         qb:attribute      http://gss-data.org.uk/def/attribute/upper-ci   \n",
       "7         qb:dimension  http://gss-data.org.uk/def/dimension/life-expe...   \n",
       "\n",
       "                                      value_template datatype  \\\n",
       "0          http://reference.data.gov.uk/id/{+period}   string   \n",
       "1  http://statistics.data.gov.uk/id/statistical-g...   string   \n",
       "2  http://purl.org/linked-data/sdmx/2009/code#sex...   string   \n",
       "3  http://gss-data.org.uk/def/concept/ons-age-ran...   string   \n",
       "4                                                NaN   number   \n",
       "5                                                NaN   number   \n",
       "6                                                NaN   number   \n",
       "7  http://gss-data.org.uk/def/concept/life-expect...   string   \n",
       "\n",
       "  value_transformation                                              regex  \\\n",
       "0                  NaN  ^(year/[0-9]{4}|gregorian-interval/.*|month/[0...   \n",
       "1                  NaN                                      [A-Z][0-9]{8}   \n",
       "2                  NaN                                      ^(M|F|T|U|N)$   \n",
       "3              slugize                                                NaN   \n",
       "4                  NaN                                                NaN   \n",
       "5                  NaN                                                NaN   \n",
       "6                  NaN                                                NaN   \n",
       "7              slugize                                                NaN   \n",
       "\n",
       "                                               range  \\\n",
       "0  http://reference.data.gov.uk/def/intervals/Int...   \n",
       "1                                                NaN   \n",
       "2     http://purl.org/linked-data/sdmx/2009/code#Sex   \n",
       "3  http://gss-data.org.uk/def/classes/ons-age-ran...   \n",
       "4                                                NaN   \n",
       "5                                                NaN   \n",
       "6                                                NaN   \n",
       "7  http://gss-data.org.uk/def/classes/life-expect...   \n",
       "\n",
       "                           Label Description Component Type  \\\n",
       "0                            NaN         NaN            NaN   \n",
       "1                            NaN         NaN            NaN   \n",
       "2                            Sex         NaN      Dimension   \n",
       "3                  ONS Age Range         NaN      Dimension   \n",
       "4                            NaN         NaN            NaN   \n",
       "5                            NaN         NaN            NaN   \n",
       "6                            NaN         NaN            NaN   \n",
       "7  Life Expectancy Estimate Type         NaN      Dimension   \n",
       "\n",
       "                                            Codelist  \n",
       "0                                                NaN  \n",
       "1                                                NaN  \n",
       "2  http://gss-data.org.uk/def/concept-scheme/phe-sex  \n",
       "3  http://gss-data.org.uk/def/concept-scheme/ons-...  \n",
       "4                                                NaN  \n",
       "5                                                NaN  \n",
       "6                                                NaN  \n",
       "7  http://gss-data.org.uk/def/concept-scheme/life...  "
      ]
     },
     "metadata": {},
     "output_type": "display_data"
    },
    {
     "data": {
      "text/markdown": [
       "<span style='color:Grey'>\n",
       "====================================================================================================</span>"
      ],
      "text/plain": [
       "<IPython.core.display.Markdown object>"
      ]
     },
     "metadata": {},
     "output_type": "display_data"
    },
    {
     "data": {
      "text/markdown": [
       "<span style='color:Blue'>Mapped Component DataFrame for: HE - Country level estimates_HLE.</span>"
      ],
      "text/plain": [
       "<IPython.core.display.Markdown object>"
      ]
     },
     "metadata": {},
     "output_type": "display_data"
    },
    {
     "data": {
      "text/markdown": [
       "<span style='color:Grey'>====================================================================================================</span>"
      ],
      "text/plain": [
       "<IPython.core.display.Markdown object>"
      ]
     },
     "metadata": {},
     "output_type": "display_data"
    },
    {
     "data": {
      "text/html": [
       "<div>\n",
       "<style scoped>\n",
       "    .dataframe tbody tr th:only-of-type {\n",
       "        vertical-align: middle;\n",
       "    }\n",
       "\n",
       "    .dataframe tbody tr th {\n",
       "        vertical-align: top;\n",
       "    }\n",
       "\n",
       "    .dataframe thead th {\n",
       "        text-align: right;\n",
       "    }\n",
       "</style>\n",
       "<table border=\"1\" class=\"dataframe\">\n",
       "  <thead>\n",
       "    <tr style=\"text-align: right;\">\n",
       "      <th></th>\n",
       "      <th>HE - Country level estimates_HLE</th>\n",
       "      <th>Entry Type</th>\n",
       "      <th>REFColumnsCSV Link</th>\n",
       "      <th>title</th>\n",
       "      <th>name</th>\n",
       "      <th>component_attachment</th>\n",
       "      <th>property_template</th>\n",
       "      <th>value_template</th>\n",
       "      <th>datatype</th>\n",
       "      <th>value_transformation</th>\n",
       "      <th>regex</th>\n",
       "      <th>range</th>\n",
       "      <th>Label</th>\n",
       "      <th>Description</th>\n",
       "      <th>Component Type</th>\n",
       "      <th>Codelist</th>\n",
       "    </tr>\n",
       "  </thead>\n",
       "  <tbody>\n",
       "    <tr>\n",
       "      <th>0</th>\n",
       "      <td>Period</td>\n",
       "      <td>Dimension</td>\n",
       "      <td>Period</td>\n",
       "      <td>Period</td>\n",
       "      <td>period</td>\n",
       "      <td>qb:dimension</td>\n",
       "      <td>http://purl.org/linked-data/sdmx/2009/dimensio...</td>\n",
       "      <td>http://reference.data.gov.uk/id/{+period}</td>\n",
       "      <td>string</td>\n",
       "      <td>NaN</td>\n",
       "      <td>^(year/[0-9]{4}|gregorian-interval/.*|month/[0...</td>\n",
       "      <td>http://reference.data.gov.uk/def/intervals/Int...</td>\n",
       "      <td>NaN</td>\n",
       "      <td>NaN</td>\n",
       "      <td>NaN</td>\n",
       "      <td>NaN</td>\n",
       "    </tr>\n",
       "    <tr>\n",
       "      <th>1</th>\n",
       "      <td>ONS Geography</td>\n",
       "      <td>Dimension</td>\n",
       "      <td>ONS Geography</td>\n",
       "      <td>ONS Geography</td>\n",
       "      <td>ons_geography</td>\n",
       "      <td>qb:dimension</td>\n",
       "      <td>http://purl.org/linked-data/sdmx/2009/dimensio...</td>\n",
       "      <td>http://statistics.data.gov.uk/id/statistical-g...</td>\n",
       "      <td>string</td>\n",
       "      <td>NaN</td>\n",
       "      <td>[A-Z][0-9]{8}</td>\n",
       "      <td>NaN</td>\n",
       "      <td>NaN</td>\n",
       "      <td>NaN</td>\n",
       "      <td>NaN</td>\n",
       "      <td>NaN</td>\n",
       "    </tr>\n",
       "    <tr>\n",
       "      <th>2</th>\n",
       "      <td>Sex</td>\n",
       "      <td>Dimension</td>\n",
       "      <td>Sex</td>\n",
       "      <td>Sex</td>\n",
       "      <td>sex</td>\n",
       "      <td>qb:dimension</td>\n",
       "      <td>http://purl.org/linked-data/sdmx/2009/dimensio...</td>\n",
       "      <td>http://purl.org/linked-data/sdmx/2009/code#sex...</td>\n",
       "      <td>string</td>\n",
       "      <td>NaN</td>\n",
       "      <td>^(M|F|T|U|N)$</td>\n",
       "      <td>http://purl.org/linked-data/sdmx/2009/code#Sex</td>\n",
       "      <td>Sex</td>\n",
       "      <td>NaN</td>\n",
       "      <td>Dimension</td>\n",
       "      <td>http://gss-data.org.uk/def/concept-scheme/phe-sex</td>\n",
       "    </tr>\n",
       "    <tr>\n",
       "      <th>3</th>\n",
       "      <td>ONS Age Range</td>\n",
       "      <td>Dimension</td>\n",
       "      <td>ONS Age Range</td>\n",
       "      <td>ONS Age Range</td>\n",
       "      <td>ons_age_range</td>\n",
       "      <td>qb:dimension</td>\n",
       "      <td>http://gss-data.org.uk/def/dimension/ons-age-r...</td>\n",
       "      <td>http://gss-data.org.uk/def/concept/ons-age-ran...</td>\n",
       "      <td>string</td>\n",
       "      <td>slugize</td>\n",
       "      <td>NaN</td>\n",
       "      <td>http://gss-data.org.uk/def/classes/ons-age-ran...</td>\n",
       "      <td>ONS Age Range</td>\n",
       "      <td>NaN</td>\n",
       "      <td>Dimension</td>\n",
       "      <td>http://gss-data.org.uk/def/concept-scheme/ons-...</td>\n",
       "    </tr>\n",
       "    <tr>\n",
       "      <th>4</th>\n",
       "      <td>Value</td>\n",
       "      <td>Measure</td>\n",
       "      <td>Value</td>\n",
       "      <td>Value</td>\n",
       "      <td>value</td>\n",
       "      <td>NaN</td>\n",
       "      <td>http://gss-data.org.uk/def/measure/{measure_type}</td>\n",
       "      <td>NaN</td>\n",
       "      <td>number</td>\n",
       "      <td>NaN</td>\n",
       "      <td>NaN</td>\n",
       "      <td>NaN</td>\n",
       "      <td>NaN</td>\n",
       "      <td>NaN</td>\n",
       "      <td>NaN</td>\n",
       "      <td>NaN</td>\n",
       "    </tr>\n",
       "    <tr>\n",
       "      <th>5</th>\n",
       "      <td>Lower CI</td>\n",
       "      <td>Observation</td>\n",
       "      <td>Lower CI</td>\n",
       "      <td>Lower CI</td>\n",
       "      <td>lower_ci</td>\n",
       "      <td>qb:attribute</td>\n",
       "      <td>http://gss-data.org.uk/def/attribute/lower-ci</td>\n",
       "      <td>NaN</td>\n",
       "      <td>number</td>\n",
       "      <td>NaN</td>\n",
       "      <td>NaN</td>\n",
       "      <td>NaN</td>\n",
       "      <td>NaN</td>\n",
       "      <td>NaN</td>\n",
       "      <td>NaN</td>\n",
       "      <td>NaN</td>\n",
       "    </tr>\n",
       "    <tr>\n",
       "      <th>6</th>\n",
       "      <td>Upper CI</td>\n",
       "      <td>Observation</td>\n",
       "      <td>Upper CI</td>\n",
       "      <td>Upper CI</td>\n",
       "      <td>upper_ci</td>\n",
       "      <td>qb:attribute</td>\n",
       "      <td>http://gss-data.org.uk/def/attribute/upper-ci</td>\n",
       "      <td>NaN</td>\n",
       "      <td>number</td>\n",
       "      <td>NaN</td>\n",
       "      <td>NaN</td>\n",
       "      <td>NaN</td>\n",
       "      <td>NaN</td>\n",
       "      <td>NaN</td>\n",
       "      <td>NaN</td>\n",
       "      <td>NaN</td>\n",
       "    </tr>\n",
       "    <tr>\n",
       "      <th>7</th>\n",
       "      <td>Life Expectancy Estimate Type</td>\n",
       "      <td>Dimension</td>\n",
       "      <td>Life Expectancy Estimate Type</td>\n",
       "      <td>Life Expectancy Estimate Type</td>\n",
       "      <td>life_expectancy_estimate_type</td>\n",
       "      <td>qb:dimension</td>\n",
       "      <td>http://gss-data.org.uk/def/dimension/life-expe...</td>\n",
       "      <td>http://gss-data.org.uk/def/concept/life-expect...</td>\n",
       "      <td>string</td>\n",
       "      <td>slugize</td>\n",
       "      <td>NaN</td>\n",
       "      <td>http://gss-data.org.uk/def/classes/life-expect...</td>\n",
       "      <td>Life Expectancy Estimate Type</td>\n",
       "      <td>NaN</td>\n",
       "      <td>Dimension</td>\n",
       "      <td>http://gss-data.org.uk/def/concept-scheme/life...</td>\n",
       "    </tr>\n",
       "  </tbody>\n",
       "</table>\n",
       "</div>"
      ],
      "text/plain": [
       "  HE - Country level estimates_HLE   Entry Type  \\\n",
       "0                           Period    Dimension   \n",
       "1                    ONS Geography    Dimension   \n",
       "2                              Sex    Dimension   \n",
       "3                    ONS Age Range    Dimension   \n",
       "4                            Value      Measure   \n",
       "5                         Lower CI  Observation   \n",
       "6                         Upper CI  Observation   \n",
       "7    Life Expectancy Estimate Type    Dimension   \n",
       "\n",
       "              REFColumnsCSV Link                          title  \\\n",
       "0                         Period                         Period   \n",
       "1                  ONS Geography                  ONS Geography   \n",
       "2                            Sex                            Sex   \n",
       "3                  ONS Age Range                  ONS Age Range   \n",
       "4                          Value                          Value   \n",
       "5                       Lower CI                       Lower CI   \n",
       "6                       Upper CI                       Upper CI   \n",
       "7  Life Expectancy Estimate Type  Life Expectancy Estimate Type   \n",
       "\n",
       "                            name component_attachment  \\\n",
       "0                         period         qb:dimension   \n",
       "1                  ons_geography         qb:dimension   \n",
       "2                            sex         qb:dimension   \n",
       "3                  ons_age_range         qb:dimension   \n",
       "4                          value                  NaN   \n",
       "5                       lower_ci         qb:attribute   \n",
       "6                       upper_ci         qb:attribute   \n",
       "7  life_expectancy_estimate_type         qb:dimension   \n",
       "\n",
       "                                   property_template  \\\n",
       "0  http://purl.org/linked-data/sdmx/2009/dimensio...   \n",
       "1  http://purl.org/linked-data/sdmx/2009/dimensio...   \n",
       "2  http://purl.org/linked-data/sdmx/2009/dimensio...   \n",
       "3  http://gss-data.org.uk/def/dimension/ons-age-r...   \n",
       "4  http://gss-data.org.uk/def/measure/{measure_type}   \n",
       "5      http://gss-data.org.uk/def/attribute/lower-ci   \n",
       "6      http://gss-data.org.uk/def/attribute/upper-ci   \n",
       "7  http://gss-data.org.uk/def/dimension/life-expe...   \n",
       "\n",
       "                                      value_template datatype  \\\n",
       "0          http://reference.data.gov.uk/id/{+period}   string   \n",
       "1  http://statistics.data.gov.uk/id/statistical-g...   string   \n",
       "2  http://purl.org/linked-data/sdmx/2009/code#sex...   string   \n",
       "3  http://gss-data.org.uk/def/concept/ons-age-ran...   string   \n",
       "4                                                NaN   number   \n",
       "5                                                NaN   number   \n",
       "6                                                NaN   number   \n",
       "7  http://gss-data.org.uk/def/concept/life-expect...   string   \n",
       "\n",
       "  value_transformation                                              regex  \\\n",
       "0                  NaN  ^(year/[0-9]{4}|gregorian-interval/.*|month/[0...   \n",
       "1                  NaN                                      [A-Z][0-9]{8}   \n",
       "2                  NaN                                      ^(M|F|T|U|N)$   \n",
       "3              slugize                                                NaN   \n",
       "4                  NaN                                                NaN   \n",
       "5                  NaN                                                NaN   \n",
       "6                  NaN                                                NaN   \n",
       "7              slugize                                                NaN   \n",
       "\n",
       "                                               range  \\\n",
       "0  http://reference.data.gov.uk/def/intervals/Int...   \n",
       "1                                                NaN   \n",
       "2     http://purl.org/linked-data/sdmx/2009/code#Sex   \n",
       "3  http://gss-data.org.uk/def/classes/ons-age-ran...   \n",
       "4                                                NaN   \n",
       "5                                                NaN   \n",
       "6                                                NaN   \n",
       "7  http://gss-data.org.uk/def/classes/life-expect...   \n",
       "\n",
       "                           Label Description Component Type  \\\n",
       "0                            NaN         NaN            NaN   \n",
       "1                            NaN         NaN            NaN   \n",
       "2                            Sex         NaN      Dimension   \n",
       "3                  ONS Age Range         NaN      Dimension   \n",
       "4                            NaN         NaN            NaN   \n",
       "5                            NaN         NaN            NaN   \n",
       "6                            NaN         NaN            NaN   \n",
       "7  Life Expectancy Estimate Type         NaN      Dimension   \n",
       "\n",
       "                                            Codelist  \n",
       "0                                                NaN  \n",
       "1                                                NaN  \n",
       "2  http://gss-data.org.uk/def/concept-scheme/phe-sex  \n",
       "3  http://gss-data.org.uk/def/concept-scheme/ons-...  \n",
       "4                                                NaN  \n",
       "5                                                NaN  \n",
       "6                                                NaN  \n",
       "7  http://gss-data.org.uk/def/concept-scheme/life...  "
      ]
     },
     "metadata": {},
     "output_type": "display_data"
    },
    {
     "data": {
      "text/markdown": [
       "<span style='color:Grey'>\n",
       "====================================================================================================</span>"
      ],
      "text/plain": [
       "<IPython.core.display.Markdown object>"
      ]
     },
     "metadata": {},
     "output_type": "display_data"
    },
    {
     "data": {
      "text/markdown": [
       "<span style='color:Blue'>Mapped Component DataFrame for: HE - Region level estimates_LE.</span>"
      ],
      "text/plain": [
       "<IPython.core.display.Markdown object>"
      ]
     },
     "metadata": {},
     "output_type": "display_data"
    },
    {
     "data": {
      "text/markdown": [
       "<span style='color:Grey'>====================================================================================================</span>"
      ],
      "text/plain": [
       "<IPython.core.display.Markdown object>"
      ]
     },
     "metadata": {},
     "output_type": "display_data"
    },
    {
     "data": {
      "text/html": [
       "<div>\n",
       "<style scoped>\n",
       "    .dataframe tbody tr th:only-of-type {\n",
       "        vertical-align: middle;\n",
       "    }\n",
       "\n",
       "    .dataframe tbody tr th {\n",
       "        vertical-align: top;\n",
       "    }\n",
       "\n",
       "    .dataframe thead th {\n",
       "        text-align: right;\n",
       "    }\n",
       "</style>\n",
       "<table border=\"1\" class=\"dataframe\">\n",
       "  <thead>\n",
       "    <tr style=\"text-align: right;\">\n",
       "      <th></th>\n",
       "      <th>HE - Region level estimates_LE</th>\n",
       "      <th>Entry Type</th>\n",
       "      <th>REFColumnsCSV Link</th>\n",
       "      <th>title</th>\n",
       "      <th>name</th>\n",
       "      <th>component_attachment</th>\n",
       "      <th>property_template</th>\n",
       "      <th>value_template</th>\n",
       "      <th>datatype</th>\n",
       "      <th>value_transformation</th>\n",
       "      <th>regex</th>\n",
       "      <th>range</th>\n",
       "      <th>Label</th>\n",
       "      <th>Description</th>\n",
       "      <th>Component Type</th>\n",
       "      <th>Codelist</th>\n",
       "    </tr>\n",
       "  </thead>\n",
       "  <tbody>\n",
       "    <tr>\n",
       "      <th>0</th>\n",
       "      <td>Period</td>\n",
       "      <td>Dimension</td>\n",
       "      <td>Period</td>\n",
       "      <td>Period</td>\n",
       "      <td>period</td>\n",
       "      <td>qb:dimension</td>\n",
       "      <td>http://purl.org/linked-data/sdmx/2009/dimensio...</td>\n",
       "      <td>http://reference.data.gov.uk/id/{+period}</td>\n",
       "      <td>string</td>\n",
       "      <td>NaN</td>\n",
       "      <td>^(year/[0-9]{4}|gregorian-interval/.*|month/[0...</td>\n",
       "      <td>http://reference.data.gov.uk/def/intervals/Int...</td>\n",
       "      <td>NaN</td>\n",
       "      <td>NaN</td>\n",
       "      <td>NaN</td>\n",
       "      <td>NaN</td>\n",
       "    </tr>\n",
       "    <tr>\n",
       "      <th>1</th>\n",
       "      <td>ONS Geography</td>\n",
       "      <td>Dimension</td>\n",
       "      <td>ONS Geography</td>\n",
       "      <td>ONS Geography</td>\n",
       "      <td>ons_geography</td>\n",
       "      <td>qb:dimension</td>\n",
       "      <td>http://purl.org/linked-data/sdmx/2009/dimensio...</td>\n",
       "      <td>http://statistics.data.gov.uk/id/statistical-g...</td>\n",
       "      <td>string</td>\n",
       "      <td>NaN</td>\n",
       "      <td>[A-Z][0-9]{8}</td>\n",
       "      <td>NaN</td>\n",
       "      <td>NaN</td>\n",
       "      <td>NaN</td>\n",
       "      <td>NaN</td>\n",
       "      <td>NaN</td>\n",
       "    </tr>\n",
       "    <tr>\n",
       "      <th>2</th>\n",
       "      <td>Sex</td>\n",
       "      <td>Dimension</td>\n",
       "      <td>Sex</td>\n",
       "      <td>Sex</td>\n",
       "      <td>sex</td>\n",
       "      <td>qb:dimension</td>\n",
       "      <td>http://purl.org/linked-data/sdmx/2009/dimensio...</td>\n",
       "      <td>http://purl.org/linked-data/sdmx/2009/code#sex...</td>\n",
       "      <td>string</td>\n",
       "      <td>NaN</td>\n",
       "      <td>^(M|F|T|U|N)$</td>\n",
       "      <td>http://purl.org/linked-data/sdmx/2009/code#Sex</td>\n",
       "      <td>Sex</td>\n",
       "      <td>NaN</td>\n",
       "      <td>Dimension</td>\n",
       "      <td>http://gss-data.org.uk/def/concept-scheme/phe-sex</td>\n",
       "    </tr>\n",
       "    <tr>\n",
       "      <th>3</th>\n",
       "      <td>ONS Age Range</td>\n",
       "      <td>Dimension</td>\n",
       "      <td>ONS Age Range</td>\n",
       "      <td>ONS Age Range</td>\n",
       "      <td>ons_age_range</td>\n",
       "      <td>qb:dimension</td>\n",
       "      <td>http://gss-data.org.uk/def/dimension/ons-age-r...</td>\n",
       "      <td>http://gss-data.org.uk/def/concept/ons-age-ran...</td>\n",
       "      <td>string</td>\n",
       "      <td>slugize</td>\n",
       "      <td>NaN</td>\n",
       "      <td>http://gss-data.org.uk/def/classes/ons-age-ran...</td>\n",
       "      <td>ONS Age Range</td>\n",
       "      <td>NaN</td>\n",
       "      <td>Dimension</td>\n",
       "      <td>http://gss-data.org.uk/def/concept-scheme/ons-...</td>\n",
       "    </tr>\n",
       "    <tr>\n",
       "      <th>4</th>\n",
       "      <td>Value</td>\n",
       "      <td>Measure</td>\n",
       "      <td>Value</td>\n",
       "      <td>Value</td>\n",
       "      <td>value</td>\n",
       "      <td>NaN</td>\n",
       "      <td>http://gss-data.org.uk/def/measure/{measure_type}</td>\n",
       "      <td>NaN</td>\n",
       "      <td>number</td>\n",
       "      <td>NaN</td>\n",
       "      <td>NaN</td>\n",
       "      <td>NaN</td>\n",
       "      <td>NaN</td>\n",
       "      <td>NaN</td>\n",
       "      <td>NaN</td>\n",
       "      <td>NaN</td>\n",
       "    </tr>\n",
       "    <tr>\n",
       "      <th>5</th>\n",
       "      <td>Lower CI</td>\n",
       "      <td>Observation</td>\n",
       "      <td>Lower CI</td>\n",
       "      <td>Lower CI</td>\n",
       "      <td>lower_ci</td>\n",
       "      <td>qb:attribute</td>\n",
       "      <td>http://gss-data.org.uk/def/attribute/lower-ci</td>\n",
       "      <td>NaN</td>\n",
       "      <td>number</td>\n",
       "      <td>NaN</td>\n",
       "      <td>NaN</td>\n",
       "      <td>NaN</td>\n",
       "      <td>NaN</td>\n",
       "      <td>NaN</td>\n",
       "      <td>NaN</td>\n",
       "      <td>NaN</td>\n",
       "    </tr>\n",
       "    <tr>\n",
       "      <th>6</th>\n",
       "      <td>Upper CI</td>\n",
       "      <td>Observation</td>\n",
       "      <td>Upper CI</td>\n",
       "      <td>Upper CI</td>\n",
       "      <td>upper_ci</td>\n",
       "      <td>qb:attribute</td>\n",
       "      <td>http://gss-data.org.uk/def/attribute/upper-ci</td>\n",
       "      <td>NaN</td>\n",
       "      <td>number</td>\n",
       "      <td>NaN</td>\n",
       "      <td>NaN</td>\n",
       "      <td>NaN</td>\n",
       "      <td>NaN</td>\n",
       "      <td>NaN</td>\n",
       "      <td>NaN</td>\n",
       "      <td>NaN</td>\n",
       "    </tr>\n",
       "    <tr>\n",
       "      <th>7</th>\n",
       "      <td>Life Expectancy Estimate Type</td>\n",
       "      <td>Dimension</td>\n",
       "      <td>Life Expectancy Estimate Type</td>\n",
       "      <td>Life Expectancy Estimate Type</td>\n",
       "      <td>life_expectancy_estimate_type</td>\n",
       "      <td>qb:dimension</td>\n",
       "      <td>http://gss-data.org.uk/def/dimension/life-expe...</td>\n",
       "      <td>http://gss-data.org.uk/def/concept/life-expect...</td>\n",
       "      <td>string</td>\n",
       "      <td>slugize</td>\n",
       "      <td>NaN</td>\n",
       "      <td>http://gss-data.org.uk/def/classes/life-expect...</td>\n",
       "      <td>Life Expectancy Estimate Type</td>\n",
       "      <td>NaN</td>\n",
       "      <td>Dimension</td>\n",
       "      <td>http://gss-data.org.uk/def/concept-scheme/life...</td>\n",
       "    </tr>\n",
       "  </tbody>\n",
       "</table>\n",
       "</div>"
      ],
      "text/plain": [
       "  HE - Region level estimates_LE   Entry Type             REFColumnsCSV Link  \\\n",
       "0                         Period    Dimension                         Period   \n",
       "1                  ONS Geography    Dimension                  ONS Geography   \n",
       "2                            Sex    Dimension                            Sex   \n",
       "3                  ONS Age Range    Dimension                  ONS Age Range   \n",
       "4                          Value      Measure                          Value   \n",
       "5                       Lower CI  Observation                       Lower CI   \n",
       "6                       Upper CI  Observation                       Upper CI   \n",
       "7  Life Expectancy Estimate Type    Dimension  Life Expectancy Estimate Type   \n",
       "\n",
       "                           title                           name  \\\n",
       "0                         Period                         period   \n",
       "1                  ONS Geography                  ons_geography   \n",
       "2                            Sex                            sex   \n",
       "3                  ONS Age Range                  ons_age_range   \n",
       "4                          Value                          value   \n",
       "5                       Lower CI                       lower_ci   \n",
       "6                       Upper CI                       upper_ci   \n",
       "7  Life Expectancy Estimate Type  life_expectancy_estimate_type   \n",
       "\n",
       "  component_attachment                                  property_template  \\\n",
       "0         qb:dimension  http://purl.org/linked-data/sdmx/2009/dimensio...   \n",
       "1         qb:dimension  http://purl.org/linked-data/sdmx/2009/dimensio...   \n",
       "2         qb:dimension  http://purl.org/linked-data/sdmx/2009/dimensio...   \n",
       "3         qb:dimension  http://gss-data.org.uk/def/dimension/ons-age-r...   \n",
       "4                  NaN  http://gss-data.org.uk/def/measure/{measure_type}   \n",
       "5         qb:attribute      http://gss-data.org.uk/def/attribute/lower-ci   \n",
       "6         qb:attribute      http://gss-data.org.uk/def/attribute/upper-ci   \n",
       "7         qb:dimension  http://gss-data.org.uk/def/dimension/life-expe...   \n",
       "\n",
       "                                      value_template datatype  \\\n",
       "0          http://reference.data.gov.uk/id/{+period}   string   \n",
       "1  http://statistics.data.gov.uk/id/statistical-g...   string   \n",
       "2  http://purl.org/linked-data/sdmx/2009/code#sex...   string   \n",
       "3  http://gss-data.org.uk/def/concept/ons-age-ran...   string   \n",
       "4                                                NaN   number   \n",
       "5                                                NaN   number   \n",
       "6                                                NaN   number   \n",
       "7  http://gss-data.org.uk/def/concept/life-expect...   string   \n",
       "\n",
       "  value_transformation                                              regex  \\\n",
       "0                  NaN  ^(year/[0-9]{4}|gregorian-interval/.*|month/[0...   \n",
       "1                  NaN                                      [A-Z][0-9]{8}   \n",
       "2                  NaN                                      ^(M|F|T|U|N)$   \n",
       "3              slugize                                                NaN   \n",
       "4                  NaN                                                NaN   \n",
       "5                  NaN                                                NaN   \n",
       "6                  NaN                                                NaN   \n",
       "7              slugize                                                NaN   \n",
       "\n",
       "                                               range  \\\n",
       "0  http://reference.data.gov.uk/def/intervals/Int...   \n",
       "1                                                NaN   \n",
       "2     http://purl.org/linked-data/sdmx/2009/code#Sex   \n",
       "3  http://gss-data.org.uk/def/classes/ons-age-ran...   \n",
       "4                                                NaN   \n",
       "5                                                NaN   \n",
       "6                                                NaN   \n",
       "7  http://gss-data.org.uk/def/classes/life-expect...   \n",
       "\n",
       "                           Label Description Component Type  \\\n",
       "0                            NaN         NaN            NaN   \n",
       "1                            NaN         NaN            NaN   \n",
       "2                            Sex         NaN      Dimension   \n",
       "3                  ONS Age Range         NaN      Dimension   \n",
       "4                            NaN         NaN            NaN   \n",
       "5                            NaN         NaN            NaN   \n",
       "6                            NaN         NaN            NaN   \n",
       "7  Life Expectancy Estimate Type         NaN      Dimension   \n",
       "\n",
       "                                            Codelist  \n",
       "0                                                NaN  \n",
       "1                                                NaN  \n",
       "2  http://gss-data.org.uk/def/concept-scheme/phe-sex  \n",
       "3  http://gss-data.org.uk/def/concept-scheme/ons-...  \n",
       "4                                                NaN  \n",
       "5                                                NaN  \n",
       "6                                                NaN  \n",
       "7  http://gss-data.org.uk/def/concept-scheme/life...  "
      ]
     },
     "metadata": {},
     "output_type": "display_data"
    },
    {
     "data": {
      "text/markdown": [
       "<span style='color:Grey'>\n",
       "====================================================================================================</span>"
      ],
      "text/plain": [
       "<IPython.core.display.Markdown object>"
      ]
     },
     "metadata": {},
     "output_type": "display_data"
    },
    {
     "data": {
      "text/markdown": [
       "<span style='color:Blue'>Mapped Component DataFrame for: HE - Region level estimates_HLE.</span>"
      ],
      "text/plain": [
       "<IPython.core.display.Markdown object>"
      ]
     },
     "metadata": {},
     "output_type": "display_data"
    },
    {
     "data": {
      "text/markdown": [
       "<span style='color:Grey'>====================================================================================================</span>"
      ],
      "text/plain": [
       "<IPython.core.display.Markdown object>"
      ]
     },
     "metadata": {},
     "output_type": "display_data"
    },
    {
     "data": {
      "text/html": [
       "<div>\n",
       "<style scoped>\n",
       "    .dataframe tbody tr th:only-of-type {\n",
       "        vertical-align: middle;\n",
       "    }\n",
       "\n",
       "    .dataframe tbody tr th {\n",
       "        vertical-align: top;\n",
       "    }\n",
       "\n",
       "    .dataframe thead th {\n",
       "        text-align: right;\n",
       "    }\n",
       "</style>\n",
       "<table border=\"1\" class=\"dataframe\">\n",
       "  <thead>\n",
       "    <tr style=\"text-align: right;\">\n",
       "      <th></th>\n",
       "      <th>HE - Region level estimates_HLE</th>\n",
       "      <th>Entry Type</th>\n",
       "      <th>REFColumnsCSV Link</th>\n",
       "      <th>title</th>\n",
       "      <th>name</th>\n",
       "      <th>component_attachment</th>\n",
       "      <th>property_template</th>\n",
       "      <th>value_template</th>\n",
       "      <th>datatype</th>\n",
       "      <th>value_transformation</th>\n",
       "      <th>regex</th>\n",
       "      <th>range</th>\n",
       "      <th>Label</th>\n",
       "      <th>Description</th>\n",
       "      <th>Component Type</th>\n",
       "      <th>Codelist</th>\n",
       "    </tr>\n",
       "  </thead>\n",
       "  <tbody>\n",
       "    <tr>\n",
       "      <th>0</th>\n",
       "      <td>Period</td>\n",
       "      <td>Dimension</td>\n",
       "      <td>Period</td>\n",
       "      <td>Period</td>\n",
       "      <td>period</td>\n",
       "      <td>qb:dimension</td>\n",
       "      <td>http://purl.org/linked-data/sdmx/2009/dimensio...</td>\n",
       "      <td>http://reference.data.gov.uk/id/{+period}</td>\n",
       "      <td>string</td>\n",
       "      <td>NaN</td>\n",
       "      <td>^(year/[0-9]{4}|gregorian-interval/.*|month/[0...</td>\n",
       "      <td>http://reference.data.gov.uk/def/intervals/Int...</td>\n",
       "      <td>NaN</td>\n",
       "      <td>NaN</td>\n",
       "      <td>NaN</td>\n",
       "      <td>NaN</td>\n",
       "    </tr>\n",
       "    <tr>\n",
       "      <th>1</th>\n",
       "      <td>ONS Geography</td>\n",
       "      <td>Dimension</td>\n",
       "      <td>ONS Geography</td>\n",
       "      <td>ONS Geography</td>\n",
       "      <td>ons_geography</td>\n",
       "      <td>qb:dimension</td>\n",
       "      <td>http://purl.org/linked-data/sdmx/2009/dimensio...</td>\n",
       "      <td>http://statistics.data.gov.uk/id/statistical-g...</td>\n",
       "      <td>string</td>\n",
       "      <td>NaN</td>\n",
       "      <td>[A-Z][0-9]{8}</td>\n",
       "      <td>NaN</td>\n",
       "      <td>NaN</td>\n",
       "      <td>NaN</td>\n",
       "      <td>NaN</td>\n",
       "      <td>NaN</td>\n",
       "    </tr>\n",
       "    <tr>\n",
       "      <th>2</th>\n",
       "      <td>Sex</td>\n",
       "      <td>Dimension</td>\n",
       "      <td>Sex</td>\n",
       "      <td>Sex</td>\n",
       "      <td>sex</td>\n",
       "      <td>qb:dimension</td>\n",
       "      <td>http://purl.org/linked-data/sdmx/2009/dimensio...</td>\n",
       "      <td>http://purl.org/linked-data/sdmx/2009/code#sex...</td>\n",
       "      <td>string</td>\n",
       "      <td>NaN</td>\n",
       "      <td>^(M|F|T|U|N)$</td>\n",
       "      <td>http://purl.org/linked-data/sdmx/2009/code#Sex</td>\n",
       "      <td>Sex</td>\n",
       "      <td>NaN</td>\n",
       "      <td>Dimension</td>\n",
       "      <td>http://gss-data.org.uk/def/concept-scheme/phe-sex</td>\n",
       "    </tr>\n",
       "    <tr>\n",
       "      <th>3</th>\n",
       "      <td>ONS Age Range</td>\n",
       "      <td>Dimension</td>\n",
       "      <td>ONS Age Range</td>\n",
       "      <td>ONS Age Range</td>\n",
       "      <td>ons_age_range</td>\n",
       "      <td>qb:dimension</td>\n",
       "      <td>http://gss-data.org.uk/def/dimension/ons-age-r...</td>\n",
       "      <td>http://gss-data.org.uk/def/concept/ons-age-ran...</td>\n",
       "      <td>string</td>\n",
       "      <td>slugize</td>\n",
       "      <td>NaN</td>\n",
       "      <td>http://gss-data.org.uk/def/classes/ons-age-ran...</td>\n",
       "      <td>ONS Age Range</td>\n",
       "      <td>NaN</td>\n",
       "      <td>Dimension</td>\n",
       "      <td>http://gss-data.org.uk/def/concept-scheme/ons-...</td>\n",
       "    </tr>\n",
       "    <tr>\n",
       "      <th>4</th>\n",
       "      <td>Value</td>\n",
       "      <td>Measure</td>\n",
       "      <td>Value</td>\n",
       "      <td>Value</td>\n",
       "      <td>value</td>\n",
       "      <td>NaN</td>\n",
       "      <td>http://gss-data.org.uk/def/measure/{measure_type}</td>\n",
       "      <td>NaN</td>\n",
       "      <td>number</td>\n",
       "      <td>NaN</td>\n",
       "      <td>NaN</td>\n",
       "      <td>NaN</td>\n",
       "      <td>NaN</td>\n",
       "      <td>NaN</td>\n",
       "      <td>NaN</td>\n",
       "      <td>NaN</td>\n",
       "    </tr>\n",
       "    <tr>\n",
       "      <th>5</th>\n",
       "      <td>Lower CI</td>\n",
       "      <td>Observation</td>\n",
       "      <td>Lower CI</td>\n",
       "      <td>Lower CI</td>\n",
       "      <td>lower_ci</td>\n",
       "      <td>qb:attribute</td>\n",
       "      <td>http://gss-data.org.uk/def/attribute/lower-ci</td>\n",
       "      <td>NaN</td>\n",
       "      <td>number</td>\n",
       "      <td>NaN</td>\n",
       "      <td>NaN</td>\n",
       "      <td>NaN</td>\n",
       "      <td>NaN</td>\n",
       "      <td>NaN</td>\n",
       "      <td>NaN</td>\n",
       "      <td>NaN</td>\n",
       "    </tr>\n",
       "    <tr>\n",
       "      <th>6</th>\n",
       "      <td>Upper CI</td>\n",
       "      <td>Observation</td>\n",
       "      <td>Upper CI</td>\n",
       "      <td>Upper CI</td>\n",
       "      <td>upper_ci</td>\n",
       "      <td>qb:attribute</td>\n",
       "      <td>http://gss-data.org.uk/def/attribute/upper-ci</td>\n",
       "      <td>NaN</td>\n",
       "      <td>number</td>\n",
       "      <td>NaN</td>\n",
       "      <td>NaN</td>\n",
       "      <td>NaN</td>\n",
       "      <td>NaN</td>\n",
       "      <td>NaN</td>\n",
       "      <td>NaN</td>\n",
       "      <td>NaN</td>\n",
       "    </tr>\n",
       "    <tr>\n",
       "      <th>7</th>\n",
       "      <td>Life Expectancy Estimate Type</td>\n",
       "      <td>Dimension</td>\n",
       "      <td>Life Expectancy Estimate Type</td>\n",
       "      <td>Life Expectancy Estimate Type</td>\n",
       "      <td>life_expectancy_estimate_type</td>\n",
       "      <td>qb:dimension</td>\n",
       "      <td>http://gss-data.org.uk/def/dimension/life-expe...</td>\n",
       "      <td>http://gss-data.org.uk/def/concept/life-expect...</td>\n",
       "      <td>string</td>\n",
       "      <td>slugize</td>\n",
       "      <td>NaN</td>\n",
       "      <td>http://gss-data.org.uk/def/classes/life-expect...</td>\n",
       "      <td>Life Expectancy Estimate Type</td>\n",
       "      <td>NaN</td>\n",
       "      <td>Dimension</td>\n",
       "      <td>http://gss-data.org.uk/def/concept-scheme/life...</td>\n",
       "    </tr>\n",
       "  </tbody>\n",
       "</table>\n",
       "</div>"
      ],
      "text/plain": [
       "  HE - Region level estimates_HLE   Entry Type             REFColumnsCSV Link  \\\n",
       "0                          Period    Dimension                         Period   \n",
       "1                   ONS Geography    Dimension                  ONS Geography   \n",
       "2                             Sex    Dimension                            Sex   \n",
       "3                   ONS Age Range    Dimension                  ONS Age Range   \n",
       "4                           Value      Measure                          Value   \n",
       "5                        Lower CI  Observation                       Lower CI   \n",
       "6                        Upper CI  Observation                       Upper CI   \n",
       "7   Life Expectancy Estimate Type    Dimension  Life Expectancy Estimate Type   \n",
       "\n",
       "                           title                           name  \\\n",
       "0                         Period                         period   \n",
       "1                  ONS Geography                  ons_geography   \n",
       "2                            Sex                            sex   \n",
       "3                  ONS Age Range                  ons_age_range   \n",
       "4                          Value                          value   \n",
       "5                       Lower CI                       lower_ci   \n",
       "6                       Upper CI                       upper_ci   \n",
       "7  Life Expectancy Estimate Type  life_expectancy_estimate_type   \n",
       "\n",
       "  component_attachment                                  property_template  \\\n",
       "0         qb:dimension  http://purl.org/linked-data/sdmx/2009/dimensio...   \n",
       "1         qb:dimension  http://purl.org/linked-data/sdmx/2009/dimensio...   \n",
       "2         qb:dimension  http://purl.org/linked-data/sdmx/2009/dimensio...   \n",
       "3         qb:dimension  http://gss-data.org.uk/def/dimension/ons-age-r...   \n",
       "4                  NaN  http://gss-data.org.uk/def/measure/{measure_type}   \n",
       "5         qb:attribute      http://gss-data.org.uk/def/attribute/lower-ci   \n",
       "6         qb:attribute      http://gss-data.org.uk/def/attribute/upper-ci   \n",
       "7         qb:dimension  http://gss-data.org.uk/def/dimension/life-expe...   \n",
       "\n",
       "                                      value_template datatype  \\\n",
       "0          http://reference.data.gov.uk/id/{+period}   string   \n",
       "1  http://statistics.data.gov.uk/id/statistical-g...   string   \n",
       "2  http://purl.org/linked-data/sdmx/2009/code#sex...   string   \n",
       "3  http://gss-data.org.uk/def/concept/ons-age-ran...   string   \n",
       "4                                                NaN   number   \n",
       "5                                                NaN   number   \n",
       "6                                                NaN   number   \n",
       "7  http://gss-data.org.uk/def/concept/life-expect...   string   \n",
       "\n",
       "  value_transformation                                              regex  \\\n",
       "0                  NaN  ^(year/[0-9]{4}|gregorian-interval/.*|month/[0...   \n",
       "1                  NaN                                      [A-Z][0-9]{8}   \n",
       "2                  NaN                                      ^(M|F|T|U|N)$   \n",
       "3              slugize                                                NaN   \n",
       "4                  NaN                                                NaN   \n",
       "5                  NaN                                                NaN   \n",
       "6                  NaN                                                NaN   \n",
       "7              slugize                                                NaN   \n",
       "\n",
       "                                               range  \\\n",
       "0  http://reference.data.gov.uk/def/intervals/Int...   \n",
       "1                                                NaN   \n",
       "2     http://purl.org/linked-data/sdmx/2009/code#Sex   \n",
       "3  http://gss-data.org.uk/def/classes/ons-age-ran...   \n",
       "4                                                NaN   \n",
       "5                                                NaN   \n",
       "6                                                NaN   \n",
       "7  http://gss-data.org.uk/def/classes/life-expect...   \n",
       "\n",
       "                           Label Description Component Type  \\\n",
       "0                            NaN         NaN            NaN   \n",
       "1                            NaN         NaN            NaN   \n",
       "2                            Sex         NaN      Dimension   \n",
       "3                  ONS Age Range         NaN      Dimension   \n",
       "4                            NaN         NaN            NaN   \n",
       "5                            NaN         NaN            NaN   \n",
       "6                            NaN         NaN            NaN   \n",
       "7  Life Expectancy Estimate Type         NaN      Dimension   \n",
       "\n",
       "                                            Codelist  \n",
       "0                                                NaN  \n",
       "1                                                NaN  \n",
       "2  http://gss-data.org.uk/def/concept-scheme/phe-sex  \n",
       "3  http://gss-data.org.uk/def/concept-scheme/ons-...  \n",
       "4                                                NaN  \n",
       "5                                                NaN  \n",
       "6                                                NaN  \n",
       "7  http://gss-data.org.uk/def/concept-scheme/life...  "
      ]
     },
     "metadata": {},
     "output_type": "display_data"
    }
   ],
   "source": [
    "# Manual mapping of transformed components with the master reference data:\n",
    "# Iterate Code until all components are Mapped:\n",
    "\n",
    "\n",
    "for key in dataframe_elements_collection.keys(): \n",
    "    dataframe_mapped_elements_collection[key] = dataframe_elements_collection[key].copy()\n",
    "    \n",
    "for key in dataframe_mapped_elements_collection.keys(): \n",
    "    dataframe_mapped_elements_collection[key][key].loc[dataframe_mapped_elements_collection[key][key] == 'Code'] = 'ONS Geography'\n",
    "    dataframe_mapped_elements_collection[key][key].loc[dataframe_mapped_elements_collection[key][key] == 'age group'] = 'ONS Age Range'\n",
    "    dataframe_mapped_elements_collection[key][key].loc[dataframe_mapped_elements_collection[key][key] == 'Age group'] = 'ONS Age Range'\n",
    "    dataframe_mapped_elements_collection[key][key].loc[dataframe_mapped_elements_collection[key][key] == 'LE Lower CI_'] = 'Lower CI'\n",
    "    dataframe_mapped_elements_collection[key][key].loc[dataframe_mapped_elements_collection[key][key] == 'HLE Lower CI_'] = 'Lower CI'\n",
    "    dataframe_mapped_elements_collection[key][key].loc[dataframe_mapped_elements_collection[key][key] == 'LE Upper CI_'] = 'Upper CI'\n",
    "    dataframe_mapped_elements_collection[key][key].loc[dataframe_mapped_elements_collection[key][key] == 'HLE Upper CI_'] = 'Upper CI'\n",
    "    dataframe_mapped_elements_collection[key][key].loc[dataframe_mapped_elements_collection[key][key] == 'Life Expectancy (LE)_'] = 'Value'\n",
    "    dataframe_mapped_elements_collection[key][key].loc[dataframe_mapped_elements_collection[key][key] == 'Healthy Life Expectancy (HLE) _'] = 'Value'\n",
    "    dataframe_mapped_elements_collection[key][key].loc[dataframe_mapped_elements_collection[key][key] == 'TransformationType'] = 'Life Expectancy Estimate Type'\n",
    "    \n",
    "    \n",
    "for key in dataframe_mapped_elements_collection.keys():     \n",
    "    for cols in dataframe_mapped_elements_collection[key][key]:\n",
    "        idx_temp = dataframe_mapped_elements_collection[key].index[dataframe_mapped_elements_collection[key][key] == cols]\n",
    "        dataframe_mapped_elements_collection[key].loc[idx_temp, 'REFColumnsCSV Link'] = cols #slug.slug(cols) Not matched on Slugilzed as first believed!\n",
    "\n",
    "\n",
    "for key in dataframe_elements_collection.keys():\n",
    "    df_collection_point, df_collection_point_errors = align_REFdata_with_Transform(dataframe_mapped_elements_collection[key], df_ref_repo_columns, df_ref_repo_components)\n",
    "    dataframe_mapped_elements_collection[key] = df_collection_point\n",
    "    dataframe_mapped_elements_collection_errors[key] = df_collection_point_errors\n",
    "\n",
    "mapped_error_flag = True\n",
    "for key in dataframe_mapped_elements_collection_errors.keys():\n",
    "    for cols in dataframe_mapped_elements_collection[key][key]:\n",
    "        if len(dataframe_mapped_elements_collection_errors[key]) > 0:\n",
    "            mapped_error_flag = False\n",
    "            printmd(\"\\n\" + \"=\"*115, colour='Red')\n",
    "            printmd('**WARNING - PLEASE ADDRESS NON-MATCHING REFERENCES!**', colour='Red')\n",
    "            printmd(\"=\"*115, colour='Red')\n",
    "            #for key in dataframe_mapped_elements_collection_errors.keys():\n",
    "            printmd(\"\\n\" + \"=\"*100, colour='Grey')\n",
    "            printmd('UN-Mapped Component DataFrame for: ' + key + '.', colour='Red')\n",
    "            printmd(\"=\"*100, colour='Grey')\n",
    "            #print(dataframe_mapped_elements_collection[key]) #Print like this for Logs...  \n",
    "            display(dataframe_mapped_elements_collection_errors[key])\n",
    "if mapped_error_flag == True:\n",
    "        printmd(\"\\n\" + \"=\"*115, colour='Green')\n",
    "        printmd('**ALL Data Entities Mapped! Safe to Proceed!**', colour='Green')\n",
    "        printmd(\"=\"*115, colour='Green')    \n",
    "\n",
    "\n",
    "printmd(\"\\n\" + \"=\"*115, colour='Grey')\n",
    "printmd('**Please use Caution!:**' + ' Displayed below are the current components as mapped and linked through code.', colour='Green')\n",
    "printmd('*Check carefully before proceeding.*', colour='Green')\n",
    "printmd(\"\\n\" + \"=\"*115, colour='Grey')\n",
    "for key in dataframe_mapped_elements_collection.keys():\n",
    "    printmd(\"\\n\" + \"=\"*100, colour='Grey')\n",
    "    printmd('Mapped Component DataFrame for: ' + key + '.', colour='Blue')\n",
    "    printmd(\"=\"*100, colour='Grey')\n",
    "    #print(dataframe_mapped_elements_collection[key]) #Print like this for Logs...  \n",
    "    display(dataframe_mapped_elements_collection[key])\n"
   ]
  },
  {
   "cell_type": "markdown",
   "metadata": {},
   "source": [
    "### Stage 7: Creating the Meta-Data files (Reference Data):\n",
    "\n",
    "**This next section is currently very hacked together using file parsing etc. It requires 'proper' integration with the scraper component for the meta data!!!**"
   ]
  },
  {
   "cell_type": "code",
   "execution_count": 745,
   "metadata": {},
   "outputs": [
    {
     "name": "stdout",
     "output_type": "stream",
     "text": [
      "{ \n",
      "\"@context\": \"http://www.w3.org/ns/csvw\", \n",
      "\"label\": \"http://www.w3.org/2000/01/rdf-schema#label\",\n",
      "\"comment\": \"http://www.w3.org/2000/01/rdf-schema#comment\",\n",
      "\"title\": \"http://purl.org/dc/terms/title\",\n",
      "\"description\": \"http://purl.org/dc/terms/description\",\n",
      "\"issued\": \"http://purl.org/dc/terms/issued\",\n",
      "\"modified\": \"http://purl.org/dc/terms/modified\",\n",
      "\"license\": \"http://purl.org/dc/terms/license\",\n",
      "\"rights\": \"http://purl.org/dc/terms/rights\",\n",
      "\"accessURL\": \"http://www.w3.org/ns/dcat#accessURL\",\n",
      "\"downloadURL\": \"http://www.w3.org/ns/dcat#downloadURL\",\n",
      "\"mediaType\": \"http://www.w3.org/ns/dcat#mediaType\",\n",
      "\"byteSize\": \"http://www.w3.org/ns/dcat#byteSize\",\n",
      "\"checksum\": \"http://spdx.org/rdf/terms#checksum\",\n",
      "\"language\": \"http://purl.org/dc/terms/language\",\n",
      "\"url: \"INSERT KEY FROM LOOP IDIOT\",\n",
      "tableSchema\": { \n",
      "\"columns\": [\n"
     ]
    }
   ],
   "source": [
    "# We'll just have a string builder (string append) in the absence of a 'proper' component for the moment:\n",
    "\n",
    "json_metadata_string = ('{ \\n\"@context\": \"http://www.w3.org/ns/csvw\", ') # {\"@language\": \"en\"}') # \\n],')\n",
    "\n",
    "# Yep, it's more hacked up than a 90s teen-slasher-flick. Apologies my friends for this horrid code:\n",
    "\n",
    "# WTF is this Martyn? I honestly thought better of myself:\n",
    "str_temp_metadata = str(distribution._properties_metadata)\n",
    "str_temp_metadata = mytext.replace(\"\\'\", \"\\\"\")\n",
    "str_temp_metadata_pt2 = mytext.split('\"')\n",
    "\n",
    "str_parsed_meta = []\n",
    "for i in range(len(str_temp_metadata_pt2)):\n",
    "    if i % 2 != 0:\n",
    "        str_parsed_meta.append(str_temp_metadata_pt2[i])\n",
    "\n",
    "str_parsed_meta_links = {}\n",
    "for i in range(len(str_parsed_meta)):\n",
    "    if (str_parsed_meta[i][:7] != 'http://') and (str_parsed_meta[i+1][:7] == 'http://'):\n",
    "        str_parsed_meta_links[str_parsed_meta[i]] = str_parsed_meta[i+1]\n",
    "\n",
    "# Bringing shame on one self:\n",
    "hacked_string_baby = ''\n",
    "for key in str_parsed_meta_links.keys():\n",
    "    #printmd('**' + key + ':**', colour='Red')\n",
    "    #printmd('*---> '+ str_parsed_meta_links[key] + '.*', colour='Blue')\n",
    "    hacked_string_baby = hacked_string_baby + ('\\n\"' + str(key).rstrip() + '\": ' + '\"' + str(str_parsed_meta_links[key]).rstrip() + '\", ').rstrip()\n",
    "\n",
    "hacked_string_baby = hacked_string_baby + '\\n\"url: \"' + 'INSERT KEY FROM LOOP IDIOT' + '\",'\n",
    "hacked_string_baby = hacked_string_baby + '\\ntableSchema\": { \\n\"columns\": ['\n",
    "\n",
    "json_metadata_string = json_metadata_string + hacked_string_baby\n",
    "print(json_metadata_string)\n"
   ]
  },
  {
   "cell_type": "code",
   "execution_count": 746,
   "metadata": {},
   "outputs": [
    {
     "name": "stdout",
     "output_type": "stream",
     "text": [
      "{ \n",
      "\"@context\": \"http://www.w3.org/ns/csvw\", \n",
      "\"label\": \"http://www.w3.org/2000/01/rdf-schema#label\",\n",
      "\"comment\": \"http://www.w3.org/2000/01/rdf-schema#comment\",\n",
      "\"title\": \"http://purl.org/dc/terms/title\",\n",
      "\"description\": \"http://purl.org/dc/terms/description\",\n",
      "\"issued\": \"http://purl.org/dc/terms/issued\",\n",
      "\"modified\": \"http://purl.org/dc/terms/modified\",\n",
      "\"license\": \"http://purl.org/dc/terms/license\",\n",
      "\"rights\": \"http://purl.org/dc/terms/rights\",\n",
      "\"accessURL\": \"http://www.w3.org/ns/dcat#accessURL\",\n",
      "\"downloadURL\": \"http://www.w3.org/ns/dcat#downloadURL\",\n",
      "\"mediaType\": \"http://www.w3.org/ns/dcat#mediaType\",\n",
      "\"byteSize\": \"http://www.w3.org/ns/dcat#byteSize\",\n",
      "\"checksum\": \"http://spdx.org/rdf/terms#checksum\",\n",
      "\"language\": \"http://purl.org/dc/terms/language\",\n",
      "\"url: \"INSERT KEY FROM LOOP IDIOT\",\n",
      "tableSchema\": { \n",
      "\"columns\": [\n",
      "{ \n",
      "\"title\": Period\",\n",
      "\"name\": period\",\n",
      "\"datatype\": {\"format\": \"^(year/[0-9]{4}|gregorian-interval/.*|month/[0-9]{4}-[0-9]{2}|day/[0-9]{4}-[0-9]{2}-[0-9]{2}|quarter/[0-9]{4}-Q[1-4]|government-year/[0-9]{4}-[0-9]{4})$\"},\n",
      "\"required\": true \n",
      "},\n",
      "{ \n",
      "\"title\": ONS Geography\",\n",
      "\"name\": ons_geography\",\n",
      "\"datatype\": {\"format\": \"[A-Z][0-9]{8}\"},\n",
      "\"required\": true \n",
      "},\n",
      "{ \n",
      "\"title\": Sex\",\n",
      "\"name\": sex\",\n",
      "\"datatype\": {\"format\": \"^(M|F|T|U|N)$\"},\n",
      "\"required\": true \n",
      "},\n",
      "{ \n",
      "\"title\": ONS Age Range\",\n",
      "\"name\": ons_age_range\",\n",
      "\"required\": true \n",
      "},\n",
      "{ \n",
      "\"title\": Value\",\n",
      "\"name\": value\",\n",
      "\"required\": true \n",
      "},\n",
      "{ \n",
      "\"title\": Lower CI\",\n",
      "\"name\": lower_ci\",\n",
      "\"required\": true \n",
      "},\n",
      "{ \n",
      "\"title\": Upper CI\",\n",
      "\"name\": upper_ci\",\n",
      "\"required\": true \n",
      "},\n",
      "{ \n",
      "\"title\": Life Expectancy Estimate Type\",\n",
      "\"name\": life_expectancy_estimate_type\",\n",
      "\"required\": true \n",
      "}\n",
      "]\n"
     ]
    }
   ],
   "source": [
    "# You should get fired for this fugly code:\n",
    "scary_movie_string = ''\n",
    "\n",
    "\n",
    "for idx, val in enumerate(dataframe_mapped_elements_collection['HE - Country level estimates_LE'].itertuples()):\n",
    "    scary_movie_string = scary_movie_string + ('\\n{ \\n\"title\": ' \\\n",
    "                        + str(dataframe_mapped_elements_collection['HE - Country level estimates_LE'].title[idx]).rstrip() \\\n",
    "                        + '\",')\n",
    "    scary_movie_string = scary_movie_string + ('\\n\"name\": ' \\\n",
    "                        + str(dataframe_mapped_elements_collection['HE - Country level estimates_LE'].name[idx]).rstrip() \\\n",
    "                        + '\",')\n",
    "    if pd.notna(dataframe_mapped_elements_collection['HE - Country level estimates_LE'].regex[idx]):\n",
    "        scary_movie_string = scary_movie_string + ('\\n\"datatype\": {\"format\": \"' \\\n",
    "                            + str(dataframe_mapped_elements_collection['HE - Country level estimates_LE'].regex[idx]).rstrip() \\\n",
    "                            + '\"},')\n",
    "    scary_movie_string = scary_movie_string + ('\\n\"required\": true \\n},')\n",
    "              \n",
    "json_metadata_string = json_metadata_string + scary_movie_string[:-1]\n",
    "json_metadata_string = json_metadata_string + ('\\n]')\n",
    "\n",
    "print(json_metadata_string)\n"
   ]
  },
  {
   "cell_type": "code",
   "execution_count": 748,
   "metadata": {},
   "outputs": [],
   "source": [
    "# Drop JSON to disc...\n",
    "write_to_file_JSONmetadata = open(slug.slug(\"HE - Country level estimates_LE--metadata\") + '.json', \"w\")\n",
    "write_to_file_JSONmetadata.write(json_metadata_string)\n",
    "write_to_file_JSONmetadata.close()\n",
    "\n",
    "#dataframe_collection[key] # Already output to csv...\n"
   ]
  },
  {
   "cell_type": "code",
   "execution_count": 763,
   "metadata": {},
   "outputs": [
    {
     "name": "stdout",
     "output_type": "stream",
     "text": [
      "<_io.TextIOWrapper name='/Users/martyn/Python Notebook Experiments/he-country-level-estimates_le.csv' mode='r' encoding='UTF-8'>\n"
     ]
    },
    {
     "data": {
      "text/plain": [
       "'Period,Code,Sex,age group,Life Expectancy (LE)_,LE Lower CI_,LE Upper CI_,TransformationType\\ngregorian-interval/2009-03-31T00:00:00/P3Y,E92000001,M,lessthan1,78.78073,78.75026,78.8112,LE\\ngregorian-interval/2009-03-31T00:00:00/P3Y,E92000001,M,01-04,78.17075,78.14207,78.19942,LE\\ngregorian-interval/2009-03-31T00:00:00/P3Y,E92000001,M,05-09,74.22782,74.19942,74.25623,LE\\ngregorian-interval/2009-03-31T00:00:00/P3Y,E92000001,M,10-14,69.26178,69.23354,69.29002,LE\\ngregorian-interval/2009-03-31T00:00:00/P3Y,E92000001,M,15-19,64.29632,64.26823,64.3244,LE\\ngregorian-interval/2009-03-31T00:00:00/P3Y,E92000001,M,20-24,59.40272,59.37503,59.43041,LE\\ngregorian-interval/2009-03-31T00:00:00/P3Y,E92000001,M,25-29,54.5599,54.53272,54.58708,LE\\ngregorian-interval/2009-03-31T00:00:00/P3Y,E92000001,M,30-34,49.72706,49.70037,49.75375,LE\\ngregorian-interval/2009-03-31T00:00:00/P3Y,E92000001,M,35-39,44.92366,44.89751,44.9498,LE\\ngregorian-interval/2009-03-31T00:00:00/P3Y,E92000001,M,40-44,40.18422,40.15867,40.20976,LE\\ngregorian-interval/2009-03-31T00:00:00/P3Y,E92000001,M,45-49,35.52009,35.49515,35.54502,LE\\ngregorian-interval/2009-03-31T00:00:00/P3Y,E92000001,M,50-54,30.93534,30.91104,30.95964,LE\\ngregorian-interval/2009-03-31T00:00:00/P3Y,E92000001,M,55-59,26.49264,26.46917,26.5161,LE\\ngregorian-interval/2009-03-31T00:00:00/P3Y,E92000001,M,60-64,22.26448,22.24206,22.2869,LE\\ngregorian-interval/2009-03-31T00:00:00/P3Y,E92000001,M,65-69,18.24866,18.22706,18.27027,LE\\ngregorian-interval/2009-03-31T00:00:00/P3Y,E92000001,M,70-74,14.51893,14.49833,14.53952,LE\\ngregorian-interval/2009-03-31T00:00:00/P3Y,E92000001,M,75-79,11.17454,11.15483,11.19425,LE\\ngregorian-interval/2009-03-31T00:00:00/P3Y,E92000001,M,80-84,8.26429,8.24472,8.28386,LE\\ngregorian-interval/2009-03-31T00:00:00/P3Y,E92000001,M,85-89,5.95519,5.93347,5.97691,LE\\ngregorian-interval/2009-03-31T00:00:00/P3Y,E92000001,M,90plus,4.37597,4.34376,4.40818,LE\\ngregorian-interval/2009-03-31T00:00:00/P3Y,E92000001,F,lessthan1,82.70885,82.68009,82.73761,LE\\ngregorian-interval/2009-03-31T00:00:00/P3Y,E92000001,F,01-04,82.04126,82.01431,82.06821,LE\\ngregorian-interval/2009-03-31T00:00:00/P3Y,E92000001,F,05-09,78.0962,78.06956,78.12283,LE\\ngregorian-interval/2009-03-31T00:00:00/P3Y,E92000001,F,10-14,73.12643,73.09997,73.15288,LE\\ngregorian-interval/2009-03-31T00:00:00/P3Y,E92000001,F,15-19,68.15747,68.13118,68.18376,LE\\ngregorian-interval/2009-03-31T00:00:00/P3Y,E92000001,F,20-24,63.21557,63.18954,63.2416,LE\\ngregorian-interval/2009-03-31T00:00:00/P3Y,E92000001,F,25-29,58.2824,58.25663,58.30817,LE\\ngregorian-interval/2009-03-31T00:00:00/P3Y,E92000001,F,30-34,53.36544,53.33995,53.39093,LE\\ngregorian-interval/2009-03-31T00:00:00/P3Y,E92000001,F,35-39,48.47553,48.4504,48.50066,LE\\ngregorian-interval/2009-03-31T00:00:00/P3Y,E92000001,F,40-44,43.6307,43.60599,43.65541,LE\\ngregorian-interval/2009-03-31T00:00:00/P3Y,E92000001,F,45-49,38.85161,38.82737,38.87585,LE\\ngregorian-interval/2009-03-31T00:00:00/P3Y,E92000001,F,50-54,34.14809,34.1244,34.17177,LE\\ngregorian-interval/2009-03-31T00:00:00/P3Y,E92000001,F,55-59,29.56611,29.54321,29.58901,LE\\ngregorian-interval/2009-03-31T00:00:00/P3Y,E92000001,F,60-64,25.12959,25.10768,25.15149,LE\\ngregorian-interval/2009-03-31T00:00:00/P3Y,E92000001,F,65-69,20.85039,20.82936,20.87143,LE\\ngregorian-interval/2009-03-31T00:00:00/P3Y,E92000001,F,70-74,16.77977,16.75988,16.79965,LE\\ngregorian-interval/2009-03-31T00:00:00/P3Y,E92000001,F,75-79,13.02017,13.00153,13.0388,LE\\ngregorian-interval/2009-03-31T00:00:00/P3Y,E92000001,F,80-84,9.68382,9.66613,9.70151,LE\\ngregorian-interval/2009-03-31T00:00:00/P3Y,E92000001,F,85-89,6.9426,6.92457,6.96063,LE\\ngregorian-interval/2009-03-31T00:00:00/P3Y,E92000001,F,90plus,4.90662,4.88352,4.92972,LE\\ngregorian-interval/2009-03-31T00:00:00/P3Y,K02000001,M,lessthan1,78.46739,78.43941,78.49537,LE\\ngregorian-interval/2009-03-31T00:00:00/P3Y,K02000001,M,01-04,77.85268,77.82632,77.87904,LE\\ngregorian-interval/2009-03-31T00:00:00/P3Y,K02000001,M,05-09,73.90889,73.88277,73.935,LE\\ngregorian-interval/2009-03-31T00:00:00/P3Y,K02000001,M,10-14,68.94368,68.91772,68.96963,LE\\ngregorian-interval/2009-03-31T00:00:00/P3Y,K02000001,M,15-19,63.97811,63.95229,64.00393,LE\\ngregorian-interval/2009-03-31T00:00:00/P3Y,K02000001,M,20-24,59.09506,59.06963,59.12049,LE\\ngregorian-interval/2009-03-31T00:00:00/P3Y,K02000001,M,25-29,54.26479,54.23987,54.28972,LE\\ngregorian-interval/2009-03-31T00:00:00/P3Y,K02000001,M,30-34,49.44741,49.42298,49.47185,LE\\ngregorian-interval/2009-03-31T00:00:00/P3Y,K02000001,M,35-39,44.66081,44.63692,44.6847,LE\\ngregorian-interval/2009-03-31T00:00:00/P3Y,K02000001,M,40-44,39.93524,39.91194,39.95854,LE\\ngregorian-interval/2009-03-31T00:00:00/P3Y,K02000001,M,45-49,35.28691,35.26419,35.30962,LE\\ngregorian-interval/2009-03-31T00:00:00/P3Y,K02000001,M,50-54,30.71584,30.69373,30.73796,LE\\ngregorian-interval/2009-03-31T00:00:00/P3Y,K02000001,M,55-59,26.28997,26.26863,26.31131,LE\\ngregorian-interval/2009-03-31T00:00:00/P3Y,K02000001,M,60-64,22.0801,22.05972,22.10048,LE\\ngregorian-interval/2009-03-31T00:00:00/P3Y,K02000001,M,65-69,18.0854,18.06576,18.10503,LE\\ngregorian-interval/2009-03-31T00:00:00/P3Y,K02000001,M,70-74,14.38383,14.36512,14.40255,LE\\ngregorian-interval/2009-03-31T00:00:00/P3Y,K02000001,M,75-79,11.07333,11.05542,11.09125,LE\\ngregorian-interval/2009-03-31T00:00:00/P3Y,K02000001,M,80-84,8.1935,8.17569,8.21131,LE\\ngregorian-interval/2009-03-31T00:00:00/P3Y,K02000001,M,85-89,5.91075,5.89095,5.93056,LE\\ngregorian-interval/2009-03-31T00:00:00/P3Y,K02000001,M,90plus,4.33776,4.30827,4.36724,LE\\ngregorian-interval/2009-03-31T00:00:00/P3Y,K02000001,F,lessthan1,82.45154,82.42524,82.47785,LE\\ngregorian-interval/2009-03-31T00:00:00/P3Y,K02000001,F,01-04,81.77927,81.75462,81.80392,LE\\ngregorian-interval/2009-03-31T00:00:00/P3Y,K02000001,F,05-09,77.83382,77.80946,77.85819,LE\\ngregorian-interval/2009-03-31T00:00:00/P3Y,K02000001,F,10-14,72.86346,72.83926,72.88766,LE\\ngregorian-interval/2009-03-31T00:00:00/P3Y,K02000001,F,15-19,67.89514,67.8711,67.91919,LE\\ngregorian-interval/2009-03-31T00:00:00/P3Y,K02000001,F,20-24,62.95695,62.93316,62.98075,LE\\ngregorian-interval/2009-03-31T00:00:00/P3Y,K02000001,F,25-29,58.02712,58.00357,58.05067,LE\\ngregorian-interval/2009-03-31T00:00:00/P3Y,K02000001,F,30-34,53.11424,53.09097,53.13752,LE\\ngregorian-interval/2009-03-31T00:00:00/P3Y,K02000001,F,35-39,48.2298,48.20687,48.25272,LE\\ngregorian-interval/2009-03-31T00:00:00/P3Y,K02000001,F,40-44,43.39174,43.36922,43.41427,LE\\ngregorian-interval/2009-03-31T00:00:00/P3Y,K02000001,F,45-49,38.62001,38.59793,38.64209,LE\\ngregorian-interval/2009-03-31T00:00:00/P3Y,K02000001,F,50-54,33.92675,33.90519,33.9483,LE\\ngregorian-interval/2009-03-31T00:00:00/P3Y,K02000001,F,55-59,29.35995,29.33913,29.38078,LE\\ngregorian-interval/2009-03-31T00:00:00/P3Y,K02000001,F,60-64,24.93547,24.91556,24.95538,LE\\ngregorian-interval/2009-03-31T00:00:00/P3Y,K02000001,F,65-69,20.67663,20.65753,20.69573,LE\\ngregorian-interval/2009-03-31T00:00:00/P3Y,K02000001,F,70-74,16.63221,16.61418,16.65025,LE\\ngregorian-interval/2009-03-31T00:00:00/P3Y,K02000001,F,75-79,12.90614,12.88925,12.92303,LE\\ngregorian-interval/2009-03-31T00:00:00/P3Y,K02000001,F,80-84,9.60204,9.586,9.61808,LE\\ngregorian-interval/2009-03-31T00:00:00/P3Y,K02000001,F,85-89,6.8886,6.87224,6.90497,LE\\ngregorian-interval/2009-03-31T00:00:00/P3Y,K02000001,F,90plus,4.86012,4.83911,4.88114,LE\\ngregorian-interval/2009-03-31T00:00:00/P3Y,N92000002,M,lessthan1,77.43915,77.26488,77.61343,LE\\ngregorian-interval/2009-03-31T00:00:00/P3Y,N92000002,M,01-04,76.85972,76.69404,77.0254,LE\\ngregorian-interval/2009-03-31T00:00:00/P3Y,N92000002,M,05-09,72.92902,72.76479,73.09326,LE\\ngregorian-interval/2009-03-31T00:00:00/P3Y,N92000002,M,10-14,67.96391,67.80043,68.12738,LE\\ngregorian-interval/2009-03-31T00:00:00/P3Y,N92000002,M,15-19,63.00277,62.84,63.16553,LE\\ngregorian-interval/2009-03-31T00:00:00/P3Y,N92000002,M,20-24,58.21133,58.05191,58.37075,LE\\ngregorian-interval/2009-03-31T00:00:00/P3Y,N92000002,M,25-29,53.50491,53.34991,53.65992,LE\\ngregorian-interval/2009-03-31T00:00:00/P3Y,N92000002,M,30-34,48.77962,48.62855,48.93069,LE\\ngregorian-interval/2009-03-31T00:00:00/P3Y,N92000002,M,35-39,44.04922,43.90192,44.19653,LE\\ngregorian-interval/2009-03-31T00:00:00/P3Y,N92000002,M,40-44,39.33184,39.18779,39.47588,LE\\ngregorian-interval/2009-03-31T00:00:00/P3Y,N92000002,M,45-49,34.70426,34.56356,34.84497,LE\\ngregorian-interval/2009-03-31T00:00:00/P3Y,N92000002,M,50-54,30.17479,30.03754,30.31204,LE\\ngregorian-interval/2009-03-31T00:00:00/P3Y,N92000002,M,55-59,25.79068,25.65767,25.9237,LE\\ngregorian-interval/2009-03-31T00:00:00/P3Y,N92000002,M,60-64,21.64709,21.51949,21.7747,LE\\ngregorian-interval/2009-03-31T00:00:00/P3Y,N92000002,M,65-69,17.68704,17.56428,17.8098,LE\\ngregorian-interval/2009-03-31T00:00:00/P3Y,N92000002,M,70-74,13.98317,13.86468,14.10167,LE\\ngregorian-interval/2009-03-31T00:00:00/P3Y,N92000002,M,75-79,10.73353,10.61867,10.84838,LE\\ngregorian-interval/2009-03-31T00:00:00/P3Y,N92000002,M,80-84,7.99337,7.87757,8.10918,LE\\ngregorian-interval/2009-03-31T00:00:00/P3Y,N92000002,M,85-89,5.7808,5.65053,5.91108,LE\\ngregorian-interval/2009-03-31T00:00:00/P3Y,N92000002,M,90plus,4.19637,4.00043,4.39231,LE\\ngregorian-interval/2009-03-31T00:00:00/P3Y,N92000002,F,lessthan1,81.85212,81.69087,82.01338,LE\\ngregorian-interval/2009-03-31T00:00:00/P3Y,N92000002,F,01-04,81.24183,81.09043,81.39322,LE\\ngregorian-interval/2009-03-31T00:00:00/P3Y,N92000002,F,05-09,77.29696,77.14701,77.44691,LE\\ngregorian-interval/2009-03-31T00:00:00/P3Y,N92000002,F,10-14,72.33381,72.18488,72.48275,LE\\ngregorian-interval/2009-03-31T00:00:00/P3Y,N92000002,F,15-19,67.36562,67.21743,67.5138,LE\\ngregorian-interval/2009-03-31T00:00:00/P3Y,N92000002,F,20-24,62.46188,62.31568,62.60808,LE\\ngregorian-interval/2009-03-31T00:00:00/P3Y,N92000002,F,25-29,57.55484,57.41038,57.6993,LE\\ngregorian-interval/2009-03-31T00:00:00/P3Y,N92000002,F,30-34,52.64843,52.50553,52.79133,LE\\ngregorian-interval/2009-03-31T00:00:00/P3Y,N92000002,F,35-39,47.74594,47.60457,47.88731,LE\\ngregorian-interval/2009-03-31T00:00:00/P3Y,N92000002,F,40-44,42.91327,42.77413,43.05242,LE\\ngregorian-interval/2009-03-31T00:00:00/P3Y,N92000002,F,45-49,38.16769,38.03123,38.30415,LE\\ngregorian-interval/2009-03-31T00:00:00/P3Y,N92000002,F,50-54,33.49979,33.36637,33.63321,LE\\ngregorian-interval/2009-03-31T00:00:00/P3Y,N92000002,F,55-59,28.9695,28.84031,29.09869,LE\\ngregorian-interval/2009-03-31T00:00:00/P3Y,N92000002,F,60-64,24.5915,24.46797,24.71503,LE\\ngregorian-interval/2009-03-31T00:00:00/P3Y,N92000002,F,65-69,20.36155,20.2435,20.4796,LE\\ngregorian-interval/2009-03-31T00:00:00/P3Y,N92000002,F,70-74,16.3357,16.22349,16.4479,LE\\ngregorian-interval/2009-03-31T00:00:00/P3Y,N92000002,F,75-79,12.6978,12.59251,12.80309,LE\\ngregorian-interval/2009-03-31T00:00:00/P3Y,N92000002,F,80-84,9.41571,9.31505,9.51637,LE\\ngregorian-interval/2009-03-31T00:00:00/P3Y,N92000002,F,85-89,6.74318,6.63918,6.84718,LE\\ngregorian-interval/2009-03-31T00:00:00/P3Y,N92000002,F,90plus,4.6994,4.56496,4.83384,LE\\ngregorian-interval/2009-03-31T00:00:00/P3Y,S92000003,M,lessthan1,76.22505,76.12717,76.32293,LE\\ngregorian-interval/2009-03-31T00:00:00/P3Y,S92000003,M,01-04,75.55803,75.46532,75.65075,LE\\ngregorian-interval/2009-03-31T00:00:00/P3Y,S92000003,M,05-09,71.61044,71.51857,71.70232,LE\\ngregorian-interval/2009-03-31T00:00:00/P3Y,S92000003,M,10-14,66.65132,66.56011,66.74253,LE\\ngregorian-interval/2009-03-31T00:00:00/P3Y,S92000003,M,15-19,61.67812,61.58727,61.76897,LE\\ngregorian-interval/2009-03-31T00:00:00/P3Y,S92000003,M,20-24,56.84196,56.75292,56.93099,LE\\ngregorian-interval/2009-03-31T00:00:00/P3Y,S92000003,M,25-29,52.07415,51.98734,52.16096,LE\\ngregorian-interval/2009-03-31T00:00:00/P3Y,S92000003,M,30-34,47.37112,47.28708,47.45517,LE\\ngregorian-interval/2009-03-31T00:00:00/P3Y,S92000003,M,35-39,42.71404,42.63322,42.79487,LE\\ngregorian-interval/2009-03-31T00:00:00/P3Y,S92000003,M,40-44,38.10826,38.03048,38.18605,LE\\ngregorian-interval/2009-03-31T00:00:00/P3Y,S92000003,M,45-49,33.5851,33.51,33.6602,LE\\ngregorian-interval/2009-03-31T00:00:00/P3Y,S92000003,M,50-54,29.10363,29.03086,29.17641,LE\\ngregorian-interval/2009-03-31T00:00:00/P3Y,S92000003,M,55-59,24.79574,24.72576,24.86573,LE\\ngregorian-interval/2009-03-31T00:00:00/P3Y,S92000003,M,60-64,20.70908,20.64239,20.77577,LE\\ngregorian-interval/2009-03-31T00:00:00/P3Y,S92000003,M,65-69,16.87769,16.81358,16.94181,LE\\ngregorian-interval/2009-03-31T00:00:00/P3Y,S92000003,M,70-74,13.40328,13.34248,13.46408,LE\\ngregorian-interval/2009-03-31T00:00:00/P3Y,S92000003,M,75-79,10.3306,10.27226,10.38894,LE\\ngregorian-interval/2009-03-31T00:00:00/P3Y,S92000003,M,80-84,7.64839,7.58976,7.70703,LE\\ngregorian-interval/2009-03-31T00:00:00/P3Y,S92000003,M,85-89,5.58291,5.51668,5.64915,LE\\ngregorian-interval/2009-03-31T00:00:00/P3Y,S92000003,M,90plus,4.00979,3.90856,4.11102,LE\\ngregorian-interval/2009-03-31T00:00:00/P3Y,S92000003,F,lessthan1,80.60126,80.51209,80.69043,LE\\ngregorian-interval/2009-03-31T00:00:00/P3Y,S92000003,F,01-04,79.86792,79.78388,79.95195,LE\\ngregorian-interval/2009-03-31T00:00:00/P3Y,S92000003,F,05-09,75.92033,75.83735,76.00331,LE\\ngregorian-interval/2009-03-31T00:00:00/P3Y,S92000003,F,10-14,70.94538,70.86291,71.02785,LE\\ngregorian-interval/2009-03-31T00:00:00/P3Y,S92000003,F,15-19,65.98032,65.89846,66.06218,LE\\ngregorian-interval/2009-03-31T00:00:00/P3Y,S92000003,F,20-24,61.0727,60.99214,61.15326,LE\\ngregorian-interval/2009-03-31T00:00:00/P3Y,S92000003,F,25-29,56.16826,56.08883,56.2477,LE\\ngregorian-interval/2009-03-31T00:00:00/P3Y,S92000003,F,30-34,51.28852,51.21041,51.36662,LE\\ngregorian-interval/2009-03-31T00:00:00/P3Y,S92000003,F,35-39,46.45815,46.38192,46.53438,LE\\ngregorian-interval/2009-03-31T00:00:00/P3Y,S92000003,F,40-44,41.67843,41.60414,41.75272,LE\\ngregorian-interval/2009-03-31T00:00:00/P3Y,S92000003,F,45-49,36.96078,36.88833,37.03323,LE\\ngregorian-interval/2009-03-31T00:00:00/P3Y,S92000003,F,50-54,32.33316,32.26271,32.4036,LE\\ngregorian-interval/2009-03-31T00:00:00/P3Y,S92000003,F,55-59,27.86397,27.79623,27.93171,LE\\ngregorian-interval/2009-03-31T00:00:00/P3Y,S92000003,F,60-64,23.52159,23.45704,23.58613,LE\\ngregorian-interval/2009-03-31T00:00:00/P3Y,S92000003,F,65-69,19.40627,19.34484,19.46769,LE\\ngregorian-interval/2009-03-31T00:00:00/P3Y,S92000003,F,70-74,15.56049,15.50314,15.61784,LE\\ngregorian-interval/2009-03-31T00:00:00/P3Y,S92000003,F,75-79,12.04343,11.98994,12.09693,LE\\ngregorian-interval/2009-03-31T00:00:00/P3Y,S92000003,F,80-84,8.95968,8.90873,9.01064,LE\\ngregorian-interval/2009-03-31T00:00:00/P3Y,S92000003,F,85-89,6.43009,6.37785,6.48233,LE\\ngregorian-interval/2009-03-31T00:00:00/P3Y,S92000003,F,90plus,4.44646,4.37821,4.51471,LE\\ngregorian-interval/2009-03-31T00:00:00/P3Y,W92000004,M,lessthan1,77.84887,77.72302,77.97473,LE\\ngregorian-interval/2009-03-31T00:00:00/P3Y,W92000004,M,01-04,77.21379,77.09552,77.33207,LE\\ngregorian-interval/2009-03-31T00:00:00/P3Y,W92000004,M,05-09,73.25156,73.13409,73.36903,LE\\ngregorian-interval/2009-03-31T00:00:00/P3Y,W92000004,M,10-14,68.29096,68.17434,68.40759,LE\\ngregorian-interval/2009-03-31T00:00:00/P3Y,W92000004,M,15-19,63.33377,63.2179,63.44963,LE\\ngregorian-interval/2009-03-31T00:00:00/P3Y,W92000004,M,20-24,58.48738,58.3738,58.60097,LE\\ngregorian-interval/2009-03-31T00:00:00/P3Y,W92000004,M,25-29,53.68116,53.5701,53.79221,LE\\ngregorian-interval/2009-03-31T00:00:00/P3Y,W92000004,M,30-34,48.88524,48.77702,48.99346,LE\\ngregorian-interval/2009-03-31T00:00:00/P3Y,W92000004,M,35-39,44.15275,44.0483,44.2572,LE\\ngregorian-interval/2009-03-31T00:00:00/P3Y,W92000004,M,40-44,39.46374,39.36288,39.56459,LE\\ngregorian-interval/2009-03-31T00:00:00/P3Y,W92000004,M,45-49,34.8518,34.75433,34.94927,LE\\ngregorian-interval/2009-03-31T00:00:00/P3Y,W92000004,M,50-54,30.32033,30.22624,30.41442,LE\\ngregorian-interval/2009-03-31T00:00:00/P3Y,W92000004,M,55-59,25.91802,25.82799,26.00806,LE\\ngregorian-interval/2009-03-31T00:00:00/P3Y,W92000004,M,60-64,21.72728,21.64186,21.81271,LE\\ngregorian-interval/2009-03-31T00:00:00/P3Y,W92000004,M,65-69,17.75147,17.66943,17.83351,LE\\ngregorian-interval/2009-03-31T00:00:00/P3Y,W92000004,M,70-74,14.08232,14.00415,14.16048,LE\\ngregorian-interval/2009-03-31T00:00:00/P3Y,W92000004,M,75-79,10.82888,10.7542,10.90357,LE\\ngregorian-interval/2009-03-31T00:00:00/P3Y,W92000004,M,80-84,7.99396,7.92001,8.06791,LE\\ngregorian-interval/2009-03-31T00:00:00/P3Y,W92000004,M,85-89,5.73002,5.64813,5.81191,LE\\ngregorian-interval/2009-03-31T00:00:00/P3Y,W92000004,M,90plus,4.22883,4.10444,4.35322,LE\\ngregorian-interval/2009-03-31T00:00:00/P3Y,W92000004,F,lessthan1,82.00474,81.88787,82.12161,LE\\ngregorian-interval/2009-03-31T00:00:00/P3Y,W92000004,F,01-04,81.30868,81.19953,81.41783,LE\\ngregorian-interval/2009-03-31T00:00:00/P3Y,W92000004,F,05-09,77.35986,77.25204,77.46768,LE\\ngregorian-interval/2009-03-31T00:00:00/P3Y,W92000004,F,10-14,72.38193,72.2747,72.48916,LE\\ngregorian-interval/2009-03-31T00:00:00/P3Y,W92000004,F,15-19,67.41921,67.31282,67.5256,LE\\ngregorian-interval/2009-03-31T00:00:00/P3Y,W92000004,F,20-24,62.46887,62.36339,62.57435,LE\\ngregorian-interval/2009-03-31T00:00:00/P3Y,W92000004,F,25-29,57.53655,57.43217,57.64093,LE\\ngregorian-interval/2009-03-31T00:00:00/P3Y,W92000004,F,30-34,52.63526,52.53252,52.738,LE\\ngregorian-interval/2009-03-31T00:00:00/P3Y,W92000004,F,35-39,47.76933,47.66879,47.86986,LE\\ngregorian-interval/2009-03-31T00:00:00/P3Y,W92000004,F,40-44,42.94446,42.84621,43.04271,LE\\ngregorian-interval/2009-03-31T00:00:00/P3Y,W92000004,F,45-49,38.18338,38.08748,38.27928,LE\\ngregorian-interval/2009-03-31T00:00:00/P3Y,W92000004,F,50-54,33.52298,33.4299,33.61607,LE\\ngregorian-interval/2009-03-31T00:00:00/P3Y,W92000004,F,55-59,28.99162,28.90228,29.08097,LE\\ngregorian-interval/2009-03-31T00:00:00/P3Y,W92000004,F,60-64,24.57815,24.4929,24.6634,LE\\ngregorian-interval/2009-03-31T00:00:00/P3Y,W92000004,F,65-69,20.36901,20.28746,20.45057,LE\\ngregorian-interval/2009-03-31T00:00:00/P3Y,W92000004,F,70-74,16.35962,16.28257,16.43668,LE\\ngregorian-interval/2009-03-31T00:00:00/P3Y,W92000004,F,75-79,12.70259,12.63063,12.77454,LE\\ngregorian-interval/2009-03-31T00:00:00/P3Y,W92000004,F,80-84,9.45572,9.38759,9.52384,LE\\ngregorian-interval/2009-03-31T00:00:00/P3Y,W92000004,F,85-89,6.81309,6.7439,6.88229,LE\\ngregorian-interval/2009-03-31T00:00:00/P3Y,W92000004,F,90plus,4.81014,4.72108,4.89919,LE\\ngregorian-interval/2010-03-31T00:00:00/P3Y,E92000001,M,lessthan1,79.08977,79.05971,79.11984,LE\\ngregorian-interval/2010-03-31T00:00:00/P3Y,E92000001,M,01-04,78.46643,78.43809,78.49476,LE\\ngregorian-interval/2010-03-31T00:00:00/P3Y,E92000001,M,05-09,74.52453,74.49647,74.55259,LE\\ngregorian-interval/2010-03-31T00:00:00/P3Y,E92000001,M,10-14,69.55805,69.53016,69.58595,LE\\ngregorian-interval/2010-03-31T00:00:00/P3Y,E92000001,M,15-19,64.59178,64.56404,64.61952,LE\\ngregorian-interval/2010-03-31T00:00:00/P3Y,E92000001,M,20-24,59.68781,59.66044,59.71519,LE\\ngregorian-interval/2010-03-31T00:00:00/P3Y,E92000001,M,25-29,54.83217,54.80526,54.85907,LE\\ngregorian-interval/2010-03-31T00:00:00/P3Y,E92000001,M,30-34,49.98677,49.96032,50.01322,LE\\ngregorian-interval/2010-03-31T00:00:00/P3Y,E92000001,M,35-39,45.17241,45.14647,45.19835,LE\\ngregorian-interval/2010-03-31T00:00:00/P3Y,E92000001,M,40-44,40.41584,40.3905,40.44119,LE\\ngregorian-interval/2010-03-31T00:00:00/P3Y,E92000001,M,45-49,35.74093,35.7162,35.76567,LE\\ngregorian-interval/2010-03-31T00:00:00/P3Y,E92000001,M,50-54,31.1489,31.1248,31.173,LE\\ngregorian-interval/2010-03-31T00:00:00/P3Y,E92000001,M,55-59,26.69185,26.66855,26.71515,LE\\ngregorian-interval/2010-03-31T00:00:00/P3Y,E92000001,M,60-64,22.43873,22.41647,22.46099,LE\\ngregorian-interval/2010-03-31T00:00:00/P3Y,E92000001,M,65-69,18.41595,18.39457,18.43734,LE\\ngregorian-interval/2010-03-31T00:00:00/P3Y,E92000001,M,70-74,14.6535,14.63302,14.67398,LE\\ngregorian-interval/2010-03-31T00:00:00/P3Y,E92000001,M,75-79,11.29306,11.27355,11.31256,LE\\ngregorian-interval/2010-03-31T00:00:00/P3Y,E92000001,M,80-84,8.34476,8.32551,8.364,LE\\ngregorian-interval/2010-03-31T00:00:00/P3Y,E92000001,M,85-89,5.98554,5.96445,6.00663,LE\\ngregorian-interval/2010-03-31T00:00:00/P3Y,E92000001,M,90plus,4.33516,4.30466,4.36565,LE\\ngregorian-interval/2010-03-31T00:00:00/P3Y,E92000001,F,lessthan1,82.87525,82.84685,82.90364,LE\\ngregorian-interval/2010-03-31T00:00:00/P3Y,E92000001,F,01-04,82.19222,82.16556,82.21889,LE\\ngregorian-interval/2010-03-31T00:00:00/P3Y,E92000001,F,05-09,78.24336,78.21698,78.26973,LE\\ngregorian-interval/2010-03-31T00:00:00/P3Y,E92000001,F,10-14,73.27246,73.24626,73.29867,LE\\ngregorian-interval/2010-03-31T00:00:00/P3Y,E92000001,F,15-19,68.30161,68.27556,68.32765,LE\\ngregorian-interval/2010-03-31T00:00:00/P3Y,E92000001,F,20-24,63.35479,63.329,63.38059,LE\\ngregorian-interval/2010-03-31T00:00:00/P3Y,E92000001,F,25-29,58.41842,58.39286,58.44397,LE\\ngregorian-interval/2010-03-31T00:00:00/P3Y,E92000001,F,30-34,53.49614,53.47085,53.52143,LE\\ngregorian-interval/2010-03-31T00:00:00/P3Y,E92000001,F,35-39,48.60281,48.57787,48.62776,LE\\ngregorian-interval/2010-03-31T00:00:00/P3Y,E92000001,F,40-44,43.75534,43.73082,43.77985,LE\\ngregorian-interval/2010-03-31T00:00:00/P3Y,E92000001,F,45-49,38.96938,38.94534,38.99343,LE\\ngregorian-interval/2010-03-31T00:00:00/P3Y,E92000001,F,50-54,34.26131,34.23781,34.28481,LE\\ngregorian-interval/2010-03-31T00:00:00/P3Y,E92000001,F,55-59,29.67189,29.64915,29.69463,LE\\ngregorian-interval/2010-03-31T00:00:00/P3Y,E92000001,F,60-64,25.22883,25.20708,25.25058,LE\\ngregorian-interval/2010-03-31T00:00:00/P3Y,E92000001,F,65-69,20.94524,20.9244,20.96608,LE\\ngregorian-interval/2010-03-31T00:00:00/P3Y,E92000001,F,70-74,16.85946,16.83967,16.87925,LE\\ngregorian-interval/2010-03-31T00:00:00/P3Y,E92000001,F,75-79,13.08684,13.06833,13.10535,LE\\ngregorian-interval/2010-03-31T00:00:00/P3Y,E92000001,F,80-84,9.72244,9.70492,9.73996,LE\\ngregorian-interval/2010-03-31T00:00:00/P3Y,E92000001,F,85-89,6.95452,6.93676,6.97228,LE\\ngregorian-interval/2010-03-31T00:00:00/P3Y,E92000001,F,90plus,4.89809,4.87572,4.92046,LE\\ngregorian-interval/2010-03-31T00:00:00/P3Y,K02000001,M,lessthan1,78.77318,78.74554,78.80082,LE\\ngregorian-interval/2010-03-31T00:00:00/P3Y,K02000001,M,01-04,78.14532,78.11926,78.17139,LE\\ngregorian-interval/2010-03-31T00:00:00/P3Y,K02000001,M,05-09,74.20205,74.17623,74.22787,LE\\ngregorian-interval/2010-03-31T00:00:00/P3Y,K02000001,M,10-14,69.23677,69.21111,69.26243,LE\\ngregorian-interval/2010-03-31T00:00:00/P3Y,K02000001,M,15-19,64.27109,64.24557,64.29661,LE\\ngregorian-interval/2010-03-31T00:00:00/P3Y,K02000001,M,20-24,59.37614,59.35098,59.40129,LE\\ngregorian-interval/2010-03-31T00:00:00/P3Y,K02000001,M,25-29,54.53245,54.50776,54.55715,LE\\ngregorian-interval/2010-03-31T00:00:00/P3Y,K02000001,M,30-34,49.70274,49.67851,49.72698,LE\\ngregorian-interval/2010-03-31T00:00:00/P3Y,K02000001,M,35-39,44.90791,44.8842,44.93162,LE\\ngregorian-interval/2010-03-31T00:00:00/P3Y,K02000001,M,40-44,40.16891,40.14579,40.19203,LE\\ngregorian-interval/2010-03-31T00:00:00/P3Y,K02000001,M,45-49,35.50857,35.48604,35.53111,LE\\ngregorian-interval/2010-03-31T00:00:00/P3Y,K02000001,M,50-54,30.93027,30.90833,30.95221,LE\\ngregorian-interval/2010-03-31T00:00:00/P3Y,K02000001,M,55-59,26.48868,26.46749,26.50987,LE\\ngregorian-interval/2010-03-31T00:00:00/P3Y,K02000001,M,60-64,22.25652,22.23628,22.27675,LE\\ngregorian-interval/2010-03-31T00:00:00/P3Y,K02000001,M,65-69,18.25268,18.23325,18.27212,LE\\ngregorian-interval/2010-03-31T00:00:00/P3Y,K02000001,M,70-74,14.51448,14.49587,14.53309,LE\\ngregorian-interval/2010-03-31T00:00:00/P3Y,K02000001,M,75-79,11.18864,11.17091,11.20638,LE\\ngregorian-interval/2010-03-31T00:00:00/P3Y,K02000001,M,80-84,8.27283,8.25531,8.29036,LE\\ngregorian-interval/2010-03-31T00:00:00/P3Y,K02000001,M,85-89,5.93986,5.92062,5.9591,LE\\ngregorian-interval/2010-03-31T00:00:00/P3Y,K02000001,M,90plus,4.30248,4.27453,4.33043,LE\\ngregorian-interval/2010-03-31T00:00:00/P3Y,K02000001,F,lessthan1,82.61605,82.59008,82.64203,LE\\ngregorian-interval/2010-03-31T00:00:00/P3Y,K02000001,F,01-04,81.92782,81.90342,81.95221,LE\\ngregorian-interval/2010-03-31T00:00:00/P3Y,K02000001,F,05-09,77.97841,77.95428,78.00254,LE\\ngregorian-interval/2010-03-31T00:00:00/P3Y,K02000001,F,10-14,73.00715,72.98317,73.03112,LE\\ngregorian-interval/2010-03-31T00:00:00/P3Y,K02000001,F,15-19,68.03617,68.01234,68.06,LE\\ngregorian-interval/2010-03-31T00:00:00/P3Y,K02000001,F,20-24,63.09263,63.06904,63.11623,LE\\ngregorian-interval/2010-03-31T00:00:00/P3Y,K02000001,F,25-29,58.15998,58.13663,58.18334,LE\\ngregorian-interval/2010-03-31T00:00:00/P3Y,K02000001,F,30-34,53.24336,53.22027,53.26646,LE\\ngregorian-interval/2010-03-31T00:00:00/P3Y,K02000001,F,35-39,48.35615,48.33339,48.37891,LE\\ngregorian-interval/2010-03-31T00:00:00/P3Y,K02000001,F,40-44,43.51476,43.49241,43.5371,LE\\ngregorian-interval/2010-03-31T00:00:00/P3Y,K02000001,F,45-49,38.73636,38.71446,38.75826,LE\\ngregorian-interval/2010-03-31T00:00:00/P3Y,K02000001,F,50-54,34.0389,34.01751,34.06028,LE\\ngregorian-interval/2010-03-31T00:00:00/P3Y,K02000001,F,55-59,29.46375,29.44307,29.48443,LE\\ngregorian-interval/2010-03-31T00:00:00/P3Y,K02000001,F,60-64,25.03173,25.01196,25.0515,LE\\ngregorian-interval/2010-03-31T00:00:00/P3Y,K02000001,F,65-69,20.76691,20.74799,20.78584,LE\\ngregorian-interval/2010-03-31T00:00:00/P3Y,K02000001,F,70-74,16.70574,16.68779,16.7237,LE\\ngregorian-interval/2010-03-31T00:00:00/P3Y,K02000001,F,75-79,12.96656,12.94977,12.98334,LE\\ngregorian-interval/2010-03-31T00:00:00/P3Y,K02000001,F,80-84,9.63685,9.62096,9.65274,LE\\ngregorian-interval/2010-03-31T00:00:00/P3Y,K02000001,F,85-89,6.89965,6.88352,6.91578,LE\\ngregorian-interval/2010-03-31T00:00:00/P3Y,K02000001,F,90plus,4.85779,4.83741,4.87817,LE\\ngregorian-interval/2010-03-31T00:00:00/P3Y,N92000002,M,lessthan1,77.72105,77.54879,77.89331,LE\\ngregorian-interval/2010-03-31T00:00:00/P3Y,N92000002,M,01-04,77.10286,76.93853,77.26719,LE\\ngregorian-interval/2010-03-31T00:00:00/P3Y,N92000002,M,05-09,73.15738,72.99417,73.32058,LE\\ngregorian-interval/2010-03-31T00:00:00/P3Y,N92000002,M,10-14,68.19411,68.03171,68.35651,LE\\ngregorian-interval/2010-03-31T00:00:00/P3Y,N92000002,M,15-19,63.24462,63.08318,63.40607,LE\\ngregorian-interval/2010-03-31T00:00:00/P3Y,N92000002,M,20-24,58.45734,58.29939,58.61528,LE\\ngregorian-interval/2010-03-31T00:00:00/P3Y,N92000002,M,25-29,53.72882,53.57506,53.88258,LE\\ngregorian-interval/2010-03-31T00:00:00/P3Y,N92000002,M,30-34,48.99808,48.84826,49.14791,LE\\ngregorian-interval/2010-03-31T00:00:00/P3Y,N92000002,M,35-39,44.2735,44.12754,44.41947,LE\\ngregorian-interval/2010-03-31T00:00:00/P3Y,N92000002,M,40-44,39.56135,39.4189,39.7038,LE\\ngregorian-interval/2010-03-31T00:00:00/P3Y,N92000002,M,45-49,34.92486,34.78582,35.0639,LE\\ngregorian-interval/2010-03-31T00:00:00/P3Y,N92000002,M,50-54,30.37033,30.23462,30.50605,LE\\ngregorian-interval/2010-03-31T00:00:00/P3Y,N92000002,M,55-59,25.97881,25.84727,26.11034,LE\\ngregorian-interval/2010-03-31T00:00:00/P3Y,N92000002,M,60-64,21.82001,21.69388,21.94613,LE\\ngregorian-interval/2010-03-31T00:00:00/P3Y,N92000002,M,65-69,17.81939,17.69817,17.94061,LE\\ngregorian-interval/2010-03-31T00:00:00/P3Y,N92000002,M,70-74,14.08392,13.96679,14.20105,LE\\ngregorian-interval/2010-03-31T00:00:00/P3Y,N92000002,M,75-79,10.83123,10.71817,10.94429,LE\\ngregorian-interval/2010-03-31T00:00:00/P3Y,N92000002,M,80-84,8.04868,7.93539,8.16197,LE\\ngregorian-interval/2010-03-31T00:00:00/P3Y,N92000002,M,85-89,5.76329,5.63749,5.88909,LE\\ngregorian-interval/2010-03-31T00:00:00/P3Y,N92000002,M,90plus,4.19387,4.00647,4.38127,LE\\ngregorian-interval/2010-03-31T00:00:00/P3Y,N92000002,F,lessthan1,82.13025,81.97264,82.28785,LE\\ngregorian-interval/2010-03-31T00:00:00/P3Y,N92000002,F,01-04,81.47634,81.32772,81.62496,LE\\ngregorian-interval/2010-03-31T00:00:00/P3Y,N92000002,F,05-09,77.51744,77.36989,77.66498,LE\\ngregorian-interval/2010-03-31T00:00:00/P3Y,N92000002,F,10-14,72.54948,72.40283,72.69613,LE\\ngregorian-interval/2010-03-31T00:00:00/P3Y,N92000002,F,15-19,67.57791,67.43196,67.72387,LE\\ngregorian-interval/2010-03-31T00:00:00/P3Y,N92000002,F,20-24,62.64703,62.50255,62.79152,LE\\ngregorian-interval/2010-03-31T00:00:00/P3Y,N92000002,F,25-29,57.73646,57.5937,57.87921,LE\\ngregorian-interval/2010-03-31T00:00:00/P3Y,N92000002,F,30-34,52.82909,52.68791,52.97027,LE\\ngregorian-interval/2010-03-31T00:00:00/P3Y,N92000002,F,35-39,47.935,47.7955,48.07451,LE\\ngregorian-interval/2010-03-31T00:00:00/P3Y,N92000002,F,40-44,43.08722,42.94984,43.22459,LE\\ngregorian-interval/2010-03-31T00:00:00/P3Y,N92000002,F,45-49,38.32436,38.18959,38.45914,LE\\ngregorian-interval/2010-03-31T00:00:00/P3Y,N92000002,F,50-54,33.65576,33.52405,33.78747,LE\\ngregorian-interval/2010-03-31T00:00:00/P3Y,N92000002,F,55-59,29.11509,28.98747,29.24271,LE\\ngregorian-interval/2010-03-31T00:00:00/P3Y,N92000002,F,60-64,24.73153,24.60956,24.8535,LE\\ngregorian-interval/2010-03-31T00:00:00/P3Y,N92000002,F,65-69,20.48316,20.3668,20.59952,LE\\ngregorian-interval/2010-03-31T00:00:00/P3Y,N92000002,F,70-74,16.43796,16.32725,16.54866,LE\\ngregorian-interval/2010-03-31T00:00:00/P3Y,N92000002,F,75-79,12.70858,12.60459,12.81257,LE\\ngregorian-interval/2010-03-31T00:00:00/P3Y,N92000002,F,80-84,9.4011,9.30201,9.5002,LE\\ngregorian-interval/2010-03-31T00:00:00/P3Y,N92000002,F,85-89,6.71695,6.61507,6.81883,LE\\ngregorian-interval/2010-03-31T00:00:00/P3Y,N92000002,F,90plus,4.69968,4.56873,4.83063,LE\\ngregorian-interval/2010-03-31T00:00:00/P3Y,S92000003,M,lessthan1,76.52946,76.43214,76.62678,LE\\ngregorian-interval/2010-03-31T00:00:00/P3Y,S92000003,M,01-04,75.85773,75.7656,75.94987,LE\\ngregorian-interval/2010-03-31T00:00:00/P3Y,S92000003,M,05-09,71.90892,71.8176,72.00023,LE\\ngregorian-interval/2010-03-31T00:00:00/P3Y,S92000003,M,10-14,66.95381,66.86323,67.0444,LE\\ngregorian-interval/2010-03-31T00:00:00/P3Y,S92000003,M,15-19,61.98424,61.89408,62.0744,LE\\ngregorian-interval/2010-03-31T00:00:00/P3Y,S92000003,M,20-24,57.12426,57.03569,57.21283,LE\\ngregorian-interval/2010-03-31T00:00:00/P3Y,S92000003,M,25-29,52.33148,52.24487,52.41809,LE\\ngregorian-interval/2010-03-31T00:00:00/P3Y,S92000003,M,30-34,47.61478,47.53081,47.69874,LE\\ngregorian-interval/2010-03-31T00:00:00/P3Y,S92000003,M,35-39,42.96584,42.88511,43.04657,LE\\ngregorian-interval/2010-03-31T00:00:00/P3Y,S92000003,M,40-44,38.36486,38.28736,38.44236,LE\\ngregorian-interval/2010-03-31T00:00:00/P3Y,S92000003,M,45-49,33.81801,33.74318,33.89284,LE\\ngregorian-interval/2010-03-31T00:00:00/P3Y,S92000003,M,50-54,29.33451,29.26203,29.407,LE\\ngregorian-interval/2010-03-31T00:00:00/P3Y,S92000003,M,55-59,25.00137,24.93155,25.07118,LE\\ngregorian-interval/2010-03-31T00:00:00/P3Y,S92000003,M,60-64,20.90805,20.84153,20.97457,LE\\ngregorian-interval/2010-03-31T00:00:00/P3Y,S92000003,M,65-69,17.06037,16.99654,17.12421,LE\\ngregorian-interval/2010-03-31T00:00:00/P3Y,S92000003,M,70-74,13.52587,13.46497,13.58677,LE\\ngregorian-interval/2010-03-31T00:00:00/P3Y,S92000003,M,75-79,10.44061,10.38228,10.49893,LE\\ngregorian-interval/2010-03-31T00:00:00/P3Y,S92000003,M,80-84,7.75183,7.69334,7.81032,LE\\ngregorian-interval/2010-03-31T00:00:00/P3Y,S92000003,M,85-89,5.63423,5.56849,5.69997,LE\\ngregorian-interval/2010-03-31T00:00:00/P3Y,S92000003,M,90plus,4.10018,4.0011,4.19927,LE\\ngregorian-interval/2010-03-31T00:00:00/P3Y,S92000003,F,lessthan1,80.74244,80.65423,80.83065,LE\\ngregorian-interval/2010-03-31T00:00:00/P3Y,S92000003,F,01-04,80.00336,79.92028,80.08643,LE\\ngregorian-interval/2010-03-31T00:00:00/P3Y,S92000003,F,05-09,76.05235,75.97026,76.13444,LE\\ngregorian-interval/2010-03-31T00:00:00/P3Y,S92000003,F,10-14,71.07911,70.99757,71.16066,LE\\ngregorian-interval/2010-03-31T00:00:00/P3Y,S92000003,F,15-19,66.10508,66.024,66.18616,LE\\ngregorian-interval/2010-03-31T00:00:00/P3Y,S92000003,F,20-24,61.18796,61.10809,61.26783,LE\\ngregorian-interval/2010-03-31T00:00:00/P3Y,S92000003,F,25-29,56.27693,56.1981,56.35577,LE\\ngregorian-interval/2010-03-31T00:00:00/P3Y,S92000003,F,30-34,51.40264,51.3252,51.48008,LE\\ngregorian-interval/2010-03-31T00:00:00/P3Y,S92000003,F,35-39,46.5634,46.48771,46.63909,LE\\ngregorian-interval/2010-03-31T00:00:00/P3Y,S92000003,F,40-44,41.77574,41.70204,41.84945,LE\\ngregorian-interval/2010-03-31T00:00:00/P3Y,S92000003,F,45-49,37.05133,36.97948,37.12317,LE\\ngregorian-interval/2010-03-31T00:00:00/P3Y,S92000003,F,50-54,32.4137,32.34382,32.48358,LE\\ngregorian-interval/2010-03-31T00:00:00/P3Y,S92000003,F,55-59,27.93387,27.86661,28.00112,LE\\ngregorian-interval/2010-03-31T00:00:00/P3Y,S92000003,F,60-64,23.5807,23.51657,23.64482,LE\\ngregorian-interval/2010-03-31T00:00:00/P3Y,S92000003,F,65-69,19.44923,19.38825,19.51021,LE\\ngregorian-interval/2010-03-31T00:00:00/P3Y,S92000003,F,70-74,15.57667,15.51948,15.63385,LE\\ngregorian-interval/2010-03-31T00:00:00/P3Y,S92000003,F,75-79,12.06301,12.00976,12.11625,LE\\ngregorian-interval/2010-03-31T00:00:00/P3Y,S92000003,F,80-84,8.96926,8.91862,9.0199,LE\\ngregorian-interval/2010-03-31T00:00:00/P3Y,S92000003,F,85-89,6.44512,6.39322,6.49701,LE\\ngregorian-interval/2010-03-31T00:00:00/P3Y,S92000003,F,90plus,4.48946,4.4225,4.55642,LE\\ngregorian-interval/2010-03-31T00:00:00/P3Y,W92000004,M,lessthan1,78.09643,77.97153,78.22134,LE\\ngregorian-interval/2010-03-31T00:00:00/P3Y,W92000004,M,01-04,77.45452,77.33712,77.57191,LE\\ngregorian-interval/2010-03-31T00:00:00/P3Y,W92000004,M,05-09,73.49729,73.3808,73.61379,LE\\ngregorian-interval/2010-03-31T00:00:00/P3Y,W92000004,M,10-14,68.53512,68.41944,68.65079,LE\\ngregorian-interval/2010-03-31T00:00:00/P3Y,W92000004,M,15-19,63.57534,63.46041,63.69027,LE\\ngregorian-interval/2010-03-31T00:00:00/P3Y,W92000004,M,20-24,58.70234,58.58932,58.81535,LE\\ngregorian-interval/2010-03-31T00:00:00/P3Y,W92000004,M,25-29,53.89951,53.78903,54.00998,LE\\ngregorian-interval/2010-03-31T00:00:00/P3Y,W92000004,M,30-34,49.09372,48.98597,49.20147,LE\\ngregorian-interval/2010-03-31T00:00:00/P3Y,W92000004,M,35-39,44.36625,44.2623,44.4702,LE\\ngregorian-interval/2010-03-31T00:00:00/P3Y,W92000004,M,40-44,39.68981,39.58985,39.78977,LE\\ngregorian-interval/2010-03-31T00:00:00/P3Y,W92000004,M,45-49,35.06616,34.96963,35.16269,LE\\ngregorian-interval/2010-03-31T00:00:00/P3Y,W92000004,M,50-54,30.53119,30.43808,30.62431,LE\\ngregorian-interval/2010-03-31T00:00:00/P3Y,W92000004,M,55-59,26.10636,26.01715,26.19558,LE\\ngregorian-interval/2010-03-31T00:00:00/P3Y,W92000004,M,60-64,21.90141,21.81695,21.98586,LE\\ngregorian-interval/2010-03-31T00:00:00/P3Y,W92000004,M,65-69,17.90672,17.82592,17.98753,LE\\ngregorian-interval/2010-03-31T00:00:00/P3Y,W92000004,M,70-74,14.18696,14.10979,14.26414,LE\\ngregorian-interval/2010-03-31T00:00:00/P3Y,W92000004,M,75-79,10.9168,10.84345,10.99016,LE\\ngregorian-interval/2010-03-31T00:00:00/P3Y,W92000004,M,80-84,8.03185,7.95986,8.10385,LE\\ngregorian-interval/2010-03-31T00:00:00/P3Y,W92000004,M,85-89,5.72998,5.65173,5.80824,LE\\ngregorian-interval/2010-03-31T00:00:00/P3Y,W92000004,M,90plus,4.09912,3.98438,4.21386,LE\\ngregorian-interval/2010-03-31T00:00:00/P3Y,W92000004,F,lessthan1,82.10745,81.991,82.22389,LE\\ngregorian-interval/2010-03-31T00:00:00/P3Y,W92000004,F,01-04,81.38595,81.27653,81.49536,LE\\ngregorian-interval/2010-03-31T00:00:00/P3Y,W92000004,F,05-09,77.43641,77.32829,77.54453,LE\\ngregorian-interval/2010-03-31T00:00:00/P3Y,W92000004,F,10-14,72.45981,72.35231,72.56732,LE\\ngregorian-interval/2010-03-31T00:00:00/P3Y,W92000004,F,15-19,67.49251,67.38575,67.59927,LE\\ngregorian-interval/2010-03-31T00:00:00/P3Y,W92000004,F,20-24,62.55071,62.44504,62.65639,LE\\ngregorian-interval/2010-03-31T00:00:00/P3Y,W92000004,F,25-29,57.62912,57.5247,57.73355,LE\\ngregorian-interval/2010-03-31T00:00:00/P3Y,W92000004,F,30-34,52.73506,52.6324,52.83772,LE\\ngregorian-interval/2010-03-31T00:00:00/P3Y,W92000004,F,35-39,47.88288,47.78261,47.98315,LE\\ngregorian-interval/2010-03-31T00:00:00/P3Y,W92000004,F,40-44,43.05989,42.96207,43.1577,LE\\ngregorian-interval/2010-03-31T00:00:00/P3Y,W92000004,F,45-49,38.3032,38.20784,38.39857,LE\\ngregorian-interval/2010-03-31T00:00:00/P3Y,W92000004,F,50-54,33.65518,33.56275,33.74761,LE\\ngregorian-interval/2010-03-31T00:00:00/P3Y,W92000004,F,55-59,29.10797,29.0191,29.19683,LE\\ngregorian-interval/2010-03-31T00:00:00/P3Y,W92000004,F,60-64,24.67427,24.58945,24.7591,LE\\ngregorian-interval/2010-03-31T00:00:00/P3Y,W92000004,F,65-69,20.45484,20.37381,20.53587,LE\\ngregorian-interval/2010-03-31T00:00:00/P3Y,W92000004,F,70-74,16.43206,16.3552,16.50893,LE\\ngregorian-interval/2010-03-31T00:00:00/P3Y,W92000004,F,75-79,12.76788,12.69612,12.83964,LE\\ngregorian-interval/2010-03-31T00:00:00/P3Y,W92000004,F,80-84,9.5012,9.43335,9.56906,LE\\ngregorian-interval/2010-03-31T00:00:00/P3Y,W92000004,F,85-89,6.82209,6.75359,6.89059,LE\\ngregorian-interval/2010-03-31T00:00:00/P3Y,W92000004,F,90plus,4.83426,4.74735,4.92117,LE\\ngregorian-interval/2011-03-31T00:00:00/P3Y,E92000001,M,lessthan1,79.29259,79.26285,79.32234,LE\\ngregorian-interval/2011-03-31T00:00:00/P3Y,E92000001,M,01-04,78.65998,78.63194,78.68803,LE\\ngregorian-interval/2011-03-31T00:00:00/P3Y,E92000001,M,05-09,74.71611,74.68833,74.74388,LE\\ngregorian-interval/2011-03-31T00:00:00/P3Y,E92000001,M,10-14,69.74833,69.72071,69.77595,LE\\ngregorian-interval/2011-03-31T00:00:00/P3Y,E92000001,M,15-19,64.7815,64.75404,64.80896,LE\\ngregorian-interval/2011-03-31T00:00:00/P3Y,E92000001,M,20-24,59.87541,59.84832,59.90251,LE\\ngregorian-interval/2011-03-31T00:00:00/P3Y,E92000001,M,25-29,55.00879,54.98213,55.03545,LE\\ngregorian-interval/2011-03-31T00:00:00/P3Y,E92000001,M,30-34,50.15906,50.13284,50.18527,LE\\ngregorian-interval/2011-03-31T00:00:00/P3Y,E92000001,M,35-39,45.33903,45.31331,45.36475,LE\\ngregorian-interval/2011-03-31T00:00:00/P3Y,E92000001,M,40-44,40.57983,40.55473,40.60493,LE\\ngregorian-interval/2011-03-31T00:00:00/P3Y,E92000001,M,45-49,35.90083,35.87635,35.92531,LE\\ngregorian-interval/2011-03-31T00:00:00/P3Y,E92000001,M,50-54,31.30603,31.28219,31.32986,LE\\ngregorian-interval/2011-03-31T00:00:00/P3Y,E92000001,M,55-59,26.83913,26.81607,26.86218,LE\\ngregorian-interval/2011-03-31T00:00:00/P3Y,E92000001,M,60-64,22.56951,22.54749,22.59154,LE\\ngregorian-interval/2011-03-31T00:00:00/P3Y,E92000001,M,65-69,18.54003,18.51897,18.56109,LE\\ngregorian-interval/2011-03-31T00:00:00/P3Y,E92000001,M,70-74,14.74575,14.72551,14.76598,LE\\ngregorian-interval/2011-03-31T00:00:00/P3Y,E92000001,M,75-79,11.3615,11.34231,11.38069,LE\\ngregorian-interval/2011-03-31T00:00:00/P3Y,E92000001,M,80-84,8.37583,8.357,8.39465,LE\\ngregorian-interval/2011-03-31T00:00:00/P3Y,E92000001,M,85-89,5.98722,5.96682,6.00763,LE\\ngregorian-interval/2011-03-31T00:00:00/P3Y,E92000001,M,90plus,4.28091,4.25199,4.30983,LE\\ngregorian-interval/2011-03-31T00:00:00/P3Y,E92000001,F,lessthan1,83.01703,82.98899,83.04508,LE\\ngregorian-interval/2011-03-31T00:00:00/P3Y,E92000001,F,01-04,82.3147,82.2883,82.3411,LE\\ngregorian-interval/2011-03-31T00:00:00/P3Y,E92000001,F,05-09,78.36486,78.33874,78.39097,LE\\ngregorian-interval/2011-03-31T00:00:00/P3Y,E92000001,F,10-14,73.39221,73.36626,73.41817,LE\\ngregorian-interval/2011-03-31T00:00:00/P3Y,E92000001,F,15-19,68.42022,68.39442,68.44602,LE\\ngregorian-interval/2011-03-31T00:00:00/P3Y,E92000001,F,20-24,63.46775,63.44217,63.49332,LE\\ngregorian-interval/2011-03-31T00:00:00/P3Y,E92000001,F,25-29,58.53099,58.50566,58.55632,LE\\ngregorian-interval/2011-03-31T00:00:00/P3Y,E92000001,F,30-34,53.60818,53.58311,53.63324,LE\\ngregorian-interval/2011-03-31T00:00:00/P3Y,E92000001,F,35-39,48.71525,48.69052,48.73998,LE\\ngregorian-interval/2011-03-31T00:00:00/P3Y,E92000001,F,40-44,43.86372,43.83944,43.88801,LE\\ngregorian-interval/2011-03-31T00:00:00/P3Y,E92000001,F,45-49,39.07424,39.05043,39.09804,LE\\ngregorian-interval/2011-03-31T00:00:00/P3Y,E92000001,F,50-54,34.36279,34.33953,34.38606,LE\\ngregorian-interval/2011-03-31T00:00:00/P3Y,E92000001,F,55-59,29.76163,29.73909,29.78417,LE\\ngregorian-interval/2011-03-31T00:00:00/P3Y,E92000001,F,60-64,25.30728,25.28571,25.32885,LE\\ngregorian-interval/2011-03-31T00:00:00/P3Y,E92000001,F,65-69,21.01878,20.99818,21.03938,LE\\ngregorian-interval/2011-03-31T00:00:00/P3Y,E92000001,F,70-74,16.91922,16.89958,16.93886,LE\\ngregorian-interval/2011-03-31T00:00:00/P3Y,E92000001,F,75-79,13.13157,13.11322,13.14993,LE\\ngregorian-interval/2011-03-31T00:00:00/P3Y,E92000001,F,80-84,9.73999,9.72265,9.75733,LE\\ngregorian-interval/2011-03-31T00:00:00/P3Y,E92000001,F,85-89,6.94915,6.93166,6.96665,LE\\ngregorian-interval/2011-03-31T00:00:00/P3Y,E92000001,F,90plus,4.87532,4.85359,4.89705,LE\\ngregorian-interval/2011-03-31T00:00:00/P3Y,K02000001,M,lessthan1,78.98038,78.95304,79.00773,LE\\ngregorian-interval/2011-03-31T00:00:00/P3Y,K02000001,M,01-04,78.34193,78.31614,78.36773,LE\\ngregorian-interval/2011-03-31T00:00:00/P3Y,K02000001,M,05-09,74.39714,74.37158,74.42269,LE\\ngregorian-interval/2011-03-31T00:00:00/P3Y,K02000001,M,10-14,69.43001,69.4046,69.45542,LE\\ngregorian-interval/2011-03-31T00:00:00/P3Y,K02000001,M,15-19,64.46433,64.43906,64.48959,LE\\ngregorian-interval/2011-03-31T00:00:00/P3Y,K02000001,M,20-24,59.56514,59.54023,59.59005,LE\\ngregorian-interval/2011-03-31T00:00:00/P3Y,K02000001,M,25-29,54.70783,54.68334,54.73231,LE\\ngregorian-interval/2011-03-31T00:00:00/P3Y,K02000001,M,30-34,49.87333,49.84929,49.89736,LE\\ngregorian-interval/2011-03-31T00:00:00/P3Y,K02000001,M,35-39,45.07159,45.04806,45.09513,LE\\ngregorian-interval/2011-03-31T00:00:00/P3Y,K02000001,M,40-44,40.33075,40.30783,40.35367,LE\\ngregorian-interval/2011-03-31T00:00:00/P3Y,K02000001,M,45-49,35.66828,35.64597,35.6906,LE\\ngregorian-interval/2011-03-31T00:00:00/P3Y,K02000001,M,50-54,31.08868,31.06697,31.11038,LE\\ngregorian-interval/2011-03-31T00:00:00/P3Y,K02000001,M,55-59,26.63609,26.61511,26.65707,LE\\ngregorian-interval/2011-03-31T00:00:00/P3Y,K02000001,M,60-64,22.38686,22.36683,22.40689,LE\\ngregorian-interval/2011-03-31T00:00:00/P3Y,K02000001,M,65-69,18.37663,18.35748,18.39578,LE\\ngregorian-interval/2011-03-31T00:00:00/P3Y,K02000001,M,70-74,14.6071,14.5887,14.62549,LE\\ngregorian-interval/2011-03-31T00:00:00/P3Y,K02000001,M,75-79,11.25722,11.23976,11.27469,LE\\ngregorian-interval/2011-03-31T00:00:00/P3Y,K02000001,M,80-84,8.30369,8.28654,8.32085,LE\\ngregorian-interval/2011-03-31T00:00:00/P3Y,K02000001,M,85-89,5.94124,5.92259,5.95988,LE\\ngregorian-interval/2011-03-31T00:00:00/P3Y,K02000001,M,90plus,4.25656,4.22998,4.28314,LE\\ngregorian-interval/2011-03-31T00:00:00/P3Y,K02000001,F,lessthan1,82.75897,82.73331,82.78464,LE\\ngregorian-interval/2011-03-31T00:00:00/P3Y,K02000001,F,01-04,82.05253,82.02837,82.07668,LE\\ngregorian-interval/2011-03-31T00:00:00/P3Y,K02000001,F,05-09,78.10231,78.07841,78.12621,LE\\ngregorian-interval/2011-03-31T00:00:00/P3Y,K02000001,F,10-14,73.12936,73.10561,73.15311,LE\\ngregorian-interval/2011-03-31T00:00:00/P3Y,K02000001,F,15-19,68.15735,68.13374,68.18095,LE\\ngregorian-interval/2011-03-31T00:00:00/P3Y,K02000001,F,20-24,63.20823,63.18484,63.23162,LE\\ngregorian-interval/2011-03-31T00:00:00/P3Y,K02000001,F,25-29,58.2736,58.25044,58.29676,LE\\ngregorian-interval/2011-03-31T00:00:00/P3Y,K02000001,F,30-34,53.35538,53.33248,53.37828,LE\\ngregorian-interval/2011-03-31T00:00:00/P3Y,K02000001,F,35-39,48.46803,48.44546,48.4906,LE\\ngregorian-interval/2011-03-31T00:00:00/P3Y,K02000001,F,40-44,43.62291,43.60077,43.64506,LE\\ngregorian-interval/2011-03-31T00:00:00/P3Y,K02000001,F,45-49,38.84063,38.81894,38.86232,LE\\ngregorian-interval/2011-03-31T00:00:00/P3Y,K02000001,F,50-54,34.1385,34.11732,34.15969,LE\\ngregorian-interval/2011-03-31T00:00:00/P3Y,K02000001,F,55-59,29.55235,29.53184,29.57285,LE\\ngregorian-interval/2011-03-31T00:00:00/P3Y,K02000001,F,60-64,25.11162,25.09201,25.13123,LE\\ngregorian-interval/2011-03-31T00:00:00/P3Y,K02000001,F,65-69,20.8405,20.82179,20.85922,LE\\ngregorian-interval/2011-03-31T00:00:00/P3Y,K02000001,F,70-74,16.76449,16.74666,16.78231,LE\\ngregorian-interval/2011-03-31T00:00:00/P3Y,K02000001,F,75-79,13.00923,12.99258,13.02588,LE\\ngregorian-interval/2011-03-31T00:00:00/P3Y,K02000001,F,80-84,9.65507,9.63934,9.67081,LE\\ngregorian-interval/2011-03-31T00:00:00/P3Y,K02000001,F,85-89,6.89274,6.87684,6.90863,LE\\ngregorian-interval/2011-03-31T00:00:00/P3Y,K02000001,F,90plus,4.83742,4.81761,4.85724,LE\\ngregorian-interval/2011-03-31T00:00:00/P3Y,N92000002,M,lessthan1,78.02148,77.85218,78.19077,LE\\ngregorian-interval/2011-03-31T00:00:00/P3Y,N92000002,M,01-04,77.38241,77.22085,77.54397,LE\\ngregorian-interval/2011-03-31T00:00:00/P3Y,N92000002,M,05-09,73.43077,73.27022,73.59132,LE\\ngregorian-interval/2011-03-31T00:00:00/P3Y,N92000002,M,10-14,68.46285,68.30299,68.6227,LE\\ngregorian-interval/2011-03-31T00:00:00/P3Y,N92000002,M,15-19,63.51837,63.35962,63.67711,LE\\ngregorian-interval/2011-03-31T00:00:00/P3Y,N92000002,M,20-24,58.71583,58.56045,58.8712,LE\\ngregorian-interval/2011-03-31T00:00:00/P3Y,N92000002,M,25-29,53.94028,53.78849,54.09207,LE\\ngregorian-interval/2011-03-31T00:00:00/P3Y,N92000002,M,30-34,49.20722,49.05944,49.355,LE\\ngregorian-interval/2011-03-31T00:00:00/P3Y,N92000002,M,35-39,44.46945,44.3254,44.6135,LE\\ngregorian-interval/2011-03-31T00:00:00/P3Y,N92000002,M,40-44,39.75428,39.61393,39.89462,LE\\ngregorian-interval/2011-03-31T00:00:00/P3Y,N92000002,M,45-49,35.11257,34.97577,35.24937,LE\\ngregorian-interval/2011-03-31T00:00:00/P3Y,N92000002,M,50-54,30.54715,30.41373,30.68058,LE\\ngregorian-interval/2011-03-31T00:00:00/P3Y,N92000002,M,55-59,26.13315,26.0038,26.2625,LE\\ngregorian-interval/2011-03-31T00:00:00/P3Y,N92000002,M,60-64,21.92844,21.80427,22.05261,LE\\ngregorian-interval/2011-03-31T00:00:00/P3Y,N92000002,M,65-69,17.95174,17.83296,18.07052,LE\\ngregorian-interval/2011-03-31T00:00:00/P3Y,N92000002,M,70-74,14.20319,14.08873,14.31766,LE\\ngregorian-interval/2011-03-31T00:00:00/P3Y,N92000002,M,75-79,10.86415,10.75409,10.97422,LE\\ngregorian-interval/2011-03-31T00:00:00/P3Y,N92000002,M,80-84,8.0365,7.92716,8.14584,LE\\ngregorian-interval/2011-03-31T00:00:00/P3Y,N92000002,M,85-89,5.69217,5.57236,5.81198,LE\\ngregorian-interval/2011-03-31T00:00:00/P3Y,N92000002,M,90plus,4.12476,3.94767,4.30185,LE\\ngregorian-interval/2011-03-31T00:00:00/P3Y,N92000002,F,lessthan1,82.30416,82.15042,82.45789,LE\\ngregorian-interval/2011-03-31T00:00:00/P3Y,N92000002,F,01-04,81.60314,81.45742,81.74886,LE\\ngregorian-interval/2011-03-31T00:00:00/P3Y,N92000002,F,05-09,77.64594,77.50135,77.79052,LE\\ngregorian-interval/2011-03-31T00:00:00/P3Y,N92000002,F,10-14,72.67736,72.53365,72.82107,LE\\ngregorian-interval/2011-03-31T00:00:00/P3Y,N92000002,F,15-19,67.69605,67.55282,67.83928,LE\\ngregorian-interval/2011-03-31T00:00:00/P3Y,N92000002,F,20-24,62.75705,62.61516,62.89893,LE\\ngregorian-interval/2011-03-31T00:00:00/P3Y,N92000002,F,25-29,57.83452,57.69419,57.97485,LE\\ngregorian-interval/2011-03-31T00:00:00/P3Y,N92000002,F,30-34,52.92628,52.78756,53.065,LE\\ngregorian-interval/2011-03-31T00:00:00/P3Y,N92000002,F,35-39,48.02573,47.8886,48.16286,LE\\ngregorian-interval/2011-03-31T00:00:00/P3Y,N92000002,F,40-44,43.16141,43.02628,43.29654,LE\\ngregorian-interval/2011-03-31T00:00:00/P3Y,N92000002,F,45-49,38.39621,38.26376,38.52865,LE\\ngregorian-interval/2011-03-31T00:00:00/P3Y,N92000002,F,50-54,33.69663,33.56702,33.82624,LE\\ngregorian-interval/2011-03-31T00:00:00/P3Y,N92000002,F,55-59,29.13857,29.01287,29.26427,LE\\ngregorian-interval/2011-03-31T00:00:00/P3Y,N92000002,F,60-64,24.73837,24.6181,24.85863,LE\\ngregorian-interval/2011-03-31T00:00:00/P3Y,N92000002,F,65-69,20.48466,20.3702,20.59911,LE\\ngregorian-interval/2011-03-31T00:00:00/P3Y,N92000002,F,70-74,16.42575,16.31682,16.53469,LE\\ngregorian-interval/2011-03-31T00:00:00/P3Y,N92000002,F,75-79,12.6506,12.54814,12.75305,LE\\ngregorian-interval/2011-03-31T00:00:00/P3Y,N92000002,F,80-84,9.37854,9.28134,9.47574,LE\\ngregorian-interval/2011-03-31T00:00:00/P3Y,N92000002,F,85-89,6.67291,6.57369,6.77214,LE\\ngregorian-interval/2011-03-31T00:00:00/P3Y,N92000002,F,90plus,4.65238,4.52598,4.77879,LE\\ngregorian-interval/2011-03-31T00:00:00/P3Y,S92000003,M,lessthan1,76.80484,76.70835,76.90134,LE\\ngregorian-interval/2011-03-31T00:00:00/P3Y,S92000003,M,01-04,76.11993,76.02854,76.21132,LE\\ngregorian-interval/2011-03-31T00:00:00/P3Y,S92000003,M,05-09,72.16925,72.07865,72.25985,LE\\ngregorian-interval/2011-03-31T00:00:00/P3Y,S92000003,M,10-14,67.2062,67.1162,67.2962,LE\\ngregorian-interval/2011-03-31T00:00:00/P3Y,S92000003,M,15-19,62.24278,62.15331,62.33225,LE\\ngregorian-interval/2011-03-31T00:00:00/P3Y,S92000003,M,20-24,57.37091,57.28295,57.45887,LE\\ngregorian-interval/2011-03-31T00:00:00/P3Y,S92000003,M,25-29,52.55636,52.47014,52.64257,LE\\ngregorian-interval/2011-03-31T00:00:00/P3Y,S92000003,M,30-34,47.81789,47.7341,47.90167,LE\\ngregorian-interval/2011-03-31T00:00:00/P3Y,S92000003,M,35-39,43.15908,43.07838,43.23978,LE\\ngregorian-interval/2011-03-31T00:00:00/P3Y,S92000003,M,40-44,38.55578,38.47844,38.63312,LE\\ngregorian-interval/2011-03-31T00:00:00/P3Y,S92000003,M,45-49,34.02401,33.94955,34.09848,LE\\ngregorian-interval/2011-03-31T00:00:00/P3Y,S92000003,M,50-54,29.544,29.47196,29.61605,LE\\ngregorian-interval/2011-03-31T00:00:00/P3Y,S92000003,M,55-59,25.19088,25.12141,25.26034,LE\\ngregorian-interval/2011-03-31T00:00:00/P3Y,S92000003,M,60-64,21.07898,21.01274,21.14521,LE\\ngregorian-interval/2011-03-31T00:00:00/P3Y,S92000003,M,65-69,17.20214,17.13877,17.26551,LE\\ngregorian-interval/2011-03-31T00:00:00/P3Y,S92000003,M,70-74,13.63612,13.57535,13.6969,LE\\ngregorian-interval/2011-03-31T00:00:00/P3Y,S92000003,M,75-79,10.53804,10.47997,10.59611,LE\\ngregorian-interval/2011-03-31T00:00:00/P3Y,S92000003,M,80-84,7.81347,7.75541,7.87153,LE\\ngregorian-interval/2011-03-31T00:00:00/P3Y,S92000003,M,85-89,5.65105,5.58595,5.71615,LE\\ngregorian-interval/2011-03-31T00:00:00/P3Y,S92000003,M,90plus,4.17672,4.07884,4.27461,LE\\ngregorian-interval/2011-03-31T00:00:00/P3Y,S92000003,F,lessthan1,80.89601,80.80844,80.98359,LE\\ngregorian-interval/2011-03-31T00:00:00/P3Y,S92000003,F,01-04,80.15128,80.06888,80.23369,LE\\ngregorian-interval/2011-03-31T00:00:00/P3Y,S92000003,F,05-09,76.19999,76.11856,76.28142,LE\\ngregorian-interval/2011-03-31T00:00:00/P3Y,S92000003,F,10-14,71.22548,71.14457,71.30639,LE\\ngregorian-interval/2011-03-31T00:00:00/P3Y,S92000003,F,15-19,66.25042,66.16997,66.33086,LE\\ngregorian-interval/2011-03-31T00:00:00/P3Y,S92000003,F,20-24,61.32996,61.25072,61.4092,LE\\ngregorian-interval/2011-03-31T00:00:00/P3Y,S92000003,F,25-29,56.40673,56.32838,56.48509,LE\\ngregorian-interval/2011-03-31T00:00:00/P3Y,S92000003,F,30-34,51.52677,51.44975,51.60379,LE\\ngregorian-interval/2011-03-31T00:00:00/P3Y,S92000003,F,35-39,46.67965,46.60426,46.75504,LE\\ngregorian-interval/2011-03-31T00:00:00/P3Y,S92000003,F,40-44,41.89467,41.82141,41.96794,LE\\ngregorian-interval/2011-03-31T00:00:00/P3Y,S92000003,F,45-49,37.16274,37.09134,37.23413,LE\\ngregorian-interval/2011-03-31T00:00:00/P3Y,S92000003,F,50-54,32.52467,32.45527,32.59407,LE\\ngregorian-interval/2011-03-31T00:00:00/P3Y,S92000003,F,55-59,28.04055,27.97372,28.10737,LE\\ngregorian-interval/2011-03-31T00:00:00/P3Y,S92000003,F,60-64,23.68676,23.62303,23.75048,LE\\ngregorian-interval/2011-03-31T00:00:00/P3Y,S92000003,F,65-69,19.53102,19.47052,19.59152,LE\\ngregorian-interval/2011-03-31T00:00:00/P3Y,S92000003,F,70-74,15.62399,15.56695,15.68102,LE\\ngregorian-interval/2011-03-31T00:00:00/P3Y,S92000003,F,75-79,12.10286,12.04981,12.15591,LE\\ngregorian-interval/2011-03-31T00:00:00/P3Y,S92000003,F,80-84,8.99961,8.94923,9.04999,LE\\ngregorian-interval/2011-03-31T00:00:00/P3Y,S92000003,F,85-89,6.43847,6.38693,6.49001,LE\\ngregorian-interval/2011-03-31T00:00:00/P3Y,S92000003,F,90plus,4.51297,4.44676,4.57918,LE\\ngregorian-interval/2011-03-31T00:00:00/P3Y,W92000004,M,lessthan1,78.18849,78.06455,78.31243,LE\\ngregorian-interval/2011-03-31T00:00:00/P3Y,W92000004,M,01-04,77.52127,77.40443,77.63811,LE\\ngregorian-interval/2011-03-31T00:00:00/P3Y,W92000004,M,05-09,73.5746,73.45889,73.69031,LE\\ngregorian-interval/2011-03-31T00:00:00/P3Y,W92000004,M,10-14,68.61314,68.49825,68.72803,LE\\ngregorian-interval/2011-03-31T00:00:00/P3Y,W92000004,M,15-19,63.64935,63.53516,63.76355,LE\\ngregorian-interval/2011-03-31T00:00:00/P3Y,W92000004,M,20-24,58.7575,58.64497,58.87003,LE\\ngregorian-interval/2011-03-31T00:00:00/P3Y,W92000004,M,25-29,53.93178,53.82146,54.0421,LE\\ngregorian-interval/2011-03-31T00:00:00/P3Y,W92000004,M,30-34,49.14259,49.03521,49.24998,LE\\ngregorian-interval/2011-03-31T00:00:00/P3Y,W92000004,M,35-39,44.39329,44.28934,44.49725,LE\\ngregorian-interval/2011-03-31T00:00:00/P3Y,W92000004,M,40-44,39.73497,39.63544,39.83449,LE\\ngregorian-interval/2011-03-31T00:00:00/P3Y,W92000004,M,45-49,35.1171,35.02117,35.21304,LE\\ngregorian-interval/2011-03-31T00:00:00/P3Y,W92000004,M,50-54,30.60577,30.51349,30.69805,LE\\ngregorian-interval/2011-03-31T00:00:00/P3Y,W92000004,M,55-59,26.1773,26.08886,26.26574,LE\\ngregorian-interval/2011-03-31T00:00:00/P3Y,W92000004,M,60-64,21.96484,21.88121,22.04846,LE\\ngregorian-interval/2011-03-31T00:00:00/P3Y,W92000004,M,65-69,17.99,17.91049,18.06951,LE\\ngregorian-interval/2011-03-31T00:00:00/P3Y,W92000004,M,70-74,14.24211,14.16599,14.31824,LE\\ngregorian-interval/2011-03-31T00:00:00/P3Y,W92000004,M,75-79,10.95603,10.88389,11.02816,LE\\ngregorian-interval/2011-03-31T00:00:00/P3Y,W92000004,M,80-84,8.032,7.96154,8.10246,LE\\ngregorian-interval/2011-03-31T00:00:00/P3Y,W92000004,M,85-89,5.73408,5.6583,5.80987,LE\\ngregorian-interval/2011-03-31T00:00:00/P3Y,W92000004,M,90plus,4.02614,3.91754,4.13474,LE\\ngregorian-interval/2011-03-31T00:00:00/P3Y,W92000004,F,lessthan1,82.21325,82.09727,82.32922,LE\\ngregorian-interval/2011-03-31T00:00:00/P3Y,W92000004,F,01-04,81.49212,81.38331,81.60092,LE\\ngregorian-interval/2011-03-31T00:00:00/P3Y,W92000004,F,05-09,77.54215,77.43462,77.64968,LE\\ngregorian-interval/2011-03-31T00:00:00/P3Y,W92000004,F,10-14,72.56353,72.45655,72.6705,LE\\ngregorian-interval/2011-03-31T00:00:00/P3Y,W92000004,F,15-19,67.60271,67.49667,67.70876,LE\\ngregorian-interval/2011-03-31T00:00:00/P3Y,W92000004,F,20-24,62.65523,62.55019,62.76027,LE\\ngregorian-interval/2011-03-31T00:00:00/P3Y,W92000004,F,25-29,57.72872,57.62484,57.83259,LE\\ngregorian-interval/2011-03-31T00:00:00/P3Y,W92000004,F,30-34,52.81951,52.71715,52.92187,LE\\ngregorian-interval/2011-03-31T00:00:00/P3Y,W92000004,F,35-39,47.97581,47.87594,48.07569,LE\\ngregorian-interval/2011-03-31T00:00:00/P3Y,W92000004,F,40-44,43.15316,43.05588,43.25043,LE\\ngregorian-interval/2011-03-31T00:00:00/P3Y,W92000004,F,45-49,38.39366,38.29889,38.48843,LE\\ngregorian-interval/2011-03-31T00:00:00/P3Y,W92000004,F,50-54,33.72766,33.63571,33.81962,LE\\ngregorian-interval/2011-03-31T00:00:00/P3Y,W92000004,F,55-59,29.17431,29.08581,29.2628,LE\\ngregorian-interval/2011-03-31T00:00:00/P3Y,W92000004,F,60-64,24.76021,24.67593,24.8445,LE\\ngregorian-interval/2011-03-31T00:00:00/P3Y,W92000004,F,65-69,20.54143,20.46118,20.62167,LE\\ngregorian-interval/2011-03-31T00:00:00/P3Y,W92000004,F,70-74,16.52753,16.45127,16.60379,LE\\ngregorian-interval/2011-03-31T00:00:00/P3Y,W92000004,F,75-79,12.83295,12.76173,12.90416,LE\\ngregorian-interval/2011-03-31T00:00:00/P3Y,W92000004,F,80-84,9.53011,9.46291,9.59731,LE\\ngregorian-interval/2011-03-31T00:00:00/P3Y,W92000004,F,85-89,6.80882,6.74145,6.87619,LE\\ngregorian-interval/2011-03-31T00:00:00/P3Y,W92000004,F,90plus,4.79159,4.70756,4.87563,LE\\ngregorian-interval/2012-03-31T00:00:00/P3Y,E92000001,M,lessthan1,79.43932,79.4098,79.46885,LE\\ngregorian-interval/2012-03-31T00:00:00/P3Y,E92000001,M,01-04,78.7817,78.75379,78.80961,LE\\ngregorian-interval/2012-03-31T00:00:00/P3Y,E92000001,M,05-09,74.83702,74.80937,74.86466,LE\\ngregorian-interval/2012-03-31T00:00:00/P3Y,E92000001,M,10-14,69.86856,69.84106,69.89606,LE\\ngregorian-interval/2012-03-31T00:00:00/P3Y,E92000001,M,15-19,64.90347,64.87613,64.9308,LE\\ngregorian-interval/2012-03-31T00:00:00/P3Y,E92000001,M,20-24,59.99811,59.97115,60.02506,LE\\ngregorian-interval/2012-03-31T00:00:00/P3Y,E92000001,M,25-29,55.13223,55.10572,55.15874,LE\\ngregorian-interval/2012-03-31T00:00:00/P3Y,E92000001,M,30-34,50.28332,50.25726,50.30939,LE\\ngregorian-interval/2012-03-31T00:00:00/P3Y,E92000001,M,35-39,45.46422,45.43865,45.4898,LE\\ngregorian-interval/2012-03-31T00:00:00/P3Y,E92000001,M,40-44,40.70314,40.6782,40.72809,LE\\ngregorian-interval/2012-03-31T00:00:00/P3Y,E92000001,M,45-49,36.02258,35.99829,36.04688,LE\\ngregorian-interval/2012-03-31T00:00:00/P3Y,E92000001,M,50-54,31.43232,31.40869,31.45596,LE\\ngregorian-interval/2012-03-31T00:00:00/P3Y,E92000001,M,55-59,26.95934,26.93647,26.98221,LE\\ngregorian-interval/2012-03-31T00:00:00/P3Y,E92000001,M,60-64,22.67767,22.6558,22.69954,LE\\ngregorian-interval/2012-03-31T00:00:00/P3Y,E92000001,M,65-69,18.64859,18.6278,18.66938,LE\\ngregorian-interval/2012-03-31T00:00:00/P3Y,E92000001,M,70-74,14.83966,14.81963,14.85968,LE\\ngregorian-interval/2012-03-31T00:00:00/P3Y,E92000001,M,75-79,11.4245,11.40551,11.4435,LE\\ngregorian-interval/2012-03-31T00:00:00/P3Y,E92000001,M,80-84,8.41976,8.40116,8.43837,LE\\ngregorian-interval/2012-03-31T00:00:00/P3Y,E92000001,M,85-89,6.01145,5.9914,6.0315,LE\\ngregorian-interval/2012-03-31T00:00:00/P3Y,E92000001,M,90plus,4.29338,4.26525,4.32152,LE\\ngregorian-interval/2012-03-31T00:00:00/P3Y,E92000001,F,lessthan1,83.11295,83.08503,83.14087,LE\\ngregorian-interval/2012-03-31T00:00:00/P3Y,E92000001,F,01-04,82.40772,82.38146,82.43399,LE\\ngregorian-interval/2012-03-31T00:00:00/P3Y,E92000001,F,05-09,78.45523,78.42923,78.48123,LE\\ngregorian-interval/2012-03-31T00:00:00/P3Y,E92000001,F,10-14,73.48426,73.45843,73.5101,LE\\ngregorian-interval/2012-03-31T00:00:00/P3Y,E92000001,F,15-19,68.51268,68.487,68.53835,LE\\ngregorian-interval/2012-03-31T00:00:00/P3Y,E92000001,F,20-24,63.56321,63.53778,63.58864,LE\\ngregorian-interval/2012-03-31T00:00:00/P3Y,E92000001,F,25-29,58.62589,58.60071,58.65108,LE\\ngregorian-interval/2012-03-31T00:00:00/P3Y,E92000001,F,30-34,53.70244,53.67752,53.72736,LE\\ngregorian-interval/2012-03-31T00:00:00/P3Y,E92000001,F,35-39,48.81001,48.78543,48.8346,LE\\ngregorian-interval/2012-03-31T00:00:00/P3Y,E92000001,F,40-44,43.96121,43.93708,43.98533,LE\\ngregorian-interval/2012-03-31T00:00:00/P3Y,E92000001,F,45-49,39.17374,39.15012,39.19737,LE\\ngregorian-interval/2012-03-31T00:00:00/P3Y,E92000001,F,50-54,34.46091,34.43783,34.48398,LE\\ngregorian-interval/2012-03-31T00:00:00/P3Y,E92000001,F,55-59,29.85333,29.83095,29.87571,LE\\ngregorian-interval/2012-03-31T00:00:00/P3Y,E92000001,F,60-64,25.38936,25.36793,25.41079,LE\\ngregorian-interval/2012-03-31T00:00:00/P3Y,E92000001,F,65-69,21.09698,21.07658,21.11738,LE\\ngregorian-interval/2012-03-31T00:00:00/P3Y,E92000001,F,70-74,16.98114,16.96163,17.00066,LE\\ngregorian-interval/2012-03-31T00:00:00/P3Y,E92000001,F,75-79,13.181,13.16274,13.19926,LE\\ngregorian-interval/2012-03-31T00:00:00/P3Y,E92000001,F,80-84,9.77119,9.75392,9.78846,LE\\ngregorian-interval/2012-03-31T00:00:00/P3Y,E92000001,F,85-89,6.96531,6.94794,6.98269,LE\\ngregorian-interval/2012-03-31T00:00:00/P3Y,E92000001,F,90plus,4.87868,4.85729,4.90007,LE\\ngregorian-interval/2012-03-31T00:00:00/P3Y,K02000001,M,lessthan1,79.14655,79.11941,79.17369,LE\\ngregorian-interval/2012-03-31T00:00:00/P3Y,K02000001,M,01-04,78.48651,78.46086,78.51216,LE\\ngregorian-interval/2012-03-31T00:00:00/P3Y,K02000001,M,05-09,74.54066,74.51525,74.56608,LE\\ngregorian-interval/2012-03-31T00:00:00/P3Y,K02000001,M,10-14,69.57285,69.54757,69.59813,LE\\ngregorian-interval/2012-03-31T00:00:00/P3Y,K02000001,M,15-19,64.60872,64.58359,64.63384,LE\\ngregorian-interval/2012-03-31T00:00:00/P3Y,K02000001,M,20-24,59.70716,59.68239,59.73192,LE\\ngregorian-interval/2012-03-31T00:00:00/P3Y,K02000001,M,25-29,54.84779,54.82344,54.87214,LE\\ngregorian-interval/2012-03-31T00:00:00/P3Y,K02000001,M,30-34,50.011,49.98709,50.0349,LE\\ngregorian-interval/2012-03-31T00:00:00/P3Y,K02000001,M,35-39,45.20621,45.1828,45.22962,LE\\ngregorian-interval/2012-03-31T00:00:00/P3Y,K02000001,M,40-44,40.46224,40.43946,40.48503,LE\\ngregorian-interval/2012-03-31T00:00:00/P3Y,K02000001,M,45-49,35.79803,35.77587,35.82019,LE\\ngregorian-interval/2012-03-31T00:00:00/P3Y,K02000001,M,50-54,31.22297,31.20144,31.2445,LE\\ngregorian-interval/2012-03-31T00:00:00/P3Y,K02000001,M,55-59,26.76414,26.74332,26.78497,LE\\ngregorian-interval/2012-03-31T00:00:00/P3Y,K02000001,M,60-64,22.50198,22.48208,22.52188,LE\\ngregorian-interval/2012-03-31T00:00:00/P3Y,K02000001,M,65-69,18.49071,18.47179,18.50963,LE\\ngregorian-interval/2012-03-31T00:00:00/P3Y,K02000001,M,70-74,14.70765,14.68943,14.72587,LE\\ngregorian-interval/2012-03-31T00:00:00/P3Y,K02000001,M,75-79,11.32501,11.30771,11.34231,LE\\ngregorian-interval/2012-03-31T00:00:00/P3Y,K02000001,M,80-84,8.35387,8.3369,8.37084,LE\\ngregorian-interval/2012-03-31T00:00:00/P3Y,K02000001,M,85-89,5.9679,5.94956,5.98624,LE\\ngregorian-interval/2012-03-31T00:00:00/P3Y,K02000001,M,90plus,4.27107,4.2452,4.29695,LE\\ngregorian-interval/2012-03-31T00:00:00/P3Y,K02000001,F,lessthan1,82.8591,82.83357,82.88464,LE\\ngregorian-interval/2012-03-31T00:00:00/P3Y,K02000001,F,01-04,82.15023,82.12622,82.17424,LE\\ngregorian-interval/2012-03-31T00:00:00/P3Y,K02000001,F,05-09,78.19653,78.17275,78.2203,LE\\ngregorian-interval/2012-03-31T00:00:00/P3Y,K02000001,F,10-14,73.2249,73.20128,73.24853,LE\\ngregorian-interval/2012-03-31T00:00:00/P3Y,K02000001,F,15-19,68.25313,68.22965,68.27661,LE\\ngregorian-interval/2012-03-31T00:00:00/P3Y,K02000001,F,20-24,63.30621,63.28297,63.32945,LE\\ngregorian-interval/2012-03-31T00:00:00/P3Y,K02000001,F,25-29,58.37141,58.3484,58.39442,LE\\ngregorian-interval/2012-03-31T00:00:00/P3Y,K02000001,F,30-34,53.45143,53.42867,53.47418,LE\\ngregorian-interval/2012-03-31T00:00:00/P3Y,K02000001,F,35-39,48.56404,48.54161,48.58647,LE\\ngregorian-interval/2012-03-31T00:00:00/P3Y,K02000001,F,40-44,43.71852,43.69652,43.74051,LE\\ngregorian-interval/2012-03-31T00:00:00/P3Y,K02000001,F,45-49,38.9381,38.91657,38.95962,LE\\ngregorian-interval/2012-03-31T00:00:00/P3Y,K02000001,F,50-54,34.23279,34.21178,34.25379,LE\\ngregorian-interval/2012-03-31T00:00:00/P3Y,K02000001,F,55-59,29.63865,29.61829,29.659,LE\\ngregorian-interval/2012-03-31T00:00:00/P3Y,K02000001,F,60-64,25.1904,25.17091,25.20988,LE\\ngregorian-interval/2012-03-31T00:00:00/P3Y,K02000001,F,65-69,20.91567,20.89714,20.9342,LE\\ngregorian-interval/2012-03-31T00:00:00/P3Y,K02000001,F,70-74,16.82344,16.80574,16.84115,LE\\ngregorian-interval/2012-03-31T00:00:00/P3Y,K02000001,F,75-79,13.0524,13.03583,13.06897,LE\\ngregorian-interval/2012-03-31T00:00:00/P3Y,K02000001,F,80-84,9.68195,9.66628,9.69762,LE\\ngregorian-interval/2012-03-31T00:00:00/P3Y,K02000001,F,85-89,6.90599,6.89021,6.92178,LE\\ngregorian-interval/2012-03-31T00:00:00/P3Y,K02000001,F,90plus,4.84063,4.82112,4.86014,LE\\ngregorian-interval/2012-03-31T00:00:00/P3Y,N92000002,M,lessthan1,78.28624,78.11712,78.45537,LE\\ngregorian-interval/2012-03-31T00:00:00/P3Y,N92000002,M,01-04,77.67589,77.51531,77.83648,LE\\ngregorian-interval/2012-03-31T00:00:00/P3Y,N92000002,M,05-09,73.7205,73.56087,73.88014,LE\\ngregorian-interval/2012-03-31T00:00:00/P3Y,N92000002,M,10-14,68.75963,68.60083,68.91843,LE\\ngregorian-interval/2012-03-31T00:00:00/P3Y,N92000002,M,15-19,63.81832,63.66073,63.97592,LE\\ngregorian-interval/2012-03-31T00:00:00/P3Y,N92000002,M,20-24,58.98702,58.83236,59.14167,LE\\ngregorian-interval/2012-03-31T00:00:00/P3Y,N92000002,M,25-29,54.2085,54.05747,54.35954,LE\\ngregorian-interval/2012-03-31T00:00:00/P3Y,N92000002,M,30-34,49.44292,49.29544,49.59039,LE\\ngregorian-interval/2012-03-31T00:00:00/P3Y,N92000002,M,35-39,44.69643,44.55256,44.8403,LE\\ngregorian-interval/2012-03-31T00:00:00/P3Y,N92000002,M,40-44,40.00379,39.86407,40.1435,LE\\ngregorian-interval/2012-03-31T00:00:00/P3Y,N92000002,M,45-49,35.34829,35.21214,35.48445,LE\\ngregorian-interval/2012-03-31T00:00:00/P3Y,N92000002,M,50-54,30.79667,30.66409,30.92925,LE\\ngregorian-interval/2012-03-31T00:00:00/P3Y,N92000002,M,55-59,26.37274,26.24415,26.50133,LE\\ngregorian-interval/2012-03-31T00:00:00/P3Y,N92000002,M,60-64,22.12741,22.00368,22.25113,LE\\ngregorian-interval/2012-03-31T00:00:00/P3Y,N92000002,M,65-69,18.10636,17.98795,18.22478,LE\\ngregorian-interval/2012-03-31T00:00:00/P3Y,N92000002,M,70-74,14.38651,14.27257,14.50045,LE\\ngregorian-interval/2012-03-31T00:00:00/P3Y,N92000002,M,75-79,11.01112,10.9013,11.12095,LE\\ngregorian-interval/2012-03-31T00:00:00/P3Y,N92000002,M,80-84,8.10264,7.99338,8.21189,LE\\ngregorian-interval/2012-03-31T00:00:00/P3Y,N92000002,M,85-89,5.78636,5.66635,5.90636,LE\\ngregorian-interval/2012-03-31T00:00:00/P3Y,N92000002,M,90plus,4.17591,4.00141,4.35041,LE\\ngregorian-interval/2012-03-31T00:00:00/P3Y,N92000002,F,lessthan1,82.30924,82.15561,82.46288,LE\\ngregorian-interval/2012-03-31T00:00:00/P3Y,N92000002,F,01-04,81.60644,81.46092,81.75196,LE\\ngregorian-interval/2012-03-31T00:00:00/P3Y,N92000002,F,05-09,77.64906,77.50467,77.79345,LE\\ngregorian-interval/2012-03-31T00:00:00/P3Y,N92000002,F,10-14,72.68177,72.53827,72.82527,LE\\ngregorian-interval/2012-03-31T00:00:00/P3Y,N92000002,F,15-19,67.70717,67.56434,67.85001,LE\\ngregorian-interval/2012-03-31T00:00:00/P3Y,N92000002,F,20-24,62.7779,62.63665,62.91916,LE\\ngregorian-interval/2012-03-31T00:00:00/P3Y,N92000002,F,25-29,57.85619,57.71654,57.99584,LE\\ngregorian-interval/2012-03-31T00:00:00/P3Y,N92000002,F,30-34,52.94833,52.81032,53.08635,LE\\ngregorian-interval/2012-03-31T00:00:00/P3Y,N92000002,F,35-39,48.05787,47.9216,48.19413,LE\\ngregorian-interval/2012-03-31T00:00:00/P3Y,N92000002,F,40-44,43.19657,43.0624,43.33074,LE\\ngregorian-interval/2012-03-31T00:00:00/P3Y,N92000002,F,45-49,38.41928,38.28774,38.55082,LE\\ngregorian-interval/2012-03-31T00:00:00/P3Y,N92000002,F,50-54,33.71057,33.5818,33.83935,LE\\ngregorian-interval/2012-03-31T00:00:00/P3Y,N92000002,F,55-59,29.15608,29.03115,29.281,LE\\ngregorian-interval/2012-03-31T00:00:00/P3Y,N92000002,F,60-64,24.74474,24.62495,24.86453,LE\\ngregorian-interval/2012-03-31T00:00:00/P3Y,N92000002,F,65-69,20.51002,20.39631,20.62374,LE\\ngregorian-interval/2012-03-31T00:00:00/P3Y,N92000002,F,70-74,16.46926,16.3611,16.57741,LE\\ngregorian-interval/2012-03-31T00:00:00/P3Y,N92000002,F,75-79,12.64979,12.54754,12.75203,LE\\ngregorian-interval/2012-03-31T00:00:00/P3Y,N92000002,F,80-84,9.4232,9.32617,9.52023,LE\\ngregorian-interval/2012-03-31T00:00:00/P3Y,N92000002,F,85-89,6.70636,6.60757,6.80515,LE\\ngregorian-interval/2012-03-31T00:00:00/P3Y,N92000002,F,90plus,4.68052,4.55556,4.80548,LE\\ngregorian-interval/2012-03-31T00:00:00/P3Y,S92000003,M,lessthan1,77.08148,76.98586,77.1771,LE\\ngregorian-interval/2012-03-31T00:00:00/P3Y,S92000003,M,01-04,76.37957,76.28897,76.47018,LE\\ngregorian-interval/2012-03-31T00:00:00/P3Y,S92000003,M,05-09,72.42802,72.33821,72.51784,LE\\ngregorian-interval/2012-03-31T00:00:00/P3Y,S92000003,M,10-14,67.46355,67.37431,67.5528,LE\\ngregorian-interval/2012-03-31T00:00:00/P3Y,S92000003,M,15-19,62.50573,62.41712,62.59433,LE\\ngregorian-interval/2012-03-31T00:00:00/P3Y,S92000003,M,20-24,57.62042,57.53321,57.70763,LE\\ngregorian-interval/2012-03-31T00:00:00/P3Y,S92000003,M,25-29,52.78623,52.7006,52.87186,LE\\ngregorian-interval/2012-03-31T00:00:00/P3Y,S92000003,M,30-34,48.02532,47.94192,48.10873,LE\\ngregorian-interval/2012-03-31T00:00:00/P3Y,S92000003,M,35-39,43.32787,43.24717,43.40857,LE\\ngregorian-interval/2012-03-31T00:00:00/P3Y,S92000003,M,40-44,38.71555,38.63824,38.79287,LE\\ngregorian-interval/2012-03-31T00:00:00/P3Y,S92000003,M,45-49,34.18561,34.11132,34.2599,LE\\ngregorian-interval/2012-03-31T00:00:00/P3Y,S92000003,M,50-54,29.71864,29.64691,29.79038,LE\\ngregorian-interval/2012-03-31T00:00:00/P3Y,S92000003,M,55-59,25.36824,25.29909,25.4374,LE\\ngregorian-interval/2012-03-31T00:00:00/P3Y,S92000003,M,60-64,21.24321,21.17721,21.3092,LE\\ngregorian-interval/2012-03-31T00:00:00/P3Y,S92000003,M,65-69,17.35892,17.29607,17.42178,LE\\ngregorian-interval/2012-03-31T00:00:00/P3Y,S92000003,M,70-74,13.76426,13.70376,13.82476,LE\\ngregorian-interval/2012-03-31T00:00:00/P3Y,S92000003,M,75-79,10.62389,10.56611,10.68167,LE\\ngregorian-interval/2012-03-31T00:00:00/P3Y,S92000003,M,80-84,7.89729,7.8397,7.95488,LE\\ngregorian-interval/2012-03-31T00:00:00/P3Y,S92000003,M,85-89,5.68135,5.61724,5.74546,LE\\ngregorian-interval/2012-03-31T00:00:00/P3Y,S92000003,M,90plus,4.19093,4.09565,4.28621,LE\\ngregorian-interval/2012-03-31T00:00:00/P3Y,S92000003,F,lessthan1,81.07303,80.98601,81.16004,LE\\ngregorian-interval/2012-03-31T00:00:00/P3Y,S92000003,F,01-04,80.33355,80.25202,80.41509,LE\\ngregorian-interval/2012-03-31T00:00:00/P3Y,S92000003,F,05-09,76.37323,76.2925,76.45396,LE\\ngregorian-interval/2012-03-31T00:00:00/P3Y,S92000003,F,10-14,71.39555,71.31527,71.47582,LE\\ngregorian-interval/2012-03-31T00:00:00/P3Y,S92000003,F,15-19,66.42107,66.34129,66.50086,LE\\ngregorian-interval/2012-03-31T00:00:00/P3Y,S92000003,F,20-24,61.49285,61.41419,61.57151,LE\\ngregorian-interval/2012-03-31T00:00:00/P3Y,S92000003,F,25-29,56.57227,56.49453,56.65,LE\\ngregorian-interval/2012-03-31T00:00:00/P3Y,S92000003,F,30-34,51.67795,51.6014,51.75451,LE\\ngregorian-interval/2012-03-31T00:00:00/P3Y,S92000003,F,35-39,46.82786,46.75288,46.90284,LE\\ngregorian-interval/2012-03-31T00:00:00/P3Y,S92000003,F,40-44,42.02157,41.94857,42.09457,LE\\ngregorian-interval/2012-03-31T00:00:00/P3Y,S92000003,F,45-49,37.2999,37.22895,37.37085,LE\\ngregorian-interval/2012-03-31T00:00:00/P3Y,S92000003,F,50-54,32.65451,32.58556,32.72346,LE\\ngregorian-interval/2012-03-31T00:00:00/P3Y,S92000003,F,55-59,28.14673,28.08021,28.21325,LE\\ngregorian-interval/2012-03-31T00:00:00/P3Y,S92000003,F,60-64,23.79261,23.72913,23.85609,LE\\ngregorian-interval/2012-03-31T00:00:00/P3Y,S92000003,F,65-69,19.62756,19.56746,19.68765,LE\\ngregorian-interval/2012-03-31T00:00:00/P3Y,S92000003,F,70-74,15.69424,15.63731,15.75116,LE\\ngregorian-interval/2012-03-31T00:00:00/P3Y,S92000003,F,75-79,12.14277,12.08973,12.1958,LE\\ngregorian-interval/2012-03-31T00:00:00/P3Y,S92000003,F,80-84,9.03053,8.98012,9.08093,LE\\ngregorian-interval/2012-03-31T00:00:00/P3Y,S92000003,F,85-89,6.46692,6.41527,6.51857,LE\\ngregorian-interval/2012-03-31T00:00:00/P3Y,S92000003,F,90plus,4.55768,4.49149,4.62388,LE\\ngregorian-interval/2012-03-31T00:00:00/P3Y,W92000004,M,lessthan1,78.4232,78.30051,78.54588,LE\\ngregorian-interval/2012-03-31T00:00:00/P3Y,W92000004,M,01-04,77.75495,77.63966,77.87024,LE\\ngregorian-interval/2012-03-31T00:00:00/P3Y,W92000004,M,05-09,73.80415,73.68991,73.91839,LE\\ngregorian-interval/2012-03-31T00:00:00/P3Y,W92000004,M,10-14,68.83787,68.72434,68.95139,LE\\ngregorian-interval/2012-03-31T00:00:00/P3Y,W92000004,M,15-19,63.86476,63.75177,63.97775,LE\\ngregorian-interval/2012-03-31T00:00:00/P3Y,W92000004,M,20-24,58.95478,58.84322,59.06634,LE\\ngregorian-interval/2012-03-31T00:00:00/P3Y,W92000004,M,25-29,54.11288,54.00333,54.22243,LE\\ngregorian-interval/2012-03-31T00:00:00/P3Y,W92000004,M,30-34,49.31895,49.21227,49.42564,LE\\ngregorian-interval/2012-03-31T00:00:00/P3Y,W92000004,M,35-39,44.55891,44.4555,44.66231,LE\\ngregorian-interval/2012-03-31T00:00:00/P3Y,W92000004,M,40-44,39.87072,39.77152,39.96992,LE\\ngregorian-interval/2012-03-31T00:00:00/P3Y,W92000004,M,45-49,35.25321,35.15777,35.34865,LE\\ngregorian-interval/2012-03-31T00:00:00/P3Y,W92000004,M,50-54,30.72767,30.63586,30.81947,LE\\ngregorian-interval/2012-03-31T00:00:00/P3Y,W92000004,M,55-59,26.27859,26.19043,26.36675,LE\\ngregorian-interval/2012-03-31T00:00:00/P3Y,W92000004,M,60-64,22.05654,21.97313,22.13994,LE\\ngregorian-interval/2012-03-31T00:00:00/P3Y,W92000004,M,65-69,18.08963,18.01077,18.16848,LE\\ngregorian-interval/2012-03-31T00:00:00/P3Y,W92000004,M,70-74,14.35165,14.276,14.4273,LE\\ngregorian-interval/2012-03-31T00:00:00/P3Y,W92000004,M,75-79,11.02943,10.9576,11.10127,LE\\ngregorian-interval/2012-03-31T00:00:00/P3Y,W92000004,M,80-84,8.11982,8.04968,8.18996,LE\\ngregorian-interval/2012-03-31T00:00:00/P3Y,W92000004,M,85-89,5.76366,5.68864,5.83868,LE\\ngregorian-interval/2012-03-31T00:00:00/P3Y,W92000004,M,90plus,4.05755,3.95106,4.16403,LE\\ngregorian-interval/2012-03-31T00:00:00/P3Y,W92000004,F,lessthan1,82.30411,82.18982,82.41839,LE\\ngregorian-interval/2012-03-31T00:00:00/P3Y,W92000004,F,01-04,81.57474,81.46775,81.68173,LE\\ngregorian-interval/2012-03-31T00:00:00/P3Y,W92000004,F,05-09,77.61247,77.50646,77.71848,LE\\ngregorian-interval/2012-03-31T00:00:00/P3Y,W92000004,F,10-14,72.63632,72.53092,72.74172,LE\\ngregorian-interval/2012-03-31T00:00:00/P3Y,W92000004,F,15-19,67.66786,67.56324,67.77248,LE\\ngregorian-interval/2012-03-31T00:00:00/P3Y,W92000004,F,20-24,62.72142,62.61786,62.82497,LE\\ngregorian-interval/2012-03-31T00:00:00/P3Y,W92000004,F,25-29,57.79546,57.69309,57.89783,LE\\ngregorian-interval/2012-03-31T00:00:00/P3Y,W92000004,F,30-34,52.8855,52.78465,52.98635,LE\\ngregorian-interval/2012-03-31T00:00:00/P3Y,W92000004,F,35-39,48.02963,47.93108,48.12818,LE\\ngregorian-interval/2012-03-31T00:00:00/P3Y,W92000004,F,40-44,43.18523,43.08907,43.28138,LE\\ngregorian-interval/2012-03-31T00:00:00/P3Y,W92000004,F,45-49,38.41921,38.32561,38.5128,LE\\ngregorian-interval/2012-03-31T00:00:00/P3Y,W92000004,F,50-54,33.73176,33.64086,33.82266,LE\\ngregorian-interval/2012-03-31T00:00:00/P3Y,W92000004,F,55-59,29.17041,29.08288,29.25795,LE\\ngregorian-interval/2012-03-31T00:00:00/P3Y,W92000004,F,60-64,24.76951,24.68632,24.85271,LE\\ngregorian-interval/2012-03-31T00:00:00/P3Y,W92000004,F,65-69,20.54781,20.46898,20.62664,LE\\ngregorian-interval/2012-03-31T00:00:00/P3Y,W92000004,F,70-74,16.52179,16.44675,16.59684,LE\\ngregorian-interval/2012-03-31T00:00:00/P3Y,W92000004,F,75-79,12.80898,12.73889,12.87907,LE\\ngregorian-interval/2012-03-31T00:00:00/P3Y,W92000004,F,80-84,9.48164,9.41568,9.54759,LE\\ngregorian-interval/2012-03-31T00:00:00/P3Y,W92000004,F,85-89,6.74639,6.68068,6.8121,LE\\ngregorian-interval/2012-03-31T00:00:00/P3Y,W92000004,F,90plus,4.71873,4.63766,4.7998,LE\\ngregorian-interval/2013-03-31T00:00:00/P3Y,E92000001,M,lessthan1,79.45866,79.42934,79.48798,LE\\ngregorian-interval/2013-03-31T00:00:00/P3Y,E92000001,M,01-04,78.79574,78.76805,78.82343,LE\\ngregorian-interval/2013-03-31T00:00:00/P3Y,E92000001,M,05-09,74.84997,74.82253,74.8774,LE\\ngregorian-interval/2013-03-31T00:00:00/P3Y,E92000001,M,10-14,69.88034,69.85305,69.90764,LE\\ngregorian-interval/2013-03-31T00:00:00/P3Y,E92000001,M,15-19,64.91485,64.88772,64.94198,LE\\ngregorian-interval/2013-03-31T00:00:00/P3Y,E92000001,M,20-24,60.0081,59.98135,60.03486,LE\\ngregorian-interval/2013-03-31T00:00:00/P3Y,E92000001,M,25-29,55.14531,55.11902,55.17161,LE\\ngregorian-interval/2013-03-31T00:00:00/P3Y,E92000001,M,30-34,50.29779,50.27195,50.32363,LE\\ngregorian-interval/2013-03-31T00:00:00/P3Y,E92000001,M,35-39,45.4816,45.45626,45.50694,LE\\ngregorian-interval/2013-03-31T00:00:00/P3Y,E92000001,M,40-44,40.72421,40.69952,40.74891,LE\\ngregorian-interval/2013-03-31T00:00:00/P3Y,E92000001,M,45-49,36.04607,36.02206,36.07009,LE\\ngregorian-interval/2013-03-31T00:00:00/P3Y,E92000001,M,50-54,31.45966,31.43633,31.483,LE\\ngregorian-interval/2013-03-31T00:00:00/P3Y,E92000001,M,55-59,26.98998,26.96741,27.01255,LE\\ngregorian-interval/2013-03-31T00:00:00/P3Y,E92000001,M,60-64,22.70697,22.6854,22.72855,LE\\ngregorian-interval/2013-03-31T00:00:00/P3Y,E92000001,M,65-69,18.68006,18.65965,18.70048,LE\\ngregorian-interval/2013-03-31T00:00:00/P3Y,E92000001,M,70-74,14.86625,14.84662,14.88589,LE\\ngregorian-interval/2013-03-31T00:00:00/P3Y,E92000001,M,75-79,11.42467,11.40605,11.44329,LE\\ngregorian-interval/2013-03-31T00:00:00/P3Y,E92000001,M,80-84,8.40689,8.38874,8.42505,LE\\ngregorian-interval/2013-03-31T00:00:00/P3Y,E92000001,M,85-89,5.98273,5.96335,6.00211,LE\\ngregorian-interval/2013-03-31T00:00:00/P3Y,E92000001,M,90plus,4.23699,4.21007,4.26391,LE\\ngregorian-interval/2013-03-31T00:00:00/P3Y,E92000001,F,lessthan1,83.10832,83.08066,83.13598,LE\\ngregorian-interval/2013-03-31T00:00:00/P3Y,E92000001,F,01-04,82.39508,82.36907,82.42109,LE\\ngregorian-interval/2013-03-31T00:00:00/P3Y,E92000001,F,05-09,78.44257,78.41683,78.46832,LE\\ngregorian-interval/2013-03-31T00:00:00/P3Y,E92000001,F,10-14,73.47079,73.4452,73.49637,LE\\ngregorian-interval/2013-03-31T00:00:00/P3Y,E92000001,F,15-19,68.49938,68.47396,68.5248,LE\\ngregorian-interval/2013-03-31T00:00:00/P3Y,E92000001,F,20-24,63.55346,63.5283,63.57861,LE\\ngregorian-interval/2013-03-31T00:00:00/P3Y,E92000001,F,25-29,58.61693,58.59202,58.64183,LE\\ngregorian-interval/2013-03-31T00:00:00/P3Y,E92000001,F,30-34,53.69502,53.6704,53.71965,LE\\ngregorian-interval/2013-03-31T00:00:00/P3Y,E92000001,F,35-39,48.80329,48.779,48.82758,LE\\ngregorian-interval/2013-03-31T00:00:00/P3Y,E92000001,F,40-44,43.95801,43.93419,43.98182,LE\\ngregorian-interval/2013-03-31T00:00:00/P3Y,E92000001,F,45-49,39.17359,39.15031,39.19687,LE\\ngregorian-interval/2013-03-31T00:00:00/P3Y,E92000001,F,50-54,34.4615,34.43878,34.48422,LE\\ngregorian-interval/2013-03-31T00:00:00/P3Y,E92000001,F,55-59,29.85225,29.83022,29.87429,LE\\ngregorian-interval/2013-03-31T00:00:00/P3Y,E92000001,F,60-64,25.37539,25.35428,25.3965,LE\\ngregorian-interval/2013-03-31T00:00:00/P3Y,E92000001,F,65-69,21.07817,21.05814,21.0982,LE\\ngregorian-interval/2013-03-31T00:00:00/P3Y,E92000001,F,70-74,16.95726,16.93812,16.97641,LE\\ngregorian-interval/2013-03-31T00:00:00/P3Y,E92000001,F,75-79,13.14133,13.1234,13.15926,LE\\ngregorian-interval/2013-03-31T00:00:00/P3Y,E92000001,F,80-84,9.71638,9.69947,9.7333,LE\\ngregorian-interval/2013-03-31T00:00:00/P3Y,E92000001,F,85-89,6.89885,6.88198,6.91572,LE\\ngregorian-interval/2013-03-31T00:00:00/P3Y,E92000001,F,90plus,4.78626,4.76566,4.80686,LE\\ngregorian-interval/2013-03-31T00:00:00/P3Y,K02000001,M,lessthan1,79.1667,79.13975,79.19365,LE\\ngregorian-interval/2013-03-31T00:00:00/P3Y,K02000001,M,01-04,78.50153,78.47609,78.52698,LE\\ngregorian-interval/2013-03-31T00:00:00/P3Y,K02000001,M,05-09,74.55504,74.52982,74.58025,LE\\ngregorian-interval/2013-03-31T00:00:00/P3Y,K02000001,M,10-14,69.58569,69.56061,69.61078,LE\\ngregorian-interval/2013-03-31T00:00:00/P3Y,K02000001,M,15-19,64.62031,64.59537,64.64524,LE\\ngregorian-interval/2013-03-31T00:00:00/P3Y,K02000001,M,20-24,59.71705,59.69248,59.74163,LE\\ngregorian-interval/2013-03-31T00:00:00/P3Y,K02000001,M,25-29,54.85902,54.83487,54.88317,LE\\ngregorian-interval/2013-03-31T00:00:00/P3Y,K02000001,M,30-34,50.02199,49.99828,50.04569,LE\\ngregorian-interval/2013-03-31T00:00:00/P3Y,K02000001,M,35-39,45.21915,45.19594,45.24235,LE\\ngregorian-interval/2013-03-31T00:00:00/P3Y,K02000001,M,40-44,40.47676,40.45419,40.49934,LE\\ngregorian-interval/2013-03-31T00:00:00/P3Y,K02000001,M,45-49,35.81619,35.79427,35.8381,LE\\ngregorian-interval/2013-03-31T00:00:00/P3Y,K02000001,M,50-54,31.24628,31.22502,31.26754,LE\\ngregorian-interval/2013-03-31T00:00:00/P3Y,K02000001,M,55-59,26.79077,26.77022,26.81133,LE\\ngregorian-interval/2013-03-31T00:00:00/P3Y,K02000001,M,60-64,22.52574,22.50611,22.54538,LE\\ngregorian-interval/2013-03-31T00:00:00/P3Y,K02000001,M,65-69,18.51756,18.49898,18.53614,LE\\ngregorian-interval/2013-03-31T00:00:00/P3Y,K02000001,M,70-74,14.73155,14.71369,14.74942,LE\\ngregorian-interval/2013-03-31T00:00:00/P3Y,K02000001,M,75-79,11.3255,11.30854,11.34246,LE\\ngregorian-interval/2013-03-31T00:00:00/P3Y,K02000001,M,80-84,8.34206,8.32551,8.35862,LE\\ngregorian-interval/2013-03-31T00:00:00/P3Y,K02000001,M,85-89,5.9392,5.92148,5.95692,LE\\ngregorian-interval/2013-03-31T00:00:00/P3Y,K02000001,M,90plus,4.21165,4.18693,4.23638,LE\\ngregorian-interval/2013-03-31T00:00:00/P3Y,K02000001,F,lessthan1,82.85907,82.83376,82.88439,LE\\ngregorian-interval/2013-03-31T00:00:00/P3Y,K02000001,F,01-04,82.14338,82.11959,82.16717,LE\\ngregorian-interval/2013-03-31T00:00:00/P3Y,K02000001,F,05-09,78.1893,78.16575,78.21285,LE\\ngregorian-interval/2013-03-31T00:00:00/P3Y,K02000001,F,10-14,73.2161,73.19268,73.23951,LE\\ngregorian-interval/2013-03-31T00:00:00/P3Y,K02000001,F,15-19,68.24446,68.22119,68.26772,LE\\ngregorian-interval/2013-03-31T00:00:00/P3Y,K02000001,F,20-24,63.30031,63.2773,63.32332,LE\\ngregorian-interval/2013-03-31T00:00:00/P3Y,K02000001,F,25-29,58.36461,58.34183,58.38739,LE\\ngregorian-interval/2013-03-31T00:00:00/P3Y,K02000001,F,30-34,53.44516,53.42264,53.46768,LE\\ngregorian-interval/2013-03-31T00:00:00/P3Y,K02000001,F,35-39,48.55882,48.53663,48.58102,LE\\ngregorian-interval/2013-03-31T00:00:00/P3Y,K02000001,F,40-44,43.71857,43.69684,43.74031,LE\\ngregorian-interval/2013-03-31T00:00:00/P3Y,K02000001,F,45-49,38.94063,38.9194,38.96187,LE\\ngregorian-interval/2013-03-31T00:00:00/P3Y,K02000001,F,50-54,34.23732,34.21662,34.25803,LE\\ngregorian-interval/2013-03-31T00:00:00/P3Y,K02000001,F,55-59,29.64236,29.6223,29.66242,LE\\ngregorian-interval/2013-03-31T00:00:00/P3Y,K02000001,F,60-64,25.18438,25.16518,25.20359,LE\\ngregorian-interval/2013-03-31T00:00:00/P3Y,K02000001,F,65-69,20.90412,20.88591,20.92233,LE\\ngregorian-interval/2013-03-31T00:00:00/P3Y,K02000001,F,70-74,16.80835,16.79097,16.82574,LE\\ngregorian-interval/2013-03-31T00:00:00/P3Y,K02000001,F,75-79,13.02296,13.00668,13.03923,LE\\ngregorian-interval/2013-03-31T00:00:00/P3Y,K02000001,F,80-84,9.63367,9.61832,9.64902,LE\\ngregorian-interval/2013-03-31T00:00:00/P3Y,K02000001,F,85-89,6.84089,6.82555,6.85622,LE\\ngregorian-interval/2013-03-31T00:00:00/P3Y,K02000001,F,90plus,4.74935,4.73055,4.76815,LE\\ngregorian-interval/2013-03-31T00:00:00/P3Y,N92000002,M,lessthan1,78.31635,78.14766,78.48505,LE\\ngregorian-interval/2013-03-31T00:00:00/P3Y,N92000002,M,01-04,77.7563,77.5975,77.9151,LE\\ngregorian-interval/2013-03-31T00:00:00/P3Y,N92000002,M,05-09,73.81282,73.65524,73.97041,LE\\ngregorian-interval/2013-03-31T00:00:00/P3Y,N92000002,M,10-14,68.84519,68.68829,69.00209,LE\\ngregorian-interval/2013-03-31T00:00:00/P3Y,N92000002,M,15-19,63.88739,63.73138,64.04339,LE\\ngregorian-interval/2013-03-31T00:00:00/P3Y,N92000002,M,20-24,59.02629,58.87275,59.17983,LE\\ngregorian-interval/2013-03-31T00:00:00/P3Y,N92000002,M,25-29,54.25128,54.1015,54.40106,LE\\ngregorian-interval/2013-03-31T00:00:00/P3Y,N92000002,M,30-34,49.48584,49.33967,49.63202,LE\\ngregorian-interval/2013-03-31T00:00:00/P3Y,N92000002,M,35-39,44.74455,44.60208,44.88702,LE\\ngregorian-interval/2013-03-31T00:00:00/P3Y,N92000002,M,40-44,40.04408,39.90575,40.1824,LE\\ngregorian-interval/2013-03-31T00:00:00/P3Y,N92000002,M,45-49,35.39062,35.25605,35.5252,LE\\ngregorian-interval/2013-03-31T00:00:00/P3Y,N92000002,M,50-54,30.85282,30.72208,30.98357,LE\\ngregorian-interval/2013-03-31T00:00:00/P3Y,N92000002,M,55-59,26.4178,26.29096,26.54463,LE\\ngregorian-interval/2013-03-31T00:00:00/P3Y,N92000002,M,60-64,22.13512,22.01287,22.25738,LE\\ngregorian-interval/2013-03-31T00:00:00/P3Y,N92000002,M,65-69,18.15843,18.04188,18.27498,LE\\ngregorian-interval/2013-03-31T00:00:00/P3Y,N92000002,M,70-74,14.43904,14.32728,14.5508,LE\\ngregorian-interval/2013-03-31T00:00:00/P3Y,N92000002,M,75-79,11.0615,10.95378,11.16922,LE\\ngregorian-interval/2013-03-31T00:00:00/P3Y,N92000002,M,80-84,8.12332,8.01678,8.22986,LE\\ngregorian-interval/2013-03-31T00:00:00/P3Y,N92000002,M,85-89,5.79783,5.68204,5.91361,LE\\ngregorian-interval/2013-03-31T00:00:00/P3Y,N92000002,M,90plus,4.09007,3.92599,4.25415,LE\\ngregorian-interval/2013-03-31T00:00:00/P3Y,N92000002,F,lessthan1,82.29699,82.14249,82.45149,LE\\ngregorian-interval/2013-03-31T00:00:00/P3Y,N92000002,F,01-04,81.62794,81.48259,81.7733,LE\\ngregorian-interval/2013-03-31T00:00:00/P3Y,N92000002,F,05-09,77.6664,77.52207,77.81074,LE\\ngregorian-interval/2013-03-31T00:00:00/P3Y,N92000002,F,10-14,72.70027,72.55682,72.84371,LE\\ngregorian-interval/2013-03-31T00:00:00/P3Y,N92000002,F,15-19,67.72381,67.58099,67.86662,LE\\ngregorian-interval/2013-03-31T00:00:00/P3Y,N92000002,F,20-24,62.79914,62.65803,62.94025,LE\\ngregorian-interval/2013-03-31T00:00:00/P3Y,N92000002,F,25-29,57.87825,57.73878,58.01771,LE\\ngregorian-interval/2013-03-31T00:00:00/P3Y,N92000002,F,30-34,52.96054,52.82255,53.09854,LE\\ngregorian-interval/2013-03-31T00:00:00/P3Y,N92000002,F,35-39,48.08185,47.94578,48.21791,LE\\ngregorian-interval/2013-03-31T00:00:00/P3Y,N92000002,F,40-44,43.23464,43.10089,43.36838,LE\\ngregorian-interval/2013-03-31T00:00:00/P3Y,N92000002,F,45-49,38.46455,38.3336,38.5955,LE\\ngregorian-interval/2013-03-31T00:00:00/P3Y,N92000002,F,50-54,33.77009,33.64208,33.8981,LE\\ngregorian-interval/2013-03-31T00:00:00/P3Y,N92000002,F,55-59,29.21075,29.08647,29.33503,LE\\ngregorian-interval/2013-03-31T00:00:00/P3Y,N92000002,F,60-64,24.78249,24.66301,24.90198,LE\\ngregorian-interval/2013-03-31T00:00:00/P3Y,N92000002,F,65-69,20.57252,20.45936,20.68567,LE\\ngregorian-interval/2013-03-31T00:00:00/P3Y,N92000002,F,70-74,16.55526,16.44787,16.66265,LE\\ngregorian-interval/2013-03-31T00:00:00/P3Y,N92000002,F,75-79,12.75671,12.65508,12.85835,LE\\ngregorian-interval/2013-03-31T00:00:00/P3Y,N92000002,F,80-84,9.48161,9.38529,9.57793,LE\\ngregorian-interval/2013-03-31T00:00:00/P3Y,N92000002,F,85-89,6.72006,6.62274,6.81739,LE\\ngregorian-interval/2013-03-31T00:00:00/P3Y,N92000002,F,90plus,4.65149,4.52967,4.77331,LE\\ngregorian-interval/2013-03-31T00:00:00/P3Y,S92000003,M,lessthan1,77.11636,77.02207,77.21066,LE\\ngregorian-interval/2013-03-31T00:00:00/P3Y,S92000003,M,01-04,76.38899,76.29943,76.47855,LE\\ngregorian-interval/2013-03-31T00:00:00/P3Y,S92000003,M,05-09,72.43914,72.3504,72.52787,LE\\ngregorian-interval/2013-03-31T00:00:00/P3Y,S92000003,M,10-14,67.46849,67.38023,67.55676,LE\\ngregorian-interval/2013-03-31T00:00:00/P3Y,S92000003,M,15-19,62.50729,62.41962,62.59495,LE\\ngregorian-interval/2013-03-31T00:00:00/P3Y,S92000003,M,20-24,57.62248,57.53626,57.70869,LE\\ngregorian-interval/2013-03-31T00:00:00/P3Y,S92000003,M,25-29,52.78526,52.70063,52.8699,LE\\ngregorian-interval/2013-03-31T00:00:00/P3Y,S92000003,M,30-34,48.00326,47.92063,48.08588,LE\\ngregorian-interval/2013-03-31T00:00:00/P3Y,S92000003,M,35-39,43.29121,43.21115,43.37127,LE\\ngregorian-interval/2013-03-31T00:00:00/P3Y,S92000003,M,40-44,38.66852,38.5918,38.74525,LE\\ngregorian-interval/2013-03-31T00:00:00/P3Y,S92000003,M,45-49,34.15653,34.08311,34.22994,LE\\ngregorian-interval/2013-03-31T00:00:00/P3Y,S92000003,M,50-54,29.70409,29.63341,29.77476,LE\\ngregorian-interval/2013-03-31T00:00:00/P3Y,S92000003,M,55-59,25.35517,25.28711,25.42323,LE\\ngregorian-interval/2013-03-31T00:00:00/P3Y,S92000003,M,60-64,21.22517,21.16025,21.29008,LE\\ngregorian-interval/2013-03-31T00:00:00/P3Y,S92000003,M,65-69,17.32972,17.26815,17.3913,LE\\ngregorian-interval/2013-03-31T00:00:00/P3Y,S92000003,M,70-74,13.73996,13.68075,13.79917,LE\\ngregorian-interval/2013-03-31T00:00:00/P3Y,S92000003,M,75-79,10.60388,10.54763,10.66014,LE\\ngregorian-interval/2013-03-31T00:00:00/P3Y,S92000003,M,80-84,7.8543,7.79876,7.90984,LE\\ngregorian-interval/2013-03-31T00:00:00/P3Y,S92000003,M,85-89,5.62416,5.56316,5.68516,LE\\ngregorian-interval/2013-03-31T00:00:00/P3Y,S92000003,M,90plus,4.07394,3.98485,4.16304,LE\\ngregorian-interval/2013-03-31T00:00:00/P3Y,S92000003,F,lessthan1,81.13264,81.04624,81.21904,LE\\ngregorian-interval/2013-03-31T00:00:00/P3Y,S92000003,F,01-04,80.38931,80.30844,80.47018,LE\\ngregorian-interval/2013-03-31T00:00:00/P3Y,S92000003,F,05-09,76.42649,76.34639,76.5066,LE\\ngregorian-interval/2013-03-31T00:00:00/P3Y,S92000003,F,10-14,71.4396,71.35976,71.51945,LE\\ngregorian-interval/2013-03-31T00:00:00/P3Y,S92000003,F,15-19,66.46544,66.3861,66.54478,LE\\ngregorian-interval/2013-03-31T00:00:00/P3Y,S92000003,F,20-24,61.53423,61.456,61.61246,LE\\ngregorian-interval/2013-03-31T00:00:00/P3Y,S92000003,F,25-29,56.60335,56.52594,56.68077,LE\\ngregorian-interval/2013-03-31T00:00:00/P3Y,S92000003,F,30-34,51.7018,51.62547,51.77812,LE\\ngregorian-interval/2013-03-31T00:00:00/P3Y,S92000003,F,35-39,46.85925,46.78455,46.93394,LE\\ngregorian-interval/2013-03-31T00:00:00/P3Y,S92000003,F,40-44,42.06972,41.99721,42.14224,LE\\ngregorian-interval/2013-03-31T00:00:00/P3Y,S92000003,F,45-49,37.34608,37.27571,37.41645,LE\\ngregorian-interval/2013-03-31T00:00:00/P3Y,S92000003,F,50-54,32.71705,32.64884,32.78526,LE\\ngregorian-interval/2013-03-31T00:00:00/P3Y,S92000003,F,55-59,28.20513,28.13933,28.27094,LE\\ngregorian-interval/2013-03-31T00:00:00/P3Y,S92000003,F,60-64,23.85007,23.78728,23.91286,LE\\ngregorian-interval/2013-03-31T00:00:00/P3Y,S92000003,F,65-69,19.6638,19.60444,19.72317,LE\\ngregorian-interval/2013-03-31T00:00:00/P3Y,S92000003,F,70-74,15.72717,15.67092,15.78341,LE\\ngregorian-interval/2013-03-31T00:00:00/P3Y,S92000003,F,75-79,12.16031,12.10802,12.21259,LE\\ngregorian-interval/2013-03-31T00:00:00/P3Y,S92000003,F,80-84,9.01759,8.96814,9.06705,LE\\ngregorian-interval/2013-03-31T00:00:00/P3Y,S92000003,F,85-89,6.41251,6.36233,6.4627,LE\\ngregorian-interval/2013-03-31T00:00:00/P3Y,S92000003,F,90plus,4.46563,4.40193,4.52932,LE\\ngregorian-interval/2013-03-31T00:00:00/P3Y,W92000004,M,lessthan1,78.42739,78.30498,78.54979,LE\\ngregorian-interval/2013-03-31T00:00:00/P3Y,W92000004,M,01-04,77.75199,77.63699,77.86699,LE\\ngregorian-interval/2013-03-31T00:00:00/P3Y,W92000004,M,05-09,73.79593,73.68188,73.90999,LE\\ngregorian-interval/2013-03-31T00:00:00/P3Y,W92000004,M,10-14,68.83281,68.71952,68.94611,LE\\ngregorian-interval/2013-03-31T00:00:00/P3Y,W92000004,M,15-19,63.85745,63.74466,63.97024,LE\\ngregorian-interval/2013-03-31T00:00:00/P3Y,W92000004,M,20-24,58.95532,58.84411,59.06652,LE\\ngregorian-interval/2013-03-31T00:00:00/P3Y,W92000004,M,25-29,54.09314,53.98369,54.20258,LE\\ngregorian-interval/2013-03-31T00:00:00/P3Y,W92000004,M,30-34,49.30606,49.19952,49.41261,LE\\ngregorian-interval/2013-03-31T00:00:00/P3Y,W92000004,M,35-39,44.55782,44.45469,44.66095,LE\\ngregorian-interval/2013-03-31T00:00:00/P3Y,W92000004,M,40-44,39.86051,39.76149,39.95953,LE\\ngregorian-interval/2013-03-31T00:00:00/P3Y,W92000004,M,45-49,35.24734,35.15229,35.34238,LE\\ngregorian-interval/2013-03-31T00:00:00/P3Y,W92000004,M,50-54,30.72967,30.63841,30.82093,LE\\ngregorian-interval/2013-03-31T00:00:00/P3Y,W92000004,M,55-59,26.29831,26.21075,26.38587,LE\\ngregorian-interval/2013-03-31T00:00:00/P3Y,W92000004,M,60-64,22.07287,21.99002,22.15573,LE\\ngregorian-interval/2013-03-31T00:00:00/P3Y,W92000004,M,65-69,18.12465,18.04676,18.20254,LE\\ngregorian-interval/2013-03-31T00:00:00/P3Y,W92000004,M,70-74,14.39334,14.31866,14.46802,LE\\ngregorian-interval/2013-03-31T00:00:00/P3Y,W92000004,M,75-79,11.04412,10.97311,11.11514,LE\\ngregorian-interval/2013-03-31T00:00:00/P3Y,W92000004,M,80-84,8.16044,8.0913,8.22957,LE\\ngregorian-interval/2013-03-31T00:00:00/P3Y,W92000004,M,85-89,5.75838,5.68493,5.83182,LE\\ngregorian-interval/2013-03-31T00:00:00/P3Y,W92000004,M,90plus,4.03897,3.9357,4.14223,LE\\ngregorian-interval/2013-03-31T00:00:00/P3Y,W92000004,F,lessthan1,82.26551,82.15245,82.37858,LE\\ngregorian-interval/2013-03-31T00:00:00/P3Y,W92000004,F,01-04,81.51828,81.41225,81.62431,LE\\ngregorian-interval/2013-03-31T00:00:00/P3Y,W92000004,F,05-09,77.55462,77.44954,77.6597,LE\\ngregorian-interval/2013-03-31T00:00:00/P3Y,W92000004,F,10-14,72.57353,72.46893,72.67813,LE\\ngregorian-interval/2013-03-31T00:00:00/P3Y,W92000004,F,15-19,67.60545,67.50165,67.70924,LE\\ngregorian-interval/2013-03-31T00:00:00/P3Y,W92000004,F,20-24,62.65762,62.5549,62.76035,LE\\ngregorian-interval/2013-03-31T00:00:00/P3Y,W92000004,F,25-29,57.71867,57.61693,57.8204,LE\\ngregorian-interval/2013-03-31T00:00:00/P3Y,W92000004,F,30-34,52.8113,52.71111,52.91149,LE\\ngregorian-interval/2013-03-31T00:00:00/P3Y,W92000004,F,35-39,47.94305,47.84496,48.04115,LE\\ngregorian-interval/2013-03-31T00:00:00/P3Y,W92000004,F,40-44,43.11076,43.01527,43.20624,LE\\ngregorian-interval/2013-03-31T00:00:00/P3Y,W92000004,F,45-49,38.34453,38.25173,38.43733,LE\\ngregorian-interval/2013-03-31T00:00:00/P3Y,W92000004,F,50-54,33.64735,33.55722,33.73748,LE\\ngregorian-interval/2013-03-31T00:00:00/P3Y,W92000004,F,55-59,29.11034,29.0237,29.19698,LE\\ngregorian-interval/2013-03-31T00:00:00/P3Y,W92000004,F,60-64,24.73803,24.65591,24.82014,LE\\ngregorian-interval/2013-03-31T00:00:00/P3Y,W92000004,F,65-69,20.51121,20.43368,20.58873,LE\\ngregorian-interval/2013-03-31T00:00:00/P3Y,W92000004,F,70-74,16.49201,16.41829,16.56574,LE\\ngregorian-interval/2013-03-31T00:00:00/P3Y,W92000004,F,75-79,12.78235,12.71353,12.85117,LE\\ngregorian-interval/2013-03-31T00:00:00/P3Y,W92000004,F,80-84,9.42509,9.36058,9.4896,LE\\ngregorian-interval/2013-03-31T00:00:00/P3Y,W92000004,F,85-89,6.64958,6.58575,6.71341,LE\\ngregorian-interval/2013-03-31T00:00:00/P3Y,W92000004,F,90plus,4.61895,4.54078,4.69712,LE\\ngregorian-interval/2014-03-31T00:00:00/P3Y,E92000001,M,lessthan1,79.53316,79.50394,79.56239,LE\\ngregorian-interval/2014-03-31T00:00:00/P3Y,E92000001,M,01-04,78.86648,78.83889,78.89407,LE\\ngregorian-interval/2014-03-31T00:00:00/P3Y,E92000001,M,05-09,74.91769,74.89034,74.94504,LE\\ngregorian-interval/2014-03-31T00:00:00/P3Y,E92000001,M,10-14,69.94702,69.9198,69.97424,LE\\ngregorian-interval/2014-03-31T00:00:00/P3Y,E92000001,M,15-19,64.98156,64.9545,65.00861,LE\\ngregorian-interval/2014-03-31T00:00:00/P3Y,E92000001,M,20-24,60.07286,60.04618,60.09954,LE\\ngregorian-interval/2014-03-31T00:00:00/P3Y,E92000001,M,25-29,55.2155,55.1893,55.24171,LE\\ngregorian-interval/2014-03-31T00:00:00/P3Y,E92000001,M,30-34,50.36999,50.34424,50.39573,LE\\ngregorian-interval/2014-03-31T00:00:00/P3Y,E92000001,M,35-39,45.5579,45.53267,45.58314,LE\\ngregorian-interval/2014-03-31T00:00:00/P3Y,E92000001,M,40-44,40.79482,40.77021,40.81944,LE\\ngregorian-interval/2014-03-31T00:00:00/P3Y,E92000001,M,45-49,36.12008,36.09617,36.14398,LE\\ngregorian-interval/2014-03-31T00:00:00/P3Y,E92000001,M,50-54,31.53813,31.51494,31.56133,LE\\ngregorian-interval/2014-03-31T00:00:00/P3Y,E92000001,M,55-59,27.07068,27.04823,27.09312,LE\\ngregorian-interval/2014-03-31T00:00:00/P3Y,E92000001,M,60-64,22.78395,22.76247,22.80543,LE\\ngregorian-interval/2014-03-31T00:00:00/P3Y,E92000001,M,65-69,18.75248,18.73219,18.77278,LE\\ngregorian-interval/2014-03-31T00:00:00/P3Y,E92000001,M,70-74,14.94807,14.92858,14.96756,LE\\ngregorian-interval/2014-03-31T00:00:00/P3Y,E92000001,M,75-79,11.48696,11.46838,11.50554,LE\\ngregorian-interval/2014-03-31T00:00:00/P3Y,E92000001,M,80-84,8.47497,8.45689,8.49305,LE\\ngregorian-interval/2014-03-31T00:00:00/P3Y,E92000001,M,85-89,6.03156,6.01232,6.0508,LE\\ngregorian-interval/2014-03-31T00:00:00/P3Y,E92000001,M,90plus,4.26954,4.24297,4.29612,LE\\ngregorian-interval/2014-03-31T00:00:00/P3Y,E92000001,F,lessthan1,83.14168,83.11403,83.16933,LE\\ngregorian-interval/2014-03-31T00:00:00/P3Y,E92000001,F,01-04,82.43347,82.40751,82.45943,LE\\ngregorian-interval/2014-03-31T00:00:00/P3Y,E92000001,F,05-09,78.47992,78.45422,78.50562,LE\\ngregorian-interval/2014-03-31T00:00:00/P3Y,E92000001,F,10-14,73.5057,73.48014,73.53125,LE\\ngregorian-interval/2014-03-31T00:00:00/P3Y,E92000001,F,15-19,68.53377,68.50837,68.55917,LE\\ngregorian-interval/2014-03-31T00:00:00/P3Y,E92000001,F,20-24,63.5895,63.56438,63.61461,LE\\ngregorian-interval/2014-03-31T00:00:00/P3Y,E92000001,F,25-29,58.65352,58.62866,58.67838,LE\\ngregorian-interval/2014-03-31T00:00:00/P3Y,E92000001,F,30-34,53.73218,53.70759,53.75677,LE\\ngregorian-interval/2014-03-31T00:00:00/P3Y,E92000001,F,35-39,48.84335,48.81911,48.86759,LE\\ngregorian-interval/2014-03-31T00:00:00/P3Y,E92000001,F,40-44,43.99732,43.97355,44.0211,LE\\ngregorian-interval/2014-03-31T00:00:00/P3Y,E92000001,F,45-49,39.21412,39.19089,39.23734,LE\\ngregorian-interval/2014-03-31T00:00:00/P3Y,E92000001,F,50-54,34.50712,34.48448,34.52976,LE\\ngregorian-interval/2014-03-31T00:00:00/P3Y,E92000001,F,55-59,29.90145,29.87949,29.92342,LE\\ngregorian-interval/2014-03-31T00:00:00/P3Y,E92000001,F,60-64,25.42779,25.40672,25.44886,LE\\ngregorian-interval/2014-03-31T00:00:00/P3Y,E92000001,F,65-69,21.13276,21.11279,21.15273,LE\\ngregorian-interval/2014-03-31T00:00:00/P3Y,E92000001,F,70-74,17.01806,16.99897,17.03715,LE\\ngregorian-interval/2014-03-31T00:00:00/P3Y,E92000001,F,75-79,13.1992,13.18124,13.21716,LE\\ngregorian-interval/2014-03-31T00:00:00/P3Y,E92000001,F,80-84,9.77593,9.75898,9.79288,LE\\ngregorian-interval/2014-03-31T00:00:00/P3Y,E92000001,F,85-89,6.93688,6.92,6.95376,LE\\ngregorian-interval/2014-03-31T00:00:00/P3Y,E92000001,F,90plus,4.81248,4.79189,4.83307,LE\\ngregorian-interval/2014-03-31T00:00:00/P3Y,K02000001,M,lessthan1,79.23447,79.20759,79.26134,LE\\ngregorian-interval/2014-03-31T00:00:00/P3Y,K02000001,M,01-04,78.5655,78.54012,78.59088,LE\\ngregorian-interval/2014-03-31T00:00:00/P3Y,K02000001,M,05-09,74.61682,74.59166,74.64197,LE\\ngregorian-interval/2014-03-31T00:00:00/P3Y,K02000001,M,10-14,69.64666,69.62163,69.67169,LE\\ngregorian-interval/2014-03-31T00:00:00/P3Y,K02000001,M,15-19,64.68064,64.65575,64.70552,LE\\ngregorian-interval/2014-03-31T00:00:00/P3Y,K02000001,M,20-24,59.77593,59.7514,59.80046,LE\\ngregorian-interval/2014-03-31T00:00:00/P3Y,K02000001,M,25-29,54.92257,54.89848,54.94665,LE\\ngregorian-interval/2014-03-31T00:00:00/P3Y,K02000001,M,30-34,50.08875,50.06511,50.11239,LE\\ngregorian-interval/2014-03-31T00:00:00/P3Y,K02000001,M,35-39,45.28985,45.26672,45.31298,LE\\ngregorian-interval/2014-03-31T00:00:00/P3Y,K02000001,M,40-44,40.54255,40.52003,40.56507,LE\\ngregorian-interval/2014-03-31T00:00:00/P3Y,K02000001,M,45-49,35.8881,35.86627,35.90992,LE\\ngregorian-interval/2014-03-31T00:00:00/P3Y,K02000001,M,50-54,31.32367,31.30252,31.34481,LE\\ngregorian-interval/2014-03-31T00:00:00/P3Y,K02000001,M,55-59,26.87165,26.85121,26.8921,LE\\ngregorian-interval/2014-03-31T00:00:00/P3Y,K02000001,M,60-64,22.60305,22.5835,22.62261,LE\\ngregorian-interval/2014-03-31T00:00:00/P3Y,K02000001,M,65-69,18.59122,18.57274,18.6097,LE\\ngregorian-interval/2014-03-31T00:00:00/P3Y,K02000001,M,70-74,14.81567,14.79793,14.83342,LE\\ngregorian-interval/2014-03-31T00:00:00/P3Y,K02000001,M,75-79,11.39136,11.37444,11.40827,LE\\ngregorian-interval/2014-03-31T00:00:00/P3Y,K02000001,M,80-84,8.41113,8.39465,8.42761,LE\\ngregorian-interval/2014-03-31T00:00:00/P3Y,K02000001,M,85-89,5.98862,5.97104,6.0062,LE\\ngregorian-interval/2014-03-31T00:00:00/P3Y,K02000001,M,90plus,4.24102,4.21664,4.2654,LE\\ngregorian-interval/2014-03-31T00:00:00/P3Y,K02000001,F,lessthan1,82.89211,82.8668,82.91742,LE\\ngregorian-interval/2014-03-31T00:00:00/P3Y,K02000001,F,01-04,82.18022,82.15646,82.20397,LE\\ngregorian-interval/2014-03-31T00:00:00/P3Y,K02000001,F,05-09,78.2247,78.20118,78.24823,LE\\ngregorian-interval/2014-03-31T00:00:00/P3Y,K02000001,F,10-14,73.25004,73.22664,73.27343,LE\\ngregorian-interval/2014-03-31T00:00:00/P3Y,K02000001,F,15-19,68.27776,68.25451,68.30101,LE\\ngregorian-interval/2014-03-31T00:00:00/P3Y,K02000001,F,20-24,63.33456,63.31157,63.35756,LE\\ngregorian-interval/2014-03-31T00:00:00/P3Y,K02000001,F,25-29,58.40119,58.37844,58.42393,LE\\ngregorian-interval/2014-03-31T00:00:00/P3Y,K02000001,F,30-34,53.48275,53.46026,53.50523,LE\\ngregorian-interval/2014-03-31T00:00:00/P3Y,K02000001,F,35-39,48.59882,48.57667,48.62098,LE\\ngregorian-interval/2014-03-31T00:00:00/P3Y,K02000001,F,40-44,43.7585,43.7368,43.78021,LE\\ngregorian-interval/2014-03-31T00:00:00/P3Y,K02000001,F,45-49,38.9842,38.96303,39.00538,LE\\ngregorian-interval/2014-03-31T00:00:00/P3Y,K02000001,F,50-54,34.28663,34.26601,34.30726,LE\\ngregorian-interval/2014-03-31T00:00:00/P3Y,K02000001,F,55-59,29.69356,29.67356,29.71356,LE\\ngregorian-interval/2014-03-31T00:00:00/P3Y,K02000001,F,60-64,25.23848,25.21932,25.25764,LE\\ngregorian-interval/2014-03-31T00:00:00/P3Y,K02000001,F,65-69,20.96095,20.9428,20.9791,LE\\ngregorian-interval/2014-03-31T00:00:00/P3Y,K02000001,F,70-74,16.87003,16.8527,16.88737,LE\\ngregorian-interval/2014-03-31T00:00:00/P3Y,K02000001,F,75-79,13.08059,13.0643,13.09688,LE\\ngregorian-interval/2014-03-31T00:00:00/P3Y,K02000001,F,80-84,9.68998,9.67461,9.70536,LE\\ngregorian-interval/2014-03-31T00:00:00/P3Y,K02000001,F,85-89,6.87686,6.86152,6.8922,LE\\ngregorian-interval/2014-03-31T00:00:00/P3Y,K02000001,F,90plus,4.77259,4.75382,4.79136,LE\\ngregorian-interval/2014-03-31T00:00:00/P3Y,N92000002,M,lessthan1,78.54147,78.37356,78.70938,LE\\ngregorian-interval/2014-03-31T00:00:00/P3Y,N92000002,M,01-04,77.95928,77.80078,78.11778,LE\\ngregorian-interval/2014-03-31T00:00:00/P3Y,N92000002,M,05-09,74.01628,73.85902,74.17353,LE\\ngregorian-interval/2014-03-31T00:00:00/P3Y,N92000002,M,10-14,69.04612,68.88947,69.20276,LE\\ngregorian-interval/2014-03-31T00:00:00/P3Y,N92000002,M,15-19,64.08073,63.92483,64.23664,LE\\ngregorian-interval/2014-03-31T00:00:00/P3Y,N92000002,M,20-24,59.21342,59.05991,59.36692,LE\\ngregorian-interval/2014-03-31T00:00:00/P3Y,N92000002,M,25-29,54.4542,54.30476,54.60363,LE\\ngregorian-interval/2014-03-31T00:00:00/P3Y,N92000002,M,30-34,49.68776,49.54194,49.83358,LE\\ngregorian-interval/2014-03-31T00:00:00/P3Y,N92000002,M,35-39,44.96169,44.81981,45.10358,LE\\ngregorian-interval/2014-03-31T00:00:00/P3Y,N92000002,M,40-44,40.23622,40.09813,40.3743,LE\\ngregorian-interval/2014-03-31T00:00:00/P3Y,N92000002,M,45-49,35.58035,35.44614,35.71457,LE\\ngregorian-interval/2014-03-31T00:00:00/P3Y,N92000002,M,50-54,31.03058,30.90021,31.16094,LE\\ngregorian-interval/2014-03-31T00:00:00/P3Y,N92000002,M,55-59,26.5902,26.46367,26.71673,LE\\ngregorian-interval/2014-03-31T00:00:00/P3Y,N92000002,M,60-64,22.31976,22.1978,22.44173,LE\\ngregorian-interval/2014-03-31T00:00:00/P3Y,N92000002,M,65-69,18.30254,18.18607,18.41901,LE\\ngregorian-interval/2014-03-31T00:00:00/P3Y,N92000002,M,70-74,14.59416,14.4826,14.70571,LE\\ngregorian-interval/2014-03-31T00:00:00/P3Y,N92000002,M,75-79,11.21632,11.10843,11.3242,LE\\ngregorian-interval/2014-03-31T00:00:00/P3Y,N92000002,M,80-84,8.2464,8.13976,8.35303,LE\\ngregorian-interval/2014-03-31T00:00:00/P3Y,N92000002,M,85-89,5.8965,5.781,6.01199,LE\\ngregorian-interval/2014-03-31T00:00:00/P3Y,N92000002,M,90plus,4.11466,3.95346,4.27586,LE\\ngregorian-interval/2014-03-31T00:00:00/P3Y,N92000002,F,lessthan1,82.30695,82.15175,82.46215,LE\\ngregorian-interval/2014-03-31T00:00:00/P3Y,N92000002,F,01-04,81.66452,81.51928,81.80975,LE\\ngregorian-interval/2014-03-31T00:00:00/P3Y,N92000002,F,05-09,77.69247,77.54798,77.83696,LE\\ngregorian-interval/2014-03-31T00:00:00/P3Y,N92000002,F,10-14,72.72957,72.58603,72.87311,LE\\ngregorian-interval/2014-03-31T00:00:00/P3Y,N92000002,F,15-19,67.75526,67.61241,67.89812,LE\\ngregorian-interval/2014-03-31T00:00:00/P3Y,N92000002,F,20-24,62.82423,62.68296,62.96549,LE\\ngregorian-interval/2014-03-31T00:00:00/P3Y,N92000002,F,25-29,57.91305,57.77365,58.05244,LE\\ngregorian-interval/2014-03-31T00:00:00/P3Y,N92000002,F,30-34,53.01351,52.87592,53.1511,LE\\ngregorian-interval/2014-03-31T00:00:00/P3Y,N92000002,F,35-39,48.13629,48.00067,48.27191,LE\\ngregorian-interval/2014-03-31T00:00:00/P3Y,N92000002,F,40-44,43.29493,43.1617,43.42816,LE\\ngregorian-interval/2014-03-31T00:00:00/P3Y,N92000002,F,45-49,38.50605,38.37547,38.63663,LE\\ngregorian-interval/2014-03-31T00:00:00/P3Y,N92000002,F,50-54,33.82972,33.70231,33.95714,LE\\ngregorian-interval/2014-03-31T00:00:00/P3Y,N92000002,F,55-59,29.25974,29.1359,29.38358,LE\\ngregorian-interval/2014-03-31T00:00:00/P3Y,N92000002,F,60-64,24.84441,24.72527,24.96354,LE\\ngregorian-interval/2014-03-31T00:00:00/P3Y,N92000002,F,65-69,20.62507,20.51216,20.73797,LE\\ngregorian-interval/2014-03-31T00:00:00/P3Y,N92000002,F,70-74,16.61128,16.50419,16.71838,LE\\ngregorian-interval/2014-03-31T00:00:00/P3Y,N92000002,F,75-79,12.86689,12.76546,12.96832,LE\\ngregorian-interval/2014-03-31T00:00:00/P3Y,N92000002,F,80-84,9.54097,9.44476,9.63717,LE\\ngregorian-interval/2014-03-31T00:00:00/P3Y,N92000002,F,85-89,6.76,6.66312,6.85688,LE\\ngregorian-interval/2014-03-31T00:00:00/P3Y,N92000002,F,90plus,4.67124,4.55061,4.79186,LE\\ngregorian-interval/2014-03-31T00:00:00/P3Y,S92000003,M,lessthan1,77.08915,76.99452,77.18377,LE\\ngregorian-interval/2014-03-31T00:00:00/P3Y,S92000003,M,01-04,76.35948,76.26955,76.4494,LE\\ngregorian-interval/2014-03-31T00:00:00/P3Y,S92000003,M,05-09,72.41157,72.3225,72.50064,LE\\ngregorian-interval/2014-03-31T00:00:00/P3Y,S92000003,M,10-14,67.44821,67.35972,67.53671,LE\\ngregorian-interval/2014-03-31T00:00:00/P3Y,S92000003,M,15-19,62.48313,62.39518,62.57108,LE\\ngregorian-interval/2014-03-31T00:00:00/P3Y,S92000003,M,20-24,57.59769,57.5112,57.68419,LE\\ngregorian-interval/2014-03-31T00:00:00/P3Y,S92000003,M,25-29,52.75921,52.67428,52.84413,LE\\ngregorian-interval/2014-03-31T00:00:00/P3Y,S92000003,M,30-34,47.99587,47.91306,48.07867,LE\\ngregorian-interval/2014-03-31T00:00:00/P3Y,S92000003,M,35-39,43.28571,43.20544,43.36598,LE\\ngregorian-interval/2014-03-31T00:00:00/P3Y,S92000003,M,40-44,38.66256,38.58555,38.73958,LE\\ngregorian-interval/2014-03-31T00:00:00/P3Y,S92000003,M,45-49,34.17994,34.10657,34.25331,LE\\ngregorian-interval/2014-03-31T00:00:00/P3Y,S92000003,M,50-54,29.75154,29.68112,29.82197,LE\\ngregorian-interval/2014-03-31T00:00:00/P3Y,S92000003,M,55-59,25.42288,25.35514,25.49061,LE\\ngregorian-interval/2014-03-31T00:00:00/P3Y,S92000003,M,60-64,21.29075,21.22609,21.35541,LE\\ngregorian-interval/2014-03-31T00:00:00/P3Y,S92000003,M,65-69,17.40496,17.34374,17.46617,LE\\ngregorian-interval/2014-03-31T00:00:00/P3Y,S92000003,M,70-74,13.83244,13.7736,13.89129,LE\\ngregorian-interval/2014-03-31T00:00:00/P3Y,S92000003,M,75-79,10.67677,10.6208,10.73275,LE\\ngregorian-interval/2014-03-31T00:00:00/P3Y,S92000003,M,80-84,7.90282,7.8478,7.95784,LE\\ngregorian-interval/2014-03-31T00:00:00/P3Y,S92000003,M,85-89,5.65939,5.59928,5.71951,LE\\ngregorian-interval/2014-03-31T00:00:00/P3Y,S92000003,M,90plus,4.0742,3.98733,4.16107,LE\\ngregorian-interval/2014-03-31T00:00:00/P3Y,S92000003,F,lessthan1,81.14095,81.05406,81.22784,LE\\ngregorian-interval/2014-03-31T00:00:00/P3Y,S92000003,F,01-04,80.39996,80.3187,80.48123,LE\\ngregorian-interval/2014-03-31T00:00:00/P3Y,S92000003,F,05-09,76.43749,76.357,76.51797,LE\\ngregorian-interval/2014-03-31T00:00:00/P3Y,S92000003,F,10-14,71.45463,71.37447,71.53478,LE\\ngregorian-interval/2014-03-31T00:00:00/P3Y,S92000003,F,15-19,66.48223,66.40261,66.56184,LE\\ngregorian-interval/2014-03-31T00:00:00/P3Y,S92000003,F,20-24,61.54271,61.46408,61.62134,LE\\ngregorian-interval/2014-03-31T00:00:00/P3Y,S92000003,F,25-29,56.62248,56.54479,56.70016,LE\\ngregorian-interval/2014-03-31T00:00:00/P3Y,S92000003,F,30-34,51.72411,51.64752,51.8007,LE\\ngregorian-interval/2014-03-31T00:00:00/P3Y,S92000003,F,35-39,46.88544,46.81049,46.96038,LE\\ngregorian-interval/2014-03-31T00:00:00/P3Y,S92000003,F,40-44,42.10503,42.03232,42.17774,LE\\ngregorian-interval/2014-03-31T00:00:00/P3Y,S92000003,F,45-49,37.40913,37.33889,37.47937,LE\\ngregorian-interval/2014-03-31T00:00:00/P3Y,S92000003,F,50-54,32.79359,32.72565,32.86154,LE\\ngregorian-interval/2014-03-31T00:00:00/P3Y,S92000003,F,55-59,28.2785,28.21292,28.34408,LE\\ngregorian-interval/2014-03-31T00:00:00/P3Y,S92000003,F,60-64,23.92206,23.85941,23.98471,LE\\ngregorian-interval/2014-03-31T00:00:00/P3Y,S92000003,F,65-69,19.7412,19.68202,19.80038,LE\\ngregorian-interval/2014-03-31T00:00:00/P3Y,S92000003,F,70-74,15.79581,15.73965,15.85198,LE\\ngregorian-interval/2014-03-31T00:00:00/P3Y,S92000003,F,75-79,12.21129,12.15896,12.26361,LE\\ngregorian-interval/2014-03-31T00:00:00/P3Y,S92000003,F,80-84,9.06207,9.01261,9.11152,LE\\ngregorian-interval/2014-03-31T00:00:00/P3Y,S92000003,F,85-89,6.43901,6.38884,6.48917,LE\\ngregorian-interval/2014-03-31T00:00:00/P3Y,S92000003,F,90plus,4.49347,4.4298,4.55713,LE\\ngregorian-interval/2014-03-31T00:00:00/P3Y,W92000004,M,lessthan1,78.4424,78.31957,78.56524,LE\\ngregorian-interval/2014-03-31T00:00:00/P3Y,W92000004,M,01-04,77.7728,77.65759,77.88802,LE\\ngregorian-interval/2014-03-31T00:00:00/P3Y,W92000004,M,05-09,73.8214,73.70724,73.93556,LE\\ngregorian-interval/2014-03-31T00:00:00/P3Y,W92000004,M,10-14,68.84982,68.73623,68.96341,LE\\ngregorian-interval/2014-03-31T00:00:00/P3Y,W92000004,M,15-19,63.87191,63.75877,63.98505,LE\\ngregorian-interval/2014-03-31T00:00:00/P3Y,W92000004,M,20-24,58.97887,58.86749,59.09025,LE\\ngregorian-interval/2014-03-31T00:00:00/P3Y,W92000004,M,25-29,54.11329,54.00364,54.22295,LE\\ngregorian-interval/2014-03-31T00:00:00/P3Y,W92000004,M,30-34,49.3248,49.21795,49.43166,LE\\ngregorian-interval/2014-03-31T00:00:00/P3Y,W92000004,M,35-39,44.57338,44.46987,44.67689,LE\\ngregorian-interval/2014-03-31T00:00:00/P3Y,W92000004,M,40-44,39.8921,39.79283,39.99138,LE\\ngregorian-interval/2014-03-31T00:00:00/P3Y,W92000004,M,45-49,35.30165,35.20679,35.39651,LE\\ngregorian-interval/2014-03-31T00:00:00/P3Y,W92000004,M,50-54,30.78643,30.69546,30.87739,LE\\ngregorian-interval/2014-03-31T00:00:00/P3Y,W92000004,M,55-59,26.35683,26.26954,26.44413,LE\\ngregorian-interval/2014-03-31T00:00:00/P3Y,W92000004,M,60-64,22.12064,22.03788,22.2034,LE\\ngregorian-interval/2014-03-31T00:00:00/P3Y,W92000004,M,65-69,18.17756,18.09996,18.25516,LE\\ngregorian-interval/2014-03-31T00:00:00/P3Y,W92000004,M,70-74,14.45606,14.38169,14.53044,LE\\ngregorian-interval/2014-03-31T00:00:00/P3Y,W92000004,M,75-79,11.1124,11.04141,11.18338,LE\\ngregorian-interval/2014-03-31T00:00:00/P3Y,W92000004,M,80-84,8.25521,8.18621,8.32422,LE\\ngregorian-interval/2014-03-31T00:00:00/P3Y,W92000004,M,85-89,5.81711,5.74403,5.8902,LE\\ngregorian-interval/2014-03-31T00:00:00/P3Y,W92000004,M,90plus,4.06206,3.96058,4.16355,LE\\ngregorian-interval/2014-03-31T00:00:00/P3Y,W92000004,F,lessthan1,82.34172,82.22983,82.45361,LE\\ngregorian-interval/2014-03-31T00:00:00/P3Y,W92000004,F,01-04,81.55979,81.45406,81.66551,LE\\ngregorian-interval/2014-03-31T00:00:00/P3Y,W92000004,F,05-09,77.5904,77.48549,77.69531,LE\\ngregorian-interval/2014-03-31T00:00:00/P3Y,W92000004,F,10-14,72.61326,72.50891,72.7176,LE\\ngregorian-interval/2014-03-31T00:00:00/P3Y,W92000004,F,15-19,67.63646,67.5327,67.74021,LE\\ngregorian-interval/2014-03-31T00:00:00/P3Y,W92000004,F,20-24,62.69805,62.59559,62.80052,LE\\ngregorian-interval/2014-03-31T00:00:00/P3Y,W92000004,F,25-29,57.77176,57.67051,57.873,LE\\ngregorian-interval/2014-03-31T00:00:00/P3Y,W92000004,F,30-34,52.85803,52.75821,52.95785,LE\\ngregorian-interval/2014-03-31T00:00:00/P3Y,W92000004,F,35-39,47.97952,47.88163,48.0774,LE\\ngregorian-interval/2014-03-31T00:00:00/P3Y,W92000004,F,40-44,43.13898,43.04355,43.23442,LE\\ngregorian-interval/2014-03-31T00:00:00/P3Y,W92000004,F,45-49,38.39193,38.29956,38.4843,LE\\ngregorian-interval/2014-03-31T00:00:00/P3Y,W92000004,F,50-54,33.6907,33.60102,33.78038,LE\\ngregorian-interval/2014-03-31T00:00:00/P3Y,W92000004,F,55-59,29.14672,29.06044,29.23301,LE\\ngregorian-interval/2014-03-31T00:00:00/P3Y,W92000004,F,60-64,24.77625,24.69441,24.8581,LE\\ngregorian-interval/2014-03-31T00:00:00/P3Y,W92000004,F,65-69,20.56008,20.483,20.63715,LE\\ngregorian-interval/2014-03-31T00:00:00/P3Y,W92000004,F,70-74,16.54625,16.47298,16.61952,LE\\ngregorian-interval/2014-03-31T00:00:00/P3Y,W92000004,F,75-79,12.82232,12.75369,12.89096,LE\\ngregorian-interval/2014-03-31T00:00:00/P3Y,W92000004,F,80-84,9.45392,9.3896,9.51825,LE\\ngregorian-interval/2014-03-31T00:00:00/P3Y,W92000004,F,85-89,6.6684,6.60486,6.73193,LE\\ngregorian-interval/2014-03-31T00:00:00/P3Y,W92000004,F,90plus,4.59287,4.51569,4.67005,LE\\ngregorian-interval/2015-03-31T00:00:00/P3Y,E92000001,M,lessthan1,79.55105,79.52205,79.58006,LE\\ngregorian-interval/2015-03-31T00:00:00/P3Y,E92000001,M,01-04,78.89133,78.86401,78.91864,LE\\ngregorian-interval/2015-03-31T00:00:00/P3Y,E92000001,M,05-09,74.9392,74.91211,74.96629,LE\\ngregorian-interval/2015-03-31T00:00:00/P3Y,E92000001,M,10-14,69.96803,69.94107,69.99499,LE\\ngregorian-interval/2015-03-31T00:00:00/P3Y,E92000001,M,15-19,65.00013,64.97332,65.02694,LE\\ngregorian-interval/2015-03-31T00:00:00/P3Y,E92000001,M,20-24,60.09118,60.06476,60.11761,LE\\ngregorian-interval/2015-03-31T00:00:00/P3Y,E92000001,M,25-29,55.22951,55.20356,55.25546,LE\\ngregorian-interval/2015-03-31T00:00:00/P3Y,E92000001,M,30-34,50.38072,50.35521,50.40622,LE\\ngregorian-interval/2015-03-31T00:00:00/P3Y,E92000001,M,35-39,45.56623,45.54123,45.59123,LE\\ngregorian-interval/2015-03-31T00:00:00/P3Y,E92000001,M,40-44,40.80384,40.77946,40.82823,LE\\ngregorian-interval/2015-03-31T00:00:00/P3Y,E92000001,M,45-49,36.13096,36.10733,36.1546,LE\\ngregorian-interval/2015-03-31T00:00:00/P3Y,E92000001,M,50-54,31.55306,31.53015,31.57596,LE\\ngregorian-interval/2015-03-31T00:00:00/P3Y,E92000001,M,55-59,27.08784,27.06569,27.10998,LE\\ngregorian-interval/2015-03-31T00:00:00/P3Y,E92000001,M,60-64,22.79713,22.77594,22.81833,LE\\ngregorian-interval/2015-03-31T00:00:00/P3Y,E92000001,M,65-69,18.75969,18.7397,18.77969,LE\\ngregorian-interval/2015-03-31T00:00:00/P3Y,E92000001,M,70-74,14.96273,14.94363,14.98182,LE\\ngregorian-interval/2015-03-31T00:00:00/P3Y,E92000001,M,75-79,11.47782,11.45954,11.4961,LE\\ngregorian-interval/2015-03-31T00:00:00/P3Y,E92000001,M,80-84,8.46968,8.45202,8.48735,LE\\ngregorian-interval/2015-03-31T00:00:00/P3Y,E92000001,M,85-89,6.00766,5.98903,6.0263,LE\\ngregorian-interval/2015-03-31T00:00:00/P3Y,E92000001,M,90plus,4.21369,4.18817,4.23922,LE\\ngregorian-interval/2015-03-31T00:00:00/P3Y,E92000001,F,lessthan1,83.12768,83.10038,83.15498,LE\\ngregorian-interval/2015-03-31T00:00:00/P3Y,E92000001,F,01-04,82.41745,82.39187,82.44304,LE\\ngregorian-interval/2015-03-31T00:00:00/P3Y,E92000001,F,05-09,78.46179,78.43645,78.48712,LE\\ngregorian-interval/2015-03-31T00:00:00/P3Y,E92000001,F,10-14,73.48578,73.46058,73.51099,LE\\ngregorian-interval/2015-03-31T00:00:00/P3Y,E92000001,F,15-19,68.51288,68.48783,68.53793,LE\\ngregorian-interval/2015-03-31T00:00:00/P3Y,E92000001,F,20-24,63.5663,63.54153,63.59108,LE\\ngregorian-interval/2015-03-31T00:00:00/P3Y,E92000001,F,25-29,58.62651,58.60198,58.65103,LE\\ngregorian-interval/2015-03-31T00:00:00/P3Y,E92000001,F,30-34,53.70204,53.67778,53.7263,LE\\ngregorian-interval/2015-03-31T00:00:00/P3Y,E92000001,F,35-39,48.81111,48.78719,48.83503,LE\\ngregorian-interval/2015-03-31T00:00:00/P3Y,E92000001,F,40-44,43.96443,43.94098,43.98789,LE\\ngregorian-interval/2015-03-31T00:00:00/P3Y,E92000001,F,45-49,39.17955,39.15667,39.20243,LE\\ngregorian-interval/2015-03-31T00:00:00/P3Y,E92000001,F,50-54,34.474,34.45172,34.49627,LE\\ngregorian-interval/2015-03-31T00:00:00/P3Y,E92000001,F,55-59,29.87053,29.84893,29.89213,LE\\ngregorian-interval/2015-03-31T00:00:00/P3Y,E92000001,F,60-64,25.39106,25.37034,25.41178,LE\\ngregorian-interval/2015-03-31T00:00:00/P3Y,E92000001,F,65-69,21.09015,21.07054,21.10976,LE\\ngregorian-interval/2015-03-31T00:00:00/P3Y,E92000001,F,70-74,16.9802,16.96154,16.99886,LE\\ngregorian-interval/2015-03-31T00:00:00/P3Y,E92000001,F,75-79,13.13763,13.12001,13.15525,LE\\ngregorian-interval/2015-03-31T00:00:00/P3Y,E92000001,F,80-84,9.71548,9.69895,9.73202,LE\\ngregorian-interval/2015-03-31T00:00:00/P3Y,E92000001,F,85-89,6.85029,6.83396,6.86661,LE\\ngregorian-interval/2015-03-31T00:00:00/P3Y,E92000001,F,90plus,4.69884,4.67905,4.71864,LE\\ngregorian-interval/2015-03-31T00:00:00/P3Y,K02000001,M,lessthan1,79.23628,79.20958,79.26298,LE\\ngregorian-interval/2015-03-31T00:00:00/P3Y,K02000001,M,01-04,78.57048,78.54531,78.59564,LE\\ngregorian-interval/2015-03-31T00:00:00/P3Y,K02000001,M,05-09,74.6192,74.59425,74.64415,LE\\ngregorian-interval/2015-03-31T00:00:00/P3Y,K02000001,M,10-14,69.64807,69.62325,69.6729,LE\\ngregorian-interval/2015-03-31T00:00:00/P3Y,K02000001,M,15-19,64.68018,64.65548,64.70487,LE\\ngregorian-interval/2015-03-31T00:00:00/P3Y,K02000001,M,20-24,59.77557,59.75124,59.7999,LE\\ngregorian-interval/2015-03-31T00:00:00/P3Y,K02000001,M,25-29,54.91849,54.8946,54.94238,LE\\ngregorian-interval/2015-03-31T00:00:00/P3Y,K02000001,M,30-34,50.08332,50.05988,50.10677,LE\\ngregorian-interval/2015-03-31T00:00:00/P3Y,K02000001,M,35-39,45.28571,45.26278,45.30865,LE\\ngregorian-interval/2015-03-31T00:00:00/P3Y,K02000001,M,40-44,40.54099,40.51866,40.56332,LE\\ngregorian-interval/2015-03-31T00:00:00/P3Y,K02000001,M,45-49,35.88893,35.86734,35.91052,LE\\ngregorian-interval/2015-03-31T00:00:00/P3Y,K02000001,M,50-54,31.33177,31.31089,31.35265,LE\\ngregorian-interval/2015-03-31T00:00:00/P3Y,K02000001,M,55-59,26.8851,26.86493,26.90527,LE\\ngregorian-interval/2015-03-31T00:00:00/P3Y,K02000001,M,60-64,22.61376,22.59447,22.63305,LE\\ngregorian-interval/2015-03-31T00:00:00/P3Y,K02000001,M,65-69,18.59597,18.57777,18.61417,LE\\ngregorian-interval/2015-03-31T00:00:00/P3Y,K02000001,M,70-74,14.82735,14.80998,14.84473,LE\\ngregorian-interval/2015-03-31T00:00:00/P3Y,K02000001,M,75-79,11.37755,11.36092,11.39419,LE\\ngregorian-interval/2015-03-31T00:00:00/P3Y,K02000001,M,80-84,8.40144,8.38534,8.41754,LE\\ngregorian-interval/2015-03-31T00:00:00/P3Y,K02000001,M,85-89,5.9625,5.94548,5.97952,LE\\ngregorian-interval/2015-03-31T00:00:00/P3Y,K02000001,M,90plus,4.18363,4.16023,4.20703,LE\\ngregorian-interval/2015-03-31T00:00:00/P3Y,K02000001,F,lessthan1,82.87115,82.84612,82.89618,LE\\ngregorian-interval/2015-03-31T00:00:00/P3Y,K02000001,F,01-04,82.15635,82.13289,82.1798,LE\\ngregorian-interval/2015-03-31T00:00:00/P3Y,K02000001,F,05-09,78.19957,78.17634,78.2228,LE\\ngregorian-interval/2015-03-31T00:00:00/P3Y,K02000001,F,10-14,73.22379,73.20068,73.2469,LE\\ngregorian-interval/2015-03-31T00:00:00/P3Y,K02000001,F,15-19,68.25124,68.22827,68.2742,LE\\ngregorian-interval/2015-03-31T00:00:00/P3Y,K02000001,F,20-24,63.306,63.28329,63.32871,LE\\ngregorian-interval/2015-03-31T00:00:00/P3Y,K02000001,F,25-29,58.36964,58.34717,58.39211,LE\\ngregorian-interval/2015-03-31T00:00:00/P3Y,K02000001,F,30-34,53.44876,53.42654,53.47097,LE\\ngregorian-interval/2015-03-31T00:00:00/P3Y,K02000001,F,35-39,48.56354,48.54165,48.58542,LE\\ngregorian-interval/2015-03-31T00:00:00/P3Y,K02000001,F,40-44,43.72536,43.70393,43.74679,LE\\ngregorian-interval/2015-03-31T00:00:00/P3Y,K02000001,F,45-49,38.94991,38.92903,38.97079,LE\\ngregorian-interval/2015-03-31T00:00:00/P3Y,K02000001,F,50-54,34.25411,34.2338,34.27442,LE\\ngregorian-interval/2015-03-31T00:00:00/P3Y,K02000001,F,55-59,29.66387,29.64419,29.68354,LE\\ngregorian-interval/2015-03-31T00:00:00/P3Y,K02000001,F,60-64,25.20146,25.1826,25.22032,LE\\ngregorian-interval/2015-03-31T00:00:00/P3Y,K02000001,F,65-69,20.91904,20.9012,20.93688,LE\\ngregorian-interval/2015-03-31T00:00:00/P3Y,K02000001,F,70-74,16.83404,16.81708,16.85099,LE\\ngregorian-interval/2015-03-31T00:00:00/P3Y,K02000001,F,75-79,13.02335,13.00736,13.03935,LE\\ngregorian-interval/2015-03-31T00:00:00/P3Y,K02000001,F,80-84,9.63351,9.6185,9.64851,LE\\ngregorian-interval/2015-03-31T00:00:00/P3Y,K02000001,F,85-89,6.79337,6.77854,6.80821,LE\\ngregorian-interval/2015-03-31T00:00:00/P3Y,K02000001,F,90plus,4.66012,4.64207,4.67816,LE\\ngregorian-interval/2015-03-31T00:00:00/P3Y,N92000002,M,lessthan1,78.45111,78.28612,78.61609,LE\\ngregorian-interval/2015-03-31T00:00:00/P3Y,N92000002,M,01-04,77.80603,77.64922,77.96285,LE\\ngregorian-interval/2015-03-31T00:00:00/P3Y,N92000002,M,05-09,73.86519,73.70969,74.02069,LE\\ngregorian-interval/2015-03-31T00:00:00/P3Y,N92000002,M,10-14,68.89443,68.73953,69.04934,LE\\ngregorian-interval/2015-03-31T00:00:00/P3Y,N92000002,M,15-19,63.92665,63.77243,64.08087,LE\\ngregorian-interval/2015-03-31T00:00:00/P3Y,N92000002,M,20-24,59.05112,58.89922,59.20302,LE\\ngregorian-interval/2015-03-31T00:00:00/P3Y,N92000002,M,25-29,54.29943,54.15181,54.44704,LE\\ngregorian-interval/2015-03-31T00:00:00/P3Y,N92000002,M,30-34,49.54618,49.40243,49.68993,LE\\ngregorian-interval/2015-03-31T00:00:00/P3Y,N92000002,M,35-39,44.811,44.67109,44.95091,LE\\ngregorian-interval/2015-03-31T00:00:00/P3Y,N92000002,M,40-44,40.09966,39.96372,40.23559,LE\\ngregorian-interval/2015-03-31T00:00:00/P3Y,N92000002,M,45-49,35.45792,35.32623,35.58961,LE\\ngregorian-interval/2015-03-31T00:00:00/P3Y,N92000002,M,50-54,30.91966,30.79211,31.04721,LE\\ngregorian-interval/2015-03-31T00:00:00/P3Y,N92000002,M,55-59,26.50062,26.37714,26.6241,LE\\ngregorian-interval/2015-03-31T00:00:00/P3Y,N92000002,M,60-64,22.24395,22.12519,22.36272,LE\\ngregorian-interval/2015-03-31T00:00:00/P3Y,N92000002,M,65-69,18.21529,18.10215,18.32844,LE\\ngregorian-interval/2015-03-31T00:00:00/P3Y,N92000002,M,70-74,14.49953,14.39175,14.60731,LE\\ngregorian-interval/2015-03-31T00:00:00/P3Y,N92000002,M,75-79,11.10927,11.00531,11.21322,LE\\ngregorian-interval/2015-03-31T00:00:00/P3Y,N92000002,M,80-84,8.17514,8.07347,8.27682,LE\\ngregorian-interval/2015-03-31T00:00:00/P3Y,N92000002,M,85-89,5.75574,5.64727,5.86421,LE\\ngregorian-interval/2015-03-31T00:00:00/P3Y,N92000002,M,90plus,4.01752,3.8655,4.16954,LE\\ngregorian-interval/2015-03-31T00:00:00/P3Y,N92000002,F,lessthan1,82.30653,82.15271,82.46036,LE\\ngregorian-interval/2015-03-31T00:00:00/P3Y,N92000002,F,01-04,81.66974,81.52626,81.81323,LE\\ngregorian-interval/2015-03-31T00:00:00/P3Y,N92000002,F,05-09,77.69797,77.55526,77.84068,LE\\ngregorian-interval/2015-03-31T00:00:00/P3Y,N92000002,F,10-14,72.73631,72.59457,72.87804,LE\\ngregorian-interval/2015-03-31T00:00:00/P3Y,N92000002,F,15-19,67.76169,67.62063,67.90275,LE\\ngregorian-interval/2015-03-31T00:00:00/P3Y,N92000002,F,20-24,62.82058,62.68093,62.96024,LE\\ngregorian-interval/2015-03-31T00:00:00/P3Y,N92000002,F,25-29,57.92158,57.78413,58.05903,LE\\ngregorian-interval/2015-03-31T00:00:00/P3Y,N92000002,F,30-34,53.01659,52.88089,53.15229,LE\\ngregorian-interval/2015-03-31T00:00:00/P3Y,N92000002,F,35-39,48.14867,48.01513,48.2822,LE\\ngregorian-interval/2015-03-31T00:00:00/P3Y,N92000002,F,40-44,43.30469,43.17351,43.43588,LE\\ngregorian-interval/2015-03-31T00:00:00/P3Y,N92000002,F,45-49,38.49713,38.36848,38.62578,LE\\ngregorian-interval/2015-03-31T00:00:00/P3Y,N92000002,F,50-54,33.83141,33.70615,33.95666,LE\\ngregorian-interval/2015-03-31T00:00:00/P3Y,N92000002,F,55-59,29.26484,29.14323,29.38644,LE\\ngregorian-interval/2015-03-31T00:00:00/P3Y,N92000002,F,60-64,24.82542,24.70827,24.94258,LE\\ngregorian-interval/2015-03-31T00:00:00/P3Y,N92000002,F,65-69,20.59582,20.48484,20.7068,LE\\ngregorian-interval/2015-03-31T00:00:00/P3Y,N92000002,F,70-74,16.57997,16.4751,16.68484,LE\\ngregorian-interval/2015-03-31T00:00:00/P3Y,N92000002,F,75-79,12.84897,12.74977,12.94817,LE\\ngregorian-interval/2015-03-31T00:00:00/P3Y,N92000002,F,80-84,9.49196,9.39842,9.5855,LE\\ngregorian-interval/2015-03-31T00:00:00/P3Y,N92000002,F,85-89,6.67506,6.58184,6.76829,LE\\ngregorian-interval/2015-03-31T00:00:00/P3Y,N92000002,F,90plus,4.55672,4.44162,4.67182,LE\\ngregorian-interval/2015-03-31T00:00:00/P3Y,S92000003,M,lessthan1,77.02066,76.92621,77.11512,LE\\ngregorian-interval/2015-03-31T00:00:00/P3Y,S92000003,M,01-04,76.28737,76.19762,76.37712,LE\\ngregorian-interval/2015-03-31T00:00:00/P3Y,S92000003,M,05-09,72.33985,72.25098,72.42873,LE\\ngregorian-interval/2015-03-31T00:00:00/P3Y,S92000003,M,10-14,67.369,67.28058,67.45743,LE\\ngregorian-interval/2015-03-31T00:00:00/P3Y,S92000003,M,15-19,62.40275,62.31485,62.49065,LE\\ngregorian-interval/2015-03-31T00:00:00/P3Y,S92000003,M,20-24,57.52027,57.43389,57.60664,LE\\ngregorian-interval/2015-03-31T00:00:00/P3Y,S92000003,M,25-29,52.67524,52.59038,52.76009,LE\\ngregorian-interval/2015-03-31T00:00:00/P3Y,S92000003,M,30-34,47.91529,47.83251,47.99806,LE\\ngregorian-interval/2015-03-31T00:00:00/P3Y,S92000003,M,35-39,43.23762,43.15763,43.31762,LE\\ngregorian-interval/2015-03-31T00:00:00/P3Y,S92000003,M,40-44,38.62545,38.54873,38.70218,LE\\ngregorian-interval/2015-03-31T00:00:00/P3Y,S92000003,M,45-49,34.14931,34.07645,34.22216,LE\\ngregorian-interval/2015-03-31T00:00:00/P3Y,S92000003,M,50-54,29.75257,29.68295,29.82218,LE\\ngregorian-interval/2015-03-31T00:00:00/P3Y,S92000003,M,55-59,25.44223,25.37544,25.50903,LE\\ngregorian-interval/2015-03-31T00:00:00/P3Y,S92000003,M,60-64,21.30405,21.24032,21.36779,LE\\ngregorian-interval/2015-03-31T00:00:00/P3Y,S92000003,M,65-69,17.415,17.35478,17.47523,LE\\ngregorian-interval/2015-03-31T00:00:00/P3Y,S92000003,M,70-74,13.84052,13.78293,13.89812,LE\\ngregorian-interval/2015-03-31T00:00:00/P3Y,S92000003,M,75-79,10.63847,10.58351,10.69343,LE\\ngregorian-interval/2015-03-31T00:00:00/P3Y,S92000003,M,80-84,7.88094,7.82736,7.93451,LE\\ngregorian-interval/2015-03-31T00:00:00/P3Y,S92000003,M,85-89,5.63254,5.57468,5.69041,LE\\ngregorian-interval/2015-03-31T00:00:00/P3Y,S92000003,M,90plus,3.98709,3.90465,4.06953,LE\\ngregorian-interval/2015-03-31T00:00:00/P3Y,S92000003,F,lessthan1,81.07577,80.98945,81.1621,LE\\ngregorian-interval/2015-03-31T00:00:00/P3Y,S92000003,F,01-04,80.31586,80.23487,80.39684,LE\\ngregorian-interval/2015-03-31T00:00:00/P3Y,S92000003,F,05-09,76.35564,76.27549,76.4358,LE\\ngregorian-interval/2015-03-31T00:00:00/P3Y,S92000003,F,10-14,71.37504,71.29526,71.45483,LE\\ngregorian-interval/2015-03-31T00:00:00/P3Y,S92000003,F,15-19,66.40662,66.32746,66.48579,LE\\ngregorian-interval/2015-03-31T00:00:00/P3Y,S92000003,F,20-24,61.46968,61.39156,61.54779,LE\\ngregorian-interval/2015-03-31T00:00:00/P3Y,S92000003,F,25-29,56.5434,56.46618,56.62062,LE\\ngregorian-interval/2015-03-31T00:00:00/P3Y,S92000003,F,30-34,51.64093,51.56474,51.71712,LE\\ngregorian-interval/2015-03-31T00:00:00/P3Y,S92000003,F,35-39,46.79963,46.72505,46.87421,LE\\ngregorian-interval/2015-03-31T00:00:00/P3Y,S92000003,F,40-44,42.04786,41.97575,42.11998,LE\\ngregorian-interval/2015-03-31T00:00:00/P3Y,S92000003,F,45-49,37.35986,37.29044,37.42929,LE\\ngregorian-interval/2015-03-31T00:00:00/P3Y,S92000003,F,50-54,32.74029,32.67322,32.80737,LE\\ngregorian-interval/2015-03-31T00:00:00/P3Y,S92000003,F,55-59,28.23431,28.16967,28.29895,LE\\ngregorian-interval/2015-03-31T00:00:00/P3Y,S92000003,F,60-64,23.87203,23.81027,23.93379,LE\\ngregorian-interval/2015-03-31T00:00:00/P3Y,S92000003,F,65-69,19.68963,19.63135,19.74791,LE\\ngregorian-interval/2015-03-31T00:00:00/P3Y,S92000003,F,70-74,15.74844,15.69334,15.80355,LE\\ngregorian-interval/2015-03-31T00:00:00/P3Y,S92000003,F,75-79,12.15272,12.1013,12.20414,LE\\ngregorian-interval/2015-03-31T00:00:00/P3Y,S92000003,F,80-84,9.00879,8.96056,9.05701,LE\\ngregorian-interval/2015-03-31T00:00:00/P3Y,S92000003,F,85-89,6.35623,6.30781,6.40465,LE\\ngregorian-interval/2015-03-31T00:00:00/P3Y,S92000003,F,90plus,4.38575,4.32464,4.44687,LE\\ngregorian-interval/2015-03-31T00:00:00/P3Y,W92000004,M,lessthan1,78.3247,78.20137,78.44802,LE\\ngregorian-interval/2015-03-31T00:00:00/P3Y,W92000004,M,01-04,77.64267,77.52674,77.75861,LE\\ngregorian-interval/2015-03-31T00:00:00/P3Y,W92000004,M,05-09,73.69467,73.57987,73.80946,LE\\ngregorian-interval/2015-03-31T00:00:00/P3Y,W92000004,M,10-14,68.72386,68.60964,68.83808,LE\\ngregorian-interval/2015-03-31T00:00:00/P3Y,W92000004,M,15-19,63.75338,63.63975,63.86701,LE\\ngregorian-interval/2015-03-31T00:00:00/P3Y,W92000004,M,20-24,58.86749,58.75577,58.97922,LE\\ngregorian-interval/2015-03-31T00:00:00/P3Y,W92000004,M,25-29,54.00642,53.89648,54.11635,LE\\ngregorian-interval/2015-03-31T00:00:00/P3Y,W92000004,M,30-34,49.23239,49.12535,49.33943,LE\\ngregorian-interval/2015-03-31T00:00:00/P3Y,W92000004,M,35-39,44.5004,44.39694,44.60386,LE\\ngregorian-interval/2015-03-31T00:00:00/P3Y,W92000004,M,40-44,39.83477,39.73564,39.93391,LE\\ngregorian-interval/2015-03-31T00:00:00/P3Y,W92000004,M,45-49,35.24463,35.15014,35.33912,LE\\ngregorian-interval/2015-03-31T00:00:00/P3Y,W92000004,M,50-54,30.75022,30.65989,30.84056,LE\\ngregorian-interval/2015-03-31T00:00:00/P3Y,W92000004,M,55-59,26.34839,26.26192,26.43486,LE\\ngregorian-interval/2015-03-31T00:00:00/P3Y,W92000004,M,60-64,22.12906,22.04715,22.21097,LE\\ngregorian-interval/2015-03-31T00:00:00/P3Y,W92000004,M,65-69,18.17781,18.1012,18.25442,LE\\ngregorian-interval/2015-03-31T00:00:00/P3Y,W92000004,M,70-74,14.47033,14.39729,14.54338,LE\\ngregorian-interval/2015-03-31T00:00:00/P3Y,W92000004,M,75-79,11.11108,11.04116,11.181,LE\\ngregorian-interval/2015-03-31T00:00:00/P3Y,W92000004,M,80-84,8.22413,8.15645,8.29181,LE\\ngregorian-interval/2015-03-31T00:00:00/P3Y,W92000004,M,85-89,5.80678,5.73531,5.87825,LE\\ngregorian-interval/2015-03-31T00:00:00/P3Y,W92000004,M,90plus,4.0385,3.93988,4.13712,LE\\ngregorian-interval/2015-03-31T00:00:00/P3Y,W92000004,F,lessthan1,82.24995,82.13744,82.36245,LE\\ngregorian-interval/2015-03-31T00:00:00/P3Y,W92000004,F,01-04,81.46768,81.36133,81.57402,LE\\ngregorian-interval/2015-03-31T00:00:00/P3Y,W92000004,F,05-09,77.50643,77.40113,77.61174,LE\\ngregorian-interval/2015-03-31T00:00:00/P3Y,W92000004,F,10-14,72.53313,72.42847,72.63779,LE\\ngregorian-interval/2015-03-31T00:00:00/P3Y,W92000004,F,15-19,67.56171,67.45776,67.66566,LE\\ngregorian-interval/2015-03-31T00:00:00/P3Y,W92000004,F,20-24,62.62329,62.52065,62.72592,LE\\ngregorian-interval/2015-03-31T00:00:00/P3Y,W92000004,F,25-29,57.7054,57.60416,57.80665,LE\\ngregorian-interval/2015-03-31T00:00:00/P3Y,W92000004,F,30-34,52.80678,52.70717,52.90639,LE\\ngregorian-interval/2015-03-31T00:00:00/P3Y,W92000004,F,35-39,47.9376,47.84007,48.03514,LE\\ngregorian-interval/2015-03-31T00:00:00/P3Y,W92000004,F,40-44,43.10623,43.01124,43.20122,LE\\ngregorian-interval/2015-03-31T00:00:00/P3Y,W92000004,F,45-49,38.36472,38.27304,38.4564,LE\\ngregorian-interval/2015-03-31T00:00:00/P3Y,W92000004,F,50-54,33.67806,33.58928,33.76685,LE\\ngregorian-interval/2015-03-31T00:00:00/P3Y,W92000004,F,55-59,29.13701,29.05164,29.22237,LE\\ngregorian-interval/2015-03-31T00:00:00/P3Y,W92000004,F,60-64,24.7433,24.66213,24.82447,LE\\ngregorian-interval/2015-03-31T00:00:00/P3Y,W92000004,F,65-69,20.53193,20.45565,20.60822,LE\\ngregorian-interval/2015-03-31T00:00:00/P3Y,W92000004,F,70-74,16.54447,16.47228,16.61666,LE\\ngregorian-interval/2015-03-31T00:00:00/P3Y,W92000004,F,75-79,12.81423,12.74638,12.88209,LE\\ngregorian-interval/2015-03-31T00:00:00/P3Y,W92000004,F,80-84,9.45063,9.38725,9.51401,LE\\ngregorian-interval/2015-03-31T00:00:00/P3Y,W92000004,F,85-89,6.63385,6.57165,6.69605,LE\\ngregorian-interval/2015-03-31T00:00:00/P3Y,W92000004,F,90plus,4.49226,4.41756,4.56696,LE\\ngregorian-interval/2016-03-31T00:00:00/P3Y,E92000001,M,lessthan1,79.62666,79.59764,79.65568,LE\\ngregorian-interval/2016-03-31T00:00:00/P3Y,E92000001,M,01-04,78.96206,78.93473,78.98939,LE\\ngregorian-interval/2016-03-31T00:00:00/P3Y,E92000001,M,05-09,75.00733,74.98021,75.03444,LE\\ngregorian-interval/2016-03-31T00:00:00/P3Y,E92000001,M,10-14,70.03478,70.00779,70.06177,LE\\ngregorian-interval/2016-03-31T00:00:00/P3Y,E92000001,M,15-19,65.06743,65.04058,65.09427,LE\\ngregorian-interval/2016-03-31T00:00:00/P3Y,E92000001,M,20-24,60.16161,60.13516,60.18805,LE\\ngregorian-interval/2016-03-31T00:00:00/P3Y,E92000001,M,25-29,55.30174,55.27578,55.3277,LE\\ngregorian-interval/2016-03-31T00:00:00/P3Y,E92000001,M,30-34,50.45421,50.4287,50.47973,LE\\ngregorian-interval/2016-03-31T00:00:00/P3Y,E92000001,M,35-39,45.64357,45.61857,45.66857,LE\\ngregorian-interval/2016-03-31T00:00:00/P3Y,E92000001,M,40-44,40.88382,40.85942,40.90821,LE\\ngregorian-interval/2016-03-31T00:00:00/P3Y,E92000001,M,45-49,36.21559,36.19198,36.2392,LE\\ngregorian-interval/2016-03-31T00:00:00/P3Y,E92000001,M,50-54,31.64728,31.62444,31.67012,LE\\ngregorian-interval/2016-03-31T00:00:00/P3Y,E92000001,M,55-59,27.19147,27.1694,27.21355,LE\\ngregorian-interval/2016-03-31T00:00:00/P3Y,E92000001,M,60-64,22.90053,22.87938,22.92169,LE\\ngregorian-interval/2016-03-31T00:00:00/P3Y,E92000001,M,65-69,18.85092,18.83093,18.8709,LE\\ngregorian-interval/2016-03-31T00:00:00/P3Y,E92000001,M,70-74,15.06814,15.04916,15.08713,LE\\ngregorian-interval/2016-03-31T00:00:00/P3Y,E92000001,M,75-79,11.57029,11.55199,11.5886,LE\\ngregorian-interval/2016-03-31T00:00:00/P3Y,E92000001,M,80-84,8.55654,8.53886,8.57422,LE\\ngregorian-interval/2016-03-31T00:00:00/P3Y,E92000001,M,85-89,6.06576,6.04709,6.08443,LE\\ngregorian-interval/2016-03-31T00:00:00/P3Y,E92000001,M,90plus,4.26963,4.24409,4.29517,LE\\ngregorian-interval/2016-03-31T00:00:00/P3Y,E92000001,F,lessthan1,83.21266,83.18535,83.23998,LE\\ngregorian-interval/2016-03-31T00:00:00/P3Y,E92000001,F,01-04,82.50601,82.48045,82.53157,LE\\ngregorian-interval/2016-03-31T00:00:00/P3Y,E92000001,F,05-09,78.54687,78.52155,78.57219,LE\\ngregorian-interval/2016-03-31T00:00:00/P3Y,E92000001,F,10-14,73.57081,73.54562,73.596,LE\\ngregorian-interval/2016-03-31T00:00:00/P3Y,E92000001,F,15-19,68.59641,68.57136,68.62146,LE\\ngregorian-interval/2016-03-31T00:00:00/P3Y,E92000001,F,20-24,63.64882,63.62404,63.6736,LE\\ngregorian-interval/2016-03-31T00:00:00/P3Y,E92000001,F,25-29,58.70984,58.68532,58.73436,LE\\ngregorian-interval/2016-03-31T00:00:00/P3Y,E92000001,F,30-34,53.78705,53.76279,53.8113,LE\\ngregorian-interval/2016-03-31T00:00:00/P3Y,E92000001,F,35-39,48.89795,48.87404,48.92185,LE\\ngregorian-interval/2016-03-31T00:00:00/P3Y,E92000001,F,40-44,44.05144,44.02798,44.07489,LE\\ngregorian-interval/2016-03-31T00:00:00/P3Y,E92000001,F,45-49,39.26603,39.24317,39.28889,LE\\ngregorian-interval/2016-03-31T00:00:00/P3Y,E92000001,F,50-54,34.56689,34.54465,34.58912,LE\\ngregorian-interval/2016-03-31T00:00:00/P3Y,E92000001,F,55-59,29.96161,29.94005,29.98317,LE\\ngregorian-interval/2016-03-31T00:00:00/P3Y,E92000001,F,60-64,25.48693,25.46623,25.50764,LE\\ngregorian-interval/2016-03-31T00:00:00/P3Y,E92000001,F,65-69,21.18527,21.16566,21.20487,LE\\ngregorian-interval/2016-03-31T00:00:00/P3Y,E92000001,F,70-74,17.07848,17.05988,17.09708,LE\\ngregorian-interval/2016-03-31T00:00:00/P3Y,E92000001,F,75-79,13.2249,13.20721,13.24259,LE\\ngregorian-interval/2016-03-31T00:00:00/P3Y,E92000001,F,80-84,9.80248,9.78587,9.8191,LE\\ngregorian-interval/2016-03-31T00:00:00/P3Y,E92000001,F,85-89,6.9023,6.88585,6.91874,LE\\ngregorian-interval/2016-03-31T00:00:00/P3Y,E92000001,F,90plus,4.73161,4.71167,4.75155,LE\\ngregorian-interval/2016-03-31T00:00:00/P3Y,K02000001,M,lessthan1,79.30891,79.28219,79.33563,LE\\ngregorian-interval/2016-03-31T00:00:00/P3Y,K02000001,M,01-04,78.63622,78.61103,78.66141,LE\\ngregorian-interval/2016-03-31T00:00:00/P3Y,K02000001,M,05-09,74.68214,74.65715,74.70713,LE\\ngregorian-interval/2016-03-31T00:00:00/P3Y,K02000001,M,10-14,69.70997,69.6851,69.73485,LE\\ngregorian-interval/2016-03-31T00:00:00/P3Y,K02000001,M,15-19,64.74331,64.71858,64.76805,LE\\ngregorian-interval/2016-03-31T00:00:00/P3Y,K02000001,M,20-24,59.84237,59.81802,59.86673,LE\\ngregorian-interval/2016-03-31T00:00:00/P3Y,K02000001,M,25-29,54.98742,54.96351,55.01132,LE\\ngregorian-interval/2016-03-31T00:00:00/P3Y,K02000001,M,30-34,50.15501,50.13155,50.17846,LE\\ngregorian-interval/2016-03-31T00:00:00/P3Y,K02000001,M,35-39,45.35961,45.33666,45.38256,LE\\ngregorian-interval/2016-03-31T00:00:00/P3Y,K02000001,M,40-44,40.61864,40.5963,40.64099,LE\\ngregorian-interval/2016-03-31T00:00:00/P3Y,K02000001,M,45-49,35.97365,35.95209,35.99522,LE\\ngregorian-interval/2016-03-31T00:00:00/P3Y,K02000001,M,50-54,31.42684,31.40602,31.44767,LE\\ngregorian-interval/2016-03-31T00:00:00/P3Y,K02000001,M,55-59,26.98956,26.96946,27.00965,LE\\ngregorian-interval/2016-03-31T00:00:00/P3Y,K02000001,M,60-64,22.71961,22.70037,22.73886,LE\\ngregorian-interval/2016-03-31T00:00:00/P3Y,K02000001,M,65-69,18.68968,18.6715,18.70786,LE\\ngregorian-interval/2016-03-31T00:00:00/P3Y,K02000001,M,70-74,14.93278,14.91551,14.95004,LE\\ngregorian-interval/2016-03-31T00:00:00/P3Y,K02000001,M,75-79,11.46364,11.44699,11.48029,LE\\ngregorian-interval/2016-03-31T00:00:00/P3Y,K02000001,M,80-84,8.48037,8.46426,8.49647,LE\\ngregorian-interval/2016-03-31T00:00:00/P3Y,K02000001,M,85-89,6.02105,6.00401,6.0381,LE\\ngregorian-interval/2016-03-31T00:00:00/P3Y,K02000001,M,90plus,4.23787,4.21446,4.26128,LE\\ngregorian-interval/2016-03-31T00:00:00/P3Y,K02000001,F,lessthan1,82.94748,82.92242,82.97255,LE\\ngregorian-interval/2016-03-31T00:00:00/P3Y,K02000001,F,01-04,82.23656,82.21311,82.26001,LE\\ngregorian-interval/2016-03-31T00:00:00/P3Y,K02000001,F,05-09,78.27733,78.2541,78.30057,LE\\ngregorian-interval/2016-03-31T00:00:00/P3Y,K02000001,F,10-14,73.30216,73.27905,73.32527,LE\\ngregorian-interval/2016-03-31T00:00:00/P3Y,K02000001,F,15-19,68.32883,68.30585,68.3518,LE\\ngregorian-interval/2016-03-31T00:00:00/P3Y,K02000001,F,20-24,63.38392,63.36121,63.40663,LE\\ngregorian-interval/2016-03-31T00:00:00/P3Y,K02000001,F,25-29,58.44924,58.42678,58.4717,LE\\ngregorian-interval/2016-03-31T00:00:00/P3Y,K02000001,F,30-34,53.52913,53.50692,53.55133,LE\\ngregorian-interval/2016-03-31T00:00:00/P3Y,K02000001,F,35-39,48.64525,48.62338,48.66712,LE\\ngregorian-interval/2016-03-31T00:00:00/P3Y,K02000001,F,40-44,43.80743,43.786,43.82886,LE\\ngregorian-interval/2016-03-31T00:00:00/P3Y,K02000001,F,45-49,39.03275,39.0119,39.05361,LE\\ngregorian-interval/2016-03-31T00:00:00/P3Y,K02000001,F,50-54,34.34177,34.3215,34.36204,LE\\ngregorian-interval/2016-03-31T00:00:00/P3Y,K02000001,F,55-59,29.75019,29.73055,29.76983,LE\\ngregorian-interval/2016-03-31T00:00:00/P3Y,K02000001,F,60-64,25.29158,25.27273,25.31042,LE\\ngregorian-interval/2016-03-31T00:00:00/P3Y,K02000001,F,65-69,21.00962,20.99178,21.02745,LE\\ngregorian-interval/2016-03-31T00:00:00/P3Y,K02000001,F,70-74,16.9274,16.9105,16.9443,LE\\ngregorian-interval/2016-03-31T00:00:00/P3Y,K02000001,F,75-79,13.10417,13.08811,13.12023,LE\\ngregorian-interval/2016-03-31T00:00:00/P3Y,K02000001,F,80-84,9.71716,9.70208,9.73224,LE\\ngregorian-interval/2016-03-31T00:00:00/P3Y,K02000001,F,85-89,6.84586,6.83091,6.86081,LE\\ngregorian-interval/2016-03-31T00:00:00/P3Y,K02000001,F,90plus,4.69345,4.67526,4.71163,LE\\ngregorian-interval/2016-03-31T00:00:00/P3Y,N92000002,M,lessthan1,78.67766,78.51414,78.84119,LE\\ngregorian-interval/2016-03-31T00:00:00/P3Y,N92000002,M,01-04,77.99177,77.83567,78.14786,LE\\ngregorian-interval/2016-03-31T00:00:00/P3Y,N92000002,M,05-09,74.04344,73.8885,74.19837,LE\\ngregorian-interval/2016-03-31T00:00:00/P3Y,N92000002,M,10-14,69.07247,68.91813,69.22681,LE\\ngregorian-interval/2016-03-31T00:00:00/P3Y,N92000002,M,15-19,64.10767,63.95407,64.26128,LE\\ngregorian-interval/2016-03-31T00:00:00/P3Y,N92000002,M,20-24,59.22979,59.07852,59.38105,LE\\ngregorian-interval/2016-03-31T00:00:00/P3Y,N92000002,M,25-29,54.4493,54.30189,54.59671,LE\\ngregorian-interval/2016-03-31T00:00:00/P3Y,N92000002,M,30-34,49.70727,49.56394,49.8506,LE\\ngregorian-interval/2016-03-31T00:00:00/P3Y,N92000002,M,35-39,44.96656,44.82698,45.10615,LE\\ngregorian-interval/2016-03-31T00:00:00/P3Y,N92000002,M,40-44,40.25246,40.11676,40.38815,LE\\ngregorian-interval/2016-03-31T00:00:00/P3Y,N92000002,M,45-49,35.60258,35.4712,35.73397,LE\\ngregorian-interval/2016-03-31T00:00:00/P3Y,N92000002,M,50-54,31.05819,30.931,31.18537,LE\\ngregorian-interval/2016-03-31T00:00:00/P3Y,N92000002,M,55-59,26.65627,26.53332,26.77923,LE\\ngregorian-interval/2016-03-31T00:00:00/P3Y,N92000002,M,60-64,22.41625,22.29804,22.53447,LE\\ngregorian-interval/2016-03-31T00:00:00/P3Y,N92000002,M,65-69,18.37256,18.25983,18.4853,LE\\ngregorian-interval/2016-03-31T00:00:00/P3Y,N92000002,M,70-74,14.65062,14.54345,14.75779,LE\\ngregorian-interval/2016-03-31T00:00:00/P3Y,N92000002,M,75-79,11.23235,11.12893,11.33578,LE\\ngregorian-interval/2016-03-31T00:00:00/P3Y,N92000002,M,80-84,8.24087,8.13957,8.34217,LE\\ngregorian-interval/2016-03-31T00:00:00/P3Y,N92000002,M,85-89,5.80906,5.70088,5.91724,LE\\ngregorian-interval/2016-03-31T00:00:00/P3Y,N92000002,M,90plus,4.05298,3.90166,4.20429,LE\\ngregorian-interval/2016-03-31T00:00:00/P3Y,N92000002,F,lessthan1,82.3777,82.22438,82.53101,LE\\ngregorian-interval/2016-03-31T00:00:00/P3Y,N92000002,F,01-04,81.73518,81.59227,81.87809,LE\\ngregorian-interval/2016-03-31T00:00:00/P3Y,N92000002,F,05-09,77.76375,77.62163,77.90586,LE\\ngregorian-interval/2016-03-31T00:00:00/P3Y,N92000002,F,10-14,72.79964,72.65843,72.94085,LE\\ngregorian-interval/2016-03-31T00:00:00/P3Y,N92000002,F,15-19,67.82858,67.68813,67.96903,LE\\ngregorian-interval/2016-03-31T00:00:00/P3Y,N92000002,F,20-24,62.89837,62.75963,63.0371,LE\\ngregorian-interval/2016-03-31T00:00:00/P3Y,N92000002,F,25-29,58.0014,57.86498,58.13782,LE\\ngregorian-interval/2016-03-31T00:00:00/P3Y,N92000002,F,30-34,53.09572,52.96107,53.23037,LE\\ngregorian-interval/2016-03-31T00:00:00/P3Y,N92000002,F,35-39,48.22888,48.09643,48.36133,LE\\ngregorian-interval/2016-03-31T00:00:00/P3Y,N92000002,F,40-44,43.3704,43.24007,43.50073,LE\\ngregorian-interval/2016-03-31T00:00:00/P3Y,N92000002,F,45-49,38.56792,38.44028,38.69555,LE\\ngregorian-interval/2016-03-31T00:00:00/P3Y,N92000002,F,50-54,33.89284,33.76861,34.01708,LE\\ngregorian-interval/2016-03-31T00:00:00/P3Y,N92000002,F,55-59,29.31765,29.19701,29.43829,LE\\ngregorian-interval/2016-03-31T00:00:00/P3Y,N92000002,F,60-64,24.89263,24.77646,25.0088,LE\\ngregorian-interval/2016-03-31T00:00:00/P3Y,N92000002,F,65-69,20.63878,20.52844,20.74911,LE\\ngregorian-interval/2016-03-31T00:00:00/P3Y,N92000002,F,70-74,16.59815,16.49394,16.70237,LE\\ngregorian-interval/2016-03-31T00:00:00/P3Y,N92000002,F,75-79,12.86525,12.76645,12.96406,LE\\ngregorian-interval/2016-03-31T00:00:00/P3Y,N92000002,F,80-84,9.54201,9.44874,9.63527,LE\\ngregorian-interval/2016-03-31T00:00:00/P3Y,N92000002,F,85-89,6.68082,6.58787,6.77376,LE\\ngregorian-interval/2016-03-31T00:00:00/P3Y,N92000002,F,90plus,4.57035,4.45537,4.68532,LE\\ngregorian-interval/2016-03-31T00:00:00/P3Y,S92000003,M,lessthan1,77.05854,76.9633,77.15379,LE\\ngregorian-interval/2016-03-31T00:00:00/P3Y,S92000003,M,01-04,76.31585,76.22521,76.40648,LE\\ngregorian-interval/2016-03-31T00:00:00/P3Y,S92000003,M,05-09,72.36315,72.27331,72.45299,LE\\ngregorian-interval/2016-03-31T00:00:00/P3Y,S92000003,M,10-14,67.39123,67.30181,67.48065,LE\\ngregorian-interval/2016-03-31T00:00:00/P3Y,S92000003,M,15-19,62.42737,62.33848,62.51625,LE\\ngregorian-interval/2016-03-31T00:00:00/P3Y,S92000003,M,20-24,57.55978,57.47264,57.64691,LE\\ngregorian-interval/2016-03-31T00:00:00/P3Y,S92000003,M,25-29,52.73194,52.6465,52.81738,LE\\ngregorian-interval/2016-03-31T00:00:00/P3Y,S92000003,M,30-34,47.98682,47.90353,48.07011,LE\\ngregorian-interval/2016-03-31T00:00:00/P3Y,S92000003,M,35-39,43.30738,43.22679,43.38798,LE\\ngregorian-interval/2016-03-31T00:00:00/P3Y,S92000003,M,40-44,38.70986,38.63252,38.78721,LE\\ngregorian-interval/2016-03-31T00:00:00/P3Y,S92000003,M,45-49,34.26174,34.18861,34.33487,LE\\ngregorian-interval/2016-03-31T00:00:00/P3Y,S92000003,M,50-54,29.89383,29.8242,29.96345,LE\\ngregorian-interval/2016-03-31T00:00:00/P3Y,S92000003,M,55-59,25.59605,25.52935,25.66276,LE\\ngregorian-interval/2016-03-31T00:00:00/P3Y,S92000003,M,60-64,21.45997,21.39628,21.52367,LE\\ngregorian-interval/2016-03-31T00:00:00/P3Y,S92000003,M,65-69,17.56396,17.50371,17.62421,LE\\ngregorian-interval/2016-03-31T00:00:00/P3Y,S92000003,M,70-74,13.98334,13.92598,14.04071,LE\\ngregorian-interval/2016-03-31T00:00:00/P3Y,S92000003,M,75-79,10.70705,10.65176,10.76233,LE\\ngregorian-interval/2016-03-31T00:00:00/P3Y,S92000003,M,80-84,7.95462,7.90061,8.00863,LE\\ngregorian-interval/2016-03-31T00:00:00/P3Y,S92000003,M,85-89,5.73311,5.67453,5.79169,LE\\ngregorian-interval/2016-03-31T00:00:00/P3Y,S92000003,M,90plus,4.05798,3.97471,4.14125,LE\\ngregorian-interval/2016-03-31T00:00:00/P3Y,S92000003,F,lessthan1,81.08181,80.99434,81.16928,LE\\ngregorian-interval/2016-03-31T00:00:00/P3Y,S92000003,F,01-04,80.33249,80.25065,80.41433,LE\\ngregorian-interval/2016-03-31T00:00:00/P3Y,S92000003,F,05-09,76.37205,76.29104,76.45305,LE\\ngregorian-interval/2016-03-31T00:00:00/P3Y,S92000003,F,10-14,71.39881,71.31831,71.47932,LE\\ngregorian-interval/2016-03-31T00:00:00/P3Y,S92000003,F,15-19,66.43737,66.3576,66.51714,LE\\ngregorian-interval/2016-03-31T00:00:00/P3Y,S92000003,F,20-24,61.50779,61.42921,61.58637,LE\\ngregorian-interval/2016-03-31T00:00:00/P3Y,S92000003,F,25-29,56.59253,56.51499,56.67006,LE\\ngregorian-interval/2016-03-31T00:00:00/P3Y,S92000003,F,30-34,51.68771,51.61116,51.76426,LE\\ngregorian-interval/2016-03-31T00:00:00/P3Y,S92000003,F,35-39,46.8418,46.76678,46.91681,LE\\ngregorian-interval/2016-03-31T00:00:00/P3Y,S92000003,F,40-44,42.09964,42.02708,42.17219,LE\\ngregorian-interval/2016-03-31T00:00:00/P3Y,S92000003,F,45-49,37.42595,37.35632,37.49558,LE\\ngregorian-interval/2016-03-31T00:00:00/P3Y,S92000003,F,50-54,32.80291,32.73566,32.87017,LE\\ngregorian-interval/2016-03-31T00:00:00/P3Y,S92000003,F,55-59,28.30914,28.24437,28.3739,LE\\ngregorian-interval/2016-03-31T00:00:00/P3Y,S92000003,F,60-64,23.94668,23.8847,24.00866,LE\\ngregorian-interval/2016-03-31T00:00:00/P3Y,S92000003,F,65-69,19.78615,19.72762,19.84468,LE\\ngregorian-interval/2016-03-31T00:00:00/P3Y,S92000003,F,70-74,15.84947,15.79424,15.9047,LE\\ngregorian-interval/2016-03-31T00:00:00/P3Y,S92000003,F,75-79,12.23475,12.18275,12.28674,LE\\ngregorian-interval/2016-03-31T00:00:00/P3Y,S92000003,F,80-84,9.10196,9.05305,9.15088,LE\\ngregorian-interval/2016-03-31T00:00:00/P3Y,S92000003,F,85-89,6.44287,6.39345,6.49228,LE\\ngregorian-interval/2016-03-31T00:00:00/P3Y,S92000003,F,90plus,4.47396,4.41132,4.53659,LE\\ngregorian-interval/2016-03-31T00:00:00/P3Y,W92000004,M,lessthan1,78.31173,78.18867,78.43479,LE\\ngregorian-interval/2016-03-31T00:00:00/P3Y,W92000004,M,01-04,77.61134,77.49538,77.7273,LE\\ngregorian-interval/2016-03-31T00:00:00/P3Y,W92000004,M,05-09,73.66404,73.54925,73.77883,LE\\ngregorian-interval/2016-03-31T00:00:00/P3Y,W92000004,M,10-14,68.69801,68.58388,68.81214,LE\\ngregorian-interval/2016-03-31T00:00:00/P3Y,W92000004,M,15-19,63.73819,63.62484,63.85153,LE\\ngregorian-interval/2016-03-31T00:00:00/P3Y,W92000004,M,20-24,58.85123,58.73982,58.96264,LE\\ngregorian-interval/2016-03-31T00:00:00/P3Y,W92000004,M,25-29,53.98951,53.8799,54.09911,LE\\ngregorian-interval/2016-03-31T00:00:00/P3Y,W92000004,M,30-34,49.21631,49.10956,49.32305,LE\\ngregorian-interval/2016-03-31T00:00:00/P3Y,W92000004,M,35-39,44.46401,44.36051,44.5675,LE\\ngregorian-interval/2016-03-31T00:00:00/P3Y,W92000004,M,40-44,39.80617,39.70697,39.90536,LE\\ngregorian-interval/2016-03-31T00:00:00/P3Y,W92000004,M,45-49,35.24385,35.14988,35.33783,LE\\ngregorian-interval/2016-03-31T00:00:00/P3Y,W92000004,M,50-54,30.75417,30.6645,30.84384,LE\\ngregorian-interval/2016-03-31T00:00:00/P3Y,W92000004,M,55-59,26.35496,26.26924,26.44069,LE\\ngregorian-interval/2016-03-31T00:00:00/P3Y,W92000004,M,60-64,22.15776,22.07665,22.23888,LE\\ngregorian-interval/2016-03-31T00:00:00/P3Y,W92000004,M,65-69,18.1883,18.11246,18.26413,LE\\ngregorian-interval/2016-03-31T00:00:00/P3Y,W92000004,M,70-74,14.49016,14.41834,14.56198,LE\\ngregorian-interval/2016-03-31T00:00:00/P3Y,W92000004,M,75-79,11.11211,11.04309,11.18113,LE\\ngregorian-interval/2016-03-31T00:00:00/P3Y,W92000004,M,80-84,8.19666,8.12988,8.26345,LE\\ngregorian-interval/2016-03-31T00:00:00/P3Y,W92000004,M,85-89,5.8146,5.74404,5.88516,LE\\ngregorian-interval/2016-03-31T00:00:00/P3Y,W92000004,M,90plus,4.04867,3.95141,4.14593,LE\\ngregorian-interval/2016-03-31T00:00:00/P3Y,W92000004,F,lessthan1,82.29823,82.18557,82.41089,LE\\ngregorian-interval/2016-03-31T00:00:00/P3Y,W92000004,F,01-04,81.52126,81.41502,81.6275,LE\\ngregorian-interval/2016-03-31T00:00:00/P3Y,W92000004,F,05-09,77.57155,77.46668,77.67642,LE\\ngregorian-interval/2016-03-31T00:00:00/P3Y,W92000004,F,10-14,72.60223,72.49811,72.70636,LE\\ngregorian-interval/2016-03-31T00:00:00/P3Y,W92000004,F,15-19,67.62736,67.52384,67.73087,LE\\ngregorian-interval/2016-03-31T00:00:00/P3Y,W92000004,F,20-24,62.69428,62.59224,62.79632,LE\\ngregorian-interval/2016-03-31T00:00:00/P3Y,W92000004,F,25-29,57.7762,57.67559,57.87681,LE\\ngregorian-interval/2016-03-31T00:00:00/P3Y,W92000004,F,30-34,52.86747,52.76832,52.96663,LE\\ngregorian-interval/2016-03-31T00:00:00/P3Y,W92000004,F,35-39,48.00156,47.90453,48.0986,LE\\ngregorian-interval/2016-03-31T00:00:00/P3Y,W92000004,F,40-44,43.1655,43.07088,43.26012,LE\\ngregorian-interval/2016-03-31T00:00:00/P3Y,W92000004,F,45-49,38.42327,38.33214,38.5144,LE\\ngregorian-interval/2016-03-31T00:00:00/P3Y,W92000004,F,50-54,33.73913,33.651,33.82726,LE\\ngregorian-interval/2016-03-31T00:00:00/P3Y,W92000004,F,55-59,29.18501,29.10023,29.26978,LE\\ngregorian-interval/2016-03-31T00:00:00/P3Y,W92000004,F,60-64,24.78224,24.70151,24.86298,LE\\ngregorian-interval/2016-03-31T00:00:00/P3Y,W92000004,F,65-69,20.56219,20.48628,20.6381,LE\\ngregorian-interval/2016-03-31T00:00:00/P3Y,W92000004,F,70-74,16.5774,16.50586,16.64893,LE\\ngregorian-interval/2016-03-31T00:00:00/P3Y,W92000004,F,75-79,12.82522,12.75756,12.89287,LE\\ngregorian-interval/2016-03-31T00:00:00/P3Y,W92000004,F,80-84,9.4841,9.42086,9.54733,LE\\ngregorian-interval/2016-03-31T00:00:00/P3Y,W92000004,F,85-89,6.66342,6.60137,6.72548,LE\\ngregorian-interval/2016-03-31T00:00:00/P3Y,W92000004,F,90plus,4.46284,4.38869,4.537,LE\\n'"
      ]
     },
     "execution_count": 763,
     "metadata": {},
     "output_type": "execute_result"
    }
   ],
   "source": [
    "test = open('/Users/martyn/Python Notebook Experiments/he-country-level-estimates_le.csv', \"r\")\n",
    "print(test)\n",
    "test.read()\n"
   ]
  },
  {
   "cell_type": "code",
   "execution_count": 768,
   "metadata": {},
   "outputs": [
    {
     "ename": "InvalidSchema",
     "evalue": "No connection adapters were found for 'File:///Users/martyn/Python Notebook Experiments/he-country-level-estimates_le.csv'",
     "output_type": "error",
     "traceback": [
      "\u001b[0;31m---------------------------------------------------------------------------\u001b[0m",
      "\u001b[0;31mInvalidSchema\u001b[0m                             Traceback (most recent call last)",
      "\u001b[0;32m<ipython-input-768-a4ae95ed9d6d>\u001b[0m in \u001b[0;36m<module>\u001b[0;34m\u001b[0m\n\u001b[0;32m----> 1\u001b[0;31m \u001b[0mmyThing\u001b[0m \u001b[0;34m=\u001b[0m \u001b[0mCSVWConverter\u001b[0m\u001b[0;34m.\u001b[0m\u001b[0mto_rdf\u001b[0m\u001b[0;34m(\u001b[0m\u001b[0;34m'File:///Users/martyn/Python Notebook Experiments/he-country-level-estimates_le.csv'\u001b[0m\u001b[0;34m,\u001b[0m \u001b[0mformat\u001b[0m\u001b[0;34m=\u001b[0m\u001b[0;34m'ttl'\u001b[0m\u001b[0;34m)\u001b[0m\u001b[0;34m\u001b[0m\u001b[0;34m\u001b[0m\u001b[0m\n\u001b[0m",
      "\u001b[0;32m//anaconda3/lib/python3.7/site-packages/csvwlib/converter/CSVWConverter.py\u001b[0m in \u001b[0;36mto_rdf\u001b[0;34m(csv_url, metadata_url, mode, format)\u001b[0m\n\u001b[1;32m      9\u001b[0m     \u001b[0;32mdef\u001b[0m \u001b[0mto_rdf\u001b[0m\u001b[0;34m(\u001b[0m\u001b[0mcsv_url\u001b[0m\u001b[0;34m=\u001b[0m\u001b[0;32mNone\u001b[0m\u001b[0;34m,\u001b[0m \u001b[0mmetadata_url\u001b[0m\u001b[0;34m=\u001b[0m\u001b[0;32mNone\u001b[0m\u001b[0;34m,\u001b[0m \u001b[0mmode\u001b[0m\u001b[0;34m=\u001b[0m\u001b[0;34m'standard'\u001b[0m\u001b[0;34m,\u001b[0m \u001b[0mformat\u001b[0m\u001b[0;34m=\u001b[0m\u001b[0;32mNone\u001b[0m\u001b[0;34m)\u001b[0m\u001b[0;34m:\u001b[0m\u001b[0;34m\u001b[0m\u001b[0;34m\u001b[0m\u001b[0m\n\u001b[1;32m     10\u001b[0m         \u001b[0;32massert\u001b[0m \u001b[0mcsv_url\u001b[0m \u001b[0;32mis\u001b[0m \u001b[0;32mnot\u001b[0m \u001b[0;32mNone\u001b[0m \u001b[0;32mor\u001b[0m \u001b[0mmetadata_url\u001b[0m \u001b[0;32mis\u001b[0m \u001b[0;32mnot\u001b[0m \u001b[0;32mNone\u001b[0m\u001b[0;34m\u001b[0m\u001b[0;34m\u001b[0m\u001b[0m\n\u001b[0;32m---> 11\u001b[0;31m         \u001b[0matdm\u001b[0m\u001b[0;34m,\u001b[0m \u001b[0mmetadata\u001b[0m \u001b[0;34m=\u001b[0m \u001b[0mModelConverter\u001b[0m\u001b[0;34m(\u001b[0m\u001b[0mcsv_url\u001b[0m\u001b[0;34m,\u001b[0m \u001b[0mmetadata_url\u001b[0m\u001b[0;34m)\u001b[0m\u001b[0;34m.\u001b[0m\u001b[0mconvert_to_atdm\u001b[0m\u001b[0;34m(\u001b[0m\u001b[0mmode\u001b[0m\u001b[0;34m)\u001b[0m\u001b[0;34m\u001b[0m\u001b[0;34m\u001b[0m\u001b[0m\n\u001b[0m\u001b[1;32m     12\u001b[0m         \u001b[0;32mreturn\u001b[0m \u001b[0mToRDFConverter\u001b[0m\u001b[0;34m(\u001b[0m\u001b[0matdm\u001b[0m\u001b[0;34m,\u001b[0m \u001b[0mmetadata\u001b[0m\u001b[0;34m)\u001b[0m\u001b[0;34m.\u001b[0m\u001b[0mconvert\u001b[0m\u001b[0;34m(\u001b[0m\u001b[0mmode\u001b[0m\u001b[0;34m,\u001b[0m \u001b[0mformat\u001b[0m\u001b[0;34m)\u001b[0m\u001b[0;34m\u001b[0m\u001b[0;34m\u001b[0m\u001b[0m\n\u001b[1;32m     13\u001b[0m \u001b[0;34m\u001b[0m\u001b[0m\n",
      "\u001b[0;32m//anaconda3/lib/python3.7/site-packages/csvwlib/converter/ModelConverter.py\u001b[0m in \u001b[0;36mconvert_to_atdm\u001b[0;34m(self, mode)\u001b[0m\n\u001b[1;32m     34\u001b[0m         \u001b[0mmetadata_validator\u001b[0m \u001b[0;34m=\u001b[0m \u001b[0mMetadataValidator\u001b[0m\u001b[0;34m(\u001b[0m\u001b[0mself\u001b[0m\u001b[0;34m.\u001b[0m\u001b[0mstart_url\u001b[0m\u001b[0;34m)\u001b[0m\u001b[0;34m\u001b[0m\u001b[0;34m\u001b[0m\u001b[0m\n\u001b[1;32m     35\u001b[0m         \u001b[0mself\u001b[0m\u001b[0;34m.\u001b[0m\u001b[0mmode\u001b[0m \u001b[0;34m=\u001b[0m \u001b[0mmode\u001b[0m\u001b[0;34m\u001b[0m\u001b[0;34m\u001b[0m\u001b[0m\n\u001b[0;32m---> 36\u001b[0;31m         \u001b[0mself\u001b[0m\u001b[0;34m.\u001b[0m\u001b[0mmetadata\u001b[0m \u001b[0;34m=\u001b[0m \u001b[0mMetadataLocator\u001b[0m\u001b[0;34m.\u001b[0m\u001b[0mfind_and_get\u001b[0m\u001b[0;34m(\u001b[0m\u001b[0mself\u001b[0m\u001b[0;34m.\u001b[0m\u001b[0mcsv_url\u001b[0m\u001b[0;34m,\u001b[0m \u001b[0mself\u001b[0m\u001b[0;34m.\u001b[0m\u001b[0mmetadata_url\u001b[0m\u001b[0;34m)\u001b[0m\u001b[0;34m\u001b[0m\u001b[0;34m\u001b[0m\u001b[0m\n\u001b[0m\u001b[1;32m     37\u001b[0m         \u001b[0mself\u001b[0m\u001b[0;34m.\u001b[0m\u001b[0m_normalize_metadata_base_url\u001b[0m\u001b[0;34m(\u001b[0m\u001b[0;34m)\u001b[0m\u001b[0;34m\u001b[0m\u001b[0;34m\u001b[0m\u001b[0m\n\u001b[1;32m     38\u001b[0m         \u001b[0mself\u001b[0m\u001b[0;34m.\u001b[0m\u001b[0m_normalize_metadata_csv_url\u001b[0m\u001b[0;34m(\u001b[0m\u001b[0;34m)\u001b[0m\u001b[0;34m\u001b[0m\u001b[0;34m\u001b[0m\u001b[0m\n",
      "\u001b[0;32m//anaconda3/lib/python3.7/site-packages/csvwlib/utils/MetadataLocator.py\u001b[0m in \u001b[0;36mfind_and_get\u001b[0;34m(csv_url, metadata_url)\u001b[0m\n\u001b[1;32m     14\u001b[0m             \u001b[0;32mreturn\u001b[0m \u001b[0mjsonlib\u001b[0m\u001b[0;34m.\u001b[0m\u001b[0mloads\u001b[0m\u001b[0;34m(\u001b[0m\u001b[0mrequests\u001b[0m\u001b[0;34m.\u001b[0m\u001b[0mget\u001b[0m\u001b[0;34m(\u001b[0m\u001b[0mmetadata_url\u001b[0m\u001b[0;34m)\u001b[0m\u001b[0;34m.\u001b[0m\u001b[0mcontent\u001b[0m\u001b[0;34m.\u001b[0m\u001b[0mdecode\u001b[0m\u001b[0;34m(\u001b[0m\u001b[0;34m)\u001b[0m\u001b[0;34m)\u001b[0m\u001b[0;34m\u001b[0m\u001b[0;34m\u001b[0m\u001b[0m\n\u001b[1;32m     15\u001b[0m \u001b[0;34m\u001b[0m\u001b[0m\n\u001b[0;32m---> 16\u001b[0;31m         \u001b[0mresponse\u001b[0m \u001b[0;34m=\u001b[0m \u001b[0mrequests\u001b[0m\u001b[0;34m.\u001b[0m\u001b[0mhead\u001b[0m\u001b[0;34m(\u001b[0m\u001b[0mcsv_url\u001b[0m\u001b[0;34m)\u001b[0m\u001b[0;34m\u001b[0m\u001b[0;34m\u001b[0m\u001b[0m\n\u001b[0m\u001b[1;32m     17\u001b[0m         \u001b[0;32mif\u001b[0m \u001b[0;34m'Link'\u001b[0m \u001b[0;32min\u001b[0m \u001b[0mresponse\u001b[0m\u001b[0;34m.\u001b[0m\u001b[0mheaders\u001b[0m \u001b[0;32mand\u001b[0m \u001b[0;34m'describedby'\u001b[0m \u001b[0;32min\u001b[0m \u001b[0mresponse\u001b[0m\u001b[0;34m.\u001b[0m\u001b[0mlinks\u001b[0m\u001b[0;34m:\u001b[0m\u001b[0;34m\u001b[0m\u001b[0;34m\u001b[0m\u001b[0m\n\u001b[1;32m     18\u001b[0m             \u001b[0mmetadata_name\u001b[0m \u001b[0;34m=\u001b[0m \u001b[0mresponse\u001b[0m\u001b[0;34m.\u001b[0m\u001b[0mlinks\u001b[0m\u001b[0;34m[\u001b[0m\u001b[0;34m'describedby'\u001b[0m\u001b[0;34m]\u001b[0m\u001b[0;34m[\u001b[0m\u001b[0;34m'url'\u001b[0m\u001b[0;34m]\u001b[0m\u001b[0;34m\u001b[0m\u001b[0;34m\u001b[0m\u001b[0m\n",
      "\u001b[0;32m//anaconda3/lib/python3.7/site-packages/requests/api.py\u001b[0m in \u001b[0;36mhead\u001b[0;34m(url, **kwargs)\u001b[0m\n\u001b[1;32m     96\u001b[0m \u001b[0;34m\u001b[0m\u001b[0m\n\u001b[1;32m     97\u001b[0m     \u001b[0mkwargs\u001b[0m\u001b[0;34m.\u001b[0m\u001b[0msetdefault\u001b[0m\u001b[0;34m(\u001b[0m\u001b[0;34m'allow_redirects'\u001b[0m\u001b[0;34m,\u001b[0m \u001b[0;32mFalse\u001b[0m\u001b[0;34m)\u001b[0m\u001b[0;34m\u001b[0m\u001b[0;34m\u001b[0m\u001b[0m\n\u001b[0;32m---> 98\u001b[0;31m     \u001b[0;32mreturn\u001b[0m \u001b[0mrequest\u001b[0m\u001b[0;34m(\u001b[0m\u001b[0;34m'head'\u001b[0m\u001b[0;34m,\u001b[0m \u001b[0murl\u001b[0m\u001b[0;34m,\u001b[0m \u001b[0;34m**\u001b[0m\u001b[0mkwargs\u001b[0m\u001b[0;34m)\u001b[0m\u001b[0;34m\u001b[0m\u001b[0;34m\u001b[0m\u001b[0m\n\u001b[0m\u001b[1;32m     99\u001b[0m \u001b[0;34m\u001b[0m\u001b[0m\n\u001b[1;32m    100\u001b[0m \u001b[0;34m\u001b[0m\u001b[0m\n",
      "\u001b[0;32m//anaconda3/lib/python3.7/site-packages/requests/api.py\u001b[0m in \u001b[0;36mrequest\u001b[0;34m(method, url, **kwargs)\u001b[0m\n\u001b[1;32m     56\u001b[0m     \u001b[0;31m# cases, and look like a memory leak in others.\u001b[0m\u001b[0;34m\u001b[0m\u001b[0;34m\u001b[0m\u001b[0;34m\u001b[0m\u001b[0m\n\u001b[1;32m     57\u001b[0m     \u001b[0;32mwith\u001b[0m \u001b[0msessions\u001b[0m\u001b[0;34m.\u001b[0m\u001b[0mSession\u001b[0m\u001b[0;34m(\u001b[0m\u001b[0;34m)\u001b[0m \u001b[0;32mas\u001b[0m \u001b[0msession\u001b[0m\u001b[0;34m:\u001b[0m\u001b[0;34m\u001b[0m\u001b[0;34m\u001b[0m\u001b[0m\n\u001b[0;32m---> 58\u001b[0;31m         \u001b[0;32mreturn\u001b[0m \u001b[0msession\u001b[0m\u001b[0;34m.\u001b[0m\u001b[0mrequest\u001b[0m\u001b[0;34m(\u001b[0m\u001b[0mmethod\u001b[0m\u001b[0;34m=\u001b[0m\u001b[0mmethod\u001b[0m\u001b[0;34m,\u001b[0m \u001b[0murl\u001b[0m\u001b[0;34m=\u001b[0m\u001b[0murl\u001b[0m\u001b[0;34m,\u001b[0m \u001b[0;34m**\u001b[0m\u001b[0mkwargs\u001b[0m\u001b[0;34m)\u001b[0m\u001b[0;34m\u001b[0m\u001b[0;34m\u001b[0m\u001b[0m\n\u001b[0m\u001b[1;32m     59\u001b[0m \u001b[0;34m\u001b[0m\u001b[0m\n\u001b[1;32m     60\u001b[0m \u001b[0;34m\u001b[0m\u001b[0m\n",
      "\u001b[0;32m//anaconda3/lib/python3.7/site-packages/requests/sessions.py\u001b[0m in \u001b[0;36mrequest\u001b[0;34m(self, method, url, params, data, headers, cookies, files, auth, timeout, allow_redirects, proxies, hooks, stream, verify, cert, json)\u001b[0m\n\u001b[1;32m    506\u001b[0m         }\n\u001b[1;32m    507\u001b[0m         \u001b[0msend_kwargs\u001b[0m\u001b[0;34m.\u001b[0m\u001b[0mupdate\u001b[0m\u001b[0;34m(\u001b[0m\u001b[0msettings\u001b[0m\u001b[0;34m)\u001b[0m\u001b[0;34m\u001b[0m\u001b[0;34m\u001b[0m\u001b[0m\n\u001b[0;32m--> 508\u001b[0;31m         \u001b[0mresp\u001b[0m \u001b[0;34m=\u001b[0m \u001b[0mself\u001b[0m\u001b[0;34m.\u001b[0m\u001b[0msend\u001b[0m\u001b[0;34m(\u001b[0m\u001b[0mprep\u001b[0m\u001b[0;34m,\u001b[0m \u001b[0;34m**\u001b[0m\u001b[0msend_kwargs\u001b[0m\u001b[0;34m)\u001b[0m\u001b[0;34m\u001b[0m\u001b[0;34m\u001b[0m\u001b[0m\n\u001b[0m\u001b[1;32m    509\u001b[0m \u001b[0;34m\u001b[0m\u001b[0m\n\u001b[1;32m    510\u001b[0m         \u001b[0;32mreturn\u001b[0m \u001b[0mresp\u001b[0m\u001b[0;34m\u001b[0m\u001b[0;34m\u001b[0m\u001b[0m\n",
      "\u001b[0;32m//anaconda3/lib/python3.7/site-packages/requests/sessions.py\u001b[0m in \u001b[0;36msend\u001b[0;34m(self, request, **kwargs)\u001b[0m\n\u001b[1;32m    610\u001b[0m \u001b[0;34m\u001b[0m\u001b[0m\n\u001b[1;32m    611\u001b[0m         \u001b[0;31m# Get the appropriate adapter to use\u001b[0m\u001b[0;34m\u001b[0m\u001b[0;34m\u001b[0m\u001b[0;34m\u001b[0m\u001b[0m\n\u001b[0;32m--> 612\u001b[0;31m         \u001b[0madapter\u001b[0m \u001b[0;34m=\u001b[0m \u001b[0mself\u001b[0m\u001b[0;34m.\u001b[0m\u001b[0mget_adapter\u001b[0m\u001b[0;34m(\u001b[0m\u001b[0murl\u001b[0m\u001b[0;34m=\u001b[0m\u001b[0mrequest\u001b[0m\u001b[0;34m.\u001b[0m\u001b[0murl\u001b[0m\u001b[0;34m)\u001b[0m\u001b[0;34m\u001b[0m\u001b[0;34m\u001b[0m\u001b[0m\n\u001b[0m\u001b[1;32m    613\u001b[0m \u001b[0;34m\u001b[0m\u001b[0m\n\u001b[1;32m    614\u001b[0m         \u001b[0;31m# Start time (approximately) of the request\u001b[0m\u001b[0;34m\u001b[0m\u001b[0;34m\u001b[0m\u001b[0;34m\u001b[0m\u001b[0m\n",
      "\u001b[0;32m//anaconda3/lib/python3.7/site-packages/requests/sessions.py\u001b[0m in \u001b[0;36mget_adapter\u001b[0;34m(self, url)\u001b[0m\n\u001b[1;32m    701\u001b[0m \u001b[0;34m\u001b[0m\u001b[0m\n\u001b[1;32m    702\u001b[0m         \u001b[0;31m# Nothing matches :-/\u001b[0m\u001b[0;34m\u001b[0m\u001b[0;34m\u001b[0m\u001b[0;34m\u001b[0m\u001b[0m\n\u001b[0;32m--> 703\u001b[0;31m         \u001b[0;32mraise\u001b[0m \u001b[0mInvalidSchema\u001b[0m\u001b[0;34m(\u001b[0m\u001b[0;34m\"No connection adapters were found for '%s'\"\u001b[0m \u001b[0;34m%\u001b[0m \u001b[0murl\u001b[0m\u001b[0;34m)\u001b[0m\u001b[0;34m\u001b[0m\u001b[0;34m\u001b[0m\u001b[0m\n\u001b[0m\u001b[1;32m    704\u001b[0m \u001b[0;34m\u001b[0m\u001b[0m\n\u001b[1;32m    705\u001b[0m     \u001b[0;32mdef\u001b[0m \u001b[0mclose\u001b[0m\u001b[0;34m(\u001b[0m\u001b[0mself\u001b[0m\u001b[0;34m)\u001b[0m\u001b[0;34m:\u001b[0m\u001b[0;34m\u001b[0m\u001b[0;34m\u001b[0m\u001b[0m\n",
      "\u001b[0;31mInvalidSchema\u001b[0m: No connection adapters were found for 'File:///Users/martyn/Python Notebook Experiments/he-country-level-estimates_le.csv'"
     ]
    }
   ],
   "source": [
    "myThing = CSVWConverter.to_rdf('File:///Users/martyn/Python Notebook Experiments/he-country-level-estimates_le.csv', format='ttl')\n"
   ]
  },
  {
   "cell_type": "code",
   "execution_count": 754,
   "metadata": {},
   "outputs": [],
   "source": [
    "myThing = CSVWConverter.to_rdf('http://w3c.github.io/csvw/tests/tree-ops.csv', format='ttl')\n",
    "#CSVWConverter.to_rdf('he-country-level-estimates_le.csv', metadata_url='he-country-level-estimates_le-metadata.json', format='ttl')"
   ]
  },
  {
   "cell_type": "code",
   "execution_count": 755,
   "metadata": {},
   "outputs": [
    {
     "data": {
      "text/plain": [
       "'@prefix : <http://w3c.github.io/csvw/tests/tree-ops.csv#> .\\n@prefix as: <https://www.w3.org/ns/activitystreams#> .\\n@prefix cc: <http://creativecommons.org/ns#> .\\n@prefix csvw: <http://www.w3.org/ns/csvw#> .\\n@prefix ctag: <http://commontag.org/ns#> .\\n@prefix dc: <http://purl.org/dc/terms/> .\\n@prefix dc11: <http://purl.org/dc/elements/1.1/> .\\n@prefix dcat: <http://www.w3.org/ns/dcat#> .\\n@prefix dcterms: <http://purl.org/dc/terms/> .\\n@prefix dqv: <http://www.w3.org/ns/dqv#> .\\n@prefix duv: <https://www.w3.org/TR/vocab-duv#> .\\n@prefix foaf: <http://xmlns.com/foaf/0.1/> .\\n@prefix gr: <http://purl.org/goodrelations/v1#> .\\n@prefix grddl: <http://www.w3.org/2003/g/data-view#> .\\n@prefix ical: <http://www.w3.org/2002/12/cal/icaltzd#> .\\n@prefix ldp: <http://www.w3.org/ns/ldp#> .\\n@prefix ma: <http://www.w3.org/ns/ma-ont#> .\\n@prefix ns1: <http://w3c.github.io/csvw/tests/tree-ops.csv#Inventory%20> .\\n@prefix ns2: <http://w3c.github.io/csvw/tests/tree-ops.csv#Trim%20> .\\n@prefix ns3: <http://w3c.github.io/csvw/tests/tree-ops.csv#On%20> .\\n@prefix oa: <http://www.w3.org/ns/oa#> .\\n@prefix og: <http://ogp.me/ns#> .\\n@prefix org: <http://www.w3.org/ns/org#> .\\n@prefix owl: <http://www.w3.org/2002/07/owl#> .\\n@prefix prov: <http://www.w3.org/ns/prov#> .\\n@prefix qb: <http://purl.org/linked-data/cube#> .\\n@prefix rdf: <http://www.w3.org/1999/02/22-rdf-syntax-ns#> .\\n@prefix rdfa: <http://www.w3.org/ns/rdfa#> .\\n@prefix rdfs: <http://www.w3.org/2000/01/rdf-schema#> .\\n@prefix rev: <http://purl.org/stuff/rev#> .\\n@prefix rif: <http://www.w3.org/2007/rif#> .\\n@prefix rr: <http://www.w3.org/ns/r2rml#> .\\n@prefix schema: <http://schema.org/> .\\n@prefix sd: <http://www.w3.org/ns/sparql-service-description#> .\\n@prefix sioc: <http://rdfs.org/sioc/ns#> .\\n@prefix skos: <http://www.w3.org/2004/02/skos/core#> .\\n@prefix skosxl: <http://www.w3.org/2008/05/skos-xl#> .\\n@prefix sosa: <http://www.w3.org/ns/sosa/> .\\n@prefix ssn: <http://www.w3.org/ns/ssn/> .\\n@prefix time: <http://www.w3.org/2006/time#> .\\n@prefix v: <http://rdf.data-vocabulary.org/#> .\\n@prefix vcard: <http://www.w3.org/2006/vcard/ns#> .\\n@prefix void: <http://rdfs.org/ns/void#> .\\n@prefix wdr: <http://www.w3.org/2007/05/powder#> .\\n@prefix wdrs: <http://www.w3.org/2007/05/powder-s#> .\\n@prefix xhv: <http://www.w3.org/1999/xhtml/vocab#> .\\n@prefix xml: <http://www.w3.org/XML/1998/namespace> .\\n@prefix xsd: <http://www.w3.org/2001/XMLSchema#> .\\n\\n[] a csvw:TableGroup ;\\n    csvw:table [ a csvw:Table ;\\n            csvw:row [ a csvw:Row ;\\n                    csvw:describes [ :GID \"1\" ;\\n                            ns1:Date \"10/18/2010\" ;\\n                            ns3:Street \"ADDISON AV\" ;\\n                            :Species \"Celtis australis\" ;\\n                            ns2:Cycle \"Large Tree Routine Prune\" ] ;\\n                    csvw:rownum 1 ;\\n                    csvw:url <http://w3c.github.io/csvw/tests/tree-ops.csv#row=2> ],\\n                [ a csvw:Row ;\\n                    csvw:describes [ :GID \"2\" ;\\n                            ns1:Date \"6/2/2010\" ;\\n                            ns3:Street \"EMERSON ST\" ;\\n                            :Species \"Liquidambar styraciflua\" ;\\n                            ns2:Cycle \"Large Tree Routine Prune\" ] ;\\n                    csvw:rownum 2 ;\\n                    csvw:url <http://w3c.github.io/csvw/tests/tree-ops.csv#row=3> ] ;\\n            csvw:url <http://w3c.github.io/csvw/tests/tree-ops.csv> ] .\\n\\n'"
      ]
     },
     "execution_count": 755,
     "metadata": {},
     "output_type": "execute_result"
    }
   ],
   "source": [
    "myThing"
   ]
  },
  {
   "cell_type": "code",
   "execution_count": null,
   "metadata": {},
   "outputs": [],
   "source": []
  },
  {
   "cell_type": "code",
   "execution_count": null,
   "metadata": {},
   "outputs": [],
   "source": []
  },
  {
   "cell_type": "code",
   "execution_count": null,
   "metadata": {},
   "outputs": [],
   "source": []
  },
  {
   "cell_type": "code",
   "execution_count": null,
   "metadata": {},
   "outputs": [],
   "source": []
  },
  {
   "cell_type": "code",
   "execution_count": null,
   "metadata": {},
   "outputs": [],
   "source": []
  },
  {
   "cell_type": "code",
   "execution_count": null,
   "metadata": {},
   "outputs": [],
   "source": []
  },
  {
   "cell_type": "code",
   "execution_count": null,
   "metadata": {},
   "outputs": [],
   "source": []
  },
  {
   "cell_type": "code",
   "execution_count": 661,
   "metadata": {},
   "outputs": [
    {
     "data": {
      "text/markdown": [
       "<span style='color:Red'>**label:**</span>"
      ],
      "text/plain": [
       "<IPython.core.display.Markdown object>"
      ]
     },
     "metadata": {},
     "output_type": "display_data"
    },
    {
     "data": {
      "text/markdown": [
       "<span style='color:Blue'>*---> http://www.w3.org/2000/01/rdf-schema#label.*</span>"
      ],
      "text/plain": [
       "<IPython.core.display.Markdown object>"
      ]
     },
     "metadata": {},
     "output_type": "display_data"
    },
    {
     "data": {
      "text/markdown": [
       "<span style='color:Red'>**comment:**</span>"
      ],
      "text/plain": [
       "<IPython.core.display.Markdown object>"
      ]
     },
     "metadata": {},
     "output_type": "display_data"
    },
    {
     "data": {
      "text/markdown": [
       "<span style='color:Blue'>*---> http://www.w3.org/2000/01/rdf-schema#comment.*</span>"
      ],
      "text/plain": [
       "<IPython.core.display.Markdown object>"
      ]
     },
     "metadata": {},
     "output_type": "display_data"
    },
    {
     "data": {
      "text/markdown": [
       "<span style='color:Red'>**title:**</span>"
      ],
      "text/plain": [
       "<IPython.core.display.Markdown object>"
      ]
     },
     "metadata": {},
     "output_type": "display_data"
    },
    {
     "data": {
      "text/markdown": [
       "<span style='color:Blue'>*---> http://purl.org/dc/terms/title.*</span>"
      ],
      "text/plain": [
       "<IPython.core.display.Markdown object>"
      ]
     },
     "metadata": {},
     "output_type": "display_data"
    },
    {
     "data": {
      "text/markdown": [
       "<span style='color:Red'>**description:**</span>"
      ],
      "text/plain": [
       "<IPython.core.display.Markdown object>"
      ]
     },
     "metadata": {},
     "output_type": "display_data"
    },
    {
     "data": {
      "text/markdown": [
       "<span style='color:Blue'>*---> http://purl.org/dc/terms/description.*</span>"
      ],
      "text/plain": [
       "<IPython.core.display.Markdown object>"
      ]
     },
     "metadata": {},
     "output_type": "display_data"
    },
    {
     "data": {
      "text/markdown": [
       "<span style='color:Red'>**issued:**</span>"
      ],
      "text/plain": [
       "<IPython.core.display.Markdown object>"
      ]
     },
     "metadata": {},
     "output_type": "display_data"
    },
    {
     "data": {
      "text/markdown": [
       "<span style='color:Blue'>*---> http://purl.org/dc/terms/issued.*</span>"
      ],
      "text/plain": [
       "<IPython.core.display.Markdown object>"
      ]
     },
     "metadata": {},
     "output_type": "display_data"
    },
    {
     "data": {
      "text/markdown": [
       "<span style='color:Red'>**modified:**</span>"
      ],
      "text/plain": [
       "<IPython.core.display.Markdown object>"
      ]
     },
     "metadata": {},
     "output_type": "display_data"
    },
    {
     "data": {
      "text/markdown": [
       "<span style='color:Blue'>*---> http://purl.org/dc/terms/modified.*</span>"
      ],
      "text/plain": [
       "<IPython.core.display.Markdown object>"
      ]
     },
     "metadata": {},
     "output_type": "display_data"
    },
    {
     "data": {
      "text/markdown": [
       "<span style='color:Red'>**license:**</span>"
      ],
      "text/plain": [
       "<IPython.core.display.Markdown object>"
      ]
     },
     "metadata": {},
     "output_type": "display_data"
    },
    {
     "data": {
      "text/markdown": [
       "<span style='color:Blue'>*---> http://purl.org/dc/terms/license.*</span>"
      ],
      "text/plain": [
       "<IPython.core.display.Markdown object>"
      ]
     },
     "metadata": {},
     "output_type": "display_data"
    },
    {
     "data": {
      "text/markdown": [
       "<span style='color:Red'>**rights:**</span>"
      ],
      "text/plain": [
       "<IPython.core.display.Markdown object>"
      ]
     },
     "metadata": {},
     "output_type": "display_data"
    },
    {
     "data": {
      "text/markdown": [
       "<span style='color:Blue'>*---> http://purl.org/dc/terms/rights.*</span>"
      ],
      "text/plain": [
       "<IPython.core.display.Markdown object>"
      ]
     },
     "metadata": {},
     "output_type": "display_data"
    },
    {
     "data": {
      "text/markdown": [
       "<span style='color:Red'>**accessURL:**</span>"
      ],
      "text/plain": [
       "<IPython.core.display.Markdown object>"
      ]
     },
     "metadata": {},
     "output_type": "display_data"
    },
    {
     "data": {
      "text/markdown": [
       "<span style='color:Blue'>*---> http://www.w3.org/ns/dcat#accessURL.*</span>"
      ],
      "text/plain": [
       "<IPython.core.display.Markdown object>"
      ]
     },
     "metadata": {},
     "output_type": "display_data"
    },
    {
     "data": {
      "text/markdown": [
       "<span style='color:Red'>**downloadURL:**</span>"
      ],
      "text/plain": [
       "<IPython.core.display.Markdown object>"
      ]
     },
     "metadata": {},
     "output_type": "display_data"
    },
    {
     "data": {
      "text/markdown": [
       "<span style='color:Blue'>*---> http://www.w3.org/ns/dcat#downloadURL.*</span>"
      ],
      "text/plain": [
       "<IPython.core.display.Markdown object>"
      ]
     },
     "metadata": {},
     "output_type": "display_data"
    },
    {
     "data": {
      "text/markdown": [
       "<span style='color:Red'>**mediaType:**</span>"
      ],
      "text/plain": [
       "<IPython.core.display.Markdown object>"
      ]
     },
     "metadata": {},
     "output_type": "display_data"
    },
    {
     "data": {
      "text/markdown": [
       "<span style='color:Blue'>*---> http://www.w3.org/ns/dcat#mediaType.*</span>"
      ],
      "text/plain": [
       "<IPython.core.display.Markdown object>"
      ]
     },
     "metadata": {},
     "output_type": "display_data"
    },
    {
     "data": {
      "text/markdown": [
       "<span style='color:Red'>**byteSize:**</span>"
      ],
      "text/plain": [
       "<IPython.core.display.Markdown object>"
      ]
     },
     "metadata": {},
     "output_type": "display_data"
    },
    {
     "data": {
      "text/markdown": [
       "<span style='color:Blue'>*---> http://www.w3.org/ns/dcat#byteSize.*</span>"
      ],
      "text/plain": [
       "<IPython.core.display.Markdown object>"
      ]
     },
     "metadata": {},
     "output_type": "display_data"
    },
    {
     "data": {
      "text/markdown": [
       "<span style='color:Red'>**checksum:**</span>"
      ],
      "text/plain": [
       "<IPython.core.display.Markdown object>"
      ]
     },
     "metadata": {},
     "output_type": "display_data"
    },
    {
     "data": {
      "text/markdown": [
       "<span style='color:Blue'>*---> http://spdx.org/rdf/terms#checksum.*</span>"
      ],
      "text/plain": [
       "<IPython.core.display.Markdown object>"
      ]
     },
     "metadata": {},
     "output_type": "display_data"
    },
    {
     "data": {
      "text/markdown": [
       "<span style='color:Red'>**language:**</span>"
      ],
      "text/plain": [
       "<IPython.core.display.Markdown object>"
      ]
     },
     "metadata": {},
     "output_type": "display_data"
    },
    {
     "data": {
      "text/markdown": [
       "<span style='color:Blue'>*---> http://purl.org/dc/terms/language.*</span>"
      ],
      "text/plain": [
       "<IPython.core.display.Markdown object>"
      ]
     },
     "metadata": {},
     "output_type": "display_data"
    },
    {
     "name": "stdout",
     "output_type": "stream",
     "text": [
      "\"label\": \"http://www.w3.org/2000/01/rdf-schema#label\",\"comment\": \"http://www.w3.org/2000/01/rdf-schema#comment\",\"title\": \"http://purl.org/dc/terms/title\",\"description\": \"http://purl.org/dc/terms/description\",\"issued\": \"http://purl.org/dc/terms/issued\",\"modified\": \"http://purl.org/dc/terms/modified\",\"license\": \"http://purl.org/dc/terms/license\",\"rights\": \"http://purl.org/dc/terms/rights\",\"accessURL\": \"http://www.w3.org/ns/dcat#accessURL\",\"downloadURL\": \"http://www.w3.org/ns/dcat#downloadURL\",\"mediaType\": \"http://www.w3.org/ns/dcat#mediaType\",\"byteSize\": \"http://www.w3.org/ns/dcat#byteSize\",\"checksum\": \"http://spdx.org/rdf/terms#checksum\",\"language\": \"http://purl.org/dc/terms/language\",\"url: \"INSERT KEY FROM LOOP IDIOT\",\n"
     ]
    }
   ],
   "source": [
    "str_temp_metadata = str(distribution._properties_metadata)\n",
    "str_temp_metadata = mytext.replace(\"\\'\", \"\\\"\")\n",
    "str_temp_metadata_pt2 = mytext.split('\"')\n",
    "\n",
    "str_parsed_meta = []\n",
    "for i in range(len(str_temp_metadata_pt2)):\n",
    "    if i % 2 != 0:\n",
    "        str_parsed_meta.append(str_temp_metadata_pt2[i])\n",
    "\n",
    "str_parsed_meta_links = {}\n",
    "for i in range(len(str_parsed_meta)):\n",
    "    if (str_parsed_meta[i][:7] != 'http://') and (str_parsed_meta[i+1][:7] == 'http://'):\n",
    "        str_parsed_meta_links[str_parsed_meta[i]] = str_parsed_meta[i+1]\n",
    " \n",
    "hacked_string_baby = ''\n",
    "for key in str_parsed_meta_links.keys():\n",
    "    printmd('**' + key + ':**', colour='Red')\n",
    "    printmd('*---> '+ str_parsed_meta_links[key] + '.*', colour='Blue')\n",
    "    hacked_string_baby = hacked_string_baby + ('\"' + str(key) + '\": ' + '\"' + str(str_parsed_meta_links[key]) + '\",')\n",
    "\n",
    "hacked_string_baby = hacked_string_baby + '\"url: \"' + 'INSERT KEY FROM LOOP IDIOT' + '\",'\n",
    "print(hacked_string_baby)"
   ]
  },
  {
   "cell_type": "code",
   "execution_count": 622,
   "metadata": {},
   "outputs": [
    {
     "ename": "SyntaxError",
     "evalue": "invalid syntax (<ipython-input-622-25e51c25b33f>, line 1)",
     "output_type": "error",
     "traceback": [
      "\u001b[0;36m  File \u001b[0;32m\"<ipython-input-622-25e51c25b33f>\"\u001b[0;36m, line \u001b[0;32m1\u001b[0m\n\u001b[0;31m    https://www.w3.org/TR/tabular-metadata/ -->\u001b[0m\n\u001b[0m           ^\u001b[0m\n\u001b[0;31mSyntaxError\u001b[0m\u001b[0;31m:\u001b[0m invalid syntax\n"
     ]
    }
   ],
   "source": [
    "https://www.w3.org/TR/tabular-metadata/ -->\n",
    "    \n",
    "{\n",
    "  \"@context\": \"http://www.w3.org/ns/csvw\",\n",
    "  \"tables\": [{\n",
    "    \"url\": \"http://example.org/countries.csv\",\n",
    "    \"tableSchema\": {\n",
    "      \"columns\": [{\n",
    "        \"name\": \"countryCode\",\n",
    "        \"datatype\": \"string\",\n",
    "        \"propertyUrl\": \"http://www.geonames.org/ontology{#_name}\"\n",
    "      }, {\n",
    "        \"name\": \"latitude\",\n",
    "        \"datatype\": \"number\"\n",
    "      }, {\n",
    "        \"name\": \"longitude\",\n",
    "        \"datatype\": \"number\"\n",
    "      }, {\n",
    "        \"name\": \"name\",\n",
    "        \"datatype\": \"string\"\n",
    "      }],\n",
    "      \"aboutUrl\": \"http://example.org/countries.csv{#countryCode}\",\n",
    "      \"propertyUrl\": \"http://schema.org/{_name}\",\n",
    "      \"primaryKey\": \"countryCode\"\n",
    "    }\n",
    "  }, {\n",
    "    \"url\": \"http://example.org/country_slice.csv\",\n",
    "    \"tableSchema\": {\n",
    "      \"columns\": [{\n",
    "        \"name\": \"countryRef\",\n",
    "        \"valueUrl\": \"http://example.org/countries.csv{#countryRef}\"\n",
    "      }, {\n",
    "        \"name\": \"year\",\n",
    "        \"datatype\": \"gYear\"\n",
    "      }, {\n",
    "        \"name\": \"population\",\n",
    "        \"datatype\": \"integer\"\n",
    "      }],\n",
    "      \"foreignKeys\": [{\n",
    "        \"columnReference\": \"countryRef\",\n",
    "        \"reference\": {\n",
    "          \"resource\": \"http://example.org/countries.csv\",\n",
    "          \"columnReference\": \"countryCode\"\n",
    "        }\n",
    "      }]\n",
    "    }\n",
    "  }]\n",
    "}"
   ]
  },
  {
   "cell_type": "code",
   "execution_count": null,
   "metadata": {},
   "outputs": [],
   "source": []
  },
  {
   "cell_type": "code",
   "execution_count": null,
   "metadata": {},
   "outputs": [],
   "source": []
  },
  {
   "cell_type": "code",
   "execution_count": null,
   "metadata": {},
   "outputs": [],
   "source": []
  },
  {
   "cell_type": "code",
   "execution_count": null,
   "metadata": {},
   "outputs": [],
   "source": []
  },
  {
   "cell_type": "code",
   "execution_count": null,
   "metadata": {},
   "outputs": [],
   "source": []
  },
  {
   "cell_type": "code",
   "execution_count": null,
   "metadata": {},
   "outputs": [],
   "source": []
  },
  {
   "cell_type": "code",
   "execution_count": 454,
   "metadata": {},
   "outputs": [
    {
     "data": {
      "text/plain": [
       "gssutils.metadata.Distribution"
      ]
     },
     "execution_count": 454,
     "metadata": {},
     "output_type": "execute_result"
    }
   ],
   "source": [
    "type(distribution)"
   ]
  },
  {
   "cell_type": "code",
   "execution_count": 447,
   "metadata": {},
   "outputs": [
    {
     "data": {
      "text/html": [
       "<h3>Distribution</h3>\n",
       "<dl><dt>dct:title</dt><dd>&quot;Health state life expectancy, all ages, UK&quot;@en</dd>\n",
       "<dt>dct:description</dt><dd>&quot;Pivot tables for health state life expectancy by sex and area type, divided by two-year intervals starting from 2009 to 2011.&quot;@en</dd>\n",
       "<dt>dct:issued</dt><dd>&quot;2016-11-29&quot;^^&lt;http://www.w3.org/2001/XMLSchema#date&gt;</dd>\n",
       "<dt>dcat:downloadURL</dt><dd><a href=https://www.ons.gov.uk/file?uri=/peoplepopulationandcommunity/healthandsocialcare/healthandlifeexpectancies/datasets/healthstatelifeexpectancyallagesuk/current/heestimates.xlsx>&lt;https://www.ons.gov.uk/file?uri=/peoplepopulationandcommunity/healthandsocialcare/healthandlifeexpectancies/datasets/healthstatelifeexpectancyallagesuk/current/heestimates.xlsx&gt;</a></dd>\n",
       "<dt>dcat:mediaType</dt><dd>&quot;application/vnd.ms-excel&quot;</dd>\n",
       "</dl>"
      ],
      "text/plain": [
       "<gssutils.metadata.Distribution at 0x117639cf8>"
      ]
     },
     "metadata": {},
     "output_type": "display_data"
    }
   ],
   "source": [
    "display(distribution)"
   ]
  },
  {
   "cell_type": "code",
   "execution_count": 452,
   "metadata": {},
   "outputs": [
    {
     "name": "stdout",
     "output_type": "stream",
     "text": [
      "Health state life expectancy, all ages, UK --- Pivot tables for health state life expectancy by sex and area type, divided by two-year intervals starting from 2009 to 2011. --- 2016-11-29\n"
     ]
    }
   ],
   "source": [
    "print(distribution.title + ' --- ' + distribution.description + ' --- ' + str(distribution.issued))"
   ]
  },
  {
   "cell_type": "code",
   "execution_count": 453,
   "metadata": {},
   "outputs": [
    {
     "name": "stdout",
     "output_type": "stream",
     "text": [
      "https://www.ons.gov.uk/file?uri=/peoplepopulationandcommunity/healthandsocialcare/healthandlifeexpectancies/datasets/healthstatelifeexpectancyallagesuk/current/heestimates.xlsx --- application/vnd.ms-excel\n"
     ]
    }
   ],
   "source": [
    "print(distribution.downloadURL + ' --- ' + distribution.mediaType)"
   ]
  },
  {
   "cell_type": "code",
   "execution_count": 493,
   "metadata": {},
   "outputs": [
    {
     "data": {
      "text/plain": [
       "{'label': (rdflib.term.URIRef('http://www.w3.org/2000/01/rdf-schema#label'),\n",
       "  <Status.mandatory: 1>,\n",
       "  <function gssutils.metadata.Metadata.<lambda>(s)>),\n",
       " 'comment': (rdflib.term.URIRef('http://www.w3.org/2000/01/rdf-schema#comment'),\n",
       "  <Status.mandatory: 1>,\n",
       "  <function gssutils.metadata.Metadata.<lambda>(s)>),\n",
       " 'title': (rdflib.term.URIRef('http://purl.org/dc/terms/title'),\n",
       "  <Status.mandatory: 1>,\n",
       "  <function gssutils.metadata.Catalog.<lambda>(s)>),\n",
       " 'description': (rdflib.term.URIRef('http://purl.org/dc/terms/description'),\n",
       "  <Status.mandatory: 1>,\n",
       "  <function gssutils.metadata.Catalog.<lambda>(s)>),\n",
       " 'issued': (rdflib.term.URIRef('http://purl.org/dc/terms/issued'),\n",
       "  <Status.mandatory: 1>,\n",
       "  <function gssutils.metadata.Catalog.<lambda>(d)>),\n",
       " 'modified': (rdflib.term.URIRef('http://purl.org/dc/terms/modified'),\n",
       "  <Status.recommended: 2>,\n",
       "  <function gssutils.metadata.Catalog.<lambda>(d)>),\n",
       " 'language': (rdflib.term.URIRef('http://purl.org/dc/terms/language'),\n",
       "  <Status.mandatory: 1>,\n",
       "  <function gssutils.metadata.Catalog.<lambda>(s)>),\n",
       " 'homepage': (rdflib.term.URIRef('http://xmlns.com/foaf/0.1/homepage'),\n",
       "  <Status.mandatory: 1>,\n",
       "  <function gssutils.metadata.Catalog.<lambda>(s)>),\n",
       " 'publisher': (rdflib.term.URIRef('http://purl.org/dc/terms/publisher'),\n",
       "  <Status.mandatory: 1>,\n",
       "  <function gssutils.metadata.Catalog.<lambda>(s)>),\n",
       " 'spatial': (rdflib.term.URIRef('http://purl.org/dc/terms/spatial'),\n",
       "  <Status.mandatory: 1>,\n",
       "  <function gssutils.metadata.Catalog.<lambda>(s)>),\n",
       " 'themeTaxonomy': (rdflib.term.URIRef('http://www.w3.org/ns/dcat#themeTaxonomy'),\n",
       "  <Status.recommended: 2>,\n",
       "  <function gssutils.metadata.Catalog.<lambda>(s)>),\n",
       " 'license': (rdflib.term.URIRef('http://purl.org/dc/terms/license'),\n",
       "  <Status.mandatory: 1>,\n",
       "  <function gssutils.metadata.Catalog.<lambda>(s)>),\n",
       " 'rights': (rdflib.term.URIRef('http://purl.org/dc/terms/rights'),\n",
       "  <Status.mandatory: 1>,\n",
       "  <function gssutils.metadata.Catalog.<lambda>(s)>),\n",
       " 'dataset': (rdflib.term.URIRef('http://www.w3.org/ns/dcat#dataset'),\n",
       "  <Status.mandatory: 1>,\n",
       "  <function gssutils.metadata.Catalog.<lambda>(d)>)}"
      ]
     },
     "metadata": {},
     "output_type": "display_data"
    }
   ],
   "source": [
    "#print(distribution.DCAT.Catalog)\n",
    "display(scraper.catalog._properties_metadata)"
   ]
  },
  {
   "cell_type": "code",
   "execution_count": 495,
   "metadata": {},
   "outputs": [
    {
     "data": {
      "text/plain": [
       "{'label': (rdflib.term.URIRef('http://www.w3.org/2000/01/rdf-schema#label'),\n",
       "  <Status.mandatory: 1>,\n",
       "  <function gssutils.metadata.Metadata.<lambda>(s)>),\n",
       " 'comment': (rdflib.term.URIRef('http://www.w3.org/2000/01/rdf-schema#comment'),\n",
       "  <Status.mandatory: 1>,\n",
       "  <function gssutils.metadata.Metadata.<lambda>(s)>),\n",
       " 'title': (rdflib.term.URIRef('http://purl.org/dc/terms/title'),\n",
       "  <Status.mandatory: 1>,\n",
       "  <function gssutils.metadata.Distribution.<lambda>(s)>),\n",
       " 'description': (rdflib.term.URIRef('http://purl.org/dc/terms/description'),\n",
       "  <Status.mandatory: 1>,\n",
       "  <function gssutils.metadata.Distribution.<lambda>(s)>),\n",
       " 'issued': (rdflib.term.URIRef('http://purl.org/dc/terms/issued'),\n",
       "  <Status.mandatory: 1>,\n",
       "  <function gssutils.metadata.Distribution.<lambda>(d)>),\n",
       " 'modified': (rdflib.term.URIRef('http://purl.org/dc/terms/modified'),\n",
       "  <Status.recommended: 2>,\n",
       "  <function gssutils.metadata.Distribution.<lambda>(d)>),\n",
       " 'license': (rdflib.term.URIRef('http://purl.org/dc/terms/license'),\n",
       "  <Status.mandatory: 1>,\n",
       "  <function gssutils.metadata.Distribution.<lambda>(s)>),\n",
       " 'rights': (rdflib.term.URIRef('http://purl.org/dc/terms/rights'),\n",
       "  <Status.mandatory: 1>,\n",
       "  <function gssutils.metadata.Distribution.<lambda>(s)>),\n",
       " 'accessURL': (rdflib.term.URIRef('http://www.w3.org/ns/dcat#accessURL'),\n",
       "  <Status.mandatory: 1>,\n",
       "  <function gssutils.metadata.Distribution.<lambda>(u)>),\n",
       " 'downloadURL': (rdflib.term.URIRef('http://www.w3.org/ns/dcat#downloadURL'),\n",
       "  <Status.mandatory: 1>,\n",
       "  <function gssutils.metadata.Distribution.<lambda>(u)>),\n",
       " 'mediaType': (rdflib.term.URIRef('http://www.w3.org/ns/dcat#mediaType'),\n",
       "  <Status.mandatory: 1>,\n",
       "  <function gssutils.metadata.Distribution.<lambda>(s)>),\n",
       " 'format': (<function Namespace.format>,\n",
       "  <Status.recommended: 2>,\n",
       "  <function gssutils.metadata.Distribution.<lambda>(s)>),\n",
       " 'byteSize': (rdflib.term.URIRef('http://www.w3.org/ns/dcat#byteSize'),\n",
       "  <Status.recommended: 2>,\n",
       "  <function gssutils.metadata.Distribution.<lambda>(i)>),\n",
       " 'checksum': (rdflib.term.URIRef('http://spdx.org/rdf/terms#checksum'),\n",
       "  <Status.recommended: 2>,\n",
       "  <function gssutils.metadata.Distribution.<lambda>(i)>),\n",
       " 'language': (rdflib.term.URIRef('http://purl.org/dc/terms/language'),\n",
       "  <Status.mandatory: 1>,\n",
       "  <function gssutils.metadata.Distribution.<lambda>(s)>)}"
      ]
     },
     "metadata": {},
     "output_type": "display_data"
    }
   ],
   "source": [
    "display(distribution._properties_metadata)"
   ]
  },
  {
   "cell_type": "code",
   "execution_count": 503,
   "metadata": {},
   "outputs": [
    {
     "data": {
      "text/html": [
       "<h3>PMDDataset</h3>\n",
       "<dl><dt>rdfs:label</dt><dd>&quot;Health state life expectancy, all ages, UK&quot;@en</dd>\n",
       "<dt>rdfs:comment</dt><dd>&quot;Pivot tables for health state life expectancy by sex and area type, divided by three-year intervals starting from 2009 to 2011.&quot;@en</dd>\n",
       "<dt>dct:title</dt><dd>&quot;Health state life expectancy, all ages, UK&quot;@en</dd>\n",
       "<dt>dct:description</dt><dd>&quot;Pivot tables for health state life expectancy by sex and area type, divided by two-year intervals starting from 2009 to 2011.&quot;^^&lt;https://www.w3.org/ns/iana/media-types/text/markdown#Resource&gt;</dd>\n",
       "<dt>dct:publisher</dt><dd><a href=https://www.gov.uk/government/organisations/office-for-national-statistics>&lt;https://www.gov.uk/government/organisations/office-for-national-statistics&gt;</a></dd>\n",
       "<dt>dct:issued</dt><dd>&quot;2019-12-11&quot;^^&lt;http://www.w3.org/2001/XMLSchema#date&gt;</dd>\n",
       "<dt>dct:modified</dt><dd>&quot;2020-02-05T13:32:10.720020&quot;^^&lt;http://www.w3.org/2001/XMLSchema#dateTime&gt;</dd>\n",
       "<dt>dcat:contactPoint</dt><dd><a href=mailto:MHCT.Mail.Box@ons.gov.uk>&lt;mailto:MHCT.Mail.Box@ons.gov.uk&gt;</a></dd>\n",
       "<dt>dcat:landingPage</dt><dd><a href=https://www.ons.gov.uk/peoplepopulationandcommunity/healthandsocialcare/healthandlifeexpectancies/datasets/healthstatelifeexpectancyallagesuk>&lt;https://www.ons.gov.uk/peoplepopulationandcommunity/healthandsocialcare/healthandlifeexpectancies/datasets/healthstatelifeexpectancyallagesuk&gt;</a></dd>\n",
       "<dt>pmd:updateDueOn</dt><dd>&quot;2020-12-05T00:00:00&quot;^^&lt;http://www.w3.org/2001/XMLSchema#dateTime&gt;</dd>\n",
       "<dt>void:sparqlEndpoint</dt><dd><a href=/sparql>&lt;/sparql&gt;</a></dd>\n",
       "<dt>pmd:graph</dt><dd><a href=graph/www/ons/gov/uk/peoplepopulationandcommunity/healthandsocialcare/healthandlifeexpectancies/datasets/healthstatelifeexpectancyallagesuk>&lt;graph/www/ons/gov/uk/peoplepopulationandcommunity/healthandsocialcare/healthandlifeexpectancies/datasets/healthstatelifeexpectancyallagesuk&gt;</a></dd>\n",
       "<dt>pmd:contactEmail</dt><dd><a href=mailto:MHCT.Mail.Box@ons.gov.uk>&lt;mailto:MHCT.Mail.Box@ons.gov.uk&gt;</a></dd>\n",
       "<dt>dct:license</dt><dd><a href=http://www.nationalarchives.gov.uk/doc/open-government-licence/version/3/>&lt;http://www.nationalarchives.gov.uk/doc/open-government-licence/version/3/&gt;</a></dd>\n",
       "<dt>dct:creator</dt><dd><a href=https://www.gov.uk/government/organisations/office-for-national-statistics>&lt;https://www.gov.uk/government/organisations/office-for-national-statistics&gt;</a></dd>\n",
       "</dl>"
      ],
      "text/plain": [
       "<gssutils.metadata.PMDDataset at 0x116dcd320>"
      ]
     },
     "metadata": {},
     "output_type": "display_data"
    }
   ],
   "source": [
    "display(scraper.dataset)"
   ]
  },
  {
   "cell_type": "code",
   "execution_count": 527,
   "metadata": {},
   "outputs": [
    {
     "data": {
      "text/plain": [
       "'Health state life expectancy, all ages, UK'"
      ]
     },
     "metadata": {},
     "output_type": "display_data"
    }
   ],
   "source": [
    "display(scraper.dataset.label)"
   ]
  },
  {
   "cell_type": "code",
   "execution_count": 549,
   "metadata": {},
   "outputs": [
    {
     "data": {
      "text/plain": [
       "{'label': (rdflib.term.URIRef('http://www.w3.org/2000/01/rdf-schema#label'),\n",
       "  <Status.mandatory: 1>,\n",
       "  <function gssutils.metadata.Metadata.<lambda>(s)>),\n",
       " 'comment': (rdflib.term.URIRef('http://www.w3.org/2000/01/rdf-schema#comment'),\n",
       "  <Status.mandatory: 1>,\n",
       "  <function gssutils.metadata.Metadata.<lambda>(s)>),\n",
       " 'title': (rdflib.term.URIRef('http://purl.org/dc/terms/title'),\n",
       "  <Status.mandatory: 1>,\n",
       "  <function gssutils.metadata.Distribution.<lambda>(s)>),\n",
       " 'description': (rdflib.term.URIRef('http://purl.org/dc/terms/description'),\n",
       "  <Status.mandatory: 1>,\n",
       "  <function gssutils.metadata.Distribution.<lambda>(s)>),\n",
       " 'issued': (rdflib.term.URIRef('http://purl.org/dc/terms/issued'),\n",
       "  <Status.mandatory: 1>,\n",
       "  <function gssutils.metadata.Distribution.<lambda>(d)>),\n",
       " 'modified': (rdflib.term.URIRef('http://purl.org/dc/terms/modified'),\n",
       "  <Status.recommended: 2>,\n",
       "  <function gssutils.metadata.Distribution.<lambda>(d)>),\n",
       " 'license': (rdflib.term.URIRef('http://purl.org/dc/terms/license'),\n",
       "  <Status.mandatory: 1>,\n",
       "  <function gssutils.metadata.Distribution.<lambda>(s)>),\n",
       " 'rights': (rdflib.term.URIRef('http://purl.org/dc/terms/rights'),\n",
       "  <Status.mandatory: 1>,\n",
       "  <function gssutils.metadata.Distribution.<lambda>(s)>),\n",
       " 'accessURL': (rdflib.term.URIRef('http://www.w3.org/ns/dcat#accessURL'),\n",
       "  <Status.mandatory: 1>,\n",
       "  <function gssutils.metadata.Distribution.<lambda>(u)>),\n",
       " 'downloadURL': (rdflib.term.URIRef('http://www.w3.org/ns/dcat#downloadURL'),\n",
       "  <Status.mandatory: 1>,\n",
       "  <function gssutils.metadata.Distribution.<lambda>(u)>),\n",
       " 'mediaType': (rdflib.term.URIRef('http://www.w3.org/ns/dcat#mediaType'),\n",
       "  <Status.mandatory: 1>,\n",
       "  <function gssutils.metadata.Distribution.<lambda>(s)>),\n",
       " 'format': (<function Namespace.format>,\n",
       "  <Status.recommended: 2>,\n",
       "  <function gssutils.metadata.Distribution.<lambda>(s)>),\n",
       " 'byteSize': (rdflib.term.URIRef('http://www.w3.org/ns/dcat#byteSize'),\n",
       "  <Status.recommended: 2>,\n",
       "  <function gssutils.metadata.Distribution.<lambda>(i)>),\n",
       " 'checksum': (rdflib.term.URIRef('http://spdx.org/rdf/terms#checksum'),\n",
       "  <Status.recommended: 2>,\n",
       "  <function gssutils.metadata.Distribution.<lambda>(i)>),\n",
       " 'language': (rdflib.term.URIRef('http://purl.org/dc/terms/language'),\n",
       "  <Status.mandatory: 1>,\n",
       "  <function gssutils.metadata.Distribution.<lambda>(s)>)}"
      ]
     },
     "metadata": {},
     "output_type": "display_data"
    }
   ],
   "source": [
    "display(distribution._properties_metadata)"
   ]
  },
  {
   "cell_type": "code",
   "execution_count": 521,
   "metadata": {},
   "outputs": [
    {
     "name": "stdout",
     "output_type": "stream",
     "text": [
      "John\n"
     ]
    }
   ],
   "source": [
    "# some JSON:\n",
    "x =  '{ \"name\":\"John\", \"age\":30, \"city\":\"New York\"}'\n",
    "\n",
    "# parse x:\n",
    "y = json.loads(x)\n",
    "\n",
    "# the result is a Python dictionary:\n",
    "print(y[\"name\"])"
   ]
  },
  {
   "cell_type": "code",
   "execution_count": 583,
   "metadata": {},
   "outputs": [
    {
     "name": "stdout",
     "output_type": "stream",
     "text": [
      "('{\"label\": (rdflib.term.URIRef(\"http://www.w3.org/2000/01/rdf-schema#label\"), '\n",
      " '<Status.mandatory: 1>, <function Metadata.<lambda> at 0x114d0e378>), '\n",
      " '\"comment\": '\n",
      " '(rdflib.term.URIRef(\"http://www.w3.org/2000/01/rdf-schema#comment\"), '\n",
      " '<Status.mandatory: 1>, <function Metadata.<lambda> at 0x114d0e400>), '\n",
      " '\"title\": (rdflib.term.URIRef(\"http://purl.org/dc/terms/title\"), '\n",
      " '<Status.mandatory: 1>, <function Distribution.<lambda> at 0x114cca730>), '\n",
      " '\"description\": (rdflib.term.URIRef(\"http://purl.org/dc/terms/description\"), '\n",
      " '<Status.mandatory: 1>, <function Distribution.<lambda> at 0x114cca7b8>), '\n",
      " '\"issued\": (rdflib.term.URIRef(\"http://purl.org/dc/terms/issued\"), '\n",
      " '<Status.mandatory: 1>, <function Distribution.<lambda> at 0x114cca840>), '\n",
      " '\"modified\": (rdflib.term.URIRef(\"http://purl.org/dc/terms/modified\"), '\n",
      " '<Status.recommended: 2>, <function Distribution.<lambda> at 0x114cca8c8>), '\n",
      " '\"license\": (rdflib.term.URIRef(\"http://purl.org/dc/terms/license\"), '\n",
      " '<Status.mandatory: 1>, <function Distribution.<lambda> at 0x114cca950>), '\n",
      " '\"rights\": (rdflib.term.URIRef(\"http://purl.org/dc/terms/rights\"), '\n",
      " '<Status.mandatory: 1>, <function Distribution.<lambda> at 0x114cca9d8>), '\n",
      " '\"accessURL\": (rdflib.term.URIRef(\"http://www.w3.org/ns/dcat#accessURL\"), '\n",
      " '<Status.mandatory: 1>, <function Distribution.<lambda> at 0x114ccaa60>), '\n",
      " '\"downloadURL\": (rdflib.term.URIRef(\"http://www.w3.org/ns/dcat#downloadURL\"), '\n",
      " '<Status.mandatory: 1>, <function Distribution.<lambda> at 0x114ccaae8>), '\n",
      " '\"mediaType\": (rdflib.term.URIRef(\"http://www.w3.org/ns/dcat#mediaType\"), '\n",
      " '<Status.mandatory: 1>, <function Distribution.<lambda> at 0x114ccab70>), '\n",
      " '\"format\": (<built-in method format of Namespace object at 0x104db0cf0>, '\n",
      " '<Status.recommended: 2>, <function Distribution.<lambda> at 0x114ccabf8>), '\n",
      " '\"byteSize\": (rdflib.term.URIRef(\"http://www.w3.org/ns/dcat#byteSize\"), '\n",
      " '<Status.recommended: 2>, <function Distribution.<lambda> at 0x114ccac80>), '\n",
      " '\"checksum\": (rdflib.term.URIRef(\"http://spdx.org/rdf/terms#checksum\"), '\n",
      " '<Status.recommended: 2>, <function Distribution.<lambda> at 0x114ccad08>), '\n",
      " '\"language\": (rdflib.term.URIRef(\"http://purl.org/dc/terms/language\"), '\n",
      " '<Status.mandatory: 1>, <function Distribution.<lambda> at 0x114ccad90>)}')\n",
      "1 - label\n",
      "3 - http://www.w3.org/2000/01/rdf-schema#label\n",
      "5 - comment\n",
      "7 - http://www.w3.org/2000/01/rdf-schema#comment\n",
      "9 - title\n",
      "11 - http://purl.org/dc/terms/title\n",
      "13 - description\n",
      "15 - http://purl.org/dc/terms/description\n",
      "17 - issued\n",
      "19 - http://purl.org/dc/terms/issued\n",
      "21 - modified\n",
      "23 - http://purl.org/dc/terms/modified\n",
      "25 - license\n",
      "27 - http://purl.org/dc/terms/license\n",
      "29 - rights\n",
      "31 - http://purl.org/dc/terms/rights\n",
      "33 - accessURL\n",
      "35 - http://www.w3.org/ns/dcat#accessURL\n",
      "37 - downloadURL\n",
      "39 - http://www.w3.org/ns/dcat#downloadURL\n",
      "41 - mediaType\n",
      "43 - http://www.w3.org/ns/dcat#mediaType\n",
      "45 - format\n",
      "47 - byteSize\n",
      "49 - http://www.w3.org/ns/dcat#byteSize\n",
      "51 - checksum\n",
      "53 - http://spdx.org/rdf/terms#checksum\n",
      "55 - language\n",
      "57 - http://purl.org/dc/terms/language\n",
      "['label', 'http://www.w3.org/2000/01/rdf-schema#label', 'comment', 'http://www.w3.org/2000/01/rdf-schema#comment', 'title', 'http://purl.org/dc/terms/title', 'description', 'http://purl.org/dc/terms/description', 'issued', 'http://purl.org/dc/terms/issued', 'modified', 'http://purl.org/dc/terms/modified', 'license', 'http://purl.org/dc/terms/license', 'rights', 'http://purl.org/dc/terms/rights', 'accessURL', 'http://www.w3.org/ns/dcat#accessURL', 'downloadURL', 'http://www.w3.org/ns/dcat#downloadURL', 'mediaType', 'http://www.w3.org/ns/dcat#mediaType', 'format', 'byteSize', 'http://www.w3.org/ns/dcat#byteSize', 'checksum', 'http://spdx.org/rdf/terms#checksum', 'language', 'http://purl.org/dc/terms/language']\n"
     ]
    }
   ],
   "source": [
    "mytext = str(distribution._properties_metadata)\n",
    "\n",
    "mytext = mytext.replace(\"\\'\", \"\\\"\")\n",
    "\n",
    "pprint(mytext)\n",
    "\n",
    "mytext2 = mytext.split('\"')\n",
    "\n",
    "str_parsed_meta = []\n",
    "for i in range(len(mytext2)):\n",
    "    if i % 2 != 0: \n",
    "        print(str(i) + \" - \" + mytext2[i])\n",
    "        str_parsed_meta.append(mytext2[i])\n",
    "\n",
    "print(str_parsed_meta)\n",
    "\n",
    "#print(mytext2[1])\n",
    "#print(mytext2[3])\n",
    "#print(mytext2[5])\n",
    "#print(mytext2[7])\n",
    "#y = json.loads(mytext)\n",
    "\n",
    "# the result is a Python dictionary:\n",
    "#print(y[\"name\"])"
   ]
  },
  {
   "cell_type": "code",
   "execution_count": 534,
   "metadata": {},
   "outputs": [
    {
     "data": {
      "text/plain": [
       "{'label': (rdflib.term.URIRef('http://www.w3.org/2000/01/rdf-schema#label'),\n",
       "  <Status.mandatory: 1>,\n",
       "  <function gssutils.metadata.Metadata.<lambda>(s)>),\n",
       " 'comment': (rdflib.term.URIRef('http://www.w3.org/2000/01/rdf-schema#comment'),\n",
       "  <Status.mandatory: 1>,\n",
       "  <function gssutils.metadata.Metadata.<lambda>(s)>),\n",
       " 'title': (rdflib.term.URIRef('http://purl.org/dc/terms/title'),\n",
       "  <Status.mandatory: 1>,\n",
       "  <function gssutils.metadata.Distribution.<lambda>(s)>),\n",
       " 'description': (rdflib.term.URIRef('http://purl.org/dc/terms/description'),\n",
       "  <Status.mandatory: 1>,\n",
       "  <function gssutils.metadata.Distribution.<lambda>(s)>),\n",
       " 'issued': (rdflib.term.URIRef('http://purl.org/dc/terms/issued'),\n",
       "  <Status.mandatory: 1>,\n",
       "  <function gssutils.metadata.Distribution.<lambda>(d)>),\n",
       " 'modified': (rdflib.term.URIRef('http://purl.org/dc/terms/modified'),\n",
       "  <Status.recommended: 2>,\n",
       "  <function gssutils.metadata.Distribution.<lambda>(d)>),\n",
       " 'license': (rdflib.term.URIRef('http://purl.org/dc/terms/license'),\n",
       "  <Status.mandatory: 1>,\n",
       "  <function gssutils.metadata.Distribution.<lambda>(s)>),\n",
       " 'rights': (rdflib.term.URIRef('http://purl.org/dc/terms/rights'),\n",
       "  <Status.mandatory: 1>,\n",
       "  <function gssutils.metadata.Distribution.<lambda>(s)>),\n",
       " 'accessURL': (rdflib.term.URIRef('http://www.w3.org/ns/dcat#accessURL'),\n",
       "  <Status.mandatory: 1>,\n",
       "  <function gssutils.metadata.Distribution.<lambda>(u)>),\n",
       " 'downloadURL': (rdflib.term.URIRef('http://www.w3.org/ns/dcat#downloadURL'),\n",
       "  <Status.mandatory: 1>,\n",
       "  <function gssutils.metadata.Distribution.<lambda>(u)>),\n",
       " 'mediaType': (rdflib.term.URIRef('http://www.w3.org/ns/dcat#mediaType'),\n",
       "  <Status.mandatory: 1>,\n",
       "  <function gssutils.metadata.Distribution.<lambda>(s)>),\n",
       " 'format': (<function Namespace.format>,\n",
       "  <Status.recommended: 2>,\n",
       "  <function gssutils.metadata.Distribution.<lambda>(s)>),\n",
       " 'byteSize': (rdflib.term.URIRef('http://www.w3.org/ns/dcat#byteSize'),\n",
       "  <Status.recommended: 2>,\n",
       "  <function gssutils.metadata.Distribution.<lambda>(i)>),\n",
       " 'checksum': (rdflib.term.URIRef('http://spdx.org/rdf/terms#checksum'),\n",
       "  <Status.recommended: 2>,\n",
       "  <function gssutils.metadata.Distribution.<lambda>(i)>),\n",
       " 'language': (rdflib.term.URIRef('http://purl.org/dc/terms/language'),\n",
       "  <Status.mandatory: 1>,\n",
       "  <function gssutils.metadata.Distribution.<lambda>(s)>)}"
      ]
     },
     "metadata": {},
     "output_type": "display_data"
    }
   ],
   "source": [
    "display(distribution._properties_metadata)\n"
   ]
  },
  {
   "cell_type": "code",
   "execution_count": null,
   "metadata": {},
   "outputs": [],
   "source": []
  },
  {
   "cell_type": "code",
   "execution_count": 580,
   "metadata": {},
   "outputs": [
    {
     "data": {
      "text/plain": [
       "rdflib.term.URIRef('http://example.org/Person')"
      ]
     },
     "execution_count": 580,
     "metadata": {},
     "output_type": "execute_result"
    }
   ],
   "source": [
    "from rdflib import Namespace\n",
    "\n",
    "n = Namespace(\"http://example.org/\")\n",
    "n.Person # as attribute\n",
    "# = rdflib.term.URIRef(u'http://example.org/Person')\n",
    "\n",
    "#n['first%20name'] # as item - for things that are not valid python identifiers\n",
    "# = rdflib.term.URIRef(u'http://example.org/first%20name')"
   ]
  },
  {
   "cell_type": "code",
   "execution_count": 582,
   "metadata": {},
   "outputs": [
    {
     "data": {
      "text/plain": [
       "rdflib.term.URIRef('http://www.w3.org/2000/01/rdf-schema#label/Label')"
      ]
     },
     "execution_count": 582,
     "metadata": {},
     "output_type": "execute_result"
    }
   ],
   "source": [
    "from rdflib import Namespace\n",
    "\n",
    "n = Namespace(\"http://www.w3.org/2000/01/rdf-schema#label/\")\n",
    "n.Label # as attribute\n",
    "# = rdflib.term.URIRef(u'http://example.org/Person')\n",
    "\n",
    "#n['first%20name'] # as item - for things that are not valid python identifiers\n",
    "# = rdflib.term.URIRef(u'http://example.org/first%20name')"
   ]
  },
  {
   "cell_type": "code",
   "execution_count": null,
   "metadata": {},
   "outputs": [],
   "source": []
  },
  {
   "cell_type": "code",
   "execution_count": null,
   "metadata": {},
   "outputs": [],
   "source": []
  },
  {
   "cell_type": "code",
   "execution_count": null,
   "metadata": {},
   "outputs": [],
   "source": []
  },
  {
   "cell_type": "code",
   "execution_count": null,
   "metadata": {},
   "outputs": [],
   "source": []
  },
  {
   "cell_type": "code",
   "execution_count": null,
   "metadata": {},
   "outputs": [],
   "source": []
  },
  {
   "cell_type": "code",
   "execution_count": null,
   "metadata": {},
   "outputs": [],
   "source": []
  },
  {
   "cell_type": "code",
   "execution_count": null,
   "metadata": {},
   "outputs": [],
   "source": [
    "{\n",
    "  \"@context\": [\n",
    "    \"http://www.w3.org/ns/csvw\",\n",
    "    {\n",
    "      \"@language\": \"en\"\n",
    "    }\n",
    "  ],\n",
    "  \"tables\": [\n",
    "    {\n",
    "      \"url\": \"https://gss-cogs.github.io/family-disability/reference/codelists/ons-age-range.csv\",\n",
    "      \"tableSchema\": \"https://gss-cogs.github.io/ref_common/codelist-schema.json\",\n",
    "      \"suppressOutput\": true\n",
    "    },\n",
    "    {\n",
    "      \"url\": \"https://gss-cogs.github.io/family-disability/reference/codelists/life-expectancy-estimate-type.csv\",\n",
    "      \"tableSchema\": \"https://gss-cogs.github.io/ref_common/codelist-schema.json\",\n",
    "      \"suppressOutput\": true\n",
    "    },\n",
    "    {\n",
    "      \"url\": \"he-country-level-estimates.csv\",\n",
    "      \"tableSchema\": {\n",
    "        \"columns\": [\n",
    "          {\n",
    "            \"titles\": \"Period\",\n",
    "            \"required\": true,\n",
    "            \"name\": \"period\",\n",
    "            \"datatype\": {\n",
    "              \"format\": \"^(year/[0-9]{4}|gregorian-interval/.*|month/[0-9]{4}-[0-9]{2}|day/[0-9]{4}-[0-9]{2}-[0-9]{2}|quarter/[0-9]{4}-Q[1-4]|government-year/[0-9]{4}-[0-9]{4})$\"\n",
    "            }\n",
    "          },\n",
    "          {\n",
    "            \"titles\": \"ONS Geography\",\n",
    "            \"required\": true,\n",
    "            \"name\": \"ons_geography\",\n",
    "            \"datatype\": {\n",
    "              \"format\": \"[A-Z][0-9]{8}\"\n",
    "            }\n",
    "          },\n",
    "          {\n",
    "            \"titles\": \"Sex\",\n",
    "            \"required\": true,\n",
    "            \"name\": \"sex\",\n",
    "            \"datatype\": {\n",
    "              \"format\": \"^(M|F|T|U|N)$\"\n",
    "            }\n",
    "          },\n",
    "          {\n",
    "            \"titles\": \"ONS Age Range\",\n",
    "            \"required\": true,\n",
    "            \"name\": \"ons_age_range\",\n",
    "            \"datatype\": \"string\"\n",
    "          },\n",
    "          {\n",
    "            \"titles\": \"Life Expectancy Estimate Type\",\n",
    "            \"required\": true,\n",
    "            \"name\": \"life_expectancy_estimate_type\",\n",
    "            \"datatype\": \"string\"\n",
    "          },\n",
    "          {\n",
    "            \"titles\": \"Lower CI\",\n",
    "            \"required\": false,\n",
    "            \"name\": \"lower_ci\",\n",
    "            \"datatype\": \"number\"\n",
    "          },\n",
    "          {\n",
    "            \"titles\": \"Upper CI\",\n",
    "            \"required\": false,\n",
    "            \"name\": \"upper_ci\",\n",
    "            \"datatype\": \"number\"\n",
    "          },\n",
    "          {\n",
    "            \"titles\": \"Value\",\n",
    "            \"required\": false,\n",
    "            \"name\": \"value\",\n",
    "            \"datatype\": \"number\"\n",
    "          },\n",
    "          {\n",
    "            \"titles\": \"Measure Type\",\n",
    "            \"required\": true,\n",
    "            \"name\": \"measure_type\",\n",
    "            \"datatype\": \"string\"\n",
    "          }\n",
    "        ],\n",
    "        \"foreignKeys\": [\n",
    "          {\n",
    "            \"columnReference\": \"ons_age_range\",\n",
    "            \"reference\": {\n",
    "              \"resource\": \"https://gss-cogs.github.io/family-disability/reference/codelists/ons-age-range.csv\",\n",
    "              \"columnReference\": \"notation\"\n",
    "            }\n",
    "          },\n",
    "          {\n",
    "            \"columnReference\": \"life_expectancy_estimate_type\",\n",
    "            \"reference\": {\n",
    "              \"resource\": \"https://gss-cogs.github.io/family-disability/reference/codelists/life-expectancy-estimate-type.csv\",\n",
    "              \"columnReference\": \"notation\"\n",
    "            }\n",
    "          }\n",
    "        ],\n",
    "        \"primaryKey\": [\n",
    "          \"period\",\n",
    "          \"ons_geography\",\n",
    "          \"sex\",\n",
    "          \"ons_age_range\",\n",
    "          \"life_expectancy_estimate_type\",\n",
    "          \"measure_type\"\n",
    "        ]\n",
    "      }\n",
    "    }\n",
    "  ]\n",
    "}"
   ]
  },
  {
   "cell_type": "code",
   "execution_count": null,
   "metadata": {},
   "outputs": [],
   "source": [
    "{\n",
    "  \"@context\": [\"http://www.w3.org/ns/csvw\", {\"@language\": \"en\"}],\n",
    "  \"url\": \"tree-ops.csv\",\n",
    "  \"dc:title\": \"Tree Operations\",\n",
    "  \"dcat:keyword\": [\"tree\", \"street\", \"maintenance\"],\n",
    "  \"dc:publisher\": {\n",
    "    \"schema:name\": \"Example Municipality\",\n",
    "    \"schema:url\": {\"@id\": \"http://example.org\"}\n",
    "  },\n",
    "  \"dc:license\": {\"@id\": \"http://opendefinition.org/licenses/cc-by/\"},\n",
    "  \"dc:modified\": {\"@value\": \"2010-12-31\", \"@type\": \"xsd:date\"},\n",
    "  \"tableSchema\": {\n",
    "    \"columns\": [{\n",
    "      \"name\": \"GID\",\n",
    "      \"titles\": [\"GID\", \"Generic Identifier\"],\n",
    "      \"dc:description\": \"An identifier for the operation on a tree.\",\n",
    "      \"datatype\": \"string\",\n",
    "      \"required\": true\n",
    "    }, {\n",
    "      \"name\": \"on_street\",\n",
    "      \"titles\": \"On Street\",\n",
    "      \"dc:description\": \"The street that the tree is on.\",\n",
    "      \"datatype\": \"string\"\n",
    "    }, {\n",
    "      \"name\": \"species\",\n",
    "      \"titles\": \"Species\",\n",
    "      \"dc:description\": \"The species of the tree.\",\n",
    "      \"datatype\": \"string\"\n",
    "    }, {\n",
    "      \"name\": \"trim_cycle\",\n",
    "      \"titles\": \"Trim Cycle\",\n",
    "      \"dc:description\": \"The operation performed on the tree.\",\n",
    "      \"datatype\": \"string\"\n",
    "    }, {\n",
    "      \"name\": \"inventory_date\",\n",
    "      \"titles\": \"Inventory Date\",\n",
    "      \"dc:description\": \"The date of the operation that was performed.\",\n",
    "      \"datatype\": {\"base\": \"date\", \"format\": \"M/d/yyyy\"}\n",
    "    }],\n",
    "    \"primaryKey\": \"GID\",\n",
    "    \"aboutUrl\": \"#gid-{GID}\"\n",
    "  }\n",
    "}"
   ]
  },
  {
   "cell_type": "code",
   "execution_count": null,
   "metadata": {},
   "outputs": [],
   "source": [
    "{\n",
    "  \"@context\": \"http://www.w3.org/ns/csvw\",\n",
    "  \"rdfs:comment\": \"The supported date and time formats listed here are expressed in terms of the date field symbols defined in [UAX35] and MUST be interpreted by implementations as defined in that specification.\",\n",
    "  \"rdfs:label\": \"date format (valid date combinations with formats)\",\n",
    "  \"url\": \"test188.csv\",\n",
    "  \"tableSchema\": {\n",
    "    \"columns\": [\n",
    "      {\"titles\": \"yyyy-MM-dd\", \"datatype\": {\"base\": \"date\", \"format\": \"yyyy-MM-dd\"}},\n",
    "      {\"titles\": \"yyyyMMdd\",   \"datatype\": {\"base\": \"date\", \"format\": \"yyyyMMdd\"}},\n",
    "      {\"titles\": \"dd-MM-yyyy\", \"datatype\": {\"base\": \"date\", \"format\": \"dd-MM-yyyy\"}},\n",
    "      {\"titles\": \"d-M-yyyy\",   \"datatype\": {\"base\": \"date\", \"format\": \"d-M-yyyy\"}},\n",
    "      {\"titles\": \"MM-dd-yyyy\", \"datatype\": {\"base\": \"date\", \"format\": \"MM-dd-yyyy\"}},\n",
    "      {\"titles\": \"M-d-yyyy\",   \"datatype\": {\"base\": \"date\", \"format\": \"M-d-yyyy\"}},\n",
    "      {\"titles\": \"dd/MM/yyyy\", \"datatype\": {\"base\": \"date\", \"format\": \"dd/MM/yyyy\"}},\n",
    "      {\"titles\": \"d/M/yyyy\",   \"datatype\": {\"base\": \"date\", \"format\": \"d/M/yyyy\"}},\n",
    "      {\"titles\": \"MM/dd/yyyy\", \"datatype\": {\"base\": \"date\", \"format\": \"MM/dd/yyyy\"}},\n",
    "      {\"titles\": \"M/d/yyyy\",   \"datatype\": {\"base\": \"date\", \"format\": \"M/d/yyyy\"}},\n",
    "      {\"titles\": \"dd.MM.yyyy\", \"datatype\": {\"base\": \"date\", \"format\": \"dd.MM.yyyy\"}},\n",
    "      {\"titles\": \"d.M.yyyy\",   \"datatype\": {\"base\": \"date\", \"format\": \"d.M.yyyy\"}},\n",
    "      {\"titles\": \"MM.dd.yyyy\", \"datatype\": {\"base\": \"date\", \"format\": \"MM.dd.yyyy\"}},\n",
    "      {\"titles\": \"M.d.yyyy\",   \"datatype\": {\"base\": \"date\", \"format\": \"M.d.yyyy\"}},\n",
    "      {\"titles\": \"yyyy-MM-ddX\",      \"datatype\": {\"base\": \"date\", \"format\": \"yyyy-MM-ddX\"}},\n",
    "      {\"titles\": \"dd.MM.yyyy XXX\", \"datatype\": {\"base\": \"date\", \"format\": \"dd.MM.yyyy XXX\"}}\n",
    "    ]\n",
    "  }\n",
    "}"
   ]
  },
  {
   "cell_type": "code",
   "execution_count": null,
   "metadata": {},
   "outputs": [],
   "source": []
  },
  {
   "cell_type": "code",
   "execution_count": null,
   "metadata": {},
   "outputs": [],
   "source": []
  },
  {
   "cell_type": "code",
   "execution_count": null,
   "metadata": {},
   "outputs": [],
   "source": []
  },
  {
   "cell_type": "code",
   "execution_count": null,
   "metadata": {},
   "outputs": [],
   "source": [
    "#Suggestions in the scan?"
   ]
  },
  {
   "cell_type": "code",
   "execution_count": null,
   "metadata": {},
   "outputs": [],
   "source": []
  },
  {
   "cell_type": "code",
   "execution_count": null,
   "metadata": {},
   "outputs": [],
   "source": [
    "#Create json - run rdf thingy component!"
   ]
  },
  {
   "cell_type": "code",
   "execution_count": null,
   "metadata": {},
   "outputs": [],
   "source": []
  },
  {
   "cell_type": "code",
   "execution_count": 185,
   "metadata": {},
   "outputs": [
    {
     "name": "stdout",
     "output_type": "stream",
     "text": [
      "{\n",
      "    \"agent\": {\n",
      "        \"agentid\": \"john\"\n",
      "    },\n",
      "    \"content\": {\n",
      "        \"eventType\": \"view\",\n",
      "        \"othervar\": \"new\"\n",
      "    }\n",
      "}\n"
     ]
    }
   ],
   "source": [
    "import json\n",
    "\n",
    "jsondata = {}\n",
    "agent={}\n",
    "content={}\n",
    "agent['agentid'] = 'john'\n",
    "content['eventType'] = 'view'\n",
    "content['othervar'] = \"new\"\n",
    "\n",
    "jsondata['agent'] = agent\n",
    "jsondata['content'] = content\n",
    "print(json.dumps(jsondata,indent=4))"
   ]
  },
  {
   "cell_type": "code",
   "execution_count": null,
   "metadata": {},
   "outputs": [],
   "source": []
  },
  {
   "cell_type": "code",
   "execution_count": null,
   "metadata": {},
   "outputs": [],
   "source": []
  },
  {
   "cell_type": "code",
   "execution_count": null,
   "metadata": {},
   "outputs": [],
   "source": [
    "#Data markers and video"
   ]
  },
  {
   "cell_type": "code",
   "execution_count": null,
   "metadata": {},
   "outputs": [],
   "source": []
  }
 ],
 "metadata": {
  "kernelspec": {
   "display_name": "Python 3",
   "language": "python",
   "name": "python3"
  },
  "language_info": {
   "codemirror_mode": {
    "name": "ipython",
    "version": 3
   },
   "file_extension": ".py",
   "mimetype": "text/x-python",
   "name": "python",
   "nbconvert_exporter": "python",
   "pygments_lexer": "ipython3",
   "version": "3.7.3"
  }
 },
 "nbformat": 4,
 "nbformat_minor": 2
}
